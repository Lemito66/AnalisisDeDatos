{
  "nbformat": 4,
  "nbformat_minor": 0,
  "metadata": {
    "colab": {
      "provenance": [],
      "include_colab_link": true
    },
    "kernelspec": {
      "name": "python3",
      "display_name": "Python 3"
    },
    "language_info": {
      "name": "python"
    }
  },
  "cells": [
    {
      "cell_type": "markdown",
      "metadata": {
        "id": "view-in-github",
        "colab_type": "text"
      },
      "source": [
        "<a href=\"https://colab.research.google.com/github/Lemito66/AnalisisDeDatos/blob/master/Taller_5_Clase.ipynb\" target=\"_parent\"><img src=\"https://colab.research.google.com/assets/colab-badge.svg\" alt=\"Open In Colab\"/></a>"
      ]
    },
    {
      "cell_type": "markdown",
      "source": [
        "# Controles de flujo"
      ],
      "metadata": {
        "id": "Kau4S-QgSuOu"
      }
    },
    {
      "cell_type": "markdown",
      "source": [
        "<div style=\"text-align: right\">por <a href=\"https://www.linkedin.com/in/angel-astudillo-aguilar\" target=\"_blank\">Angel Xavier Astudillo Aguilar</a></div>\n",
        "\n"
      ],
      "metadata": {
        "id": "lRagjYwaStoR"
      }
    },
    {
      "cell_type": "markdown",
      "source": [
        "\n",
        "# Recapitulación\n",
        "1. Presentación e introducción al entorno de Python\n",
        "2. Introducción a Python\n",
        "3. Variable y Tipos de datos más comunes\n",
        "4. Operadores aritméticos y textuales\n",
        "  -  atajos\n",
        "5. Control de flujo: bucles\n",
        "  - Listas"
      ],
      "metadata": {
        "id": "-YKxV0oNcMRa"
      }
    },
    {
      "cell_type": "markdown",
      "source": [
        "# Hoy veremos\n",
        "5. Control de flujo: bucles\n",
        "    - Listas\n",
        "    - Tablas\n"
      ],
      "metadata": {
        "id": "eafF_MRkRg24"
      }
    },
    {
      "cell_type": "markdown",
      "source": [
        "# Control de flujo: bucles\n",
        "\n",
        "![tabla](https://drive.google.com/uc?export=view&id=1Dk5WJFuCkQ2blckAUjHZvMfJwmoKQSxs)"
      ],
      "metadata": {
        "id": "BLJBJHFUCCes"
      }
    },
    {
      "cell_type": "code",
      "execution_count": null,
      "metadata": {
        "id": "1MTyWhjEouDJ",
        "colab": {
          "base_uri": "https://localhost:8080/"
        },
        "outputId": "d37b9311-1924-4179-8a37-b91c9bfcfe97"
      },
      "outputs": [
        {
          "output_type": "stream",
          "name": "stdout",
          "text": [
            "Facebook\n"
          ]
        }
      ],
      "source": [
        "# mostrar el primer elemento de fila_1\n",
        "fila_1 = ['Facebook', 0.0, 'USD', 2974676, 3.5]\n",
        "print(fila_1[0])"
      ]
    },
    {
      "cell_type": "code",
      "execution_count": null,
      "metadata": {
        "id": "hxl7G98houDJ",
        "colab": {
          "base_uri": "https://localhost:8080/"
        },
        "outputId": "0ccd603c-729f-436c-892c-92bc9cfceafa"
      },
      "outputs": [
        {
          "output_type": "stream",
          "name": "stdout",
          "text": [
            "0.0\n"
          ]
        }
      ],
      "source": [
        "# mostrar el segundo elemento de fila_1\n",
        "print(fila_1[1])"
      ]
    },
    {
      "cell_type": "code",
      "execution_count": null,
      "metadata": {
        "id": "D3lXEWrsouDJ",
        "colab": {
          "base_uri": "https://localhost:8080/"
        },
        "outputId": "a424c6fa-dffe-4ba5-9d8f-2e3ed10f502b"
      },
      "outputs": [
        {
          "output_type": "stream",
          "name": "stdout",
          "text": [
            "3.5\n"
          ]
        }
      ],
      "source": [
        "# mostrar el último elemento de fila_1\n",
        "print(fila_1[4])"
      ]
    },
    {
      "cell_type": "code",
      "source": [
        "print(fila_1[5])"
      ],
      "metadata": {
        "colab": {
          "base_uri": "https://localhost:8080/",
          "height": 173
        },
        "id": "Mb-KXWucoOml",
        "outputId": "d51325c2-976e-464c-dfc4-5fc15e1fe265"
      },
      "execution_count": null,
      "outputs": [
        {
          "output_type": "error",
          "ename": "IndexError",
          "evalue": "ignored",
          "traceback": [
            "\u001b[0;31m---------------------------------------------------------------------------\u001b[0m",
            "\u001b[0;31mIndexError\u001b[0m                                Traceback (most recent call last)",
            "\u001b[0;32m<ipython-input-5-acb5fcb3381c>\u001b[0m in \u001b[0;36m<cell line: 1>\u001b[0;34m()\u001b[0m\n\u001b[0;32m----> 1\u001b[0;31m \u001b[0mprint\u001b[0m\u001b[0;34m(\u001b[0m\u001b[0mfila_1\u001b[0m\u001b[0;34m[\u001b[0m\u001b[0;36m5\u001b[0m\u001b[0;34m]\u001b[0m\u001b[0;34m)\u001b[0m\u001b[0;34m\u001b[0m\u001b[0;34m\u001b[0m\u001b[0m\n\u001b[0m",
            "\u001b[0;31mIndexError\u001b[0m: list index out of range"
          ]
        }
      ]
    },
    {
      "cell_type": "markdown",
      "metadata": {
        "id": "IrhUlJxvouDJ"
      },
      "source": [
        "#### Longitud de listas.\n",
        "Para conocer la **longitud** de una **lista** o de cualquier **tipo de dato** con **longitud** se utiliza la **función len()** poniendo entre los paréntesis el **dato** al cual queremos conocer su **longitud.**\n",
        "\n",
        "![tabla](https://drive.google.com/uc?export=view&id=1abmyvtoSXPrOgkqWy_SWE08N0mkOCmRu)"
      ]
    },
    {
      "cell_type": "code",
      "execution_count": null,
      "metadata": {
        "id": "SjEB8btSouDK",
        "colab": {
          "base_uri": "https://localhost:8080/"
        },
        "outputId": "32cc6881-cc74-40c8-abf6-1e2f270990dc"
      },
      "outputs": [
        {
          "output_type": "stream",
          "name": "stdout",
          "text": [
            "5\n"
          ]
        }
      ],
      "source": [
        "print(len(fila_1))"
      ]
    },
    {
      "cell_type": "code",
      "execution_count": null,
      "metadata": {
        "id": "wc6Ytn9UouDK",
        "colab": {
          "base_uri": "https://localhost:8080/"
        },
        "outputId": "3941ac7e-67bc-42fc-bc41-55b8ce4a16d4"
      },
      "outputs": [
        {
          "output_type": "stream",
          "name": "stdout",
          "text": [
            "tamaño de fila_1: 5\n",
            "último elemento: 3.5\n"
          ]
        }
      ],
      "source": [
        "# fila_1[4]\n",
        "tamano_fila_1 = len(fila_1)\n",
        "#bprint(f\"tamaño de fila_1 {tamano_fila_1}\")\n",
        "print(\"tamaño de fila_1: \" + str(tamano_fila_1))\n",
        "# el último indice es 4 es decir tamaño de la lista (5) - 1\n",
        "ultimo_elemento = fila_1[tamano_fila_1 - 1]\n",
        "print(f\"último elemento: {ultimo_elemento}\")"
      ]
    },
    {
      "cell_type": "code",
      "source": [
        "# el penúltimo indice es 3 es decir tamaño de la lista (5) - 2\n",
        "penultimo_elemento = fila_1[tamano_fila_1 - 2]\n",
        "print(penultimo_elemento)"
      ],
      "metadata": {
        "colab": {
          "base_uri": "https://localhost:8080/"
        },
        "id": "_tNMFKBYo05D",
        "outputId": "a346b5c7-b12c-4c2d-e2a3-56db3c9b4793"
      },
      "execution_count": null,
      "outputs": [
        {
          "output_type": "stream",
          "name": "stdout",
          "text": [
            "2974676\n"
          ]
        }
      ]
    },
    {
      "cell_type": "markdown",
      "metadata": {
        "id": "j_3SO5r8ouDK"
      },
      "source": [
        "**TIP:** Si para elegir un **elemento** de la **lista** hacia adelante vamos aumentando la cuenta empezando del **elemento cero [0]**. En python se puede ir hacia atrás también, pero utilizando números negativos, por lo que el **último elemento** es también accedido como el **índice menos 1 [-1]**"
      ]
    },
    {
      "cell_type": "code",
      "execution_count": null,
      "metadata": {
        "id": "_eD96C4jouDL",
        "colab": {
          "base_uri": "https://localhost:8080/"
        },
        "outputId": "a2ff3100-6ba8-4d68-effd-0f49562fc131"
      },
      "outputs": [
        {
          "output_type": "stream",
          "name": "stdout",
          "text": [
            "3.5\n"
          ]
        }
      ],
      "source": [
        "print(fila_1[-1])"
      ]
    },
    {
      "cell_type": "code",
      "source": [
        "print(fila_1[-2])"
      ],
      "metadata": {
        "colab": {
          "base_uri": "https://localhost:8080/"
        },
        "id": "p0XF4fyHpozF",
        "outputId": "f2b0cdf9-b3ab-486d-d260-16341110d88d"
      },
      "execution_count": null,
      "outputs": [
        {
          "output_type": "stream",
          "name": "stdout",
          "text": [
            "2974676\n"
          ]
        }
      ]
    },
    {
      "cell_type": "markdown",
      "metadata": {
        "id": "H4hMKJCTouDL"
      },
      "source": [
        "De esta manera podemos ir recorriendo hacia atrá de manera negativa, es decir, para el **penúltimo elemento** el **índice** sería **[-2]** y si mi **lista** tiene 5 **elementos** el **primer elemento** sería accedido con el **índice [-5]**\n",
        "\n",
        "![tabla](https://drive.google.com/uc?export=view&id=1__iC28VLe4GgqWBT3WC62N2kZsX3YAOA)"
      ]
    },
    {
      "cell_type": "code",
      "source": [
        "print(fila_1[-tamano_fila_1])"
      ],
      "metadata": {
        "colab": {
          "base_uri": "https://localhost:8080/"
        },
        "id": "hENm2FSMp3B8",
        "outputId": "1a7c8f17-840e-448b-94ea-b12ce3f3be7c"
      },
      "execution_count": null,
      "outputs": [
        {
          "output_type": "stream",
          "name": "stdout",
          "text": [
            "Facebook\n"
          ]
        }
      ]
    },
    {
      "cell_type": "code",
      "execution_count": null,
      "metadata": {
        "id": "uXf9J3jpouDL",
        "colab": {
          "base_uri": "https://localhost:8080/"
        },
        "outputId": "c3b07ec9-f940-44e7-95e9-48c126ee578d"
      },
      "outputs": [
        {
          "output_type": "stream",
          "name": "stdout",
          "text": [
            "Facebook\n"
          ]
        }
      ],
      "source": [
        "print(fila_1[-5])"
      ]
    },
    {
      "cell_type": "code",
      "execution_count": null,
      "metadata": {
        "id": "adEr9uZEouDL",
        "colab": {
          "base_uri": "https://localhost:8080/"
        },
        "outputId": "011b8bbc-c9db-4133-95d7-5594d21732dc"
      },
      "outputs": [
        {
          "output_type": "stream",
          "name": "stdout",
          "text": [
            "Facebook\n"
          ]
        }
      ],
      "source": [
        "print(fila_1[0])"
      ]
    },
    {
      "cell_type": "code",
      "execution_count": null,
      "metadata": {
        "id": "ChufkTndouDL",
        "colab": {
          "base_uri": "https://localhost:8080/"
        },
        "outputId": "ed5b6076-7da9-4770-f662-bc9b81c1d609"
      },
      "outputs": [
        {
          "output_type": "stream",
          "name": "stdout",
          "text": [
            "3.5\n"
          ]
        }
      ],
      "source": [
        "print(fila_1[4])"
      ]
    },
    {
      "cell_type": "code",
      "execution_count": null,
      "metadata": {
        "id": "OSSOOLdwouDL",
        "colab": {
          "base_uri": "https://localhost:8080/"
        },
        "outputId": "2d6d401c-e65e-463e-b095-1d37573334fe"
      },
      "outputs": [
        {
          "output_type": "stream",
          "name": "stdout",
          "text": [
            "3.5\n"
          ]
        }
      ],
      "source": [
        "print(fila_1[len(fila_1) - 1])"
      ]
    },
    {
      "cell_type": "code",
      "source": [
        "tamano_lista = len(fila_1)\n",
        "indice_interes = tamano_lista - 1\n",
        "print(fila_1[indice_interes])"
      ],
      "metadata": {
        "colab": {
          "base_uri": "https://localhost:8080/"
        },
        "id": "hxVQDaefqOwO",
        "outputId": "f965bb62-35a5-4744-b811-c499aa861443"
      },
      "execution_count": null,
      "outputs": [
        {
          "output_type": "stream",
          "name": "stdout",
          "text": [
            "3.5\n"
          ]
        }
      ]
    },
    {
      "cell_type": "code",
      "execution_count": null,
      "metadata": {
        "id": "KF2HIoyZouDL",
        "colab": {
          "base_uri": "https://localhost:8080/"
        },
        "outputId": "8bed6648-e20c-41a2-f60a-a2fd32b9d8cc"
      },
      "outputs": [
        {
          "output_type": "stream",
          "name": "stdout",
          "text": [
            "3.5\n"
          ]
        }
      ],
      "source": [
        "print(fila_1[-1])"
      ]
    },
    {
      "cell_type": "markdown",
      "metadata": {
        "id": "dHQfL079ouDL"
      },
      "source": [
        "**TIP:** Si usamos un **índice** mayor a la **cantidad** de **elementos** en mi **lista**, python devuelve un **error** porque no habría un **dato** al que acceder con dicho **índice** en el caso de **ídices positivos** y en el caso de **índices negativos** cuando mi **índice** es menor que la **logitud de la lista** pero en negativo, es decir si mi **lista** tiene 5 **elementos** el **índice** mínimo aceptado es **[-5]**\n",
        "\n",
        "![tabla](https://drive.google.com/uc?export=view&id=1lDbEBRmN_mvnixR5pGNXl_DyYRYOBs8j)"
      ]
    },
    {
      "cell_type": "code",
      "execution_count": null,
      "metadata": {
        "id": "TdbS7h37ouDL",
        "colab": {
          "base_uri": "https://localhost:8080/",
          "height": 173
        },
        "outputId": "e58843d2-f99c-4f3f-f5ec-d6d4570db0b7"
      },
      "outputs": [
        {
          "output_type": "error",
          "ename": "IndexError",
          "evalue": "ignored",
          "traceback": [
            "\u001b[0;31m---------------------------------------------------------------------------\u001b[0m",
            "\u001b[0;31mIndexError\u001b[0m                                Traceback (most recent call last)",
            "\u001b[0;32m<ipython-input-20-2d1812e99b30>\u001b[0m in \u001b[0;36m<cell line: 1>\u001b[0;34m()\u001b[0m\n\u001b[0;32m----> 1\u001b[0;31m \u001b[0mfila_1\u001b[0m\u001b[0;34m[\u001b[0m\u001b[0;36m5\u001b[0m\u001b[0;34m]\u001b[0m\u001b[0;34m\u001b[0m\u001b[0;34m\u001b[0m\u001b[0m\n\u001b[0m",
            "\u001b[0;31mIndexError\u001b[0m: list index out of range"
          ]
        }
      ],
      "source": [
        "fila_1[5]"
      ]
    },
    {
      "cell_type": "code",
      "execution_count": null,
      "metadata": {
        "id": "GPGZ4Yh6ouDL",
        "colab": {
          "base_uri": "https://localhost:8080/",
          "height": 173
        },
        "outputId": "49820403-cf0f-4619-df9a-9bf997080b4d"
      },
      "outputs": [
        {
          "output_type": "error",
          "ename": "IndexError",
          "evalue": "ignored",
          "traceback": [
            "\u001b[0;31m---------------------------------------------------------------------------\u001b[0m",
            "\u001b[0;31mIndexError\u001b[0m                                Traceback (most recent call last)",
            "\u001b[0;32m<ipython-input-21-be261117540c>\u001b[0m in \u001b[0;36m<cell line: 1>\u001b[0;34m()\u001b[0m\n\u001b[0;32m----> 1\u001b[0;31m \u001b[0mfila_1\u001b[0m\u001b[0;34m[\u001b[0m\u001b[0;34m-\u001b[0m\u001b[0;36m6\u001b[0m\u001b[0;34m]\u001b[0m\u001b[0;34m\u001b[0m\u001b[0;34m\u001b[0m\u001b[0m\n\u001b[0m",
            "\u001b[0;31mIndexError\u001b[0m: list index out of range"
          ]
        }
      ],
      "source": [
        "fila_1[-6]"
      ]
    },
    {
      "cell_type": "markdown",
      "metadata": {
        "id": "qQMi2WEMouDL"
      },
      "source": [
        "Vamos a \"limpiar\" nuestros datos para tener los **elementos** de nuestro interes. Usando los **índices** obtengamos el **nombre de la aplicación, el número total de valoraciones y la media de estrellas que obtuvo la aplicación**."
      ]
    },
    {
      "cell_type": "code",
      "execution_count": null,
      "metadata": {
        "id": "oJgvRZidouDM",
        "colab": {
          "base_uri": "https://localhost:8080/"
        },
        "outputId": "489382e7-4d87-4b40-e271-281bf1221b7b"
      },
      "outputs": [
        {
          "output_type": "stream",
          "name": "stdout",
          "text": [
            "['Facebook', 0.0, 'USD', 2974676, 3.5]\n"
          ]
        }
      ],
      "source": [
        "Table1 = [\"Facebook\",0.0,\"USD\",2974676,3.5]\n",
        "Table2 = [\"Instagram\",0.0,\"USD\",2161558,4.5]\n",
        "Table3 = [\"Clash of Clans\",0.0,\"USD\",2130805,4.5]\n",
        "print(Table1)"
      ]
    },
    {
      "cell_type": "code",
      "source": [
        "Table1[0]"
      ],
      "metadata": {
        "colab": {
          "base_uri": "https://localhost:8080/",
          "height": 37
        },
        "id": "7_bqyrKwu-QD",
        "outputId": "1a8b53c2-6b74-48e3-da68-bc977df46de9"
      },
      "execution_count": null,
      "outputs": [
        {
          "output_type": "execute_result",
          "data": {
            "text/plain": [
              "'Facebook'"
            ],
            "application/vnd.google.colaboratory.intrinsic+json": {
              "type": "string"
            }
          },
          "metadata": {},
          "execution_count": 24
        }
      ]
    },
    {
      "cell_type": "code",
      "source": [
        "Table1[-2]"
      ],
      "metadata": {
        "colab": {
          "base_uri": "https://localhost:8080/"
        },
        "id": "1hka4J79vK5I",
        "outputId": "74784600-6bb4-42f8-9530-dfa2ef881b60"
      },
      "execution_count": null,
      "outputs": [
        {
          "output_type": "execute_result",
          "data": {
            "text/plain": [
              "2974676"
            ]
          },
          "metadata": {},
          "execution_count": 25
        }
      ]
    },
    {
      "cell_type": "code",
      "source": [
        "Table1[-1]"
      ],
      "metadata": {
        "colab": {
          "base_uri": "https://localhost:8080/"
        },
        "id": "Qe_pBEoMvUfe",
        "outputId": "5cb47f12-2f7c-4a97-bd64-6271133d87cc"
      },
      "execution_count": null,
      "outputs": [
        {
          "output_type": "execute_result",
          "data": {
            "text/plain": [
              "3.5"
            ]
          },
          "metadata": {},
          "execution_count": 26
        }
      ]
    },
    {
      "cell_type": "code",
      "source": [
        "print(fila_1[0])\n",
        "print(fila_1[3])\n",
        "print(fila_1[4])"
      ],
      "metadata": {
        "colab": {
          "base_uri": "https://localhost:8080/"
        },
        "id": "jQ_B6c5-vy6R",
        "outputId": "df9d580f-0c22-4140-c89b-aa71241ee75b"
      },
      "execution_count": null,
      "outputs": [
        {
          "output_type": "stream",
          "name": "stdout",
          "text": [
            "Facebook\n",
            "2974676\n",
            "3.5\n"
          ]
        }
      ]
    },
    {
      "cell_type": "code",
      "source": [
        "print(fila_1[0],fila_1[3],fila_1[4])"
      ],
      "metadata": {
        "colab": {
          "base_uri": "https://localhost:8080/",
          "height": 173
        },
        "id": "uBTPgll3v4iS",
        "outputId": "722ff8d0-cec1-4239-a5ea-a709434e6e1a"
      },
      "execution_count": null,
      "outputs": [
        {
          "output_type": "error",
          "ename": "TypeError",
          "evalue": "ignored",
          "traceback": [
            "\u001b[0;31m---------------------------------------------------------------------------\u001b[0m",
            "\u001b[0;31mTypeError\u001b[0m                                 Traceback (most recent call last)",
            "\u001b[0;32m<ipython-input-29-5db7e12af867>\u001b[0m in \u001b[0;36m<cell line: 1>\u001b[0;34m()\u001b[0m\n\u001b[0;32m----> 1\u001b[0;31m \u001b[0mprint\u001b[0m\u001b[0;34m(\u001b[0m\u001b[0mfila_1\u001b[0m\u001b[0;34m[\u001b[0m\u001b[0;36m0\u001b[0m\u001b[0;34m]\u001b[0m \u001b[0;34m+\u001b[0m \u001b[0mfila_1\u001b[0m\u001b[0;34m[\u001b[0m\u001b[0;36m3\u001b[0m\u001b[0;34m]\u001b[0m \u001b[0;34m+\u001b[0m \u001b[0mfila_1\u001b[0m\u001b[0;34m[\u001b[0m\u001b[0;36m4\u001b[0m\u001b[0;34m]\u001b[0m\u001b[0;34m)\u001b[0m\u001b[0;34m\u001b[0m\u001b[0;34m\u001b[0m\u001b[0m\n\u001b[0m",
            "\u001b[0;31mTypeError\u001b[0m: can only concatenate str (not \"int\") to str"
          ]
        }
      ]
    },
    {
      "cell_type": "code",
      "source": [
        "print(str(fila_1[0]) + \" \" + str(fila_1[3]) + \" \" + str(fila_1[4]))"
      ],
      "metadata": {
        "colab": {
          "base_uri": "https://localhost:8080/"
        },
        "id": "sLGiJCE7wGIR",
        "outputId": "a0316214-30b8-4da8-f5a9-f75b9058fa7f"
      },
      "execution_count": null,
      "outputs": [
        {
          "output_type": "stream",
          "name": "stdout",
          "text": [
            "Facebook 2974676 3.5\n"
          ]
        }
      ]
    },
    {
      "cell_type": "code",
      "source": [
        "print(f\"{fila_1[0]} {fila_1[3]} {fila_1[4]}\")"
      ],
      "metadata": {
        "colab": {
          "base_uri": "https://localhost:8080/"
        },
        "id": "7NtAd1jKwPdC",
        "outputId": "a87c0b34-bd4e-44c7-aca2-1dedeaa4f2ab"
      },
      "execution_count": null,
      "outputs": [
        {
          "output_type": "stream",
          "name": "stdout",
          "text": [
            "Facebook,2974676,3.5\n"
          ]
        }
      ]
    },
    {
      "cell_type": "code",
      "source": [
        "fila_1[4]"
      ],
      "metadata": {
        "colab": {
          "base_uri": "https://localhost:8080/"
        },
        "id": "mCcac4qHwqV8",
        "outputId": "760df531-5ee9-4230-d731-d1994ad465f2"
      },
      "execution_count": null,
      "outputs": [
        {
          "output_type": "execute_result",
          "data": {
            "text/plain": [
              "3.5"
            ]
          },
          "metadata": {},
          "execution_count": 34
        }
      ]
    },
    {
      "cell_type": "markdown",
      "metadata": {
        "id": "3auFfm8souDM"
      },
      "source": [
        "Creamos una **lista** con los **elementos** obtenidos anteriormente e **imprimimos** la **lista**."
      ]
    },
    {
      "cell_type": "code",
      "execution_count": null,
      "metadata": {
        "id": "AMLwh2rWouDM",
        "colab": {
          "base_uri": "https://localhost:8080/"
        },
        "outputId": "d84554e1-2d26-4c4e-cdab-221da4ea22f6"
      },
      "outputs": [
        {
          "output_type": "stream",
          "name": "stdout",
          "text": [
            "['Facebook', 2974676, 3.5]\n"
          ]
        }
      ],
      "source": [
        "first_list = [\"Facebook\", 0.0, \"USD\", 2974676, 3.5]\n",
        "new_list = [first_list[0], first_list[-2], first_list[-1]]\n",
        "print(new_list)"
      ]
    },
    {
      "cell_type": "code",
      "source": [
        "first_list = [\"Facebook\", 0.0, \"USD\", 2974676, 3.5]\n",
        "nombre_app = first_list[0]\n",
        "n_valoracion_app = first_list[-2]\n",
        "rating_app = first_list[-1]\n",
        "new_list = [nombre_app, n_valoracion_app, rating_app]\n",
        "print(new_list)"
      ],
      "metadata": {
        "colab": {
          "base_uri": "https://localhost:8080/"
        },
        "id": "YJ77GvBIyIrk",
        "outputId": "38bf2c85-9012-4d2f-dade-f005123daf9c"
      },
      "execution_count": null,
      "outputs": [
        {
          "output_type": "stream",
          "name": "stdout",
          "text": [
            "['Facebook', 2974676, 3.5]\n"
          ]
        }
      ]
    },
    {
      "cell_type": "markdown",
      "metadata": {
        "id": "GxCSNrJfouDM"
      },
      "source": [
        "Ahora vamos a \"limpiar\" la información correspondiente al **rating** para quedarnos con los datos correspondientes al **costo** de la aplicación. Para esto seleccionamos **nombre de la aplicación, el precio y el tipo de moneda**."
      ]
    },
    {
      "cell_type": "code",
      "execution_count": null,
      "metadata": {
        "id": "OTm-KYZXouDM",
        "colab": {
          "base_uri": "https://localhost:8080/"
        },
        "outputId": "cb00fe3e-6a0d-45e4-fa52-2f2dcac0e900"
      },
      "outputs": [
        {
          "output_type": "stream",
          "name": "stdout",
          "text": [
            "['Facebook', 0.0, 'USD']\n"
          ]
        }
      ],
      "source": [
        "#nombre de la aplicación, el costo y el tipo de moneda.\n",
        "new_list = [first_list[0], first_list [1], first_list[2] ]\n",
        "print(new_list)"
      ]
    },
    {
      "cell_type": "code",
      "source": [
        "fila_2 = ['Instagram', 0.0, 'USD', 2161558, 4.5]\n",
        "nombre = fila_2[0]\n",
        "Costo = fila_2[1]\n",
        "tipo_moneda = fila_2[2]\n",
        "APP = [nombre, Costo, tipo_moneda]\n",
        "print(APP)"
      ],
      "metadata": {
        "colab": {
          "base_uri": "https://localhost:8080/"
        },
        "id": "kI-S5H2Kz0XX",
        "outputId": "c25e2f80-4990-49fe-d0be-82a9c86836a6"
      },
      "execution_count": null,
      "outputs": [
        {
          "output_type": "stream",
          "name": "stdout",
          "text": [
            "['Instagram', 0.0, 'USD']\n"
          ]
        }
      ]
    },
    {
      "cell_type": "code",
      "source": [
        "str(APP)"
      ],
      "metadata": {
        "colab": {
          "base_uri": "https://localhost:8080/",
          "height": 37
        },
        "id": "k5HAPVka0i5P",
        "outputId": "c95d5ec5-3204-4630-fa84-ed806f141534"
      },
      "execution_count": null,
      "outputs": [
        {
          "output_type": "execute_result",
          "data": {
            "text/plain": [
              "\"['Instagram', 0.0, 'USD']\""
            ],
            "application/vnd.google.colaboratory.intrinsic+json": {
              "type": "string"
            }
          },
          "metadata": {},
          "execution_count": 41
        }
      ]
    },
    {
      "cell_type": "code",
      "source": [
        "str(APP).replace(\"'\",\"\").replace(\"[\",\"\").replace(\"]\",\"\")"
      ],
      "metadata": {
        "colab": {
          "base_uri": "https://localhost:8080/",
          "height": 37
        },
        "id": "4RJe-T4k0mgN",
        "outputId": "5a369fd5-5ae3-40be-b5aa-f53c986973f6"
      },
      "execution_count": null,
      "outputs": [
        {
          "output_type": "execute_result",
          "data": {
            "text/plain": [
              "'[Instagram, 0.0, USD]'"
            ],
            "application/vnd.google.colaboratory.intrinsic+json": {
              "type": "string"
            }
          },
          "metadata": {},
          "execution_count": 42
        }
      ]
    },
    {
      "cell_type": "code",
      "source": [
        "print(str(APP).replace(\"'\",\"\").replace(\"[\",\"\").replace(\"]\",\"\"))"
      ],
      "metadata": {
        "colab": {
          "base_uri": "https://localhost:8080/"
        },
        "id": "2XtQbaMz0u4-",
        "outputId": "cd665abc-59c9-4370-e3b3-f76c4157bd46"
      },
      "execution_count": null,
      "outputs": [
        {
          "output_type": "stream",
          "name": "stdout",
          "text": [
            "Instagram, 0.0, USD\n"
          ]
        }
      ]
    },
    {
      "cell_type": "code",
      "source": [
        "list1 = [\"Facebook\", 0.0, \"USD\", 2974676, 3.5]\n",
        "print(f\"{list1[0]}, {list1[1]}, {list1[2]}\")"
      ],
      "metadata": {
        "colab": {
          "base_uri": "https://localhost:8080/"
        },
        "id": "yODPOYJ30Foj",
        "outputId": "00a54f4b-cd99-4192-d750-522d7ef67840"
      },
      "execution_count": null,
      "outputs": [
        {
          "output_type": "stream",
          "name": "stdout",
          "text": [
            "Facebook, 0.0, USD\n"
          ]
        }
      ]
    },
    {
      "cell_type": "code",
      "source": [
        "\"hola\""
      ],
      "metadata": {
        "colab": {
          "base_uri": "https://localhost:8080/",
          "height": 37
        },
        "id": "CAVLmPif08Bz",
        "outputId": "9a6d7dda-00b9-4f13-d936-bc532ead6ff0"
      },
      "execution_count": null,
      "outputs": [
        {
          "output_type": "execute_result",
          "data": {
            "text/plain": [
              "'hola'"
            ],
            "application/vnd.google.colaboratory.intrinsic+json": {
              "type": "string"
            }
          },
          "metadata": {},
          "execution_count": 45
        }
      ]
    },
    {
      "cell_type": "code",
      "source": [
        "\"hola\".replace(\"h\",\"\")"
      ],
      "metadata": {
        "colab": {
          "base_uri": "https://localhost:8080/",
          "height": 37
        },
        "id": "_LJm1bwx1BHX",
        "outputId": "28204b23-e94f-40e8-9ae2-b7c696592fab"
      },
      "execution_count": null,
      "outputs": [
        {
          "output_type": "execute_result",
          "data": {
            "text/plain": [
              "'ola'"
            ],
            "application/vnd.google.colaboratory.intrinsic+json": {
              "type": "string"
            }
          },
          "metadata": {},
          "execution_count": 46
        }
      ]
    },
    {
      "cell_type": "code",
      "source": [
        "\"hola\".replace(\"h\",\"c\")"
      ],
      "metadata": {
        "colab": {
          "base_uri": "https://localhost:8080/",
          "height": 37
        },
        "id": "TTXnsxMg1Gv0",
        "outputId": "a1bb60c8-0b04-4458-fcdc-dddf4ec63ee8"
      },
      "execution_count": null,
      "outputs": [
        {
          "output_type": "execute_result",
          "data": {
            "text/plain": [
              "'cola'"
            ],
            "application/vnd.google.colaboratory.intrinsic+json": {
              "type": "string"
            }
          },
          "metadata": {},
          "execution_count": 47
        }
      ]
    },
    {
      "cell_type": "markdown",
      "metadata": {
        "id": "u8Zl3CPAouDM"
      },
      "source": [
        "**TIP:** En vez de seleccionar **elemento a elemento** usando los **índices**, podemos utilizar un **atajo** en los **índices** para definir una **sublista** con los elementos de mi interes. Para lograr esto ponemos primero el **índice** del **primer** elemento de la **sublista** que queremos crear, luego el caracter **dos puntos (:)** y luego el **índice siguiente** al que sería el **último** elemento de nuestra **sublista**."
      ]
    },
    {
      "cell_type": "code",
      "source": [
        "fila_1[0]"
      ],
      "metadata": {
        "colab": {
          "base_uri": "https://localhost:8080/",
          "height": 37
        },
        "id": "xQ36bgPF1hrG",
        "outputId": "88e26559-21b3-451e-f192-ce987c54e3cf"
      },
      "execution_count": null,
      "outputs": [
        {
          "output_type": "execute_result",
          "data": {
            "text/plain": [
              "'Facebook'"
            ],
            "application/vnd.google.colaboratory.intrinsic+json": {
              "type": "string"
            }
          },
          "metadata": {},
          "execution_count": 48
        }
      ]
    },
    {
      "cell_type": "code",
      "source": [
        "fila_1[0:3]"
      ],
      "metadata": {
        "colab": {
          "base_uri": "https://localhost:8080/"
        },
        "id": "pj8ZJdv41l24",
        "outputId": "e741c80e-6afe-4dc6-cf6a-d7626cf3a1ac"
      },
      "execution_count": null,
      "outputs": [
        {
          "output_type": "execute_result",
          "data": {
            "text/plain": [
              "['Facebook', 0.0, 'USD']"
            ]
          },
          "metadata": {},
          "execution_count": 53
        }
      ]
    },
    {
      "cell_type": "code",
      "execution_count": null,
      "metadata": {
        "id": "aVRRGCVnouDM",
        "colab": {
          "base_uri": "https://localhost:8080/"
        },
        "outputId": "994304f6-93e8-4f7d-f186-b10daea6cc2e"
      },
      "outputs": [
        {
          "output_type": "execute_result",
          "data": {
            "text/plain": [
              "['Facebook', 0.0, 'USD']"
            ]
          },
          "metadata": {},
          "execution_count": 54
        }
      ],
      "source": [
        "fila_1[0:3]"
      ]
    },
    {
      "cell_type": "markdown",
      "metadata": {
        "id": "VhO8CDEwouDM"
      },
      "source": [
        "\n",
        "![tabla](https://drive.google.com/uc?export=view&id=16mgDiyqnuVAQXEpEe6Qap1DEyrCWKGUw)\n",
        "\n",
        "Vamos a crear estos 3 tipos de **sublistas** de la imagen."
      ]
    },
    {
      "cell_type": "code",
      "execution_count": null,
      "metadata": {
        "id": "Dio9z27xouDN",
        "colab": {
          "base_uri": "https://localhost:8080/"
        },
        "outputId": "91f47248-ee4a-40f1-9f5f-a3941b8c6b4f"
      },
      "outputs": [
        {
          "output_type": "stream",
          "name": "stdout",
          "text": [
            "Slice 1: ['Clash of Clans', 0.0, 'USD'] \n",
            "Slice 2: [2130805, 4.5] \n",
            "Slice 3: [0.0, 'USD', 2130805]\n"
          ]
        }
      ],
      "source": [
        "clash_of_clans = [\"Clash of Clans\", 0.0, \"USD\", 2130805, 4.5]\n",
        "slice_one = clash_of_clans[0:3]\n",
        "slice_two = clash_of_clans[3:]\n",
        "slice_three = clash_of_clans[1:4]\n",
        "print(f\"Slice 1: {slice_one} \\nSlice 2: {slice_two} \\nSlice 3: {slice_three}\")"
      ]
    },
    {
      "cell_type": "code",
      "source": [
        "fila_2 = ['Instagram', 0.0, 'USD', 2161558, 4.5]\n",
        "print(fila_2[0:3])\n",
        "print(fila_2[3:5])\n",
        "print(fila_2[1:4])\n"
      ],
      "metadata": {
        "colab": {
          "base_uri": "https://localhost:8080/"
        },
        "id": "lJaoY-8j3eGG",
        "outputId": "09fb21c4-1ff4-4957-a023-c7aafe3ee1ea"
      },
      "execution_count": null,
      "outputs": [
        {
          "output_type": "stream",
          "name": "stdout",
          "text": [
            "['Instagram', 0.0, 'USD']\n",
            "[2161558, 4.5]\n",
            "[0.0, 'USD', 2161558]\n"
          ]
        }
      ]
    },
    {
      "cell_type": "code",
      "source": [
        "print(Table1[0:3])\n",
        "print(Table1[3:5])\n",
        "print(Table1[1:4])"
      ],
      "metadata": {
        "colab": {
          "base_uri": "https://localhost:8080/"
        },
        "id": "N-3WN6Dy3eB9",
        "outputId": "6e017861-474a-4e7d-d54d-77e3e23816d9"
      },
      "execution_count": null,
      "outputs": [
        {
          "output_type": "stream",
          "name": "stdout",
          "text": [
            "['Facebook', 0.0, 'USD']\n",
            "[2974676, 3.5]\n",
            "[0.0, 'USD', 2974676]\n"
          ]
        }
      ]
    },
    {
      "cell_type": "code",
      "source": [
        "array = [\"Clash of clans\", 0.0, \"USD\", 2130805, 4.5]\n",
        "print(f\"{array[0:3]}\")\n",
        "print(f\"{array[-2:]}\")\n",
        "print(f\"{array[1:4]}\")"
      ],
      "metadata": {
        "colab": {
          "base_uri": "https://localhost:8080/"
        },
        "id": "1VMwyoPO3dwQ",
        "outputId": "2768711f-fbcf-4e15-a550-4ffa1d174f03"
      },
      "execution_count": null,
      "outputs": [
        {
          "output_type": "stream",
          "name": "stdout",
          "text": [
            "['Clash of clans', 0.0, 'USD']\n",
            "[2130805, 4.5]\n",
            "[0.0, 'USD', 2130805]\n"
          ]
        }
      ]
    },
    {
      "cell_type": "code",
      "source": [
        "clash_of_clans = [\"Clash of Clans\", 0.0, \"USD\", 2130805, 4.5]\n",
        "slice_one = clash_of_clans[:3]\n",
        "slice_two = clash_of_clans[3:]\n",
        "slice_three = clash_of_clans[1:4]\n",
        "print(f\"Slice 1: {slice_one} \\nSlice 2: {slice_two} \\nSlice 3: {slice_three}\")"
      ],
      "metadata": {
        "colab": {
          "base_uri": "https://localhost:8080/"
        },
        "id": "a4xD4vZK4hut",
        "outputId": "196d8e49-3104-43bb-d7bc-d3dcdcf57436"
      },
      "execution_count": null,
      "outputs": [
        {
          "output_type": "stream",
          "name": "stdout",
          "text": [
            "Slice 1: ['Clash of Clans', 0.0, 'USD'] \n",
            "Slice 2: [2130805, 4.5] \n",
            "Slice 3: [0.0, 'USD', 2130805]\n"
          ]
        }
      ]
    },
    {
      "cell_type": "code",
      "source": [
        "clash_of_clans = [\"Clash of Clans\", 0.0, \"USD\", 2130805, 4.5]\n",
        "slice_one = clash_of_clans[:3]\n",
        "slice_two = clash_of_clans[-2:]\n",
        "slice_three = clash_of_clans[1:4]\n",
        "print(f\"Slice 1: {slice_one} \\nSlice 2: {slice_two} \\nSlice 3: {slice_three}\")"
      ],
      "metadata": {
        "colab": {
          "base_uri": "https://localhost:8080/"
        },
        "id": "WFkWJRRj5hoa",
        "outputId": "0ccbd5b2-b229-4514-bfde-fef586150592"
      },
      "execution_count": null,
      "outputs": [
        {
          "output_type": "stream",
          "name": "stdout",
          "text": [
            "Slice 1: ['Clash of Clans', 0.0, 'USD'] \n",
            "Slice 2: [2130805, 4.5] \n",
            "Slice 3: [0.0, 'USD', 2130805]\n"
          ]
        }
      ]
    },
    {
      "cell_type": "markdown",
      "metadata": {
        "id": "Stpe9l9rouDN"
      },
      "source": [
        "**TIP:** Si no definimos un **primer índice**, se selecciona por **default** el 0, y después de los **dos puntos (:)** se puede especificar cuántos **elementos** queremos en nuestra lista. Siguiendo esta misma lógica, si no se especifica el **último elemento** se seleccionará hasta el último elemento. (Se pueden usar **índices negativos**)."
      ]
    },
    {
      "cell_type": "code",
      "execution_count": null,
      "metadata": {
        "id": "SyNWwinlouDN",
        "colab": {
          "base_uri": "https://localhost:8080/"
        },
        "outputId": "72f0ba96-3deb-4fbe-c8a1-c26c1982c32d"
      },
      "outputs": [
        {
          "output_type": "stream",
          "name": "stdout",
          "text": [
            "['Facebook', 0.0, 'USD']\n",
            "['Facebook', 0.0, 'USD', 2974676]\n",
            "['USD', 2974676, 3.5]\n",
            "['USD', 2974676, 3.5]\n"
          ]
        }
      ],
      "source": [
        "# fila_1 = ['Facebook',0.0,'USD',2974676,3.5]\n",
        "# Primeros 3 elementos.\n",
        "print(fila_1[:3])\n",
        "\n",
        "# Los primeros elementos hasta el penúltimo.\n",
        "print(fila_1[:-1])\n",
        "\n",
        "# Desde el tercero hasta el último\n",
        "print(fila_1[2:])\n",
        "\n",
        "# Los 3 últimos elementos\n",
        "print(fila_1[-3:])\n"
      ]
    },
    {
      "cell_type": "markdown",
      "metadata": {
        "id": "FkjaUByHouDN"
      },
      "source": [
        "### Tablas.\n",
        "En esta **tabla** se muestran diferentes **aplicaciones móviles**, el **costo** que tiene descargase estas aplicaciones y el **rating**.\n",
        "\n",
        "![tabla](https://drive.google.com/uc?export=view&id=13dLcRV2hbEp1_5XTchHQjCn9qW_zzB3S)\n",
        "\n",
        "Hemos estado trabajando con algunas **filas** de estas tablas a través de la figura de las **listas**. Pero ¿cómo podríamos representar la **tabla** en sí misma en **Python**?\n",
        "Primero creamos todas las **filas** de la **tabla** en **listas**."
      ]
    },
    {
      "cell_type": "code",
      "execution_count": null,
      "metadata": {
        "id": "HHJZxesmouDN"
      },
      "outputs": [],
      "source": [
        "fila_1 = ['Facebook',0.0,'USD',2974676,3.5]\n",
        "fila_2 = ['Instagram', 0.0, 'USD', 2161558, 4.5]\n",
        "fila_3 = ['Clash of Clans', 0.0, 'USD', 2130805, 4.5]\n",
        "fila_4 = ['Temple Run', 0.0, 'USD', 1724546, 4.5]\n",
        "fila_5 = ['Pandora - Music & Radio', 0.0, 'USD', 1126879, 4.0]"
      ]
    },
    {
      "cell_type": "markdown",
      "metadata": {
        "id": "uHGAb-lTouDN"
      },
      "source": [
        "Ahora podríamos hacer una **lista** con las **listas de filas** creadas anteriormente. Esto se conoce como una **tabla** porque buscar almacenar la información de una **tabla** en una **variable** de **python** pero formalmente sería una **lista de listas**. Esta **tabla** en la **Ciencia de datos** es conocido como un **conjunto de datos** o en inglés un **dataset**."
      ]
    },
    {
      "cell_type": "code",
      "execution_count": null,
      "metadata": {
        "id": "NS508qJMouDN",
        "colab": {
          "base_uri": "https://localhost:8080/"
        },
        "outputId": "f7f186c5-e2de-4e05-c8be-6a033bfe0f1b"
      },
      "outputs": [
        {
          "output_type": "stream",
          "name": "stdout",
          "text": [
            "[['Facebook', 0.0, 'USD', 2974676, 3.5], ['Instagram', 0.0, 'USD', 2161558, 4.5], ['Clash of Clans', 0.0, 'USD', 2130805, 4.5], ['Temple Run', 0.0, 'USD', 1724546, 4.5], ['Pandora - Music & Radio', 0.0, 'USD', 1126879, 4.0]]\n"
          ]
        }
      ],
      "source": [
        "data_set = [fila_1,fila_2,fila_3,fila_4,fila_5]\n",
        "print(data_set)"
      ]
    },
    {
      "cell_type": "markdown",
      "metadata": {
        "id": "ZwdcX1lUouDN"
      },
      "source": [
        "\n",
        "![tabla](https://drive.google.com/uc?export=view&id=1FBnqc16rPJU0nrqfNAjC3T1TKth4nVye)\n",
        "\n",
        "Cabe notar en el **print** de mi **dataset** que hay **doble corchete** al principio y que se van separando los **listas** con **comas (,)**. Esto nos da la pista que estamos delante de un **tipo de dato** que son las **listas de listas**. Exploremos un poco más esta **variable**. Al ser una **lista** podemos utilizar todo los aprendido hasta el momento respecto de las **listas**."
      ]
    },
    {
      "cell_type": "code",
      "execution_count": null,
      "metadata": {
        "id": "TyiMiwUBouDN",
        "colab": {
          "base_uri": "https://localhost:8080/"
        },
        "outputId": "8be52472-1853-435e-cb41-8ba4a4494a46"
      },
      "outputs": [
        {
          "output_type": "stream",
          "name": "stdout",
          "text": [
            "<class 'list'>\n"
          ]
        }
      ],
      "source": [
        "# ¿Qué tipo es?\n",
        "print(type(data_set))"
      ]
    },
    {
      "cell_type": "code",
      "source": [
        "# ¿Qué tamaño tiene?\n",
        "print(len(data_set))"
      ],
      "metadata": {
        "colab": {
          "base_uri": "https://localhost:8080/"
        },
        "id": "0Yy2O-Xo7Xud",
        "outputId": "865aedf1-4a62-4588-c198-50493fba9347"
      },
      "execution_count": null,
      "outputs": [
        {
          "output_type": "stream",
          "name": "stdout",
          "text": [
            "5\n"
          ]
        }
      ]
    },
    {
      "cell_type": "code",
      "source": [
        "# El primer elemento ¿Qué tipo es?\n",
        "print(type(data_set[0]))"
      ],
      "metadata": {
        "colab": {
          "base_uri": "https://localhost:8080/"
        },
        "id": "GYg_DK2N7aZN",
        "outputId": "c280b1af-00db-42d3-9a79-84e6913394af"
      },
      "execution_count": null,
      "outputs": [
        {
          "output_type": "stream",
          "name": "stdout",
          "text": [
            "<class 'list'>\n"
          ]
        }
      ]
    },
    {
      "cell_type": "code",
      "source": [
        "\n",
        "# El primer elemento ¿Qué tamaño tiene?\n",
        "print(len(data_set[0]))"
      ],
      "metadata": {
        "colab": {
          "base_uri": "https://localhost:8080/"
        },
        "id": "DF8EMg3N7lyW",
        "outputId": "ac68dd19-b42f-4865-e741-ce3e54dd8bd3"
      },
      "execution_count": null,
      "outputs": [
        {
          "output_type": "stream",
          "name": "stdout",
          "text": [
            "5\n"
          ]
        }
      ]
    },
    {
      "cell_type": "code",
      "source": [
        "\n",
        "# El primer elemento del primer elemento ¿Qué tipo es?\n",
        "print(type(data_set[0][0]))"
      ],
      "metadata": {
        "colab": {
          "base_uri": "https://localhost:8080/"
        },
        "id": "y38-qhXB7xi2",
        "outputId": "eb324a7b-71bc-401a-8575-eb0cd5e3a93d"
      },
      "execution_count": null,
      "outputs": [
        {
          "output_type": "stream",
          "name": "stdout",
          "text": [
            "<class 'str'>\n"
          ]
        }
      ]
    },
    {
      "cell_type": "code",
      "source": [
        "\n",
        "# El primer elemento ¿Qué tamaño tiene?\n",
        "print(len(data_set[0][0]))"
      ],
      "metadata": {
        "colab": {
          "base_uri": "https://localhost:8080/"
        },
        "id": "QNRVIWc9770R",
        "outputId": "46213e72-43cb-4d15-b1a0-a65beba0273b"
      },
      "execution_count": null,
      "outputs": [
        {
          "output_type": "stream",
          "name": "stdout",
          "text": [
            "8\n"
          ]
        }
      ]
    },
    {
      "cell_type": "markdown",
      "metadata": {
        "id": "e48M-izuouDN"
      },
      "source": [
        "Podemos \"jugar\" con este concepto de **lista de listas.**\n",
        "\n",
        "![tabla](https://drive.google.com/uc?export=view&id=13dLcRV2hbEp1_5XTchHQjCn9qW_zzB3S)"
      ]
    },
    {
      "cell_type": "code",
      "execution_count": null,
      "metadata": {
        "id": "M4CKfimZouDN",
        "colab": {
          "base_uri": "https://localhost:8080/"
        },
        "outputId": "710c2852-2df9-4d6d-8eca-d65044c084ae"
      },
      "outputs": [
        {
          "output_type": "stream",
          "name": "stdout",
          "text": [
            "[['Instagram', 0.0, 'USD', 2161558, 4.5], ['Clash of Clans', 0.0, 'USD', 2130805, 4.5], ['Temple Run', 0.0, 'USD', 1724546, 4.5]]\n"
          ]
        }
      ],
      "source": [
        "# hacer los 3 slices con el dataset (es decir la lista padre) y con\n",
        "# 2 elementos de la lista padre\n",
        "# data_set = [fila_1,fila_2,fila_3,fila_4,fila_5]\n",
        "print(data_set[:3])\n",
        "print(data_set[-2:])\n",
        "print(data_set[1:4])"
      ]
    },
    {
      "cell_type": "code",
      "source": [
        "data_set[2]"
      ],
      "metadata": {
        "colab": {
          "base_uri": "https://localhost:8080/"
        },
        "id": "p6GRhTfp-Rv0",
        "outputId": "7c24d714-3e2a-48d0-e9d2-70d8791ffde4"
      },
      "execution_count": null,
      "outputs": [
        {
          "output_type": "execute_result",
          "data": {
            "text/plain": [
              "['Clash of Clans', 0.0, 'USD', 2130805, 4.5]"
            ]
          },
          "metadata": {},
          "execution_count": 94
        }
      ]
    },
    {
      "cell_type": "code",
      "source": [
        "print(data_set[2][:3])"
      ],
      "metadata": {
        "colab": {
          "base_uri": "https://localhost:8080/"
        },
        "id": "XVuPIlQY-XR5",
        "outputId": "ef67a5e1-3018-48bc-ec53-2e2d65fd2992"
      },
      "execution_count": null,
      "outputs": [
        {
          "output_type": "stream",
          "name": "stdout",
          "text": [
            "['Clash of Clans', 0.0, 'USD']\n"
          ]
        }
      ]
    },
    {
      "cell_type": "code",
      "source": [
        "print(data_set[2][:3])\n",
        "print(data_set[2][-2:])\n",
        "print(data_set[2][1:4])"
      ],
      "metadata": {
        "colab": {
          "base_uri": "https://localhost:8080/"
        },
        "id": "U1umQXmQ9XbF",
        "outputId": "4e4b7b62-9fd6-430d-eb88-6285d2207165"
      },
      "execution_count": null,
      "outputs": [
        {
          "output_type": "stream",
          "name": "stdout",
          "text": [
            "['Clash of Clans', 0.0, 'USD']\n",
            "[2130805, 4.5]\n",
            "[0.0, 'USD', 2130805]\n"
          ]
        }
      ]
    },
    {
      "cell_type": "code",
      "source": [
        "print(data_set[-1][:3])\n",
        "print(data_set[-1][-2:])\n",
        "print(data_set[-1][1:4])"
      ],
      "metadata": {
        "colab": {
          "base_uri": "https://localhost:8080/"
        },
        "id": "8UXqy0Sc9a_v",
        "outputId": "bd2a88a2-d890-4ef9-e303-5be45c0c83eb"
      },
      "execution_count": null,
      "outputs": [
        {
          "output_type": "stream",
          "name": "stdout",
          "text": [
            "['Pandora - Music & Radio', 0.0, 'USD']\n",
            "[1126879, 4.0]\n",
            "[0.0, 'USD', 1126879]\n"
          ]
        }
      ]
    },
    {
      "cell_type": "markdown",
      "metadata": {
        "id": "QA1ikJ6HouDN"
      },
      "source": [
        "Anteriormente, hemos reconstruído una **tabla** que teníamos a la mano en **python**. Pero ¿qué pasa si tenemos la **tabla** almacenada en **excel** por ejemplo? En este caso, podemos importarla a **python** y empezar a trabajar a partir de ella. Veamos como se podría hacer esto."
      ]
    },
    {
      "cell_type": "code",
      "execution_count": null,
      "metadata": {
        "id": "zZ4gcl57ouDO",
        "colab": {
          "base_uri": "https://localhost:8080/"
        },
        "outputId": "0ce46d76-6bfe-4688-82bd-490a2e7100a6"
      },
      "outputs": [
        {
          "output_type": "execute_result",
          "data": {
            "text/plain": [
              "<_io.TextIOWrapper name='sample_data/california_housing_test.csv' mode='r' encoding='UTF-8'>"
            ]
          },
          "metadata": {},
          "execution_count": 96
        }
      ],
      "source": [
        "# abrimos el archivo con los datos usando la función open.\n",
        "archivo_abierto = open('sample_data/california_housing_test.csv')\n",
        "archivo_abierto\n"
      ]
    },
    {
      "cell_type": "markdown",
      "metadata": {
        "id": "VcQKQCl0ouDO"
      },
      "source": [
        "Una vez tenemos el **archivo abierto**, podemos leer los **datos** almacenados, en este caso estamos usando un archivo **csv** por lo que debemos importar el **\"lector\"** de este tipo de datos de la **librería csv de python** (más adelante hablaremos de las librerías)."
      ]
    },
    {
      "cell_type": "code",
      "execution_count": null,
      "metadata": {
        "id": "j604gGr2ouDO",
        "colab": {
          "base_uri": "https://localhost:8080/"
        },
        "outputId": "794f6786-ad93-4897-ff6b-959db22013cf"
      },
      "outputs": [
        {
          "output_type": "execute_result",
          "data": {
            "text/plain": [
              "<_csv.reader at 0x7f394c2504a0>"
            ]
          },
          "metadata": {},
          "execution_count": 97
        }
      ],
      "source": [
        "from csv import reader\n",
        "archivo_leido = reader(archivo_abierto)\n",
        "archivo_leido"
      ]
    },
    {
      "cell_type": "markdown",
      "metadata": {
        "id": "vKmAWYhvouDO"
      },
      "source": [
        "A pesar de haber **\"leído\"** el archivo con los datos aún no los tenemos \"presentables\" para poder trabajar con ellos. Por lo que habría de convertir este **archivo** en una **lista**. Para esto usamos la función **list()** que me convierte en **lista** el **dato o variable** dentro de los **paréntesis ()**"
      ]
    },
    {
      "cell_type": "code",
      "execution_count": null,
      "metadata": {
        "id": "sVTmaR7xouDO",
        "colab": {
          "base_uri": "https://localhost:8080/"
        },
        "outputId": "8712692f-1224-4c7e-dcbb-c187bae5a434"
      },
      "outputs": [
        {
          "output_type": "stream",
          "name": "stdout",
          "text": [
            "[['longitude', 'latitude', 'housing_median_age', 'total_rooms', 'total_bedrooms', 'population', 'households', 'median_income', 'median_house_value'], ['-122.050000', '37.370000', '27.000000', '3885.000000', '661.000000', '1537.000000', '606.000000', '6.608500', '344700.000000'], ['-118.300000', '34.260000', '43.000000', '1510.000000', '310.000000', '809.000000', '277.000000', '3.599000', '176500.000000'], ['-117.810000', '33.780000', '27.000000', '3589.000000', '507.000000', '1484.000000', '495.000000', '5.793400', '270500.000000'], ['-118.360000', '33.820000', '28.000000', '67.000000', '15.000000', '49.000000', '11.000000', '6.135900', '330000.000000']]\n"
          ]
        }
      ],
      "source": [
        "apps_dataset = list(archivo_leido)\n",
        "print(apps_dataset[:5])"
      ]
    },
    {
      "cell_type": "markdown",
      "metadata": {
        "id": "BGbQWm--ouDO"
      },
      "source": [
        "Exploramos el dataset."
      ]
    },
    {
      "cell_type": "code",
      "execution_count": null,
      "metadata": {
        "id": "3hdrNM1IouDO"
      },
      "outputs": [],
      "source": []
    },
    {
      "cell_type": "markdown",
      "source": [
        "# Próxima Clase\n",
        "5. Control de flujo: bucles\n",
        "    - Ciclos For\n",
        "6. Control de flujo: condicionales\n",
        "\n"
      ],
      "metadata": {
        "id": "uK43rBtCb6kx"
      }
    }
  ]
}