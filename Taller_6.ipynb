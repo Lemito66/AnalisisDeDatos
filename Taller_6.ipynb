{
  "nbformat": 4,
  "nbformat_minor": 0,
  "metadata": {
    "colab": {
      "provenance": [],
      "include_colab_link": true
    },
    "kernelspec": {
      "name": "python3",
      "display_name": "Python 3"
    },
    "language_info": {
      "name": "python"
    }
  },
  "cells": [
    {
      "cell_type": "markdown",
      "metadata": {
        "id": "view-in-github",
        "colab_type": "text"
      },
      "source": [
        "<a href=\"https://colab.research.google.com/github/Lemito66/AnalisisDeDatos/blob/master/Taller_6.ipynb\" target=\"_parent\"><img src=\"https://colab.research.google.com/assets/colab-badge.svg\" alt=\"Open In Colab\"/></a>"
      ]
    },
    {
      "cell_type": "markdown",
      "source": [
        "# Controles de flujo"
      ],
      "metadata": {
        "id": "Kau4S-QgSuOu"
      }
    },
    {
      "cell_type": "markdown",
      "source": [
        "<div style=\"text-align: right\">por <a href=\"https://www.linkedin.com/in/angel-astudillo-aguilar\" target=\"_blank\">Angel Xavier Astudillo Aguilar</a></div>\n",
        "\n"
      ],
      "metadata": {
        "id": "lRagjYwaStoR"
      }
    },
    {
      "cell_type": "markdown",
      "source": [
        "\n",
        "# Recapitulación\n",
        "1. Presentación e introducción al entorno de Python\n",
        "2. Introducción a Python\n",
        "3. Variable y Tipos de datos más comunes\n",
        "4. Operadores aritméticos y textuales\n",
        "5. Control de flujo: bucles\n",
        "  - Listas\n",
        "  - Tablas"
      ],
      "metadata": {
        "id": "-YKxV0oNcMRa"
      }
    },
    {
      "cell_type": "markdown",
      "source": [
        "# Hoy veremos\n",
        "5. Control de flujo: bucles\n",
        "    - Ciclos For\n",
        "6. Control de flujo: condicionales\n"
      ],
      "metadata": {
        "id": "eafF_MRkRg24"
      }
    },
    {
      "cell_type": "markdown",
      "source": [
        "# Control de flujo: bucles\n"
      ],
      "metadata": {
        "id": "BLJBJHFUCCes"
      }
    },
    {
      "cell_type": "markdown",
      "metadata": {
        "id": "FkjaUByHouDN"
      },
      "source": [
        "### Tablas.\n",
        "En esta **tabla** se muestran diferentes **aplicaciones móviles**, el **costo** que tiene descargase estas aplicaciones y el **rating**.\n",
        "\n",
        "![tabla](https://drive.google.com/uc?export=view&id=13dLcRV2hbEp1_5XTchHQjCn9qW_zzB3S)\n",
        "\n",
        "Hemos estado trabajando con algunas **filas** de estas tablas a través de la figura de las **listas**. Pero ¿cómo podríamos representar la **tabla** en sí misma en **Python**?\n",
        "Primero creamos todas las **filas** de la **tabla** en **listas**."
      ]
    },
    {
      "cell_type": "code",
      "execution_count": null,
      "metadata": {
        "id": "HHJZxesmouDN"
      },
      "outputs": [],
      "source": [
        "fila_1 = ['Facebook',0.0,'USD',2974676,3.5]\n",
        "fila_2 = ['Instagram', 0.0, 'USD', 2161558, 4.5]\n",
        "fila_3 = ['Clash of Clans', 0.0, 'USD', 2130805, 4.5]\n",
        "fila_4 = ['Temple Run', 0.0, 'USD', 1724546, 4.5]\n",
        "fila_5 = ['Pandora - Music & Radio', 0.0, 'USD', 1126879, 4.0]"
      ]
    },
    {
      "cell_type": "markdown",
      "metadata": {
        "id": "uHGAb-lTouDN"
      },
      "source": [
        "Ahora podríamos hacer una **lista** con las **listas de filas** creadas anteriormente. Esto se conoce como una **tabla** porque buscar almacenar la información de una **tabla** en una **variable** de **python** pero formalmente sería una **lista de listas**. Esta **tabla** en la **Ciencia de datos** es conocido como un **conjunto de datos** o en inglés un **dataset**."
      ]
    },
    {
      "cell_type": "code",
      "execution_count": null,
      "metadata": {
        "id": "NS508qJMouDN"
      },
      "outputs": [],
      "source": [
        "data_set = [fila_1,fila_2,fila_3,fila_4,fila_5]\n",
        "print(data_set)"
      ]
    },
    {
      "cell_type": "markdown",
      "metadata": {
        "id": "ZwdcX1lUouDN"
      },
      "source": [
        "\n",
        "![tabla](https://drive.google.com/uc?export=view&id=1FBnqc16rPJU0nrqfNAjC3T1TKth4nVye)\n",
        "\n",
        "Cabe notar en el **print** de mi **dataset** que hay **doble corchete** al principio y que se van separando los **listas** con **comas (,)**. Esto nos da la pista que estamos delante de un **tipo de dato** que son las **listas de listas**. Exploremos un poco más esta **variable**. Al ser una **lista** podemos utilizar todo los aprendido hasta el momento respecto de las **listas**."
      ]
    },
    {
      "cell_type": "code",
      "execution_count": null,
      "metadata": {
        "id": "TyiMiwUBouDN"
      },
      "outputs": [],
      "source": [
        "# ¿Qué tipo es?\n",
        "print(type(data_set))"
      ]
    },
    {
      "cell_type": "code",
      "source": [
        "# ¿Qué tamaño tiene?\n",
        "print(len(data_set))"
      ],
      "metadata": {
        "id": "0Yy2O-Xo7Xud"
      },
      "execution_count": null,
      "outputs": []
    },
    {
      "cell_type": "code",
      "source": [
        "# El primer elemento ¿Qué tipo es?\n",
        "print(type(data_set[0]))"
      ],
      "metadata": {
        "id": "GYg_DK2N7aZN"
      },
      "execution_count": null,
      "outputs": []
    },
    {
      "cell_type": "code",
      "source": [
        "\n",
        "# El primer elemento ¿Qué tamaño tiene?\n",
        "print(len(data_set[0]))"
      ],
      "metadata": {
        "id": "DF8EMg3N7lyW"
      },
      "execution_count": null,
      "outputs": []
    },
    {
      "cell_type": "code",
      "source": [
        "\n",
        "# El primer elemento del primer elemento ¿Qué tipo es?\n",
        "print(type(data_set[0][0]))"
      ],
      "metadata": {
        "id": "y38-qhXB7xi2"
      },
      "execution_count": null,
      "outputs": []
    },
    {
      "cell_type": "code",
      "source": [
        "\n",
        "# El primer elemento ¿Qué tamaño tiene?\n",
        "print(len(data_set[0][0]))"
      ],
      "metadata": {
        "id": "QNRVIWc9770R"
      },
      "execution_count": null,
      "outputs": []
    },
    {
      "cell_type": "markdown",
      "metadata": {
        "id": "e48M-izuouDN"
      },
      "source": [
        "Podemos \"jugar\" con este concepto de **lista de listas.**\n",
        "\n",
        "![tabla](https://drive.google.com/uc?export=view&id=13dLcRV2hbEp1_5XTchHQjCn9qW_zzB3S)"
      ]
    },
    {
      "cell_type": "code",
      "execution_count": null,
      "metadata": {
        "id": "M4CKfimZouDN"
      },
      "outputs": [],
      "source": [
        "# hacer los 3 slices con el dataset (es decir la lista padre) y con\n",
        "# 2 elementos de la lista padre\n",
        "# data_set = [fila_1,fila_2,fila_3,fila_4,fila_5]\n",
        "print(data_set[:3])\n",
        "print(data_set[-2:])\n",
        "print(data_set[1:4])"
      ]
    },
    {
      "cell_type": "code",
      "source": [
        "data_set[2]"
      ],
      "metadata": {
        "id": "p6GRhTfp-Rv0"
      },
      "execution_count": null,
      "outputs": []
    },
    {
      "cell_type": "code",
      "source": [
        "print(data_set[2][:3])"
      ],
      "metadata": {
        "id": "XVuPIlQY-XR5"
      },
      "execution_count": null,
      "outputs": []
    },
    {
      "cell_type": "code",
      "source": [
        "print(data_set[2][:3])\n",
        "print(data_set[2][-2:])\n",
        "print(data_set[2][1:4])"
      ],
      "metadata": {
        "id": "U1umQXmQ9XbF"
      },
      "execution_count": null,
      "outputs": []
    },
    {
      "cell_type": "code",
      "source": [
        "print(data_set[-1][:3])\n",
        "print(data_set[-1][-2:])\n",
        "print(data_set[-1][1:4])"
      ],
      "metadata": {
        "id": "8UXqy0Sc9a_v"
      },
      "execution_count": null,
      "outputs": []
    },
    {
      "cell_type": "markdown",
      "metadata": {
        "id": "QA1ikJ6HouDN"
      },
      "source": [
        "Anteriormente, hemos reconstruído una **tabla** que teníamos a la mano en **python**. Pero ¿qué pasa si tenemos la **tabla** almacenada en **excel** por ejemplo? En este caso, podemos importarla a **python** y empezar a trabajar a partir de ella. Veamos como se podría hacer esto."
      ]
    },
    {
      "cell_type": "code",
      "execution_count": null,
      "metadata": {
        "id": "zZ4gcl57ouDO",
        "collapsed": true
      },
      "outputs": [],
      "source": [
        "# abrimos el archivo con los datos usando la función open.\n",
        "archivo_abierto = open('sample_data/AppleStore.csv')\n",
        "archivo_abierto\n"
      ]
    },
    {
      "cell_type": "markdown",
      "metadata": {
        "id": "VcQKQCl0ouDO"
      },
      "source": [
        "Una vez tenemos el **archivo abierto**, podemos leer los **datos** almacenados, en este caso estamos usando un archivo **csv** por lo que debemos importar el **\"lector\"** de este tipo de datos de la **librería csv de python** (más adelante hablaremos de las librerías)."
      ]
    },
    {
      "cell_type": "code",
      "execution_count": null,
      "metadata": {
        "id": "j604gGr2ouDO"
      },
      "outputs": [],
      "source": [
        "from csv import reader\n",
        "archivo_leido = reader(archivo_abierto)\n",
        "archivo_leido"
      ]
    },
    {
      "cell_type": "markdown",
      "metadata": {
        "id": "vKmAWYhvouDO"
      },
      "source": [
        "A pesar de haber **\"leído\"** el archivo con los datos aún no los tenemos \"presentables\" para poder trabajar con ellos. Por lo que habría de convertir este **archivo** en una **lista**. Para esto usamos la función **list()** que me convierte en **lista** el **dato o variable** dentro de los **paréntesis ()**"
      ]
    },
    {
      "cell_type": "code",
      "execution_count": null,
      "metadata": {
        "id": "sVTmaR7xouDO"
      },
      "outputs": [],
      "source": [
        "apps_dataset = list(archivo_leido)\n",
        "print(apps_dataset[:5])"
      ]
    },
    {
      "cell_type": "markdown",
      "metadata": {
        "id": "BGbQWm--ouDO"
      },
      "source": [
        "Exploramos el dataset."
      ]
    },
    {
      "cell_type": "code",
      "execution_count": null,
      "metadata": {
        "id": "3hdrNM1IouDO"
      },
      "outputs": [],
      "source": []
    },
    {
      "cell_type": "markdown",
      "metadata": {
        "id": "TK6IK75vouDO"
      },
      "source": [
        "### Bucles\n",
        "Anteriormente hemos creado un **dataset** a partir de una **tabla**, donde cada **fila** es una **lista** y la **tabla** es una **lista de listas**. Por otro lado, hemos importado un **dataset** a partir de un **archivo** con muchos más **datos** que pudieramos analizar.\n",
        "\n",
        "Veamos el siguiente escenario. Calculemos la **media de rating** de los 2 dataset. (La **media** es una medida de *tendencia central* que se calcula *sumando todos los valores en cuestión y dividiendo para la cantidad de valores sumados*)\n",
        "\n",
        "En el primer escenario con el **dataset** con 5 elementos:"
      ]
    },
    {
      "cell_type": "code",
      "execution_count": null,
      "metadata": {
        "id": "5IANHDmVouDP"
      },
      "outputs": [],
      "source": [
        "# data_set = [fila_1,fila_2,fila_3,fila_4,fila_5]\n",
        "media_data_set1 = (data_set[0][-1] + data_set[1][-1] + data_set[2][-1] + data_set[3][-1] + data_set[4][-1] ) / 5\n",
        "print(media_data_set1)"
      ]
    },
    {
      "cell_type": "code",
      "execution_count": null,
      "metadata": {
        "id": "0vmAPxJYouDP"
      },
      "outputs": [],
      "source": [
        "media_data_set1 = (data_set[0][-1] + data_set[1][-1] + data_set[2][-1] + data_set[3][-1] + data_set[4][-1] ) / len(data_set)\n",
        "print(media_data_set1)"
      ]
    },
    {
      "cell_type": "markdown",
      "metadata": {
        "id": "BM-pfC66ouDP"
      },
      "source": [
        "En el segundo escenario con el **dataset** con 7197 **elementos**:"
      ]
    },
    {
      "cell_type": "code",
      "execution_count": null,
      "metadata": {
        "id": "4mc8PQCUouDP"
      },
      "outputs": [],
      "source": [
        "# NO HAY EL TEXTO"
      ]
    },
    {
      "cell_type": "markdown",
      "metadata": {
        "id": "TDxpFzUlouDP"
      },
      "source": [
        "En este segundo escenario, sacar la **media** de 7197 **elementos** terminado siendo una tarea prácticamente imposible de hacer en la forma *tradicional* (como lo realizamos con el **dataset** con 5 **elementos**) y hay una alta probabilidad de cometer errores. Además, si podemos *generaliar* la tarea que queremos, podemos \"decirle\" a **python** que realice esta tarea por nosotros. Lo que nos generaría un resultado *fiable* y, gracias a la potencia de la programación, *rápido* de conseguir.\n",
        "\n",
        "Hasta ahora hemos aprendido y usado **sentencias** de la programación de **python** que son útiles, pero que quizás no nos muestran todo el *potencial* de **python** al final muchas de las operaciones realizadas hasta ahora podrían realizarse en una calculadora quizás.\n",
        "\n",
        "Hay objetos **iterables** en Python: listas, strings, diccionarios... Los bucles iteran _a través_ de ellos"
      ]
    },
    {
      "cell_type": "markdown",
      "source": [
        "#### Bucle For\n",
        "\n"
      ],
      "metadata": {
        "id": "0tIRwlXaFKxM"
      }
    },
    {
      "cell_type": "markdown",
      "source": [
        "##### Iterar por una lista\n",
        "\n",
        "Con el *bucle* **for** podemos *repetir* una serie de *tareas* para cada **elemento** de un **conjunto de datos (dataset)**. ¿Cómo podemos hacerlo? Hay que usar la siguiente sintaxis:\n",
        " - **for** *each element* **in** *list* **:**\n",
        "\n",
        "Traduciendo sería:\n",
        " - **Para** *cada elemento* **en** *la lista* **:**\n",
        "\n",
        "Las palabras en **negritas** deben ser usados *literalmente*, mientras que en cursivas se puede cambiar dependiendo del uso que se quiera dar. Por ejemplo si tengo una **lista** llamada *a_list*, donde dice *la lista* debo poner esta **variable**."
      ],
      "metadata": {
        "id": "G5HGpnadGOxL"
      }
    },
    {
      "cell_type": "code",
      "execution_count": null,
      "metadata": {
        "id": "r_4_o9oMouDP"
      },
      "outputs": [],
      "source": [
        "lista = [1,3,5]\n",
        "\n",
        "for elemento in lista:\n",
        "    print(elemento)"
      ]
    },
    {
      "cell_type": "markdown",
      "metadata": {
        "id": "tX-Xd2iXouDP"
      },
      "source": [
        "3 Detalles que quiero comentar respecto a la *sintaxis* y *semántica* de este *bucle*:\n",
        "\n",
        "1. La variable *\"elemento\"* en el ejemplo anterior, no es necesario definirla previamente, porque se va a *inicializar* con el primer **elemento** de la **lista** y va a cambiar en cada **ciclo**. Así mismo, cuando el **for** haya acabado, la variable *\"elemento\"* va a tener el **valor** del **último elemento** de la **lista**.\n",
        "2. Al finalizar la *línea de código* del **for** hay que poner los **dos puntos (:)** para que sea escrito correctamente el *bucle* **for** no poner estos **dos puntos (:)** me generaría un *error de sintaxis*.\n",
        "3. La *indentación* es clave en la *sintaxis* del *bucle* **for** ya que define las *sentencias* que se ejecutarán en cada *iteración* del *bucle* También se conoce estas sentencias como el **cuerpo del bucle**.\n",
        "\n",
        "![tabla](https://drive.google.com/uc?export=view&id=1e4m_wzcvYTa8t6Dwduvg5YJqORuhIwJF)"
      ]
    },
    {
      "cell_type": "code",
      "execution_count": null,
      "metadata": {
        "id": "IIZ1KA9jouDQ"
      },
      "outputs": [],
      "source": [
        "lista = [1,3,5]\n",
        "\n",
        "print(elemento2)\n",
        "for elemento2 in lista:\n",
        "    print(elemento2)"
      ]
    },
    {
      "cell_type": "markdown",
      "metadata": {
        "id": "3LJr6HjtouDQ"
      },
      "source": [
        "![tabla](https://drive.google.com/uc?export=view&id=1m9fh0QJkTVx5zYRMNl4n675PNuiEDJGf)"
      ]
    },
    {
      "cell_type": "code",
      "execution_count": null,
      "metadata": {
        "id": "oWCMGv6jouDQ"
      },
      "outputs": [],
      "source": [
        "lista = [1,3,5]\n",
        "\n",
        "for elemento2 in lista\n",
        "    print(elemento2)"
      ]
    },
    {
      "cell_type": "code",
      "execution_count": null,
      "metadata": {
        "id": "U2QBNwccouDQ"
      },
      "outputs": [],
      "source": [
        "lista = [1,3,5]\n",
        "\n",
        "for elemento2 in lista:\n",
        "print(elemento2)\n"
      ]
    },
    {
      "cell_type": "code",
      "execution_count": null,
      "metadata": {
        "id": "6c5WB527ouDQ"
      },
      "outputs": [],
      "source": [
        "lista = [1,3,5]\n",
        "\n",
        "for elemento2 in lista:\n",
        "    print('dentro')\n",
        "    print(elemento2)\n",
        "\n",
        "print('fuera')\n",
        "print(lista)"
      ]
    },
    {
      "cell_type": "code",
      "execution_count": null,
      "metadata": {
        "id": "UvyAhIYSouDQ"
      },
      "outputs": [],
      "source": [
        "lista = [1,3,5]\n",
        "\n",
        "for elemento2 in lista:\n",
        "    print('dentro')\n",
        "    print(elemento2)\n",
        "\n",
        "print('fuera')\n",
        "print(elemento2)"
      ]
    },
    {
      "cell_type": "markdown",
      "metadata": {
        "id": "THVVhM0fGDhT"
      },
      "source": [
        "##### range()"
      ]
    },
    {
      "cell_type": "code",
      "execution_count": null,
      "metadata": {
        "id": "X3qe3ITCGDhU"
      },
      "outputs": [],
      "source": [
        "range(10)"
      ]
    },
    {
      "cell_type": "code",
      "execution_count": null,
      "metadata": {
        "id": "JLjIxu22GDhU"
      },
      "outputs": [],
      "source": [
        "list(range(10))"
      ]
    },
    {
      "cell_type": "code",
      "execution_count": null,
      "metadata": {
        "id": "QyqE6fstGDhU"
      },
      "outputs": [],
      "source": [
        "list(range(2, 8))"
      ]
    },
    {
      "cell_type": "code",
      "execution_count": null,
      "metadata": {
        "id": "hvJrqPnIGDhV"
      },
      "outputs": [],
      "source": [
        "for n in range(2, 8):\n",
        "    print(n, n ** 2)"
      ]
    },
    {
      "cell_type": "markdown",
      "metadata": {
        "id": "ovQjKEzwGDhV"
      },
      "source": [
        "**Ejercicio**: escribe un programa que imprima todos los números menores de 50 que son múltiplos de 7"
      ]
    },
    {
      "cell_type": "code",
      "execution_count": null,
      "metadata": {
        "id": "ddsP-temGDhV"
      },
      "outputs": [],
      "source": []
    },
    {
      "cell_type": "markdown",
      "metadata": {
        "id": "E-ajtcgqGDhV"
      },
      "source": [
        "##### enumerate()"
      ]
    },
    {
      "cell_type": "markdown",
      "metadata": {
        "id": "oqO1JoGQGDhV"
      },
      "source": [
        "Sirve para iterar por índices, además de por los valores"
      ]
    },
    {
      "cell_type": "code",
      "execution_count": null,
      "metadata": {
        "id": "fGtOUIwXGDhV"
      },
      "outputs": [],
      "source": [
        "names = ['Alice', 'Bob', 'Jack', 'Mary', 'Manuel', 'Amanda', 'Ignacio', 'Fernando']"
      ]
    },
    {
      "cell_type": "code",
      "execution_count": null,
      "metadata": {
        "id": "DhD7-UbwGDhV"
      },
      "outputs": [],
      "source": [
        "for n in names:\n",
        "    print(n)"
      ]
    },
    {
      "cell_type": "code",
      "execution_count": null,
      "metadata": {
        "id": "zbKeFCGcGDhW"
      },
      "outputs": [],
      "source": [
        "for i, name in enumerate(names):\n",
        "    print(i)"
      ]
    },
    {
      "cell_type": "code",
      "execution_count": null,
      "metadata": {
        "id": "Qqkf95MJGDhW"
      },
      "outputs": [],
      "source": [
        "for i, name in enumerate(names):\n",
        "    print(f\"Mi amigo número {i} es {name}\")\n",
        "    print(i ** 2, name.upper(), \"\\n\")"
      ]
    },
    {
      "cell_type": "markdown",
      "metadata": {
        "id": "UgKaNZOtGDhW"
      },
      "source": [
        "**Ejercicio**: crea una lista y añade a ella sólo los números negativos que aparecen en posición par (0, 2, 4...) de la lista original"
      ]
    },
    {
      "cell_type": "code",
      "execution_count": null,
      "metadata": {
        "id": "J4E-hpQoGDhW"
      },
      "outputs": [],
      "source": [
        "nums = [5, -12, 66, 34, -1, 100, -8]"
      ]
    },
    {
      "cell_type": "code",
      "execution_count": null,
      "metadata": {
        "id": "MxPDEYOoGDhW"
      },
      "outputs": [],
      "source": [
        "neg_nums = []\n",
        "\n"
      ]
    },
    {
      "cell_type": "markdown",
      "metadata": {
        "id": "vRuEJqOUGDhX"
      },
      "source": [
        "##### zip()"
      ]
    },
    {
      "cell_type": "markdown",
      "metadata": {
        "id": "7lkGNy-qGDhX"
      },
      "source": [
        "Es utilizado para iterar por más de un iterable"
      ]
    },
    {
      "cell_type": "code",
      "execution_count": null,
      "metadata": {
        "id": "yidOGtXlGDhX"
      },
      "outputs": [],
      "source": [
        "names"
      ]
    },
    {
      "cell_type": "code",
      "execution_count": null,
      "metadata": {
        "id": "9dT6MpHGGDhX"
      },
      "outputs": [],
      "source": [
        "ages = [30, 20, 21, 22, 94, 54, 88, 10]"
      ]
    },
    {
      "cell_type": "code",
      "execution_count": null,
      "metadata": {
        "id": "Nq4ov_-MGDhY"
      },
      "outputs": [],
      "source": [
        "len(names)"
      ]
    },
    {
      "cell_type": "code",
      "execution_count": null,
      "metadata": {
        "id": "F-XiKfeqGDhY"
      },
      "outputs": [],
      "source": [
        "len(ages)"
      ]
    },
    {
      "cell_type": "code",
      "execution_count": null,
      "metadata": {
        "id": "hvai6_BWGDhY"
      },
      "outputs": [],
      "source": [
        "for name, age in zip(names, ages):\n",
        "    print(name, age)"
      ]
    },
    {
      "cell_type": "markdown",
      "metadata": {
        "id": "p-TSV3jBGDhY"
      },
      "source": [
        "##### Iterar un diccionario"
      ]
    },
    {
      "cell_type": "code",
      "execution_count": null,
      "metadata": {
        "id": "DbBDk21rGDhY"
      },
      "outputs": [],
      "source": [
        "persona = {\n",
        "    \"age\": 33,\n",
        "    \"name\": \"Manuel\",\n",
        "    \"city\": \"Madrid\",\n",
        "    \"height\": 1.84,\n",
        "    \"has_children\": False,\n",
        "    \"friends\": [\"Juan\", \"Luis\"],\n",
        "    \"ocupacion\": {\n",
        "        \"name\": \"profe\",\n",
        "        \"tiempo\": 3,\n",
        "        \"salario\": 100\n",
        "    }\n",
        "}"
      ]
    },
    {
      "cell_type": "code",
      "execution_count": null,
      "metadata": {
        "id": "11uw3jMFGDhY"
      },
      "outputs": [],
      "source": [
        "for k in persona.keys():\n",
        "    print(k)"
      ]
    },
    {
      "cell_type": "code",
      "execution_count": null,
      "metadata": {
        "id": "hrPEt_bEGDhY"
      },
      "outputs": [],
      "source": [
        "for pepe in persona.values():\n",
        "    print(pepe)"
      ]
    },
    {
      "cell_type": "markdown",
      "metadata": {
        "id": "QjeVU78zGDhY"
      },
      "source": [
        "Los diccionarios tienen un método llamado `.items()`, que enumera sus keys y values"
      ]
    },
    {
      "cell_type": "code",
      "execution_count": null,
      "metadata": {
        "id": "kH7S-JK4GDhY"
      },
      "outputs": [],
      "source": [
        "persona.items()"
      ]
    },
    {
      "cell_type": "code",
      "execution_count": null,
      "metadata": {
        "id": "or0WHL3xGDhY"
      },
      "outputs": [],
      "source": [
        "for k, v in persona.items():\n",
        "    print(k, \"Linux\", v, \"\\n\")"
      ]
    },
    {
      "cell_type": "code",
      "execution_count": null,
      "metadata": {
        "id": "shg1SG63GDhZ"
      },
      "outputs": [],
      "source": [
        "persona"
      ]
    },
    {
      "cell_type": "code",
      "execution_count": null,
      "metadata": {
        "id": "IqdhoZCJGDhZ"
      },
      "outputs": [],
      "source": [
        "for k, v in persona[\"ocupacion\"].items()"
      ]
    },
    {
      "cell_type": "markdown",
      "metadata": {
        "id": "F-Ru15nOouDQ"
      },
      "source": [
        "Ahora hagamos una prueba con nuestro primer dataset. Si quiero imprimir las filas de primer dataset ¿cómo lo haría?"
      ]
    },
    {
      "cell_type": "code",
      "execution_count": null,
      "metadata": {
        "id": "njIvORMfouDQ"
      },
      "outputs": [],
      "source": [
        "# data_set = [fila_1,fila_2,fila_3,fila_4,fila_5]\n",
        "print(data_set[0])\n",
        "print(data_set[1])\n",
        "print(data_set[2])\n",
        "print(data_set[3])\n",
        "print(data_set[4])"
      ]
    },
    {
      "cell_type": "markdown",
      "metadata": {
        "id": "9NiFvUZvouDR"
      },
      "source": [
        "Siguiendo la filosofía *DRY* (Don't Repeat Yourself). De esta manera, podríamos aplicar un **for** para reducir nuestro código y optimizarlo buscando no *repetir líneas de código*."
      ]
    },
    {
      "cell_type": "code",
      "execution_count": null,
      "metadata": {
        "id": "V7ZXUOKrouDR"
      },
      "outputs": [],
      "source": [
        "for fila in data_set:\n",
        "    print(fila)"
      ]
    },
    {
      "cell_type": "markdown",
      "metadata": {
        "id": "Te8pYkKHouDU"
      },
      "source": [
        "![tabla](https://drive.google.com/uc?export=view&id=1lGCdgouW5nII757MjCMlH5nI6HZPNnpv)\n",
        "\n",
        "Ahora que en la **variable** interior *fila* tengo una **fila** de la **tabla** que, en este caso, es una **lista**, podemos obtener el *rating* de cada **fila** sacando el **último elemento de la lista**.\n",
        "\n",
        "![tabla](https://drive.google.com/uc?export=view&id=1HgjOKXGPeY3GcBUaQiItqEB6UE-vbgpi)"
      ]
    },
    {
      "cell_type": "code",
      "execution_count": null,
      "metadata": {
        "id": "numU_Y_youDU"
      },
      "outputs": [],
      "source": [
        "for fila in data_set:\n",
        "    print(fila[-1])"
      ]
    },
    {
      "cell_type": "markdown",
      "metadata": {
        "id": "LQSOstK-ouDU"
      },
      "source": [
        "Perfecto! Entonces en cada **iteración** estamos imprimiendo el *rating* de cada **fila de la tabla.** Si queremos automatizar el *cálculo* de la **media de rating** de mi **dataset**, según su definición, debo *sumar todos los ratings y dividirlos para la cantidad de ratings sumados*"
      ]
    },
    {
      "cell_type": "code",
      "execution_count": null,
      "metadata": {
        "id": "PkngXefzouDU"
      },
      "outputs": [],
      "source": []
    },
    {
      "cell_type": "markdown",
      "source": [
        "# Control de flujo: Condicionales"
      ],
      "metadata": {
        "id": "vogYihj_Gyyl"
      }
    },
    {
      "cell_type": "markdown",
      "metadata": {
        "id": "H26wR8zCG-cx"
      },
      "source": [
        "## Operadores relacionales"
      ]
    },
    {
      "cell_type": "code",
      "execution_count": null,
      "metadata": {
        "id": "1Eva2c2zG-cx"
      },
      "outputs": [],
      "source": [
        "age = 23"
      ]
    },
    {
      "cell_type": "markdown",
      "metadata": {
        "id": "1uBGfThKG-cy"
      },
      "source": [
        "Los operadores relacionales se utilizan para comparar dos expresiones, para hacer preguntas.\n",
        "\n",
        "El resultado de la evaluación es un **booleano**: `True` o `False`"
      ]
    },
    {
      "cell_type": "code",
      "execution_count": null,
      "metadata": {
        "id": "BAAFzZxdG-cy"
      },
      "outputs": [],
      "source": [
        "age == 18"
      ]
    },
    {
      "cell_type": "code",
      "execution_count": null,
      "metadata": {
        "id": "ZOheuPfRG-cy"
      },
      "outputs": [],
      "source": [
        "age != 18"
      ]
    },
    {
      "cell_type": "code",
      "execution_count": null,
      "metadata": {
        "id": "-FtiS_2KG-cy"
      },
      "outputs": [],
      "source": [
        "age > 18"
      ]
    },
    {
      "cell_type": "code",
      "execution_count": null,
      "metadata": {
        "id": "EA7jsTMjG-cy"
      },
      "outputs": [],
      "source": [
        "age < 18"
      ]
    },
    {
      "cell_type": "code",
      "execution_count": null,
      "metadata": {
        "id": "nKwG3J7RG-cy"
      },
      "outputs": [],
      "source": [
        "age >= 23"
      ]
    },
    {
      "cell_type": "code",
      "execution_count": null,
      "metadata": {
        "id": "tVzloy5bG-cy"
      },
      "outputs": [],
      "source": [
        "age <= 23"
      ]
    },
    {
      "cell_type": "markdown",
      "metadata": {
        "id": "sEYwUga0G-cy"
      },
      "source": [
        "**NOTA**:\n",
        " - Un solo signo de igualdad = en Python es **asignacion**\n",
        " - Dos signos de igualdad == es un operador relacional (una **pregunta**)"
      ]
    },
    {
      "cell_type": "markdown",
      "metadata": {
        "id": "7raQQeIDG-cy"
      },
      "source": [
        "## Operadores lógicos/booleanos"
      ]
    },
    {
      "cell_type": "markdown",
      "metadata": {
        "id": "L8cKDCEVG-cz"
      },
      "source": [
        "Su input es booleano y su resultado es booleano"
      ]
    },
    {
      "cell_type": "markdown",
      "metadata": {
        "id": "h1uTTh0qG-cz"
      },
      "source": [
        "Son los operadores `and`, `or`, `not`"
      ]
    },
    {
      "cell_type": "markdown",
      "metadata": {
        "id": "giEVPgYWG-cz"
      },
      "source": [
        "<img width=500 src=\"https://i.stack.imgur.com/nl0W8.jpg\">"
      ]
    },
    {
      "cell_type": "code",
      "execution_count": null,
      "metadata": {
        "id": "C0WaC2sDG-cz"
      },
      "outputs": [],
      "source": [
        "age"
      ]
    },
    {
      "cell_type": "code",
      "execution_count": null,
      "metadata": {
        "id": "nUUW2iJkG-cz"
      },
      "outputs": [],
      "source": [
        "(age > 18) and (age % 2 == 0)"
      ]
    },
    {
      "cell_type": "code",
      "execution_count": null,
      "metadata": {
        "id": "yQyjD1oYG-cz"
      },
      "outputs": [],
      "source": [
        "(age > 18) or (age % 2 == 0)"
      ]
    },
    {
      "cell_type": "code",
      "execution_count": null,
      "metadata": {
        "id": "f1me6RfJG-cz"
      },
      "outputs": [],
      "source": [
        "not (age > 18)"
      ]
    },
    {
      "cell_type": "markdown",
      "metadata": {
        "id": "FYeAj3UsG-cz"
      },
      "source": [
        "## Condicionales `if`-`elif`-`else`"
      ]
    },
    {
      "cell_type": "markdown",
      "metadata": {
        "id": "aAN4xsFIG-cz"
      },
      "source": [
        "El **flujo** de un programa es el camino que sigue para ejecutar el código. Este camino puede variar en función del valor de ciertas variables."
      ]
    },
    {
      "cell_type": "markdown",
      "metadata": {
        "id": "ZJ8yjf9vG-cz"
      },
      "source": [
        "`if` ejecuta código si una condición **SI** se cumple"
      ]
    },
    {
      "cell_type": "code",
      "execution_count": null,
      "metadata": {
        "id": "czkqBil4G-cz"
      },
      "outputs": [],
      "source": [
        "age = 23"
      ]
    },
    {
      "cell_type": "code",
      "execution_count": null,
      "metadata": {
        "id": "0PVA3emmG-cz"
      },
      "outputs": [],
      "source": [
        "if age > 18:\n",
        "    print(\"Pasa a la discoteca\")"
      ]
    },
    {
      "cell_type": "markdown",
      "metadata": {
        "id": "TXTRsWYTG-cz"
      },
      "source": [
        "Ojo a la indentación (sangría) del código"
      ]
    },
    {
      "cell_type": "code",
      "execution_count": null,
      "metadata": {
        "id": "SKqJI_7_G-cz"
      },
      "outputs": [],
      "source": [
        "if age > 18:\n",
        "    print(\"Pasa a la discoteca\")\n",
        "\n",
        "print(\"Hoy es sábado\")"
      ]
    },
    {
      "cell_type": "code",
      "execution_count": null,
      "metadata": {
        "id": "ThvMuTWZG-c0"
      },
      "outputs": [],
      "source": [
        "if age > 30:\n",
        "    print(\"Pasa a la zona VIP\")\n",
        "\n",
        "print(\"Hoy es sábado\")"
      ]
    },
    {
      "cell_type": "markdown",
      "metadata": {
        "id": "vRLJ3X3GG-c0"
      },
      "source": [
        "`else` es lo que se ejecuta si **NO** se cumple una condición `if`. Es opcional"
      ]
    },
    {
      "cell_type": "code",
      "execution_count": null,
      "metadata": {
        "id": "qOsP3AhwG-c0"
      },
      "outputs": [],
      "source": [
        "if age > 18:\n",
        "    print(\"Pasa a la discoteca\")\n",
        "else:\n",
        "    print(\"Vete a la discoteca light\")"
      ]
    },
    {
      "cell_type": "code",
      "execution_count": null,
      "metadata": {
        "id": "_E_1AfYCG-c0"
      },
      "outputs": [],
      "source": [
        "if age > 30:\n",
        "    print(\"Pasa a la zona VIP\")\n",
        "else:\n",
        "    print(\"No puedes pasar a la zona VIP\")"
      ]
    },
    {
      "cell_type": "markdown",
      "metadata": {
        "id": "TV_Kh5x3G-c0"
      },
      "source": [
        "Podríamos crear una lógica del siguiente tipo también:"
      ]
    },
    {
      "cell_type": "code",
      "execution_count": null,
      "metadata": {
        "id": "bBZEwji6G-c0"
      },
      "outputs": [],
      "source": [
        "if age > 30:\n",
        "    print(\"Pasa a la zona VIP\")\n",
        "else:\n",
        "    if age > 18:\n",
        "        print(\"Pasa a la discoteca\")\n",
        "    else:\n",
        "        print(\"Vete a la discoteca light\")"
      ]
    },
    {
      "cell_type": "markdown",
      "metadata": {
        "id": "7COf6SXzG-c0"
      },
      "source": [
        "`elif` permite simplificar lo anterior:"
      ]
    },
    {
      "cell_type": "code",
      "execution_count": null,
      "metadata": {
        "id": "tCDdfqnAG-c0"
      },
      "outputs": [],
      "source": [
        "if age > 30:\n",
        "    print(\"Pasa a la zona VIP\")\n",
        "elif age > 18:\n",
        "    print(\"Pasa a la discoteca\")\n",
        "else:\n",
        "    print(\"Vete a la discoteca light\")"
      ]
    },
    {
      "cell_type": "markdown",
      "metadata": {
        "id": "oLeK8D8dG-c0"
      },
      "source": [
        "**Ejercicio**: qué imprime el código siguiente?"
      ]
    },
    {
      "cell_type": "code",
      "execution_count": null,
      "metadata": {
        "id": "Wk_W_25BG-c0"
      },
      "outputs": [],
      "source": [
        "if 'foo' in ['foo', 'bar', 'baz']:\n",
        "    print(1)\n",
        "    if 10 > 20:\n",
        "        print(2)\n",
        "\n",
        "    print(3)\n",
        "\n",
        "    if 10 < 20:\n",
        "        print(4)\n",
        "\n",
        "    print(5)\n",
        "else:\n",
        "    print(6)\n",
        "\n",
        "print(7)"
      ]
    },
    {
      "cell_type": "markdown",
      "metadata": {
        "id": "ZnoE2s5OG-c0"
      },
      "source": [
        "**Ejercicio**: si una palabra empieza por **a**, la llamamos buena. Si empieza por **e**, la llamamos regular. En otro caso es mala. Escribe un condicional que imprima de qué tipo es una palabra"
      ]
    },
    {
      "cell_type": "code",
      "execution_count": null,
      "metadata": {
        "id": "hUGIhK1fG-c0"
      },
      "outputs": [],
      "source": [
        "palabra = \"renacuajo\""
      ]
    },
    {
      "cell_type": "markdown",
      "metadata": {
        "id": "EZpz734JGDhW"
      },
      "source": [
        "### break"
      ]
    },
    {
      "cell_type": "markdown",
      "metadata": {
        "id": "BL6n55FYGDhW"
      },
      "source": [
        "Podemos **parar** un bucle cuando consideremos necesario"
      ]
    },
    {
      "cell_type": "code",
      "execution_count": null,
      "metadata": {
        "id": "6U1xyzVeGDhW"
      },
      "outputs": [],
      "source": [
        "words"
      ]
    },
    {
      "cell_type": "code",
      "execution_count": null,
      "metadata": {
        "id": "F2Jg3s9-GDhX"
      },
      "outputs": [],
      "source": [
        "for w in words:\n",
        "    print(w)\n",
        "\n",
        "    if \"e\" in w:\n",
        "        print(f\"word '{w}' contains letter 'e'!! We stop\")\n",
        "        break"
      ]
    },
    {
      "cell_type": "markdown",
      "metadata": {
        "id": "LGmqFUp7GDhZ"
      },
      "source": [
        "## Bucle while"
      ]
    },
    {
      "cell_type": "markdown",
      "metadata": {
        "id": "MUToKOV3GDhZ"
      },
      "source": [
        "Se utiliza para correr un bucle mientras se satisfaga una condición."
      ]
    },
    {
      "cell_type": "code",
      "execution_count": null,
      "metadata": {
        "id": "NzCT5FZ7GDhZ"
      },
      "outputs": [],
      "source": [
        "n = 8"
      ]
    },
    {
      "cell_type": "code",
      "execution_count": null,
      "metadata": {
        "id": "OYZbDNaoGDhZ"
      },
      "outputs": [],
      "source": [
        "while n < 20:\n",
        "    print(n)\n",
        "    n = n + 3"
      ]
    },
    {
      "cell_type": "code",
      "execution_count": null,
      "metadata": {
        "id": "nUSxxyazouDV"
      },
      "outputs": [],
      "source": []
    },
    {
      "cell_type": "code",
      "execution_count": null,
      "metadata": {
        "id": "s_xN7MhvouDV"
      },
      "outputs": [],
      "source": []
    },
    {
      "cell_type": "code",
      "execution_count": null,
      "metadata": {
        "id": "P5QKIpIOouDV"
      },
      "outputs": [],
      "source": []
    },
    {
      "cell_type": "markdown",
      "source": [
        "# Próxima Clase\n",
        " 7. Funciones\n",
        "\n"
      ],
      "metadata": {
        "id": "uK43rBtCb6kx"
      }
    }
  ]
}