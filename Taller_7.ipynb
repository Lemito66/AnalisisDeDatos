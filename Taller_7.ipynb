{
  "nbformat": 4,
  "nbformat_minor": 0,
  "metadata": {
    "colab": {
      "provenance": [],
      "include_colab_link": true
    },
    "kernelspec": {
      "name": "python3",
      "display_name": "Python 3"
    },
    "language_info": {
      "name": "python"
    }
  },
  "cells": [
    {
      "cell_type": "markdown",
      "metadata": {
        "id": "view-in-github",
        "colab_type": "text"
      },
      "source": [
        "<a href=\"https://colab.research.google.com/github/Lemito66/AnalisisDeDatos/blob/master/Taller_7.ipynb\" target=\"_parent\"><img src=\"https://colab.research.google.com/assets/colab-badge.svg\" alt=\"Open In Colab\"/></a>"
      ]
    },
    {
      "cell_type": "markdown",
      "source": [
        "# Controles de flujo"
      ],
      "metadata": {
        "id": "Kau4S-QgSuOu"
      }
    },
    {
      "cell_type": "markdown",
      "source": [
        "<div style=\"text-align: right\">por <a href=\"https://www.linkedin.com/in/angel-astudillo-aguilar\" target=\"_blank\">Angel Xavier Astudillo Aguilar</a></div>\n",
        "\n"
      ],
      "metadata": {
        "id": "lRagjYwaStoR"
      }
    },
    {
      "cell_type": "markdown",
      "source": [
        "\n",
        "# Recapitulación\n",
        "1. Presentación e introducción al entorno de Python\n",
        "2. Introducción a Python\n",
        "3. Variable y Tipos de datos más comunes\n",
        "4. Operadores aritméticos y textuales\n",
        "5. Control de flujo: bucles\n",
        "  - Tablas\n",
        "  - Ciclos for"
      ],
      "metadata": {
        "id": "-YKxV0oNcMRa"
      }
    },
    {
      "cell_type": "markdown",
      "source": [
        "# Hoy veremos\n",
        "5. Control de flujo: bucles\n",
        "  - Ciclos for\n",
        "6. Control de flujo: condicionales\n",
        "7. Funciones\n"
      ],
      "metadata": {
        "id": "eafF_MRkRg24"
      }
    },
    {
      "cell_type": "markdown",
      "source": [
        "# Control de flujo: bucles\n"
      ],
      "metadata": {
        "id": "BLJBJHFUCCes"
      }
    },
    {
      "cell_type": "markdown",
      "metadata": {
        "id": "E-ajtcgqGDhV"
      },
      "source": [
        "##### enumerate()"
      ]
    },
    {
      "cell_type": "markdown",
      "metadata": {
        "id": "oqO1JoGQGDhV"
      },
      "source": [
        "Sirve para iterar por índices, además de por los valores"
      ]
    },
    {
      "cell_type": "code",
      "execution_count": 4,
      "metadata": {
        "id": "fGtOUIwXGDhV"
      },
      "outputs": [],
      "source": [
        "names = ['Alice', 'Bob', 'Jack', 'Mary', 'Manuel', 'Amanda', 'Ignacio', 'Fernando']"
      ]
    },
    {
      "cell_type": "code",
      "execution_count": null,
      "metadata": {
        "id": "DhD7-UbwGDhV",
        "colab": {
          "base_uri": "https://localhost:8080/"
        },
        "outputId": "20441561-572b-4560-cd3d-4043b02f6700"
      },
      "outputs": [
        {
          "output_type": "stream",
          "name": "stdout",
          "text": [
            "Alice\n",
            "Bob\n",
            "Jack\n",
            "Mary\n",
            "Manuel\n",
            "Amanda\n",
            "Ignacio\n",
            "Fernando\n"
          ]
        }
      ],
      "source": [
        "for n in names:\n",
        "    print(n)"
      ]
    },
    {
      "cell_type": "code",
      "execution_count": null,
      "metadata": {
        "id": "zbKeFCGcGDhW",
        "colab": {
          "base_uri": "https://localhost:8080/"
        },
        "outputId": "6fef4775-8b7e-4b24-8d1a-07a689ed3c3a"
      },
      "outputs": [
        {
          "output_type": "stream",
          "name": "stdout",
          "text": [
            "0\n",
            "1\n",
            "2\n",
            "3\n",
            "4\n",
            "5\n",
            "6\n",
            "7\n"
          ]
        }
      ],
      "source": [
        "for i, name in enumerate(names):\n",
        "    print(i)"
      ]
    },
    {
      "cell_type": "code",
      "execution_count": null,
      "metadata": {
        "id": "Qqkf95MJGDhW",
        "colab": {
          "base_uri": "https://localhost:8080/"
        },
        "outputId": "525fbc08-461d-4652-b71b-5bb07c794be3"
      },
      "outputs": [
        {
          "output_type": "stream",
          "name": "stdout",
          "text": [
            "Mi amigo número 1 es Alice\n",
            "0 ALICE \n",
            "\n",
            "Mi amigo número 2 es Bob\n",
            "1 BOB \n",
            "\n",
            "Mi amigo número 3 es Jack\n",
            "4 JACK \n",
            "\n",
            "Mi amigo número 4 es Mary\n",
            "9 MARY \n",
            "\n",
            "Mi amigo número 5 es Manuel\n",
            "16 MANUEL \n",
            "\n",
            "Mi amigo número 6 es Amanda\n",
            "25 AMANDA \n",
            "\n",
            "Mi amigo número 7 es Ignacio\n",
            "36 IGNACIO \n",
            "\n",
            "Mi amigo número 8 es Fernando\n",
            "49 FERNANDO \n",
            "\n"
          ]
        }
      ],
      "source": [
        "for i, nombre in enumerate(names):\n",
        "    print(f\"Mi amigo número {i+1} es {name}\")\n",
        "    print(i ** 2, nombre.upper(), \"\\n\")"
      ]
    },
    {
      "cell_type": "markdown",
      "metadata": {
        "id": "UgKaNZOtGDhW"
      },
      "source": [
        "**Ejercicio**: crea una lista y añade a ella sólo los números negativos que aparecen en posición par (0, 2, 4...) de la lista original"
      ]
    },
    {
      "cell_type": "code",
      "execution_count": 8,
      "metadata": {
        "id": "J4E-hpQoGDhW"
      },
      "outputs": [],
      "source": [
        "nums = [5, -12, 66, 34, -1, 100, -8]"
      ]
    },
    {
      "cell_type": "code",
      "execution_count": 9,
      "metadata": {
        "id": "MxPDEYOoGDhW",
        "colab": {
          "base_uri": "https://localhost:8080/"
        },
        "outputId": "cea0dad4-8850-4a95-e996-0813a459509f"
      },
      "outputs": [
        {
          "output_type": "stream",
          "name": "stdout",
          "text": [
            "[-1, -8]\n"
          ]
        }
      ],
      "source": [
        "neg_nums = []\n",
        "for i, number in enumerate(nums):\n",
        "    if i % 2 == 0 and number < 0:\n",
        "        neg_nums.append(number)\n",
        "\n",
        "\n",
        "print(neg_nums)\n",
        "\n"
      ]
    },
    {
      "cell_type": "markdown",
      "metadata": {
        "id": "vRuEJqOUGDhX"
      },
      "source": [
        "##### zip()"
      ]
    },
    {
      "cell_type": "markdown",
      "metadata": {
        "id": "7lkGNy-qGDhX"
      },
      "source": [
        "Es utilizado para iterar por más de un iterable"
      ]
    },
    {
      "cell_type": "code",
      "execution_count": 5,
      "metadata": {
        "id": "yidOGtXlGDhX",
        "colab": {
          "base_uri": "https://localhost:8080/"
        },
        "outputId": "27e167e5-741b-4311-84c8-fb028d3834e3"
      },
      "outputs": [
        {
          "output_type": "execute_result",
          "data": {
            "text/plain": [
              "['Alice', 'Bob', 'Jack', 'Mary', 'Manuel', 'Amanda', 'Ignacio', 'Fernando']"
            ]
          },
          "metadata": {},
          "execution_count": 5
        }
      ],
      "source": [
        "names"
      ]
    },
    {
      "cell_type": "code",
      "execution_count": 3,
      "metadata": {
        "id": "9dT6MpHGGDhX"
      },
      "outputs": [],
      "source": [
        "ages = [30, 20, 21, 22, 94, 54, 88, 10]"
      ]
    },
    {
      "cell_type": "code",
      "execution_count": null,
      "metadata": {
        "id": "Nq4ov_-MGDhY"
      },
      "outputs": [],
      "source": [
        "len(names)"
      ]
    },
    {
      "cell_type": "code",
      "execution_count": null,
      "metadata": {
        "id": "F-XiKfeqGDhY"
      },
      "outputs": [],
      "source": [
        "len(ages)"
      ]
    },
    {
      "cell_type": "code",
      "execution_count": 6,
      "metadata": {
        "id": "hvai6_BWGDhY",
        "colab": {
          "base_uri": "https://localhost:8080/"
        },
        "outputId": "8c35a510-d262-498f-fe9b-08ac4e52b09f"
      },
      "outputs": [
        {
          "output_type": "stream",
          "name": "stdout",
          "text": [
            "Alice 30\n",
            "Bob 20\n",
            "Jack 21\n",
            "Mary 22\n",
            "Manuel 94\n",
            "Amanda 54\n",
            "Ignacio 88\n",
            "Fernando 10\n"
          ]
        }
      ],
      "source": [
        "for name, age in zip(names, ages):\n",
        "    print(name, age)"
      ]
    },
    {
      "cell_type": "markdown",
      "metadata": {
        "id": "p-TSV3jBGDhY"
      },
      "source": [
        "##### Iterar un diccionario"
      ]
    },
    {
      "cell_type": "code",
      "execution_count": 10,
      "metadata": {
        "id": "DbBDk21rGDhY"
      },
      "outputs": [],
      "source": [
        "persona = {\n",
        "    \"age\": 33,\n",
        "    \"name\": \"Manuel\",\n",
        "    \"city\": \"Madrid\",\n",
        "    \"height\": 1.84,\n",
        "    \"has_children\": False,\n",
        "    \"friends\": [\"Juan\", \"Luis\"],\n",
        "    \"ocupacion\": {\n",
        "        \"name\": \"profe\",\n",
        "        \"tiempo\": 3,\n",
        "        \"salario\": 100\n",
        "    }\n",
        "}"
      ]
    },
    {
      "cell_type": "code",
      "execution_count": null,
      "metadata": {
        "id": "11uw3jMFGDhY"
      },
      "outputs": [],
      "source": [
        "for k in persona.keys():\n",
        "    print(k)"
      ]
    },
    {
      "cell_type": "code",
      "execution_count": null,
      "metadata": {
        "id": "hrPEt_bEGDhY"
      },
      "outputs": [],
      "source": [
        "for pepe in persona.values():\n",
        "    print(pepe)"
      ]
    },
    {
      "cell_type": "markdown",
      "metadata": {
        "id": "QjeVU78zGDhY"
      },
      "source": [
        "Los diccionarios tienen un método llamado `.items()`, que enumera sus keys y values"
      ]
    },
    {
      "cell_type": "code",
      "execution_count": 11,
      "metadata": {
        "id": "kH7S-JK4GDhY",
        "colab": {
          "base_uri": "https://localhost:8080/"
        },
        "outputId": "094490d0-36d4-4da9-eb64-aa6195d2435f"
      },
      "outputs": [
        {
          "output_type": "execute_result",
          "data": {
            "text/plain": [
              "dict_items([('age', 33), ('name', 'Manuel'), ('city', 'Madrid'), ('height', 1.84), ('has_children', False), ('friends', ['Juan', 'Luis']), ('ocupacion', {'name': 'profe', 'tiempo': 3, 'salario': 100})])"
            ]
          },
          "metadata": {},
          "execution_count": 11
        }
      ],
      "source": [
        "persona.items()"
      ]
    },
    {
      "cell_type": "code",
      "execution_count": null,
      "metadata": {
        "id": "or0WHL3xGDhY"
      },
      "outputs": [],
      "source": [
        "for k, v in persona.items():\n",
        "    print(k, \"Linux\", v, \"\\n\")"
      ]
    },
    {
      "cell_type": "code",
      "execution_count": null,
      "metadata": {
        "id": "shg1SG63GDhZ"
      },
      "outputs": [],
      "source": [
        "persona"
      ]
    },
    {
      "cell_type": "code",
      "execution_count": 12,
      "metadata": {
        "id": "IqdhoZCJGDhZ",
        "colab": {
          "base_uri": "https://localhost:8080/",
          "height": 130
        },
        "outputId": "3a805131-e9c4-42aa-a712-8052a8d8932e"
      },
      "outputs": [
        {
          "output_type": "error",
          "ename": "SyntaxError",
          "evalue": "ignored",
          "traceback": [
            "\u001b[0;36m  File \u001b[0;32m\"<ipython-input-12-21d0ed6e95d9>\"\u001b[0;36m, line \u001b[0;32m1\u001b[0m\n\u001b[0;31m    for k, v in persona[\"ocupacion\"].items()\u001b[0m\n\u001b[0m                                            ^\u001b[0m\n\u001b[0;31mSyntaxError\u001b[0m\u001b[0;31m:\u001b[0m expected ':'\n"
          ]
        }
      ],
      "source": [
        "for k, v in persona[\"ocupacion\"].items()"
      ]
    },
    {
      "cell_type": "markdown",
      "metadata": {
        "id": "F-Ru15nOouDQ"
      },
      "source": [
        "Ahora hagamos una prueba con nuestro primer dataset. Si quiero imprimir las filas de primer dataset ¿cómo lo haría?"
      ]
    },
    {
      "cell_type": "code",
      "execution_count": 13,
      "metadata": {
        "id": "njIvORMfouDQ",
        "colab": {
          "base_uri": "https://localhost:8080/"
        },
        "outputId": "9a82f0ed-c567-40ff-8746-d719f3233e37"
      },
      "outputs": [
        {
          "output_type": "stream",
          "name": "stdout",
          "text": [
            "['Facebook', 0.0, 'USD', 2974676, 3.5]\n",
            "['Instagram', 0.0, 'USD', 2161558, 4.5]\n",
            "['Clash of Clans', 0.0, 'USD', 2130805, 4.5]\n",
            "['Temple Run', 0.0, 'USD', 1724546, 4.5]\n",
            "['Pandora - Music & Radio', 0.0, 'USD', 1126879, 4.0]\n"
          ]
        }
      ],
      "source": [
        "fila_1 = ['Facebook',0.0,'USD',2974676,3.5]\n",
        "fila_2 = ['Instagram', 0.0, 'USD', 2161558, 4.5]\n",
        "fila_3 = ['Clash of Clans', 0.0, 'USD', 2130805, 4.5]\n",
        "fila_4 = ['Temple Run', 0.0, 'USD', 1724546, 4.5]\n",
        "fila_5 = ['Pandora - Music & Radio', 0.0, 'USD', 1126879, 4.0]\n",
        "data_set = [fila_1,fila_2,fila_3,fila_4,fila_5]\n",
        "print(data_set[0])\n",
        "print(data_set[1])\n",
        "print(data_set[2])\n",
        "print(data_set[3])\n",
        "print(data_set[4])"
      ]
    },
    {
      "cell_type": "code",
      "source": [
        "for row in data_set:\n",
        "  print(row)"
      ],
      "metadata": {
        "colab": {
          "base_uri": "https://localhost:8080/"
        },
        "id": "FYS90sUHpdju",
        "outputId": "552860b8-6e85-4142-9aea-115618119532"
      },
      "execution_count": 14,
      "outputs": [
        {
          "output_type": "stream",
          "name": "stdout",
          "text": [
            "['Facebook', 0.0, 'USD', 2974676, 3.5]\n",
            "['Instagram', 0.0, 'USD', 2161558, 4.5]\n",
            "['Clash of Clans', 0.0, 'USD', 2130805, 4.5]\n",
            "['Temple Run', 0.0, 'USD', 1724546, 4.5]\n",
            "['Pandora - Music & Radio', 0.0, 'USD', 1126879, 4.0]\n"
          ]
        }
      ]
    },
    {
      "cell_type": "markdown",
      "metadata": {
        "id": "9NiFvUZvouDR"
      },
      "source": [
        "Siguiendo la filosofía *DRY* (Don't Repeat Yourself). De esta manera, podríamos aplicar un **for** para reducir nuestro código y optimizarlo buscando no *repetir líneas de código*."
      ]
    },
    {
      "cell_type": "code",
      "execution_count": null,
      "metadata": {
        "id": "V7ZXUOKrouDR"
      },
      "outputs": [],
      "source": [
        "for fila in data_set:\n",
        "    print(fila)"
      ]
    },
    {
      "cell_type": "markdown",
      "metadata": {
        "id": "Te8pYkKHouDU"
      },
      "source": [
        "![tabla](https://drive.google.com/uc?export=view&id=1lGCdgouW5nII757MjCMlH5nI6HZPNnpv)\n",
        "\n",
        "Ahora que en la **variable** interior *fila* tengo una **fila** de la **tabla** que, en este caso, es una **lista**, podemos obtener el *rating* de cada **fila** sacando el **último elemento de la lista**.\n",
        "\n",
        "![tabla](https://drive.google.com/uc?export=view&id=1HgjOKXGPeY3GcBUaQiItqEB6UE-vbgpi)"
      ]
    },
    {
      "cell_type": "code",
      "execution_count": null,
      "metadata": {
        "id": "numU_Y_youDU"
      },
      "outputs": [],
      "source": [
        "for fila in data_set:\n",
        "    print(fila[-1])"
      ]
    },
    {
      "cell_type": "markdown",
      "metadata": {
        "id": "LQSOstK-ouDU"
      },
      "source": [
        "Perfecto! Entonces en cada **iteración** estamos imprimiendo el *rating* de cada **fila de la tabla.** Si queremos automatizar el *cálculo* de la **media de rating** de mi **dataset**, según su definición, debo *sumar todos los ratings y dividirlos para la cantidad de ratings sumados*"
      ]
    },
    {
      "cell_type": "code",
      "execution_count": null,
      "metadata": {
        "id": "PkngXefzouDU"
      },
      "outputs": [],
      "source": []
    },
    {
      "cell_type": "markdown",
      "source": [
        "# Control de flujo: Condicionales"
      ],
      "metadata": {
        "id": "vogYihj_Gyyl"
      }
    },
    {
      "cell_type": "markdown",
      "metadata": {
        "id": "H26wR8zCG-cx"
      },
      "source": [
        "## Operadores relacionales"
      ]
    },
    {
      "cell_type": "code",
      "execution_count": null,
      "metadata": {
        "id": "1Eva2c2zG-cx"
      },
      "outputs": [],
      "source": [
        "age = 23"
      ]
    },
    {
      "cell_type": "markdown",
      "metadata": {
        "id": "1uBGfThKG-cy"
      },
      "source": [
        "Los operadores relacionales se utilizan para comparar dos expresiones, para hacer preguntas.\n",
        "\n",
        "El resultado de la evaluación es un **booleano**: `True` o `False`"
      ]
    },
    {
      "cell_type": "code",
      "execution_count": null,
      "metadata": {
        "id": "BAAFzZxdG-cy",
        "colab": {
          "base_uri": "https://localhost:8080/",
          "height": 165
        },
        "outputId": "92f5a59f-8fec-4421-f24d-71fd0da98b61"
      },
      "outputs": [
        {
          "output_type": "error",
          "ename": "NameError",
          "evalue": "ignored",
          "traceback": [
            "\u001b[0;31m---------------------------------------------------------------------------\u001b[0m",
            "\u001b[0;31mNameError\u001b[0m                                 Traceback (most recent call last)",
            "\u001b[0;32m<ipython-input-4-ff77a9f501b8>\u001b[0m in \u001b[0;36m<cell line: 1>\u001b[0;34m()\u001b[0m\n\u001b[0;32m----> 1\u001b[0;31m \u001b[0mage\u001b[0m \u001b[0;34m==\u001b[0m \u001b[0;36m18\u001b[0m\u001b[0;34m\u001b[0m\u001b[0;34m\u001b[0m\u001b[0m\n\u001b[0m",
            "\u001b[0;31mNameError\u001b[0m: name 'age' is not defined"
          ]
        }
      ],
      "source": [
        "age == 18"
      ]
    },
    {
      "cell_type": "code",
      "execution_count": null,
      "metadata": {
        "id": "ZOheuPfRG-cy"
      },
      "outputs": [],
      "source": [
        "age != 18"
      ]
    },
    {
      "cell_type": "code",
      "execution_count": null,
      "metadata": {
        "id": "-FtiS_2KG-cy"
      },
      "outputs": [],
      "source": [
        "age > 18"
      ]
    },
    {
      "cell_type": "code",
      "execution_count": null,
      "metadata": {
        "id": "EA7jsTMjG-cy"
      },
      "outputs": [],
      "source": [
        "age < 18"
      ]
    },
    {
      "cell_type": "code",
      "execution_count": null,
      "metadata": {
        "id": "nKwG3J7RG-cy"
      },
      "outputs": [],
      "source": [
        "age >= 23"
      ]
    },
    {
      "cell_type": "code",
      "execution_count": null,
      "metadata": {
        "id": "tVzloy5bG-cy"
      },
      "outputs": [],
      "source": [
        "age <= 23"
      ]
    },
    {
      "cell_type": "markdown",
      "metadata": {
        "id": "sEYwUga0G-cy"
      },
      "source": [
        "**NOTA**:\n",
        " - Un solo signo de igualdad = en Python es **asignacion**\n",
        " - Dos signos de igualdad == es un operador relacional (una **pregunta**)"
      ]
    },
    {
      "cell_type": "markdown",
      "metadata": {
        "id": "7raQQeIDG-cy"
      },
      "source": [
        "## Operadores lógicos/booleanos"
      ]
    },
    {
      "cell_type": "markdown",
      "metadata": {
        "id": "L8cKDCEVG-cz"
      },
      "source": [
        "Su input es booleano y su resultado es booleano"
      ]
    },
    {
      "cell_type": "markdown",
      "metadata": {
        "id": "h1uTTh0qG-cz"
      },
      "source": [
        "Son los operadores `and`, `or`, `not`"
      ]
    },
    {
      "cell_type": "markdown",
      "metadata": {
        "id": "giEVPgYWG-cz"
      },
      "source": [
        "<img width=500 src=\"https://i.stack.imgur.com/nl0W8.jpg\">"
      ]
    },
    {
      "cell_type": "code",
      "execution_count": null,
      "metadata": {
        "id": "C0WaC2sDG-cz",
        "colab": {
          "base_uri": "https://localhost:8080/"
        },
        "outputId": "d3db47fc-19cd-4fa6-cac8-9ba64edd3a99"
      },
      "outputs": [
        {
          "output_type": "execute_result",
          "data": {
            "text/plain": [
              "23"
            ]
          },
          "metadata": {},
          "execution_count": 6
        }
      ],
      "source": [
        "age"
      ]
    },
    {
      "cell_type": "code",
      "execution_count": null,
      "metadata": {
        "id": "nUUW2iJkG-cz"
      },
      "outputs": [],
      "source": [
        "(age > 18) and (age % 2 == 0)"
      ]
    },
    {
      "cell_type": "code",
      "execution_count": null,
      "metadata": {
        "id": "yQyjD1oYG-cz"
      },
      "outputs": [],
      "source": [
        "(age > 18) or (age % 2 == 0)"
      ]
    },
    {
      "cell_type": "code",
      "execution_count": null,
      "metadata": {
        "id": "f1me6RfJG-cz",
        "colab": {
          "base_uri": "https://localhost:8080/"
        },
        "outputId": "ea6f2985-9eea-4297-9a50-157925da7de4"
      },
      "outputs": [
        {
          "output_type": "execute_result",
          "data": {
            "text/plain": [
              "False"
            ]
          },
          "metadata": {},
          "execution_count": 7
        }
      ],
      "source": [
        "not (age > 18)"
      ]
    },
    {
      "cell_type": "markdown",
      "metadata": {
        "id": "FYeAj3UsG-cz"
      },
      "source": [
        "## Condicionales `if`-`elif`-`else`"
      ]
    },
    {
      "cell_type": "markdown",
      "metadata": {
        "id": "aAN4xsFIG-cz"
      },
      "source": [
        "El **flujo** de un programa es el camino que sigue para ejecutar el código. Este camino puede variar en función del valor de ciertas variables."
      ]
    },
    {
      "cell_type": "markdown",
      "metadata": {
        "id": "ZJ8yjf9vG-cz"
      },
      "source": [
        "`if` ejecuta código si una condición **SI** se cumple"
      ]
    },
    {
      "cell_type": "code",
      "execution_count": null,
      "metadata": {
        "id": "czkqBil4G-cz"
      },
      "outputs": [],
      "source": [
        "age = 23"
      ]
    },
    {
      "cell_type": "code",
      "execution_count": null,
      "metadata": {
        "id": "0PVA3emmG-cz"
      },
      "outputs": [],
      "source": [
        "if age > 18:\n",
        "    print(\"Pasa a la discoteca\")"
      ]
    },
    {
      "cell_type": "markdown",
      "metadata": {
        "id": "TXTRsWYTG-cz"
      },
      "source": [
        "Ojo a la indentación (sangría) del código"
      ]
    },
    {
      "cell_type": "code",
      "execution_count": null,
      "metadata": {
        "id": "SKqJI_7_G-cz"
      },
      "outputs": [],
      "source": [
        "if age > 18:\n",
        "    print(\"Pasa a la discoteca\")\n",
        "\n",
        "print(\"Hoy es sábado\")"
      ]
    },
    {
      "cell_type": "code",
      "execution_count": null,
      "metadata": {
        "id": "ThvMuTWZG-c0"
      },
      "outputs": [],
      "source": [
        "if age > 30:\n",
        "    print(\"Pasa a la zona VIP\")\n",
        "\n",
        "print(\"Hoy es sábado\")"
      ]
    },
    {
      "cell_type": "markdown",
      "metadata": {
        "id": "vRLJ3X3GG-c0"
      },
      "source": [
        "`else` es lo que se ejecuta si **NO** se cumple una condición `if`. Es opcional"
      ]
    },
    {
      "cell_type": "code",
      "execution_count": null,
      "metadata": {
        "id": "qOsP3AhwG-c0"
      },
      "outputs": [],
      "source": [
        "if age > 18:\n",
        "    print(\"Pasa a la discoteca\")\n",
        "else:\n",
        "    print(\"Vete a la discoteca light\")"
      ]
    },
    {
      "cell_type": "code",
      "execution_count": null,
      "metadata": {
        "id": "_E_1AfYCG-c0"
      },
      "outputs": [],
      "source": [
        "if age > 30:\n",
        "    print(\"Pasa a la zona VIP\")\n",
        "else:\n",
        "    print(\"No puedes pasar a la zona VIP\")"
      ]
    },
    {
      "cell_type": "markdown",
      "metadata": {
        "id": "TV_Kh5x3G-c0"
      },
      "source": [
        "Podríamos crear una lógica del siguiente tipo también:"
      ]
    },
    {
      "cell_type": "code",
      "execution_count": null,
      "metadata": {
        "id": "bBZEwji6G-c0"
      },
      "outputs": [],
      "source": [
        "if age > 30:\n",
        "    print(\"Pasa a la zona VIP\")\n",
        "else:\n",
        "    if age > 18:\n",
        "        print(\"Pasa a la discoteca\")\n",
        "    else:\n",
        "        print(\"Vete a la discoteca light\")"
      ]
    },
    {
      "cell_type": "markdown",
      "metadata": {
        "id": "7COf6SXzG-c0"
      },
      "source": [
        "`elif` permite simplificar lo anterior:"
      ]
    },
    {
      "cell_type": "code",
      "execution_count": null,
      "metadata": {
        "id": "tCDdfqnAG-c0"
      },
      "outputs": [],
      "source": [
        "if age > 30:\n",
        "    print(\"Pasa a la zona VIP\")\n",
        "elif age > 18:\n",
        "    print(\"Pasa a la discoteca\")\n",
        "else:\n",
        "    print(\"Vete a la discoteca light\")"
      ]
    },
    {
      "cell_type": "markdown",
      "metadata": {
        "id": "oLeK8D8dG-c0"
      },
      "source": [
        "**Ejercicio**: qué imprime el código siguiente?"
      ]
    },
    {
      "cell_type": "code",
      "execution_count": null,
      "metadata": {
        "id": "Wk_W_25BG-c0",
        "colab": {
          "base_uri": "https://localhost:8080/"
        },
        "outputId": "0efd0442-b178-47a2-93b7-eb87dafff19f"
      },
      "outputs": [
        {
          "output_type": "stream",
          "name": "stdout",
          "text": [
            "1\n",
            "3\n",
            "4\n",
            "5\n",
            "7\n"
          ]
        }
      ],
      "source": [
        "if 'foo' in ['foo', 'bar', 'baz']:\n",
        "    print(1)\n",
        "    if 10 > 20:\n",
        "        print(2)\n",
        "\n",
        "    print(3)\n",
        "\n",
        "    if 10 < 20:\n",
        "        print(4)\n",
        "\n",
        "    print(5)\n",
        "else:\n",
        "    print(6)\n",
        "\n",
        "print(7)"
      ]
    },
    {
      "cell_type": "markdown",
      "metadata": {
        "id": "ZnoE2s5OG-c0"
      },
      "source": [
        "**Ejercicio**: si una palabra empieza por **a**, la llamamos buena. Si empieza por **e**, la llamamos regular. En otro caso es mala. Escribe un condicional que imprima de qué tipo es una palabra"
      ]
    },
    {
      "cell_type": "code",
      "execution_count": null,
      "metadata": {
        "id": "hUGIhK1fG-c0"
      },
      "outputs": [],
      "source": [
        "palabra = \"renacuajo\""
      ]
    },
    {
      "cell_type": "markdown",
      "metadata": {
        "id": "EZpz734JGDhW"
      },
      "source": [
        "### break"
      ]
    },
    {
      "cell_type": "markdown",
      "metadata": {
        "id": "BL6n55FYGDhW"
      },
      "source": [
        "Podemos **parar** un bucle cuando consideremos necesario"
      ]
    },
    {
      "cell_type": "code",
      "execution_count": null,
      "metadata": {
        "id": "6U1xyzVeGDhW"
      },
      "outputs": [],
      "source": [
        "words"
      ]
    },
    {
      "cell_type": "code",
      "execution_count": null,
      "metadata": {
        "id": "F2Jg3s9-GDhX"
      },
      "outputs": [],
      "source": [
        "for w in words:\n",
        "    print(w)\n",
        "\n",
        "    if \"e\" in w:\n",
        "        print(f\"word '{w}' contains letter 'e'!! We stop\")\n",
        "        break"
      ]
    },
    {
      "cell_type": "markdown",
      "metadata": {
        "id": "LGmqFUp7GDhZ"
      },
      "source": [
        "## Bucle while"
      ]
    },
    {
      "cell_type": "markdown",
      "metadata": {
        "id": "MUToKOV3GDhZ"
      },
      "source": [
        "Se utiliza para correr un bucle mientras se satisfaga una condición."
      ]
    },
    {
      "cell_type": "code",
      "execution_count": null,
      "metadata": {
        "id": "NzCT5FZ7GDhZ"
      },
      "outputs": [],
      "source": [
        "n = 8"
      ]
    },
    {
      "cell_type": "code",
      "execution_count": null,
      "metadata": {
        "id": "OYZbDNaoGDhZ"
      },
      "outputs": [],
      "source": [
        "while n < 20:\n",
        "    print(n)\n",
        "    n = n + 3"
      ]
    },
    {
      "cell_type": "markdown",
      "metadata": {
        "id": "ec88e736"
      },
      "source": [
        "## Funciones conocidas"
      ]
    },
    {
      "cell_type": "code",
      "execution_count": null,
      "metadata": {
        "id": "2723a7e1"
      },
      "outputs": [],
      "source": [
        "len(\"table\")"
      ]
    },
    {
      "cell_type": "code",
      "execution_count": null,
      "metadata": {
        "id": "97a34ae5"
      },
      "outputs": [],
      "source": [
        "round(4.55)"
      ]
    },
    {
      "cell_type": "code",
      "execution_count": null,
      "metadata": {
        "id": "7c3eae23"
      },
      "outputs": [],
      "source": [
        "import math"
      ]
    },
    {
      "cell_type": "code",
      "execution_count": null,
      "metadata": {
        "id": "d8513def"
      },
      "outputs": [],
      "source": [
        "math.log10(1000)"
      ]
    },
    {
      "cell_type": "code",
      "execution_count": null,
      "metadata": {
        "id": "2db77d80"
      },
      "outputs": [],
      "source": [
        "math.cos(0)"
      ]
    },
    {
      "cell_type": "code",
      "execution_count": null,
      "metadata": {
        "id": "56abe400"
      },
      "outputs": [],
      "source": [
        "import random"
      ]
    },
    {
      "cell_type": "code",
      "execution_count": null,
      "metadata": {
        "id": "952e2622",
        "colab": {
          "base_uri": "https://localhost:8080/"
        },
        "outputId": "f17048e1-006a-487a-e03e-bf7e1bfbfd21"
      },
      "outputs": [
        {
          "output_type": "execute_result",
          "data": {
            "text/plain": [
              "3.822357830212958"
            ]
          },
          "metadata": {},
          "execution_count": 10
        }
      ],
      "source": [
        "random.uniform(0, 5)"
      ]
    },
    {
      "cell_type": "markdown",
      "metadata": {
        "id": "2af77095"
      },
      "source": [
        "## Motivación"
      ]
    },
    {
      "cell_type": "markdown",
      "metadata": {
        "id": "6bda6735"
      },
      "source": [
        "**Ejercicio**: te dan un tiempo como un string en el formato `minutos:segundos`. Pásalo a segundos"
      ]
    },
    {
      "cell_type": "code",
      "execution_count": null,
      "metadata": {
        "id": "d0f67019"
      },
      "outputs": [],
      "source": [
        "t = \"17:04\""
      ]
    },
    {
      "cell_type": "markdown",
      "metadata": {
        "id": "ed40b16e"
      },
      "source": [
        "La **reusabilidad** es la principal motivación para crear funciones"
      ]
    },
    {
      "cell_type": "markdown",
      "metadata": {
        "id": "fef476ac"
      },
      "source": [
        "## Sintaxis básica y ejemplos"
      ]
    },
    {
      "cell_type": "markdown",
      "metadata": {
        "id": "1ba0fa66"
      },
      "source": [
        "Definición de una función:\n",
        "```python\n",
        "def function_name(parameter1, parameter2, ...):\n",
        "    code\n",
        "    \n",
        "    return something\n",
        "```"
      ]
    },
    {
      "cell_type": "markdown",
      "metadata": {
        "id": "95181d15"
      },
      "source": [
        "Ejecución de una función:  \n",
        "```python\n",
        "function_name(argument1, argument2, ...)\n",
        "```"
      ]
    },
    {
      "cell_type": "markdown",
      "metadata": {
        "id": "4b18c413"
      },
      "source": [
        "o, si quieres guardar el resultado en una variable:  \n",
        "```python\n",
        "result = function_name(argument1, argument2, ...)\n",
        "```"
      ]
    },
    {
      "cell_type": "code",
      "execution_count": null,
      "metadata": {
        "id": "ab8dfee6"
      },
      "outputs": [],
      "source": [
        "def square_number(x):\n",
        "    sq = x ** 2\n",
        "\n",
        "    return sq"
      ]
    },
    {
      "cell_type": "code",
      "execution_count": null,
      "metadata": {
        "id": "72ba5006"
      },
      "outputs": [],
      "source": [
        "square_number(10)"
      ]
    },
    {
      "cell_type": "code",
      "execution_count": null,
      "metadata": {
        "id": "05130f94"
      },
      "outputs": [],
      "source": [
        "square_number(4)"
      ]
    },
    {
      "cell_type": "markdown",
      "metadata": {
        "id": "e63a7139"
      },
      "source": [
        "**Ejercicio**: crea una función que una palabra y devuelva la primera letra en mayúscula"
      ]
    },
    {
      "cell_type": "code",
      "execution_count": null,
      "metadata": {
        "id": "b4107821"
      },
      "outputs": [],
      "source": []
    },
    {
      "cell_type": "markdown",
      "metadata": {
        "id": "d28564d1"
      },
      "source": [
        "**Ejercicio**: crea una función que coja un número y decida si es par"
      ]
    },
    {
      "cell_type": "code",
      "execution_count": null,
      "metadata": {
        "id": "f7ccdf10"
      },
      "outputs": [],
      "source": []
    },
    {
      "cell_type": "markdown",
      "metadata": {
        "id": "04c8fe86"
      },
      "source": [
        "**Ejercicio**: crea una función que coja un número y devuelva la suma desde 1 hasta ese número"
      ]
    },
    {
      "cell_type": "code",
      "execution_count": null,
      "metadata": {
        "id": "8fdc9d20"
      },
      "outputs": [],
      "source": []
    },
    {
      "cell_type": "markdown",
      "metadata": {
        "id": "5050c71e"
      },
      "source": [
        "## Funciones con varios argumentos"
      ]
    },
    {
      "cell_type": "code",
      "execution_count": null,
      "metadata": {
        "id": "fb095524"
      },
      "outputs": [],
      "source": [
        "def get_full_name(name, surname):\n",
        "    full_name = name + \" \" + surname\n",
        "\n",
        "    return full_name"
      ]
    },
    {
      "cell_type": "code",
      "execution_count": null,
      "metadata": {
        "id": "0b4541d8"
      },
      "outputs": [],
      "source": [
        "get_full_name(\"pedro\", \"giménez\")"
      ]
    },
    {
      "cell_type": "code",
      "execution_count": null,
      "metadata": {
        "id": "3171bc29"
      },
      "outputs": [],
      "source": [
        "get_full_name(\"mesa\", \"silla\")"
      ]
    },
    {
      "cell_type": "code",
      "execution_count": null,
      "metadata": {
        "id": "c90cc42e"
      },
      "outputs": [],
      "source": [
        "def get_highest_number(a, b):\n",
        "    if a > b:\n",
        "        return a\n",
        "    else:\n",
        "        return b"
      ]
    },
    {
      "cell_type": "code",
      "execution_count": null,
      "metadata": {
        "id": "1b1fb95b"
      },
      "outputs": [],
      "source": [
        "get_highest_number(10, 6)"
      ]
    },
    {
      "cell_type": "code",
      "execution_count": null,
      "metadata": {
        "id": "901b0e60"
      },
      "outputs": [],
      "source": [
        "get_highest_number(10, 60)"
      ]
    },
    {
      "cell_type": "markdown",
      "metadata": {
        "id": "d17fcec3"
      },
      "source": [
        "**Ejercicio**: crea una función que coja dos palabras y devuelva la más larga"
      ]
    },
    {
      "cell_type": "markdown",
      "metadata": {
        "id": "1ab431cc"
      },
      "source": [
        "**Ejercicio**: cscribe una función que tome dos listas como argumentos y devuelva una nueva lista que contenga sólo los elementos comunes a ambas listas"
      ]
    },
    {
      "cell_type": "markdown",
      "metadata": {
        "id": "dcb3d38a"
      },
      "source": [
        "## Funciones sin argumentos"
      ]
    },
    {
      "cell_type": "code",
      "execution_count": null,
      "metadata": {
        "id": "4b3e355c"
      },
      "outputs": [],
      "source": [
        "def give_me_a_one():\n",
        "    return 1"
      ]
    },
    {
      "cell_type": "markdown",
      "metadata": {
        "id": "28cc5487"
      },
      "source": [
        "**Example**: build a function that returns the current weekday from 1 (Monday) to 7 (Sunday)"
      ]
    },
    {
      "cell_type": "code",
      "execution_count": null,
      "metadata": {
        "id": "034e75f0"
      },
      "outputs": [],
      "source": [
        "from datetime import datetime"
      ]
    },
    {
      "cell_type": "code",
      "execution_count": null,
      "metadata": {
        "id": "cc2d676f"
      },
      "outputs": [],
      "source": [
        "datetime.today().weekday()"
      ]
    },
    {
      "cell_type": "code",
      "execution_count": null,
      "metadata": {
        "id": "401e8bce"
      },
      "outputs": [],
      "source": [
        "def today_weekday():\n",
        "    return datetime.today().weekday()"
      ]
    },
    {
      "cell_type": "code",
      "execution_count": null,
      "metadata": {
        "id": "2ea0e71f"
      },
      "outputs": [],
      "source": [
        "today_weekday()"
      ]
    },
    {
      "cell_type": "markdown",
      "metadata": {
        "id": "230d8d60"
      },
      "source": [
        "**Ejercicio**: crea una función que devuelva el día de la semana literal (la palabra)"
      ]
    },
    {
      "cell_type": "markdown",
      "metadata": {
        "id": "nweLyLWlsjoC"
      },
      "source": [
        "## Funciones sin `return`"
      ]
    },
    {
      "cell_type": "code",
      "execution_count": null,
      "metadata": {
        "id": "GuRzXJ5ksjoC"
      },
      "outputs": [],
      "source": [
        "def dummy_function(a):\n",
        "    b = a * 2"
      ]
    },
    {
      "cell_type": "code",
      "execution_count": null,
      "metadata": {
        "id": "cU7SAvSKsjoC"
      },
      "outputs": [],
      "source": [
        "dummy_function(10)"
      ]
    },
    {
      "cell_type": "code",
      "execution_count": null,
      "metadata": {
        "id": "2y7wEveRsjoC"
      },
      "outputs": [],
      "source": [
        "def say_hello():\n",
        "    print(\"Hello!\")\n",
        "    # no return"
      ]
    },
    {
      "cell_type": "code",
      "execution_count": null,
      "metadata": {
        "scrolled": true,
        "id": "nBb0_xdSsjoC",
        "outputId": "0f38b479-8501-4d5b-a685-7c9b9a05aca4",
        "colab": {
          "base_uri": "https://localhost:8080/"
        }
      },
      "outputs": [
        {
          "output_type": "stream",
          "name": "stdout",
          "text": [
            "Hello!\n"
          ]
        }
      ],
      "source": [
        "say_hello()"
      ]
    },
    {
      "cell_type": "code",
      "execution_count": null,
      "metadata": {
        "id": "HcmNmsVwsjoD",
        "outputId": "d7eab596-4a1b-4eb7-91cf-e2acfdc72e96",
        "colab": {
          "base_uri": "https://localhost:8080/"
        }
      },
      "outputs": [
        {
          "output_type": "stream",
          "name": "stdout",
          "text": [
            "Hello!\n"
          ]
        }
      ],
      "source": [
        "result = say_hello()"
      ]
    },
    {
      "cell_type": "code",
      "execution_count": null,
      "metadata": {
        "id": "mB8EbprTsjoD"
      },
      "outputs": [],
      "source": [
        "result"
      ]
    },
    {
      "cell_type": "code",
      "execution_count": null,
      "metadata": {
        "id": "qVV3yj_csjoD",
        "outputId": "c9b1bdcf-2bf7-4a66-c2ba-c5778289e920",
        "colab": {
          "base_uri": "https://localhost:8080/"
        }
      },
      "outputs": [
        {
          "output_type": "execute_result",
          "data": {
            "text/plain": [
              "True"
            ]
          },
          "metadata": {},
          "execution_count": 19
        }
      ],
      "source": [
        "result is None"
      ]
    },
    {
      "cell_type": "code",
      "execution_count": null,
      "metadata": {
        "id": "zV7lUyN4sjoE",
        "outputId": "15602a9f-6b98-41b6-c465-7564bce7aa5d",
        "colab": {
          "base_uri": "https://localhost:8080/"
        }
      },
      "outputs": [
        {
          "output_type": "execute_result",
          "data": {
            "text/plain": [
              "NoneType"
            ]
          },
          "metadata": {},
          "execution_count": 20
        }
      ],
      "source": [
        "type(result)"
      ]
    },
    {
      "cell_type": "code",
      "execution_count": null,
      "metadata": {
        "id": "ix-0aKkKsjoE"
      },
      "outputs": [],
      "source": [
        "# real use case\n",
        "def insert_user(db_conn, user_name, user_age):\n",
        "    upper_user_name = user_name.upper()\n",
        "    db_conn.insert(upper_user_name, user_age)"
      ]
    },
    {
      "cell_type": "code",
      "execution_count": null,
      "metadata": {
        "id": "-9jZ3eSmsjoE"
      },
      "outputs": [],
      "source": [
        "def say_hello():\n",
        "    print(\"Hello!\")"
      ]
    },
    {
      "cell_type": "code",
      "execution_count": null,
      "metadata": {
        "scrolled": false,
        "id": "c9m6AemUsjoE",
        "outputId": "e2cb1bcb-a4fc-4868-9f8c-98a70fcabc09"
      },
      "outputs": [
        {
          "name": "stdout",
          "output_type": "stream",
          "text": [
            "Hello!\n"
          ]
        }
      ],
      "source": [
        "no_return = say_hello()"
      ]
    },
    {
      "cell_type": "code",
      "execution_count": null,
      "metadata": {
        "id": "D9tQRB-CsjoE",
        "outputId": "ed89fb24-55f5-4451-8c20-c2c804f3cb4b"
      },
      "outputs": [
        {
          "data": {
            "text/plain": [
              "NoneType"
            ]
          },
          "execution_count": 39,
          "metadata": {},
          "output_type": "execute_result"
        }
      ],
      "source": [
        "type(no_return)"
      ]
    },
    {
      "cell_type": "code",
      "execution_count": null,
      "metadata": {
        "id": "cxpvHKxOsjoE"
      },
      "outputs": [],
      "source": [
        "def say_hello():\n",
        "    print(\"Hello!\")\n",
        "    pass"
      ]
    },
    {
      "cell_type": "code",
      "execution_count": null,
      "metadata": {
        "scrolled": true,
        "id": "KbIZxpIGsjoE",
        "outputId": "c9c8975d-f64b-4b81-aee5-ee7ade39aaea"
      },
      "outputs": [
        {
          "name": "stdout",
          "output_type": "stream",
          "text": [
            "Hello!\n"
          ]
        }
      ],
      "source": [
        "pass_return = say_hello()"
      ]
    },
    {
      "cell_type": "code",
      "execution_count": null,
      "metadata": {
        "id": "gcwRq4fFsjoF",
        "outputId": "c23de6dd-7ff2-4eb5-c4d5-bf88e5e9bba6"
      },
      "outputs": [
        {
          "data": {
            "text/plain": [
              "NoneType"
            ]
          },
          "execution_count": 41,
          "metadata": {},
          "output_type": "execute_result"
        }
      ],
      "source": [
        "type(pass_return)"
      ]
    },
    {
      "cell_type": "code",
      "execution_count": null,
      "metadata": {
        "id": "5KLr0HsbsjoF"
      },
      "outputs": [],
      "source": [
        "def say_hello():\n",
        "    print(\"Hello!\")\n",
        "    return"
      ]
    },
    {
      "cell_type": "code",
      "execution_count": null,
      "metadata": {
        "scrolled": true,
        "id": "qrHLX4cMsjoF",
        "outputId": "34746169-adc8-44cd-9d64-1c0b51af3fbd"
      },
      "outputs": [
        {
          "name": "stdout",
          "output_type": "stream",
          "text": [
            "Hello!\n"
          ]
        }
      ],
      "source": [
        "empty_return = say_hello()"
      ]
    },
    {
      "cell_type": "code",
      "execution_count": null,
      "metadata": {
        "id": "ZzzFOqoOsjoF",
        "outputId": "0bbde395-4594-4d42-e34a-e5b038f66d09"
      },
      "outputs": [
        {
          "data": {
            "text/plain": [
              "NoneType"
            ]
          },
          "execution_count": 44,
          "metadata": {},
          "output_type": "execute_result"
        }
      ],
      "source": [
        "type(empty_return)"
      ]
    },
    {
      "cell_type": "code",
      "execution_count": null,
      "metadata": {
        "id": "WogH9ZgtsjoF"
      },
      "outputs": [],
      "source": [
        "def say_hello():\n",
        "    print(\"Hello!\")\n",
        "    return None"
      ]
    },
    {
      "cell_type": "code",
      "execution_count": null,
      "metadata": {
        "scrolled": true,
        "id": "S6p2bVXCsjoF",
        "outputId": "7df6d5f3-96ce-411c-b5a5-984e4fb01df1"
      },
      "outputs": [
        {
          "name": "stdout",
          "output_type": "stream",
          "text": [
            "Hello!\n"
          ]
        }
      ],
      "source": [
        "none_return = say_hello()"
      ]
    },
    {
      "cell_type": "code",
      "execution_count": null,
      "metadata": {
        "id": "dBGQANDxsjoF",
        "outputId": "fb52a9e4-8b6d-4306-ea06-ac032d75749c"
      },
      "outputs": [
        {
          "data": {
            "text/plain": [
              "NoneType"
            ]
          },
          "execution_count": 46,
          "metadata": {},
          "output_type": "execute_result"
        }
      ],
      "source": [
        "type(none_return)"
      ]
    },
    {
      "cell_type": "markdown",
      "metadata": {
        "id": "xf5F5cyFsjoG"
      },
      "source": [
        "DRY = Don't Repeat Yourself"
      ]
    },
    {
      "cell_type": "markdown",
      "metadata": {
        "id": "9a76a398"
      },
      "source": [
        "## Funciones con varios `return`"
      ]
    },
    {
      "cell_type": "markdown",
      "metadata": {
        "id": "fee4c795"
      },
      "source": [
        "**NOTA**: Una función puede tener varios `return`. Cuando el primero se ejecuta, la función termina para siempre"
      ]
    },
    {
      "cell_type": "code",
      "execution_count": null,
      "metadata": {
        "id": "7423aec3"
      },
      "outputs": [],
      "source": [
        "def rare_function(x):\n",
        "    print(\"empezamos\")\n",
        "    return x * 2\n",
        "    print(\"no llegamos\")\n",
        "    return x * 3\n",
        "    print(\"no llegamos tampoco\")"
      ]
    },
    {
      "cell_type": "code",
      "execution_count": null,
      "metadata": {
        "colab": {
          "base_uri": "https://localhost:8080/"
        },
        "id": "5df5d781",
        "outputId": "f7faabf0-445d-46b5-d22c-764a845e0dd3"
      },
      "outputs": [
        {
          "output_type": "stream",
          "name": "stdout",
          "text": [
            "empezamos\n"
          ]
        },
        {
          "output_type": "execute_result",
          "data": {
            "text/plain": [
              "200"
            ]
          },
          "metadata": {},
          "execution_count": 5
        }
      ],
      "source": [
        "rare_function(100)"
      ]
    },
    {
      "cell_type": "markdown",
      "metadata": {
        "id": "g8oXxaMZsjoG"
      },
      "source": [
        "**Example**: Escribe una función que tenga de entra un número. Si es par la función devuelve el cuadro del argumento y si es impar devuelve el cubo del argumento."
      ]
    },
    {
      "cell_type": "markdown",
      "metadata": {
        "id": "173a34f0"
      },
      "source": [
        "## Documentación de funciones"
      ]
    },
    {
      "cell_type": "markdown",
      "metadata": {
        "id": "0adbbf8c"
      },
      "source": [
        "El código se escribe 1 vez.  \n",
        "El código se lee 100 veces.  \n",
        "Ayuda a tus colegas a entender tu trabajo."
      ]
    },
    {
      "cell_type": "code",
      "execution_count": null,
      "metadata": {
        "id": "11cd0cfa"
      },
      "outputs": [],
      "source": [
        "def square_number(x):\n",
        "    \"\"\"\n",
        "    Returns the square of a given number\n",
        "    Args:\n",
        "        x (float): number to square\n",
        "    Returns:\n",
        "        float: number squared\n",
        "    \"\"\"\n",
        "    return x ** 2"
      ]
    },
    {
      "cell_type": "code",
      "execution_count": null,
      "metadata": {
        "id": "3a61cc0d"
      },
      "outputs": [],
      "source": [
        "square_number(8)"
      ]
    },
    {
      "cell_type": "code",
      "execution_count": null,
      "metadata": {
        "id": "3997b404"
      },
      "outputs": [],
      "source": [
        "square_number?"
      ]
    },
    {
      "cell_type": "markdown",
      "metadata": {
        "id": "f36b5a78"
      },
      "source": [
        "## Argumentos por defecto"
      ]
    },
    {
      "cell_type": "markdown",
      "metadata": {
        "id": "2d00e0a2"
      },
      "source": [
        "Una función puede tener argumentos por defecto: no es preciso pasarlos al llamar a la función."
      ]
    },
    {
      "cell_type": "code",
      "execution_count": null,
      "metadata": {
        "id": "3509b6b9"
      },
      "outputs": [],
      "source": [
        "round(1.778)"
      ]
    },
    {
      "cell_type": "code",
      "execution_count": null,
      "metadata": {
        "id": "d1782f0f"
      },
      "outputs": [],
      "source": [
        "round(1.778, 1)"
      ]
    },
    {
      "cell_type": "code",
      "execution_count": null,
      "metadata": {
        "id": "e1e3fc10"
      },
      "outputs": [],
      "source": [
        "def repeat(phrase, n=2):\n",
        "    \"\"\"\n",
        "    Prints given phrase a number of times\n",
        "    Args:\n",
        "        phrase (str): phrase to print\n",
        "        n (int): number of times to print. Defaults to 2.\n",
        "\n",
        "    Returns:\n",
        "        None\n",
        "    \"\"\"\n",
        "    for _ in range(n):\n",
        "        print(phrase)"
      ]
    },
    {
      "cell_type": "code",
      "execution_count": null,
      "metadata": {
        "id": "5e75b9ff"
      },
      "outputs": [],
      "source": [
        "repeat(\"hola\", 4)"
      ]
    },
    {
      "cell_type": "code",
      "execution_count": null,
      "metadata": {
        "id": "09e7a02e"
      },
      "outputs": [],
      "source": [
        "repeat(\"hola\")"
      ]
    },
    {
      "cell_type": "markdown",
      "metadata": {
        "id": "afeb837b"
      },
      "source": [
        "**Motivación**: crea una función que coja 2 números y los multiplique"
      ]
    },
    {
      "cell_type": "markdown",
      "metadata": {
        "id": "0440a2fc"
      },
      "source": [
        "**Motivación**: crea una función que coja 3 números y los multiplique"
      ]
    },
    {
      "cell_type": "markdown",
      "metadata": {
        "id": "ab135666"
      },
      "source": [
        "**Motivación**: crea una función que coja 10 números y los multiplique"
      ]
    },
    {
      "cell_type": "markdown",
      "source": [
        "# Próxima Clase\n",
        " 8. Librerías en Python\n",
        " 9. Pandas para el análisis de datos\n",
        " 10. Análisis de datos\n",
        "\n"
      ],
      "metadata": {
        "id": "uK43rBtCb6kx"
      }
    },
    {
      "cell_type": "code",
      "source": [],
      "metadata": {
        "id": "S8kSm9u-2azS"
      },
      "execution_count": null,
      "outputs": []
    }
  ]
}