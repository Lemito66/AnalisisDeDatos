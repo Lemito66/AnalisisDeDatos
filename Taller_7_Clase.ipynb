{
  "nbformat": 4,
  "nbformat_minor": 0,
  "metadata": {
    "colab": {
      "provenance": [],
      "include_colab_link": true
    },
    "kernelspec": {
      "name": "python3",
      "display_name": "Python 3"
    },
    "language_info": {
      "name": "python"
    }
  },
  "cells": [
    {
      "cell_type": "markdown",
      "metadata": {
        "id": "view-in-github",
        "colab_type": "text"
      },
      "source": [
        "<a href=\"https://colab.research.google.com/github/Lemito66/AnalisisDeDatos/blob/master/Taller_7_Clase.ipynb\" target=\"_parent\"><img src=\"https://colab.research.google.com/assets/colab-badge.svg\" alt=\"Open In Colab\"/></a>"
      ]
    },
    {
      "cell_type": "markdown",
      "source": [
        "# Controles de flujo"
      ],
      "metadata": {
        "id": "Kau4S-QgSuOu"
      }
    },
    {
      "cell_type": "markdown",
      "source": [
        "<div style=\"text-align: right\">por <a href=\"https://www.linkedin.com/in/angel-astudillo-aguilar\" target=\"_blank\">Angel Xavier Astudillo Aguilar</a></div>\n",
        "\n"
      ],
      "metadata": {
        "id": "lRagjYwaStoR"
      }
    },
    {
      "cell_type": "markdown",
      "source": [
        "\n",
        "# Recapitulación\n",
        "1. Presentación e introducción al entorno de Python\n",
        "2. Introducción a Python\n",
        "3. Variable y Tipos de datos más comunes\n",
        "4. Operadores aritméticos y textuales\n",
        "5. Control de flujo: bucles\n",
        "  - Tablas\n",
        "  - Ciclos for"
      ],
      "metadata": {
        "id": "-YKxV0oNcMRa"
      }
    },
    {
      "cell_type": "markdown",
      "source": [
        "# Hoy veremos\n",
        "5. Control de flujo: bucles\n",
        "  - Ciclos for\n",
        "6. Control de flujo: condicionales\n"
      ],
      "metadata": {
        "id": "eafF_MRkRg24"
      }
    },
    {
      "cell_type": "markdown",
      "source": [
        "# Control de flujo: bucles\n"
      ],
      "metadata": {
        "id": "BLJBJHFUCCes"
      }
    },
    {
      "cell_type": "markdown",
      "source": [
        "![tabla](https://drive.google.com/uc?export=view&id=1HgjOKXGPeY3GcBUaQiItqEB6UE-vbgpi)"
      ],
      "metadata": {
        "id": "EMgGsrZ9rUbV"
      }
    },
    {
      "cell_type": "markdown",
      "metadata": {
        "id": "E-ajtcgqGDhV"
      },
      "source": [
        "##### enumerate()"
      ]
    },
    {
      "cell_type": "markdown",
      "metadata": {
        "id": "oqO1JoGQGDhV"
      },
      "source": [
        "Sirve para iterar por índices, además de por los valores"
      ]
    },
    {
      "cell_type": "code",
      "execution_count": null,
      "metadata": {
        "id": "fGtOUIwXGDhV"
      },
      "outputs": [],
      "source": [
        "names = ['Alice', 'Bob', 'Jack', 'Mary', 'Manuel', 'Amanda', 'Ignacio', 'Fernando']"
      ]
    },
    {
      "cell_type": "code",
      "execution_count": null,
      "metadata": {
        "id": "DhD7-UbwGDhV",
        "colab": {
          "base_uri": "https://localhost:8080/"
        },
        "outputId": "b4300168-5da3-40ad-b23c-ddefdec19189"
      },
      "outputs": [
        {
          "output_type": "stream",
          "name": "stdout",
          "text": [
            "Alice\n",
            "Bob\n",
            "Jack\n",
            "Mary\n",
            "Manuel\n",
            "Amanda\n",
            "Ignacio\n",
            "Fernando\n"
          ]
        }
      ],
      "source": [
        "for n in names:\n",
        "    print(n)"
      ]
    },
    {
      "cell_type": "code",
      "execution_count": null,
      "metadata": {
        "id": "zbKeFCGcGDhW",
        "colab": {
          "base_uri": "https://localhost:8080/"
        },
        "outputId": "9d174359-c5ca-4155-fdd0-a78f35c0c003"
      },
      "outputs": [
        {
          "output_type": "stream",
          "name": "stdout",
          "text": [
            "0\n",
            "1\n",
            "2\n",
            "3\n",
            "4\n",
            "5\n",
            "6\n",
            "7\n"
          ]
        }
      ],
      "source": [
        "for i, name in enumerate(names):\n",
        "    print(i)"
      ]
    },
    {
      "cell_type": "code",
      "execution_count": null,
      "metadata": {
        "id": "Qqkf95MJGDhW",
        "colab": {
          "base_uri": "https://localhost:8080/"
        },
        "outputId": "0d25a965-2a3c-4042-ae4d-29a12b41fa96"
      },
      "outputs": [
        {
          "output_type": "stream",
          "name": "stdout",
          "text": [
            "Mi amigo número 1 es Alice\n",
            "0 ALICE \n",
            "\n",
            "Mi amigo número 2 es Bob\n",
            "1 BOB \n",
            "\n",
            "Mi amigo número 3 es Jack\n",
            "4 JACK \n",
            "\n",
            "Mi amigo número 4 es Mary\n",
            "9 MARY \n",
            "\n",
            "Mi amigo número 5 es Manuel\n",
            "16 MANUEL \n",
            "\n",
            "Mi amigo número 6 es Amanda\n",
            "25 AMANDA \n",
            "\n",
            "Mi amigo número 7 es Ignacio\n",
            "36 IGNACIO \n",
            "\n",
            "Mi amigo número 8 es Fernando\n",
            "49 FERNANDO \n",
            "\n"
          ]
        }
      ],
      "source": [
        "for i, nombre in enumerate(names):\n",
        "    print(f\"Mi amigo número {i+1} es {nombre}\")\n",
        "    print(i ** 2, nombre.upper(), \"\\n\")"
      ]
    },
    {
      "cell_type": "markdown",
      "metadata": {
        "id": "UgKaNZOtGDhW"
      },
      "source": [
        "**Ejercicio**: crea una lista y añade a ella sólo los números negativos que aparecen en posición par (0, 2, 4...) de la lista original"
      ]
    },
    {
      "cell_type": "code",
      "execution_count": null,
      "metadata": {
        "id": "J4E-hpQoGDhW"
      },
      "outputs": [],
      "source": [
        "#       0   1   2   3   4   5    6\n",
        "nums = [5, -12, 66, 34, -1, 100, -8]\n"
      ]
    },
    {
      "cell_type": "code",
      "source": [
        "neg_nums = []\n",
        "neg_nums.append(3)"
      ],
      "metadata": {
        "id": "mVyD_oAckESR"
      },
      "execution_count": null,
      "outputs": []
    },
    {
      "cell_type": "code",
      "source": [
        "neg_nums = [3,5,8,12]\n",
        "neg_nums.append(100)"
      ],
      "metadata": {
        "id": "YtJ8nuEjlf0q"
      },
      "execution_count": null,
      "outputs": []
    },
    {
      "cell_type": "code",
      "source": [
        "neg_nums"
      ],
      "metadata": {
        "colab": {
          "base_uri": "https://localhost:8080/"
        },
        "id": "561xGRThlpzV",
        "outputId": "b491f3a1-7fa3-4393-c128-10f5c2400485"
      },
      "execution_count": null,
      "outputs": [
        {
          "output_type": "execute_result",
          "data": {
            "text/plain": [
              "[3, 5, 8, 12, 100]"
            ]
          },
          "metadata": {},
          "execution_count": 11
        }
      ]
    },
    {
      "cell_type": "code",
      "execution_count": null,
      "metadata": {
        "id": "MxPDEYOoGDhW"
      },
      "outputs": [],
      "source": [
        "neg_nums = []\n",
        "\n",
        "if i % 2 == 0:\n",
        "  neg_nums.append(elemento)\n",
        "\n"
      ]
    },
    {
      "cell_type": "code",
      "source": [
        "neg_nums = []\n",
        "for i, number in enumerate(nums):\n",
        "    if i % 2 == 0 and number < 0:\n",
        "        neg_nums.append(number)"
      ],
      "metadata": {
        "id": "x-HYNM1IlvCM"
      },
      "execution_count": null,
      "outputs": []
    },
    {
      "cell_type": "code",
      "source": [
        "neg_nums"
      ],
      "metadata": {
        "colab": {
          "base_uri": "https://localhost:8080/"
        },
        "id": "HJy9LTi_l57I",
        "outputId": "82a14dd8-7b35-411f-8aa1-d4f573048053"
      },
      "execution_count": null,
      "outputs": [
        {
          "output_type": "execute_result",
          "data": {
            "text/plain": [
              "[-1, -8]"
            ]
          },
          "metadata": {},
          "execution_count": 15
        }
      ]
    },
    {
      "cell_type": "markdown",
      "metadata": {
        "id": "vRuEJqOUGDhX"
      },
      "source": [
        "##### zip()"
      ]
    },
    {
      "cell_type": "markdown",
      "metadata": {
        "id": "7lkGNy-qGDhX"
      },
      "source": [
        "Es utilizado para iterar por más de un iterable"
      ]
    },
    {
      "cell_type": "code",
      "execution_count": null,
      "metadata": {
        "id": "yidOGtXlGDhX",
        "colab": {
          "base_uri": "https://localhost:8080/"
        },
        "outputId": "cb9b1bf2-3229-45fd-b51c-346d9eac1723"
      },
      "outputs": [
        {
          "output_type": "execute_result",
          "data": {
            "text/plain": [
              "['Alice', 'Bob', 'Jack', 'Mary', 'Manuel', 'Amanda', 'Ignacio', 'Fernando']"
            ]
          },
          "metadata": {},
          "execution_count": 16
        }
      ],
      "source": [
        "names = ['Alice', 'Bob', 'Jack', 'Mary', 'Manuel', 'Amanda', 'Ignacio', 'Fernando']\n",
        "names\n"
      ]
    },
    {
      "cell_type": "code",
      "execution_count": null,
      "metadata": {
        "id": "9dT6MpHGGDhX",
        "colab": {
          "base_uri": "https://localhost:8080/"
        },
        "outputId": "1eb4f40c-bdaa-4bd1-9211-a8006cb6e9cf"
      },
      "outputs": [
        {
          "output_type": "execute_result",
          "data": {
            "text/plain": [
              "[30, 20, 21, 22, 94, 54, 88, 10]"
            ]
          },
          "metadata": {},
          "execution_count": 17
        }
      ],
      "source": [
        "ages = [30, 20, 21, 22, 94, 54, 88, 10]\n",
        "ages"
      ]
    },
    {
      "cell_type": "code",
      "execution_count": null,
      "metadata": {
        "id": "Nq4ov_-MGDhY",
        "colab": {
          "base_uri": "https://localhost:8080/"
        },
        "outputId": "a7b3a76f-3836-4665-fcc4-0e126befe69f"
      },
      "outputs": [
        {
          "output_type": "execute_result",
          "data": {
            "text/plain": [
              "8"
            ]
          },
          "metadata": {},
          "execution_count": 18
        }
      ],
      "source": [
        "len(names)"
      ]
    },
    {
      "cell_type": "code",
      "execution_count": null,
      "metadata": {
        "id": "F-XiKfeqGDhY",
        "colab": {
          "base_uri": "https://localhost:8080/"
        },
        "outputId": "74ae7f43-31c3-4dd6-8238-724324dc83ee"
      },
      "outputs": [
        {
          "output_type": "execute_result",
          "data": {
            "text/plain": [
              "8"
            ]
          },
          "metadata": {},
          "execution_count": 19
        }
      ],
      "source": [
        "len(ages)"
      ]
    },
    {
      "cell_type": "code",
      "execution_count": null,
      "metadata": {
        "id": "hvai6_BWGDhY",
        "colab": {
          "base_uri": "https://localhost:8080/"
        },
        "outputId": "d8efb57b-e599-44ed-a70d-df720e8217e1"
      },
      "outputs": [
        {
          "output_type": "stream",
          "name": "stdout",
          "text": [
            "Alice 30\n",
            "Bob 20\n",
            "Jack 21\n",
            "Mary 22\n",
            "Manuel 94\n",
            "Amanda 54\n",
            "Ignacio 88\n",
            "Fernando 10\n"
          ]
        }
      ],
      "source": [
        "for name, age in zip(names, ages):\n",
        "    print(name, age)"
      ]
    },
    {
      "cell_type": "markdown",
      "metadata": {
        "id": "p-TSV3jBGDhY"
      },
      "source": [
        "##### Iterar un diccionario"
      ]
    },
    {
      "cell_type": "code",
      "execution_count": null,
      "metadata": {
        "id": "DbBDk21rGDhY"
      },
      "outputs": [],
      "source": [
        "persona = {\n",
        "    \"age\": 33,\n",
        "    \"name\": \"Manuel\",\n",
        "    \"city\": \"Madrid\",\n",
        "    \"height\": 1.84,\n",
        "    \"has_children\": False,\n",
        "    \"friends\": [\"Juan\", \"Luis\"],\n",
        "    \"ocupacion\": {\n",
        "        \"name\": \"profe\",\n",
        "        \"tiempo\": 3,\n",
        "        \"salario\": 100\n",
        "    }\n",
        "}"
      ]
    },
    {
      "cell_type": "code",
      "execution_count": null,
      "metadata": {
        "id": "11uw3jMFGDhY",
        "colab": {
          "base_uri": "https://localhost:8080/"
        },
        "outputId": "0f0286d8-05f7-4525-c9d9-7a4c0da66e8f"
      },
      "outputs": [
        {
          "output_type": "stream",
          "name": "stdout",
          "text": [
            "age\n",
            "name\n",
            "city\n",
            "height\n",
            "has_children\n",
            "friends\n",
            "ocupacion\n"
          ]
        }
      ],
      "source": [
        "for k in persona.keys():\n",
        "    print(k)"
      ]
    },
    {
      "cell_type": "code",
      "execution_count": null,
      "metadata": {
        "id": "hrPEt_bEGDhY",
        "colab": {
          "base_uri": "https://localhost:8080/"
        },
        "outputId": "5b565c36-ee9b-4e69-989f-6f07d487196d"
      },
      "outputs": [
        {
          "output_type": "stream",
          "name": "stdout",
          "text": [
            "33\n",
            "Manuel\n",
            "Madrid\n",
            "1.84\n",
            "False\n",
            "['Juan', 'Luis']\n",
            "{'name': 'profe', 'tiempo': 3, 'salario': 100}\n"
          ]
        }
      ],
      "source": [
        "for pepe in persona.values():\n",
        "    print(pepe)"
      ]
    },
    {
      "cell_type": "markdown",
      "metadata": {
        "id": "QjeVU78zGDhY"
      },
      "source": [
        "Los diccionarios tienen un método llamado `.items()`, que enumera sus keys y values"
      ]
    },
    {
      "cell_type": "code",
      "execution_count": null,
      "metadata": {
        "id": "kH7S-JK4GDhY",
        "colab": {
          "base_uri": "https://localhost:8080/"
        },
        "outputId": "b2aca87d-3638-462c-9e9c-fa02cdd20366"
      },
      "outputs": [
        {
          "output_type": "execute_result",
          "data": {
            "text/plain": [
              "dict_items([('age', 33), ('name', 'Manuel'), ('city', 'Madrid'), ('height', 1.84), ('has_children', False), ('friends', ['Juan', 'Luis']), ('ocupacion', {'name': 'profe', 'tiempo': 3, 'salario': 100})])"
            ]
          },
          "metadata": {},
          "execution_count": 24
        }
      ],
      "source": [
        "persona.items()"
      ]
    },
    {
      "cell_type": "code",
      "execution_count": null,
      "metadata": {
        "id": "or0WHL3xGDhY",
        "colab": {
          "base_uri": "https://localhost:8080/"
        },
        "outputId": "2f027f9b-01ed-484d-d9fc-7e862ab32cf0"
      },
      "outputs": [
        {
          "output_type": "stream",
          "name": "stdout",
          "text": [
            "age 33 \n",
            "\n",
            "name Manuel \n",
            "\n",
            "city Madrid \n",
            "\n",
            "height 1.84 \n",
            "\n",
            "has_children False \n",
            "\n",
            "friends ['Juan', 'Luis'] \n",
            "\n",
            "ocupacion {'name': 'profe', 'tiempo': 3, 'salario': 100} \n",
            "\n"
          ]
        }
      ],
      "source": [
        "for k, v in persona.items():\n",
        "    print(k, v, \"\\n\")"
      ]
    },
    {
      "cell_type": "code",
      "execution_count": null,
      "metadata": {
        "id": "shg1SG63GDhZ",
        "colab": {
          "base_uri": "https://localhost:8080/"
        },
        "outputId": "5a9be6e8-7144-40b2-faeb-1a8830d1676b"
      },
      "outputs": [
        {
          "output_type": "execute_result",
          "data": {
            "text/plain": [
              "{'age': 33,\n",
              " 'name': 'Manuel',\n",
              " 'city': 'Madrid',\n",
              " 'height': 1.84,\n",
              " 'has_children': False,\n",
              " 'friends': ['Juan', 'Luis'],\n",
              " 'ocupacion': {'name': 'profe', 'tiempo': 3, 'salario': 100}}"
            ]
          },
          "metadata": {},
          "execution_count": 27
        }
      ],
      "source": [
        "persona"
      ]
    },
    {
      "cell_type": "code",
      "execution_count": null,
      "metadata": {
        "id": "IqdhoZCJGDhZ",
        "colab": {
          "base_uri": "https://localhost:8080/",
          "height": 136
        },
        "outputId": "166bb2f2-5357-43fd-cb47-9cacb08cb302"
      },
      "outputs": [
        {
          "output_type": "error",
          "ename": "SyntaxError",
          "evalue": "ignored",
          "traceback": [
            "\u001b[0;36m  File \u001b[0;32m\"<ipython-input-28-21d0ed6e95d9>\"\u001b[0;36m, line \u001b[0;32m1\u001b[0m\n\u001b[0;31m    for k, v in persona[\"ocupacion\"].items()\u001b[0m\n\u001b[0m                                            ^\u001b[0m\n\u001b[0;31mSyntaxError\u001b[0m\u001b[0;31m:\u001b[0m expected ':'\n"
          ]
        }
      ],
      "source": [
        "for k, v in persona[\"ocupacion\"].items():\n",
        "  jejrwejr"
      ]
    },
    {
      "cell_type": "markdown",
      "metadata": {
        "id": "F-Ru15nOouDQ"
      },
      "source": [
        "Ahora hagamos una prueba con nuestro primer dataset. Si quiero imprimir las filas de primer dataset ¿cómo lo haría?"
      ]
    },
    {
      "cell_type": "code",
      "source": [
        "fila_1 = ['Facebook',0.0,'USD',2974676,3.5]\n",
        "fila_2 = ['Instagram', 0.0, 'USD', 2161558, 4.5]\n",
        "fila_3 = ['Clash of Clans', 0.0, 'USD', 2130805, 4.5]\n",
        "fila_4 = ['Temple Run', 0.0, 'USD', 1724546, 4.5]\n",
        "fila_5 = ['Pandora - Music & Radio', 0.0, 'USD', 1126879, 4.0]"
      ],
      "metadata": {
        "id": "rE5IffqDo-gA"
      },
      "execution_count": null,
      "outputs": []
    },
    {
      "cell_type": "code",
      "execution_count": null,
      "metadata": {
        "id": "njIvORMfouDQ",
        "colab": {
          "base_uri": "https://localhost:8080/"
        },
        "outputId": "17a9a93f-6d74-46c4-edac-5709f717be8d"
      },
      "outputs": [
        {
          "output_type": "stream",
          "name": "stdout",
          "text": [
            "['Facebook', 0.0, 'USD', 2974676, 3.5]\n",
            "['Instagram', 0.0, 'USD', 2161558, 4.5]\n",
            "['Clash of Clans', 0.0, 'USD', 2130805, 4.5]\n",
            "['Temple Run', 0.0, 'USD', 1724546, 4.5]\n",
            "['Pandora - Music & Radio', 0.0, 'USD', 1126879, 4.0]\n"
          ]
        }
      ],
      "source": [
        "data_set = [fila_1,fila_2,fila_3,fila_4,fila_5]\n",
        "print(data_set[0])\n",
        "print(data_set[1])\n",
        "print(data_set[2])\n",
        "print(data_set[3])\n",
        "print(data_set[4])"
      ]
    },
    {
      "cell_type": "code",
      "source": [
        "for fila in data_set:\n",
        "  print(fila)"
      ],
      "metadata": {
        "colab": {
          "base_uri": "https://localhost:8080/"
        },
        "id": "mEyUHazJpE4C",
        "outputId": "1cb285d1-3186-42c4-a7f4-256dbaaa9283"
      },
      "execution_count": null,
      "outputs": [
        {
          "output_type": "stream",
          "name": "stdout",
          "text": [
            "['Facebook', 0.0, 'USD', 2974676, 3.5]\n",
            "['Instagram', 0.0, 'USD', 2161558, 4.5]\n",
            "['Clash of Clans', 0.0, 'USD', 2130805, 4.5]\n",
            "['Temple Run', 0.0, 'USD', 1724546, 4.5]\n",
            "['Pandora - Music & Radio', 0.0, 'USD', 1126879, 4.0]\n"
          ]
        }
      ]
    },
    {
      "cell_type": "code",
      "source": [
        "for datos in data_set:\n",
        "  print(f\"{datos}\")"
      ],
      "metadata": {
        "colab": {
          "base_uri": "https://localhost:8080/"
        },
        "id": "xKJS3AVdpE0D",
        "outputId": "380de161-999f-45eb-ca08-819dcbd87793"
      },
      "execution_count": null,
      "outputs": [
        {
          "output_type": "stream",
          "name": "stdout",
          "text": [
            "['Facebook', 0.0, 'USD', 2974676, 3.5]\n",
            "['Instagram', 0.0, 'USD', 2161558, 4.5]\n",
            "['Clash of Clans', 0.0, 'USD', 2130805, 4.5]\n",
            "['Temple Run', 0.0, 'USD', 1724546, 4.5]\n",
            "['Pandora - Music & Radio', 0.0, 'USD', 1126879, 4.0]\n"
          ]
        }
      ]
    },
    {
      "cell_type": "code",
      "source": [
        "texto = \"bonito\"\n",
        "\"esto es un texto\"\n",
        "\"esto es un texto \" + texto\n",
        "f\"esto es un texto {texto}\""
      ],
      "metadata": {
        "colab": {
          "base_uri": "https://localhost:8080/",
          "height": 37
        },
        "id": "0kl7wkEJqk9R",
        "outputId": "401c928e-2004-40a7-9498-d046b4566836"
      },
      "execution_count": null,
      "outputs": [
        {
          "output_type": "execute_result",
          "data": {
            "text/plain": [
              "'esto es un texto bonito'"
            ],
            "application/vnd.google.colaboratory.intrinsic+json": {
              "type": "string"
            }
          },
          "metadata": {},
          "execution_count": 34
        }
      ]
    },
    {
      "cell_type": "markdown",
      "metadata": {
        "id": "9NiFvUZvouDR"
      },
      "source": [
        "Siguiendo la filosofía *DRY* (Don't Repeat Yourself). De esta manera, podríamos aplicar un **for** para reducir nuestro código y optimizarlo buscando no *repetir líneas de código*."
      ]
    },
    {
      "cell_type": "code",
      "execution_count": null,
      "metadata": {
        "id": "V7ZXUOKrouDR",
        "colab": {
          "base_uri": "https://localhost:8080/"
        },
        "outputId": "1b0e60dc-f99b-4bf8-df63-5d0561bb063b"
      },
      "outputs": [
        {
          "output_type": "stream",
          "name": "stdout",
          "text": [
            "['Facebook', 0.0, 'USD', 2974676, 3.5]\n",
            "['Instagram', 0.0, 'USD', 2161558, 4.5]\n",
            "['Clash of Clans', 0.0, 'USD', 2130805, 4.5]\n",
            "['Temple Run', 0.0, 'USD', 1724546, 4.5]\n",
            "['Pandora - Music & Radio', 0.0, 'USD', 1126879, 4.0]\n"
          ]
        }
      ],
      "source": [
        "for fila in data_set:\n",
        "    print(fila)"
      ]
    },
    {
      "cell_type": "markdown",
      "metadata": {
        "id": "Te8pYkKHouDU"
      },
      "source": [
        "![tabla](https://drive.google.com/uc?export=view&id=1lGCdgouW5nII757MjCMlH5nI6HZPNnpv)\n",
        "\n",
        "Ahora que en la **variable** interior *fila* tengo una **fila** de la **tabla** que, en este caso, es una **lista**, podemos obtener el *rating* de cada **fila** sacando el **último elemento de la lista**.\n"
      ]
    },
    {
      "cell_type": "code",
      "execution_count": null,
      "metadata": {
        "id": "numU_Y_youDU",
        "colab": {
          "base_uri": "https://localhost:8080/"
        },
        "outputId": "fac315e3-d9d1-4d2c-82f1-1f05da53fa67"
      },
      "outputs": [
        {
          "output_type": "stream",
          "name": "stdout",
          "text": [
            "3.5\n",
            "4.5\n",
            "4.5\n",
            "4.5\n",
            "4.0\n"
          ]
        }
      ],
      "source": [
        "for fila in data_set:\n",
        "    print(fila[-1])"
      ]
    },
    {
      "cell_type": "markdown",
      "metadata": {
        "id": "LQSOstK-ouDU"
      },
      "source": [
        "Perfecto! Entonces en cada **iteración** estamos imprimiendo el *rating* de cada **fila de la tabla.** Si queremos automatizar el *cálculo* de la **media de rating** de mi **dataset**, según su definición, debo *sumar todos los ratings y dividirlos para la cantidad de ratings sumados*"
      ]
    },
    {
      "cell_type": "code",
      "execution_count": null,
      "metadata": {
        "id": "PkngXefzouDU",
        "colab": {
          "base_uri": "https://localhost:8080/"
        },
        "outputId": "42d3cfd6-f018-47df-8c3f-cffb11026442"
      },
      "outputs": [
        {
          "output_type": "stream",
          "name": "stdout",
          "text": [
            "4.2\n"
          ]
        }
      ],
      "source": [
        "promedio = 0\n",
        "for fila in data_set:\n",
        "    promedio += fila[-1]\n",
        "\n",
        "promedio = promedio / len(data_set)\n",
        "print(promedio)"
      ]
    },
    {
      "cell_type": "code",
      "source": [
        "media = 0\n",
        "for fila in data_set:\n",
        "    media += fila[-1] / len(data_set)\n",
        "\n",
        "print(media)"
      ],
      "metadata": {
        "colab": {
          "base_uri": "https://localhost:8080/"
        },
        "id": "TEtxw7DSsnf8",
        "outputId": "7cce38f7-360c-42e4-e4a3-bb1510bc44a5"
      },
      "execution_count": null,
      "outputs": [
        {
          "output_type": "stream",
          "name": "stdout",
          "text": [
            "4.2\n"
          ]
        }
      ]
    },
    {
      "cell_type": "markdown",
      "source": [
        "# Control de flujo: Condicionales"
      ],
      "metadata": {
        "id": "vogYihj_Gyyl"
      }
    },
    {
      "cell_type": "markdown",
      "metadata": {
        "id": "H26wR8zCG-cx"
      },
      "source": [
        "## Operadores relacionales"
      ]
    },
    {
      "cell_type": "code",
      "execution_count": null,
      "metadata": {
        "id": "1Eva2c2zG-cx",
        "colab": {
          "base_uri": "https://localhost:8080/"
        },
        "outputId": "494ac47a-1346-4c94-dddb-b501642ff49b"
      },
      "outputs": [
        {
          "output_type": "execute_result",
          "data": {
            "text/plain": [
              "23"
            ]
          },
          "metadata": {},
          "execution_count": 39
        }
      ],
      "source": [
        "age = 23\n",
        "age"
      ]
    },
    {
      "cell_type": "markdown",
      "metadata": {
        "id": "1uBGfThKG-cy"
      },
      "source": [
        "Los operadores relacionales se utilizan para comparar dos expresiones, para hacer preguntas.\n",
        "\n",
        "El resultado de la evaluación es un **booleano**: `True` o `False`"
      ]
    },
    {
      "cell_type": "code",
      "execution_count": null,
      "metadata": {
        "id": "BAAFzZxdG-cy",
        "colab": {
          "base_uri": "https://localhost:8080/"
        },
        "outputId": "8ed9e6db-02ce-493c-e9c1-6f09a32f4015"
      },
      "outputs": [
        {
          "output_type": "execute_result",
          "data": {
            "text/plain": [
              "False"
            ]
          },
          "metadata": {},
          "execution_count": 40
        }
      ],
      "source": [
        "age == 18"
      ]
    },
    {
      "cell_type": "code",
      "execution_count": null,
      "metadata": {
        "id": "ZOheuPfRG-cy",
        "colab": {
          "base_uri": "https://localhost:8080/"
        },
        "outputId": "d316f0b5-dd95-4c79-c981-99bc7a6ae265"
      },
      "outputs": [
        {
          "output_type": "execute_result",
          "data": {
            "text/plain": [
              "True"
            ]
          },
          "metadata": {},
          "execution_count": 41
        }
      ],
      "source": [
        "age != 18"
      ]
    },
    {
      "cell_type": "code",
      "execution_count": null,
      "metadata": {
        "id": "-FtiS_2KG-cy",
        "colab": {
          "base_uri": "https://localhost:8080/"
        },
        "outputId": "1f390571-ae73-4811-bc5f-16c4558c93ec"
      },
      "outputs": [
        {
          "output_type": "execute_result",
          "data": {
            "text/plain": [
              "True"
            ]
          },
          "metadata": {},
          "execution_count": 42
        }
      ],
      "source": [
        "age > 18"
      ]
    },
    {
      "cell_type": "code",
      "execution_count": null,
      "metadata": {
        "id": "EA7jsTMjG-cy",
        "colab": {
          "base_uri": "https://localhost:8080/"
        },
        "outputId": "abda82d5-f5bc-475d-8f00-4d10d79b4570"
      },
      "outputs": [
        {
          "output_type": "execute_result",
          "data": {
            "text/plain": [
              "False"
            ]
          },
          "metadata": {},
          "execution_count": 43
        }
      ],
      "source": [
        "age < 18"
      ]
    },
    {
      "cell_type": "code",
      "execution_count": null,
      "metadata": {
        "id": "nKwG3J7RG-cy",
        "colab": {
          "base_uri": "https://localhost:8080/"
        },
        "outputId": "ebf0046d-bd41-4833-d6b7-316f6689a003"
      },
      "outputs": [
        {
          "output_type": "execute_result",
          "data": {
            "text/plain": [
              "True"
            ]
          },
          "metadata": {},
          "execution_count": 44
        }
      ],
      "source": [
        "age >= 23"
      ]
    },
    {
      "cell_type": "code",
      "execution_count": null,
      "metadata": {
        "id": "tVzloy5bG-cy",
        "colab": {
          "base_uri": "https://localhost:8080/"
        },
        "outputId": "813568dc-4eba-4fcb-e9bf-7bf0cb4de518"
      },
      "outputs": [
        {
          "output_type": "execute_result",
          "data": {
            "text/plain": [
              "True"
            ]
          },
          "metadata": {},
          "execution_count": 45
        }
      ],
      "source": [
        "age <= 23"
      ]
    },
    {
      "cell_type": "markdown",
      "metadata": {
        "id": "sEYwUga0G-cy"
      },
      "source": [
        "**NOTA**:\n",
        " - Un solo signo de igualdad = en Python es **asignacion**\n",
        " - Dos signos de igualdad == es un operador relacional (una **pregunta**)"
      ]
    },
    {
      "cell_type": "markdown",
      "metadata": {
        "id": "7raQQeIDG-cy"
      },
      "source": [
        "## Operadores lógicos/booleanos"
      ]
    },
    {
      "cell_type": "markdown",
      "metadata": {
        "id": "L8cKDCEVG-cz"
      },
      "source": [
        "Su input es booleano y su resultado es booleano"
      ]
    },
    {
      "cell_type": "markdown",
      "metadata": {
        "id": "h1uTTh0qG-cz"
      },
      "source": [
        "Son los operadores `and`, `or`, `not`"
      ]
    },
    {
      "cell_type": "markdown",
      "metadata": {
        "id": "giEVPgYWG-cz"
      },
      "source": [
        "<img width=500 src=\"https://i.stack.imgur.com/nl0W8.jpg\">"
      ]
    },
    {
      "cell_type": "code",
      "execution_count": null,
      "metadata": {
        "id": "C0WaC2sDG-cz",
        "colab": {
          "base_uri": "https://localhost:8080/"
        },
        "outputId": "1cd882ed-35af-4925-cb55-c506013c389e"
      },
      "outputs": [
        {
          "output_type": "execute_result",
          "data": {
            "text/plain": [
              "23"
            ]
          },
          "metadata": {},
          "execution_count": 46
        }
      ],
      "source": [
        "age"
      ]
    },
    {
      "cell_type": "code",
      "execution_count": null,
      "metadata": {
        "id": "nUUW2iJkG-cz",
        "colab": {
          "base_uri": "https://localhost:8080/"
        },
        "outputId": "196b3c50-eb83-49ef-85e1-9921b2d1f639"
      },
      "outputs": [
        {
          "output_type": "execute_result",
          "data": {
            "text/plain": [
              "False"
            ]
          },
          "metadata": {},
          "execution_count": 47
        }
      ],
      "source": [
        "(age > 18) and (age % 2 == 0)"
      ]
    },
    {
      "cell_type": "code",
      "execution_count": null,
      "metadata": {
        "id": "yQyjD1oYG-cz",
        "colab": {
          "base_uri": "https://localhost:8080/"
        },
        "outputId": "e52fc341-83b9-47d1-f63b-053a14c491c6"
      },
      "outputs": [
        {
          "output_type": "execute_result",
          "data": {
            "text/plain": [
              "True"
            ]
          },
          "metadata": {},
          "execution_count": 48
        }
      ],
      "source": [
        "(age > 18) or (age % 2 == 0)"
      ]
    },
    {
      "cell_type": "code",
      "execution_count": null,
      "metadata": {
        "id": "f1me6RfJG-cz",
        "colab": {
          "base_uri": "https://localhost:8080/"
        },
        "outputId": "f81ef896-cbb1-4cc9-9e75-0a6d71a0f006"
      },
      "outputs": [
        {
          "output_type": "execute_result",
          "data": {
            "text/plain": [
              "False"
            ]
          },
          "metadata": {},
          "execution_count": 49
        }
      ],
      "source": [
        "not (age > 18)"
      ]
    },
    {
      "cell_type": "markdown",
      "metadata": {
        "id": "FYeAj3UsG-cz"
      },
      "source": [
        "## Condicionales `if`-`elif`-`else`"
      ]
    },
    {
      "cell_type": "markdown",
      "metadata": {
        "id": "aAN4xsFIG-cz"
      },
      "source": [
        "El **flujo** de un programa es el camino que sigue para ejecutar el código. Este camino puede variar en función del valor de ciertas variables."
      ]
    },
    {
      "cell_type": "markdown",
      "metadata": {
        "id": "ZJ8yjf9vG-cz"
      },
      "source": [
        "`if` ejecuta código si una condición **SÍ** se cumple"
      ]
    },
    {
      "cell_type": "code",
      "execution_count": null,
      "metadata": {
        "id": "czkqBil4G-cz"
      },
      "outputs": [],
      "source": [
        "age = 23"
      ]
    },
    {
      "cell_type": "code",
      "execution_count": null,
      "metadata": {
        "id": "0PVA3emmG-cz",
        "colab": {
          "base_uri": "https://localhost:8080/"
        },
        "outputId": "eda1a70c-d2c1-4776-bbe1-a3fd7bff4e1d"
      },
      "outputs": [
        {
          "output_type": "stream",
          "name": "stdout",
          "text": [
            "Pasa a la discoteca\n"
          ]
        }
      ],
      "source": [
        "if age > 18:\n",
        "    print(\"Pasa a la discoteca\")"
      ]
    },
    {
      "cell_type": "markdown",
      "metadata": {
        "id": "TXTRsWYTG-cz"
      },
      "source": [
        "Ojo a la indentación del código"
      ]
    },
    {
      "cell_type": "code",
      "execution_count": null,
      "metadata": {
        "id": "SKqJI_7_G-cz",
        "colab": {
          "base_uri": "https://localhost:8080/"
        },
        "outputId": "a4b48907-20c6-4e44-d609-2ccc62b72650"
      },
      "outputs": [
        {
          "output_type": "stream",
          "name": "stdout",
          "text": [
            "Pasa a la discoteca\n",
            "Hoy es sábado\n"
          ]
        }
      ],
      "source": [
        "if age > 18:\n",
        "    print(\"Pasa a la discoteca\")\n",
        "\n",
        "print(\"Hoy es sábado\")"
      ]
    },
    {
      "cell_type": "code",
      "execution_count": null,
      "metadata": {
        "id": "ThvMuTWZG-c0",
        "colab": {
          "base_uri": "https://localhost:8080/"
        },
        "outputId": "d23327f8-1f85-474f-8ba3-16c0a3ecf62e"
      },
      "outputs": [
        {
          "output_type": "stream",
          "name": "stdout",
          "text": [
            "Hoy es sábado\n"
          ]
        }
      ],
      "source": [
        "if age > 30:\n",
        "    print(\"Pasa a la zona VIP\")\n",
        "\n",
        "print(\"Hoy es sábado\")"
      ]
    },
    {
      "cell_type": "markdown",
      "metadata": {
        "id": "vRLJ3X3GG-c0"
      },
      "source": [
        "`else` es lo que se ejecuta si **NO** se cumple una condición `if`. Es opcional"
      ]
    },
    {
      "cell_type": "code",
      "execution_count": null,
      "metadata": {
        "id": "qOsP3AhwG-c0",
        "colab": {
          "base_uri": "https://localhost:8080/"
        },
        "outputId": "ea902e03-b1e5-4c5e-9b5b-1b73282306ff"
      },
      "outputs": [
        {
          "output_type": "stream",
          "name": "stdout",
          "text": [
            "Pasa a la discoteca\n"
          ]
        }
      ],
      "source": [
        "if age > 18:\n",
        "    print(\"Pasa a la discoteca\")\n",
        "else:\n",
        "    print(\"Vete a la discoteca light\")"
      ]
    },
    {
      "cell_type": "code",
      "execution_count": null,
      "metadata": {
        "id": "_E_1AfYCG-c0",
        "colab": {
          "base_uri": "https://localhost:8080/"
        },
        "outputId": "366db4f6-8f18-4dd4-d0ce-469c5ff9148c"
      },
      "outputs": [
        {
          "output_type": "stream",
          "name": "stdout",
          "text": [
            "No puedes pasar a la zona VIP\n"
          ]
        }
      ],
      "source": [
        "if age > 30:\n",
        "    print(\"Pasa a la zona VIP\")\n",
        "else:\n",
        "    print(\"No puedes pasar a la zona VIP\")"
      ]
    },
    {
      "cell_type": "markdown",
      "metadata": {
        "id": "TV_Kh5x3G-c0"
      },
      "source": [
        "Podríamos crear una lógica del siguiente tipo también:"
      ]
    },
    {
      "cell_type": "code",
      "execution_count": null,
      "metadata": {
        "id": "bBZEwji6G-c0",
        "colab": {
          "base_uri": "https://localhost:8080/"
        },
        "outputId": "8760b57b-f8a2-4d0d-ec61-dc3c83ef59eb"
      },
      "outputs": [
        {
          "output_type": "stream",
          "name": "stdout",
          "text": [
            "Pasa a la discoteca\n"
          ]
        }
      ],
      "source": [
        "if age > 30:\n",
        "    print(\"Pasa a la zona VIP\")\n",
        "else:\n",
        "    if age > 18:\n",
        "        print(\"Pasa a la discoteca\")\n",
        "    else:\n",
        "        print(\"Vete a la discoteca light\")"
      ]
    },
    {
      "cell_type": "markdown",
      "metadata": {
        "id": "7COf6SXzG-c0"
      },
      "source": [
        "`elif` permite simplificar lo anterior:"
      ]
    },
    {
      "cell_type": "code",
      "execution_count": null,
      "metadata": {
        "id": "tCDdfqnAG-c0",
        "colab": {
          "base_uri": "https://localhost:8080/"
        },
        "outputId": "771ffffa-e7a0-44a2-aea8-75d2d581fc5c"
      },
      "outputs": [
        {
          "output_type": "stream",
          "name": "stdout",
          "text": [
            "Pasa a la discoteca\n"
          ]
        }
      ],
      "source": [
        "if age > 30:\n",
        "    print(\"Pasa a la zona VIP\")\n",
        "elif age > 18:\n",
        "    print(\"Pasa a la discoteca\")\n",
        "else:\n",
        "    print(\"Vete a la discoteca light\")"
      ]
    },
    {
      "cell_type": "markdown",
      "metadata": {
        "id": "oLeK8D8dG-c0"
      },
      "source": [
        "**Ejercicio**: qué imprime el código siguiente?"
      ]
    },
    {
      "cell_type": "code",
      "execution_count": null,
      "metadata": {
        "id": "Wk_W_25BG-c0",
        "colab": {
          "base_uri": "https://localhost:8080/"
        },
        "outputId": "9967bf15-3924-4bf5-f694-1af85c259963"
      },
      "outputs": [
        {
          "output_type": "stream",
          "name": "stdout",
          "text": [
            "1\n",
            "3\n",
            "4\n",
            "5\n",
            "7\n"
          ]
        }
      ],
      "source": [
        "if 'foo' in ['foo', 'bar', 'baz']:\n",
        "    print(1)\n",
        "    if 10 > 20:\n",
        "        print(2)\n",
        "\n",
        "    print(3)\n",
        "\n",
        "    if 10 < 20:\n",
        "        print(4)\n",
        "\n",
        "    print(5)\n",
        "else:\n",
        "    print(6)\n",
        "\n",
        "print(7)"
      ]
    },
    {
      "cell_type": "markdown",
      "metadata": {
        "id": "ZnoE2s5OG-c0"
      },
      "source": [
        "**Ejercicio**: si una palabra empieza por **a**, la llamamos buena. Si empieza por **e**, la llamamos regular. En otro caso es mala. Escribe un condicional que imprima de qué tipo es una palabra"
      ]
    },
    {
      "cell_type": "code",
      "execution_count": null,
      "metadata": {
        "id": "hUGIhK1fG-c0"
      },
      "outputs": [],
      "source": [
        "palabra = \"Ecuador\""
      ]
    },
    {
      "cell_type": "code",
      "source": [
        "\n",
        "\n",
        "if \"a\" in [palabra[0]]:\n",
        "    print(\"buena\")\n",
        "elif \"E\" in [palabra[0]]:\n",
        "    print(\"regular\")\n",
        "else:\n",
        "    print(\"mala\")\n"
      ],
      "metadata": {
        "colab": {
          "base_uri": "https://localhost:8080/"
        },
        "id": "JozmBH400KbM",
        "outputId": "7e8be7c9-0f85-4c10-e3c4-6c39a6017ea1"
      },
      "execution_count": null,
      "outputs": [
        {
          "output_type": "stream",
          "name": "stdout",
          "text": [
            "regular\n"
          ]
        }
      ]
    },
    {
      "cell_type": "code",
      "source": [
        "\n",
        "\n",
        "if palabra[0] == 'a':\n",
        "    print('Buena')\n",
        "elif palabra[0] == 'E':\n",
        "    print('Regular')\n",
        "else:\n",
        "    print('Mala')"
      ],
      "metadata": {
        "colab": {
          "base_uri": "https://localhost:8080/"
        },
        "id": "Pw3vnRZ80NbH",
        "outputId": "e8968b9c-d26d-4c71-d003-b823ded78446"
      },
      "execution_count": null,
      "outputs": [
        {
          "output_type": "stream",
          "name": "stdout",
          "text": [
            "Regular\n"
          ]
        }
      ]
    },
    {
      "cell_type": "code",
      "source": [
        "if palabra.startswith(\"a\"):\n",
        "  print(\"Buena\")\n",
        "elif palabra.startswith(\"E\"):\n",
        "  print(\"regular\")\n",
        "else:\n",
        "  print(\"mala\")"
      ],
      "metadata": {
        "colab": {
          "base_uri": "https://localhost:8080/"
        },
        "id": "7itBCaH50dwN",
        "outputId": "4b3232d8-905d-4ddd-d5d1-cfeb6035a6ab"
      },
      "execution_count": null,
      "outputs": [
        {
          "output_type": "stream",
          "name": "stdout",
          "text": [
            "regular\n"
          ]
        }
      ]
    },
    {
      "cell_type": "markdown",
      "metadata": {
        "id": "EZpz734JGDhW"
      },
      "source": [
        "### break"
      ]
    },
    {
      "cell_type": "markdown",
      "metadata": {
        "id": "BL6n55FYGDhW"
      },
      "source": [
        "Podemos **parar** un bucle cuando consideremos necesario"
      ]
    },
    {
      "cell_type": "code",
      "execution_count": null,
      "metadata": {
        "id": "6U1xyzVeGDhW"
      },
      "outputs": [],
      "source": [
        "words = [\"algo\", \"Ecuador\", \"iglesia\", \"ornamento\", \"urgente\"]"
      ]
    },
    {
      "cell_type": "code",
      "execution_count": null,
      "metadata": {
        "id": "F2Jg3s9-GDhX",
        "colab": {
          "base_uri": "https://localhost:8080/"
        },
        "outputId": "83f63cf3-f82f-461a-b4e5-0279070cc75c"
      },
      "outputs": [
        {
          "output_type": "stream",
          "name": "stdout",
          "text": [
            "algo\n",
            "Ecuador\n",
            "iglesia\n",
            "word 'iglesia' contains letter 'e'!! We stop\n"
          ]
        }
      ],
      "source": [
        "for w in words:\n",
        "    print(w)\n",
        "\n",
        "    if \"e\" in w:\n",
        "        print(f\"word '{w}' contains letter 'e'!! We stop\")\n",
        "        break"
      ]
    },
    {
      "cell_type": "markdown",
      "metadata": {
        "id": "LGmqFUp7GDhZ"
      },
      "source": [
        "## Bucle while"
      ]
    },
    {
      "cell_type": "markdown",
      "metadata": {
        "id": "MUToKOV3GDhZ"
      },
      "source": [
        "Se utiliza para correr un bucle mientras se satisfaga una condición."
      ]
    },
    {
      "cell_type": "code",
      "execution_count": null,
      "metadata": {
        "id": "NzCT5FZ7GDhZ"
      },
      "outputs": [],
      "source": [
        "n = 8"
      ]
    },
    {
      "cell_type": "code",
      "execution_count": null,
      "metadata": {
        "id": "OYZbDNaoGDhZ",
        "colab": {
          "base_uri": "https://localhost:8080/"
        },
        "outputId": "37f81176-9387-4994-cf1b-2f8a6ca4128d"
      },
      "outputs": [
        {
          "output_type": "stream",
          "name": "stdout",
          "text": [
            "8\n",
            "11\n",
            "14\n",
            "17\n"
          ]
        }
      ],
      "source": [
        "while n < 20:\n",
        "    print(n)\n",
        "    n = n + 3"
      ]
    },
    {
      "cell_type": "markdown",
      "source": [
        "# Próxima Clase\n",
        "7. Funciones\n",
        "\n"
      ],
      "metadata": {
        "id": "uK43rBtCb6kx"
      }
    },
    {
      "cell_type": "code",
      "source": [],
      "metadata": {
        "id": "S8kSm9u-2azS"
      },
      "execution_count": null,
      "outputs": []
    }
  ]
}