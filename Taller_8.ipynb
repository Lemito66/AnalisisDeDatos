{
  "nbformat": 4,
  "nbformat_minor": 0,
  "metadata": {
    "colab": {
      "provenance": [],
      "include_colab_link": true
    },
    "kernelspec": {
      "name": "python3",
      "display_name": "Python 3"
    },
    "language_info": {
      "name": "python"
    }
  },
  "cells": [
    {
      "cell_type": "markdown",
      "metadata": {
        "id": "view-in-github",
        "colab_type": "text"
      },
      "source": [
        "<a href=\"https://colab.research.google.com/github/Lemito66/AnalisisDeDatos/blob/master/Taller_8.ipynb\" target=\"_parent\"><img src=\"https://colab.research.google.com/assets/colab-badge.svg\" alt=\"Open In Colab\"/></a>"
      ]
    },
    {
      "cell_type": "markdown",
      "source": [
        "# Controles de flujo"
      ],
      "metadata": {
        "id": "Kau4S-QgSuOu"
      }
    },
    {
      "cell_type": "markdown",
      "source": [
        "<div style=\"text-align: right\">por <a href=\"https://www.linkedin.com/in/angel-astudillo-aguilar\" target=\"_blank\">Angel Xavier Astudillo Aguilar</a></div>\n",
        "\n"
      ],
      "metadata": {
        "id": "lRagjYwaStoR"
      }
    },
    {
      "cell_type": "markdown",
      "source": [
        "\n",
        "# Recapitulación\n",
        "1. Presentación e introducción al entorno de Python\n",
        "2. Introducción a Python\n",
        "3. Variable y Tipos de datos más comunes\n",
        "4. Operadores aritméticos y textuales\n",
        "5. Control de flujo: bucles\n",
        "  - Tablas\n",
        "  - Ciclos for\n",
        "6. Control de flujo: condicionales"
      ],
      "metadata": {
        "id": "-YKxV0oNcMRa"
      }
    },
    {
      "cell_type": "markdown",
      "source": [
        "# Hoy veremos\n",
        "7. Funciones\n"
      ],
      "metadata": {
        "id": "eafF_MRkRg24"
      }
    },
    {
      "cell_type": "markdown",
      "metadata": {
        "id": "ec88e736"
      },
      "source": [
        "## Funciones conocidas"
      ]
    },
    {
      "cell_type": "code",
      "execution_count": null,
      "metadata": {
        "id": "2723a7e1"
      },
      "outputs": [],
      "source": [
        "len(\"table\")"
      ]
    },
    {
      "cell_type": "code",
      "execution_count": null,
      "metadata": {
        "id": "97a34ae5"
      },
      "outputs": [],
      "source": [
        "round(4.55)"
      ]
    },
    {
      "cell_type": "code",
      "execution_count": null,
      "metadata": {
        "id": "7c3eae23"
      },
      "outputs": [],
      "source": [
        "import math"
      ]
    },
    {
      "cell_type": "code",
      "execution_count": null,
      "metadata": {
        "id": "d8513def"
      },
      "outputs": [],
      "source": [
        "math.log10(1000)"
      ]
    },
    {
      "cell_type": "code",
      "execution_count": null,
      "metadata": {
        "id": "2db77d80"
      },
      "outputs": [],
      "source": [
        "math.cos(0)"
      ]
    },
    {
      "cell_type": "code",
      "execution_count": null,
      "metadata": {
        "id": "56abe400"
      },
      "outputs": [],
      "source": [
        "import random"
      ]
    },
    {
      "cell_type": "code",
      "execution_count": null,
      "metadata": {
        "id": "952e2622"
      },
      "outputs": [],
      "source": [
        "random.uniform(0, 5)"
      ]
    },
    {
      "cell_type": "markdown",
      "metadata": {
        "id": "2af77095"
      },
      "source": [
        "## Motivación"
      ]
    },
    {
      "cell_type": "markdown",
      "metadata": {
        "id": "6bda6735"
      },
      "source": [
        "**Ejercicio**: te dan un tiempo como un string en el formato `minutos:segundos`. Pásalo a segundos"
      ]
    },
    {
      "cell_type": "code",
      "execution_count": null,
      "metadata": {
        "id": "d0f67019"
      },
      "outputs": [],
      "source": [
        "t = \"17:04\""
      ]
    },
    {
      "cell_type": "markdown",
      "metadata": {
        "id": "ed40b16e"
      },
      "source": [
        "La **reusabilidad** es la principal motivación para crear funciones"
      ]
    },
    {
      "cell_type": "markdown",
      "source": [
        "Siguiendo la filosofía *DRY* (Don't Repeat Yourself). De esta manera, podríamos aplicar un **for** para reducir nuestro código y optimizarlo buscando no *repetir líneas de código*."
      ],
      "metadata": {
        "id": "a-GGXZX0sF4f"
      }
    },
    {
      "cell_type": "markdown",
      "metadata": {
        "id": "fef476ac"
      },
      "source": [
        "## Sintaxis básica y ejemplos"
      ]
    },
    {
      "cell_type": "markdown",
      "metadata": {
        "id": "1ba0fa66"
      },
      "source": [
        "Definición de una función:\n",
        "```python\n",
        "def function_name(parameter1, parameter2, ...):\n",
        "    code\n",
        "    \n",
        "    return something\n",
        "```"
      ]
    },
    {
      "cell_type": "markdown",
      "metadata": {
        "id": "95181d15"
      },
      "source": [
        "Ejecución de una función:  \n",
        "```python\n",
        "function_name(argument1, argument2, ...)\n",
        "```"
      ]
    },
    {
      "cell_type": "markdown",
      "metadata": {
        "id": "4b18c413"
      },
      "source": [
        "o, si quieres guardar el resultado en una variable:  \n",
        "```python\n",
        "result = function_name(argument1, argument2, ...)\n",
        "```"
      ]
    },
    {
      "cell_type": "code",
      "execution_count": null,
      "metadata": {
        "id": "ab8dfee6"
      },
      "outputs": [],
      "source": [
        "def square_number(x):\n",
        "    sq = x ** 2\n",
        "\n",
        "    return sq"
      ]
    },
    {
      "cell_type": "code",
      "execution_count": null,
      "metadata": {
        "id": "72ba5006"
      },
      "outputs": [],
      "source": [
        "square_number(10)"
      ]
    },
    {
      "cell_type": "code",
      "execution_count": null,
      "metadata": {
        "id": "05130f94"
      },
      "outputs": [],
      "source": [
        "square_number(4)"
      ]
    },
    {
      "cell_type": "markdown",
      "metadata": {
        "id": "e63a7139"
      },
      "source": [
        "**Ejercicio**: crea una función que una palabra y devuelva la primera letra en mayúscula"
      ]
    },
    {
      "cell_type": "code",
      "execution_count": 1,
      "metadata": {
        "id": "b4107821",
        "colab": {
          "base_uri": "https://localhost:8080/"
        },
        "outputId": "27de2ae0-002b-46f3-e9af-7992e051feb8"
      },
      "outputs": [
        {
          "output_type": "stream",
          "name": "stdout",
          "text": [
            "Emill\n"
          ]
        }
      ],
      "source": [
        "def upper_word(word):\n",
        "  return word.capitalize()\n",
        "\n",
        "print(upper_word(\"emill\"))"
      ]
    },
    {
      "cell_type": "markdown",
      "metadata": {
        "id": "d28564d1"
      },
      "source": [
        "**Ejercicio**: crea una función que coja un número y decida si es par"
      ]
    },
    {
      "cell_type": "code",
      "execution_count": null,
      "metadata": {
        "id": "f7ccdf10"
      },
      "outputs": [],
      "source": []
    },
    {
      "cell_type": "markdown",
      "metadata": {
        "id": "04c8fe86"
      },
      "source": [
        "**Ejercicio**: crea una función que coja un número y devuelva la suma desde 1 hasta ese número"
      ]
    },
    {
      "cell_type": "code",
      "execution_count": null,
      "metadata": {
        "id": "8fdc9d20"
      },
      "outputs": [],
      "source": []
    },
    {
      "cell_type": "markdown",
      "metadata": {
        "id": "5050c71e"
      },
      "source": [
        "## Funciones con varios argumentos"
      ]
    },
    {
      "cell_type": "code",
      "execution_count": null,
      "metadata": {
        "id": "fb095524"
      },
      "outputs": [],
      "source": [
        "def get_full_name(name, surname):\n",
        "    full_name = name + \" \" + surname\n",
        "\n",
        "    return full_name"
      ]
    },
    {
      "cell_type": "code",
      "execution_count": null,
      "metadata": {
        "id": "0b4541d8"
      },
      "outputs": [],
      "source": [
        "get_full_name(\"pedro\", \"giménez\")"
      ]
    },
    {
      "cell_type": "code",
      "execution_count": null,
      "metadata": {
        "id": "3171bc29"
      },
      "outputs": [],
      "source": [
        "get_full_name(\"mesa\", \"silla\")"
      ]
    },
    {
      "cell_type": "code",
      "execution_count": null,
      "metadata": {
        "id": "c90cc42e"
      },
      "outputs": [],
      "source": [
        "def get_highest_number(a, b):\n",
        "    if a > b:\n",
        "        return a\n",
        "    else:\n",
        "        return b"
      ]
    },
    {
      "cell_type": "code",
      "execution_count": null,
      "metadata": {
        "id": "1b1fb95b"
      },
      "outputs": [],
      "source": [
        "get_highest_number(10, 6)"
      ]
    },
    {
      "cell_type": "code",
      "execution_count": null,
      "metadata": {
        "id": "901b0e60"
      },
      "outputs": [],
      "source": [
        "get_highest_number(10, 60)"
      ]
    },
    {
      "cell_type": "markdown",
      "metadata": {
        "id": "d17fcec3"
      },
      "source": [
        "**Ejercicio**: crea una función que coja dos palabras y devuelva la más larga"
      ]
    },
    {
      "cell_type": "markdown",
      "metadata": {
        "id": "1ab431cc"
      },
      "source": [
        "**Ejercicio**: cscribe una función que tome dos listas como argumentos y devuelva una nueva lista que contenga sólo los elementos comunes a ambas listas"
      ]
    },
    {
      "cell_type": "markdown",
      "metadata": {
        "id": "dcb3d38a"
      },
      "source": [
        "## Funciones sin argumentos"
      ]
    },
    {
      "cell_type": "code",
      "execution_count": null,
      "metadata": {
        "id": "4b3e355c"
      },
      "outputs": [],
      "source": [
        "def give_me_a_one():\n",
        "    return 1"
      ]
    },
    {
      "cell_type": "markdown",
      "metadata": {
        "id": "28cc5487"
      },
      "source": [
        "**Example**: build a function that returns the current weekday from 1 (Monday) to 7 (Sunday)"
      ]
    },
    {
      "cell_type": "code",
      "execution_count": null,
      "metadata": {
        "id": "034e75f0"
      },
      "outputs": [],
      "source": [
        "from datetime import datetime"
      ]
    },
    {
      "cell_type": "code",
      "execution_count": null,
      "metadata": {
        "id": "cc2d676f"
      },
      "outputs": [],
      "source": [
        "datetime.today().weekday()"
      ]
    },
    {
      "cell_type": "code",
      "execution_count": null,
      "metadata": {
        "id": "401e8bce"
      },
      "outputs": [],
      "source": [
        "def today_weekday():\n",
        "    return datetime.today().weekday()"
      ]
    },
    {
      "cell_type": "code",
      "execution_count": null,
      "metadata": {
        "id": "2ea0e71f"
      },
      "outputs": [],
      "source": [
        "today_weekday()"
      ]
    },
    {
      "cell_type": "markdown",
      "metadata": {
        "id": "230d8d60"
      },
      "source": [
        "**Ejercicio**: crea una función que devuelva el día de la semana literal (la palabra)"
      ]
    },
    {
      "cell_type": "markdown",
      "metadata": {
        "id": "nweLyLWlsjoC"
      },
      "source": [
        "## Funciones sin `return`"
      ]
    },
    {
      "cell_type": "code",
      "execution_count": null,
      "metadata": {
        "id": "GuRzXJ5ksjoC"
      },
      "outputs": [],
      "source": [
        "def dummy_function(a):\n",
        "    b = a * 2"
      ]
    },
    {
      "cell_type": "code",
      "execution_count": null,
      "metadata": {
        "id": "cU7SAvSKsjoC"
      },
      "outputs": [],
      "source": [
        "dummy_function(10)"
      ]
    },
    {
      "cell_type": "code",
      "execution_count": null,
      "metadata": {
        "id": "2y7wEveRsjoC"
      },
      "outputs": [],
      "source": [
        "def say_hello():\n",
        "    print(\"Hello!\")\n",
        "    # no return"
      ]
    },
    {
      "cell_type": "code",
      "execution_count": null,
      "metadata": {
        "scrolled": true,
        "id": "nBb0_xdSsjoC"
      },
      "outputs": [],
      "source": [
        "say_hello()"
      ]
    },
    {
      "cell_type": "code",
      "execution_count": null,
      "metadata": {
        "id": "HcmNmsVwsjoD"
      },
      "outputs": [],
      "source": [
        "result = say_hello()"
      ]
    },
    {
      "cell_type": "code",
      "execution_count": null,
      "metadata": {
        "id": "mB8EbprTsjoD"
      },
      "outputs": [],
      "source": [
        "result"
      ]
    },
    {
      "cell_type": "code",
      "execution_count": null,
      "metadata": {
        "id": "qVV3yj_csjoD"
      },
      "outputs": [],
      "source": [
        "result is None"
      ]
    },
    {
      "cell_type": "code",
      "execution_count": null,
      "metadata": {
        "id": "zV7lUyN4sjoE"
      },
      "outputs": [],
      "source": [
        "type(result)"
      ]
    },
    {
      "cell_type": "code",
      "execution_count": null,
      "metadata": {
        "id": "ix-0aKkKsjoE"
      },
      "outputs": [],
      "source": [
        "# real use case\n",
        "def insert_user(db_conn, user_name, user_age):\n",
        "    upper_user_name = user_name.upper()\n",
        "    db_conn.insert(upper_user_name, user_age)"
      ]
    },
    {
      "cell_type": "code",
      "execution_count": null,
      "metadata": {
        "id": "-9jZ3eSmsjoE"
      },
      "outputs": [],
      "source": [
        "def say_hello():\n",
        "    print(\"Hello!\")"
      ]
    },
    {
      "cell_type": "code",
      "execution_count": null,
      "metadata": {
        "scrolled": false,
        "id": "c9m6AemUsjoE"
      },
      "outputs": [],
      "source": [
        "no_return = say_hello()"
      ]
    },
    {
      "cell_type": "code",
      "execution_count": null,
      "metadata": {
        "id": "D9tQRB-CsjoE"
      },
      "outputs": [],
      "source": [
        "type(no_return)"
      ]
    },
    {
      "cell_type": "code",
      "execution_count": null,
      "metadata": {
        "id": "cxpvHKxOsjoE"
      },
      "outputs": [],
      "source": [
        "def say_hello():\n",
        "    print(\"Hello!\")\n",
        "    pass"
      ]
    },
    {
      "cell_type": "code",
      "execution_count": null,
      "metadata": {
        "scrolled": true,
        "id": "KbIZxpIGsjoE"
      },
      "outputs": [],
      "source": [
        "pass_return = say_hello()"
      ]
    },
    {
      "cell_type": "code",
      "execution_count": null,
      "metadata": {
        "id": "gcwRq4fFsjoF"
      },
      "outputs": [],
      "source": [
        "type(pass_return)"
      ]
    },
    {
      "cell_type": "code",
      "execution_count": null,
      "metadata": {
        "id": "5KLr0HsbsjoF"
      },
      "outputs": [],
      "source": [
        "def say_hello():\n",
        "    print(\"Hello!\")\n",
        "    return"
      ]
    },
    {
      "cell_type": "code",
      "execution_count": null,
      "metadata": {
        "scrolled": true,
        "id": "qrHLX4cMsjoF"
      },
      "outputs": [],
      "source": [
        "empty_return = say_hello()"
      ]
    },
    {
      "cell_type": "code",
      "execution_count": null,
      "metadata": {
        "id": "ZzzFOqoOsjoF"
      },
      "outputs": [],
      "source": [
        "type(empty_return)"
      ]
    },
    {
      "cell_type": "code",
      "execution_count": null,
      "metadata": {
        "id": "WogH9ZgtsjoF"
      },
      "outputs": [],
      "source": [
        "def say_hello():\n",
        "    print(\"Hello!\")\n",
        "    return None"
      ]
    },
    {
      "cell_type": "code",
      "execution_count": null,
      "metadata": {
        "scrolled": true,
        "id": "S6p2bVXCsjoF"
      },
      "outputs": [],
      "source": [
        "none_return = say_hello()"
      ]
    },
    {
      "cell_type": "code",
      "execution_count": null,
      "metadata": {
        "id": "dBGQANDxsjoF"
      },
      "outputs": [],
      "source": [
        "type(none_return)"
      ]
    },
    {
      "cell_type": "markdown",
      "metadata": {
        "id": "xf5F5cyFsjoG"
      },
      "source": [
        "DRY = Don't Repeat Yourself"
      ]
    },
    {
      "cell_type": "markdown",
      "metadata": {
        "id": "9a76a398"
      },
      "source": [
        "## Funciones con varios `return`"
      ]
    },
    {
      "cell_type": "markdown",
      "metadata": {
        "id": "fee4c795"
      },
      "source": [
        "**NOTA**: Una función puede tener varios `return`. Cuando el primero se ejecuta, la función termina para siempre"
      ]
    },
    {
      "cell_type": "code",
      "execution_count": null,
      "metadata": {
        "id": "7423aec3"
      },
      "outputs": [],
      "source": [
        "def rare_function(x):\n",
        "    print(\"empezamos\")\n",
        "    return x * 2\n",
        "    print(\"no llegamos\")\n",
        "    return x * 3\n",
        "    print(\"no llegamos tampoco\")"
      ]
    },
    {
      "cell_type": "code",
      "execution_count": null,
      "metadata": {
        "id": "5df5d781"
      },
      "outputs": [],
      "source": [
        "rare_function(100)"
      ]
    },
    {
      "cell_type": "markdown",
      "metadata": {
        "id": "g8oXxaMZsjoG"
      },
      "source": [
        "**Example**: Escribe una función que tenga de entra un número. Si es par la función devuelve el cuadro del argumento y si es impar devuelve el cubo del argumento."
      ]
    },
    {
      "cell_type": "markdown",
      "metadata": {
        "id": "173a34f0"
      },
      "source": [
        "## Documentación de funciones"
      ]
    },
    {
      "cell_type": "markdown",
      "metadata": {
        "id": "0adbbf8c"
      },
      "source": [
        "El código se escribe 1 vez.  \n",
        "El código se lee 100 veces.  \n",
        "Ayuda a tus colegas a entender tu trabajo."
      ]
    },
    {
      "cell_type": "code",
      "execution_count": null,
      "metadata": {
        "id": "11cd0cfa"
      },
      "outputs": [],
      "source": [
        "def square_number(x):\n",
        "    \"\"\"\n",
        "    Returns the square of a given number\n",
        "    Args:\n",
        "        x (float): number to square\n",
        "    Returns:\n",
        "        float: number squared\n",
        "    \"\"\"\n",
        "    return x ** 2"
      ]
    },
    {
      "cell_type": "code",
      "execution_count": null,
      "metadata": {
        "id": "3a61cc0d"
      },
      "outputs": [],
      "source": [
        "square_number(8)"
      ]
    },
    {
      "cell_type": "code",
      "execution_count": null,
      "metadata": {
        "id": "3997b404"
      },
      "outputs": [],
      "source": [
        "square_number?"
      ]
    },
    {
      "cell_type": "markdown",
      "metadata": {
        "id": "f36b5a78"
      },
      "source": [
        "## Argumentos por defecto"
      ]
    },
    {
      "cell_type": "markdown",
      "metadata": {
        "id": "2d00e0a2"
      },
      "source": [
        "Una función puede tener argumentos por defecto: no es preciso pasarlos al llamar a la función."
      ]
    },
    {
      "cell_type": "code",
      "execution_count": null,
      "metadata": {
        "id": "3509b6b9"
      },
      "outputs": [],
      "source": [
        "round(1.778)"
      ]
    },
    {
      "cell_type": "code",
      "execution_count": null,
      "metadata": {
        "id": "d1782f0f"
      },
      "outputs": [],
      "source": [
        "round(1.778, 1)"
      ]
    },
    {
      "cell_type": "code",
      "execution_count": null,
      "metadata": {
        "id": "e1e3fc10"
      },
      "outputs": [],
      "source": [
        "def repeat(phrase, n=2):\n",
        "    \"\"\"\n",
        "    Prints given phrase a number of times\n",
        "    Args:\n",
        "        phrase (str): phrase to print\n",
        "        n (int): number of times to print. Defaults to 2.\n",
        "\n",
        "    Returns:\n",
        "        None\n",
        "    \"\"\"\n",
        "    for _ in range(n):\n",
        "        print(phrase)"
      ]
    },
    {
      "cell_type": "code",
      "execution_count": null,
      "metadata": {
        "id": "5e75b9ff"
      },
      "outputs": [],
      "source": [
        "repeat(\"hola\", 4)"
      ]
    },
    {
      "cell_type": "code",
      "execution_count": null,
      "metadata": {
        "id": "09e7a02e"
      },
      "outputs": [],
      "source": [
        "repeat(\"hola\")"
      ]
    },
    {
      "cell_type": "markdown",
      "metadata": {
        "id": "afeb837b"
      },
      "source": [
        "**Ejercicio**: crea una función que coja 2 números y los multiplique"
      ]
    },
    {
      "cell_type": "markdown",
      "metadata": {
        "id": "0440a2fc"
      },
      "source": [
        "**Ejercicio**: crea una función que coja 3 números y los multiplique"
      ]
    },
    {
      "cell_type": "markdown",
      "source": [
        "**Crea una función que decida si un número entero es múltiplo de 10.**"
      ],
      "metadata": {
        "id": "uHyQiAOWrant"
      }
    },
    {
      "cell_type": "markdown",
      "source": [
        "**Crea una función que, dado un número, devuelva el número de divisores que tiene.**"
      ],
      "metadata": {
        "id": "K0UC6lFlrak2"
      }
    },
    {
      "cell_type": "markdown",
      "source": [
        "**Crea una función que decida si un número es [primo](https://es.wikipedia.org/wiki/N%C3%BAmero_primo).**"
      ],
      "metadata": {
        "id": "7trKQ-qAraio"
      }
    },
    {
      "cell_type": "markdown",
      "source": [
        "# Próxima Clase\n",
        " 8. Librerías en Python\n",
        " 9. Pandas para el análisis de datos\n",
        " 10. Análisis de datos\n",
        "\n"
      ],
      "metadata": {
        "id": "uK43rBtCb6kx"
      }
    },
    {
      "cell_type": "code",
      "source": [],
      "metadata": {
        "id": "S8kSm9u-2azS"
      },
      "execution_count": null,
      "outputs": []
    }
  ]
}