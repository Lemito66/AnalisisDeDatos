{
  "cells": [
    {
      "cell_type": "markdown",
      "metadata": {
        "colab_type": "text",
        "id": "view-in-github"
      },
      "source": [
        "<a href=\"https://colab.research.google.com/github/Lemito66/AnalisisDeDatos/blob/master/Taller_9.ipynb\" target=\"_parent\"><img src=\"https://colab.research.google.com/assets/colab-badge.svg\" alt=\"Open In Colab\"/></a>"
      ]
    },
    {
      "cell_type": "markdown",
      "metadata": {
        "id": "Kau4S-QgSuOu"
      },
      "source": [
        "# Librerías y Pandas"
      ]
    },
    {
      "cell_type": "markdown",
      "metadata": {
        "id": "lRagjYwaStoR"
      },
      "source": [
        "<div style=\"text-align: right\">por <a href=\"https://www.linkedin.com/in/angel-astudillo-aguilar\" target=\"_blank\">Angel Xavier Astudillo Aguilar</a></div>\n",
        "\n"
      ]
    },
    {
      "cell_type": "markdown",
      "metadata": {
        "id": "-YKxV0oNcMRa"
      },
      "source": [
        "\n",
        "## Recapitulación\n",
        "1. Presentación e introducción al entorno de Python\n",
        "2. Introducción a Python\n",
        "3. Variable y Tipos de datos más comunes\n",
        "4. Operadores aritméticos y textuales\n",
        "5. Control de flujo: bucles\n",
        "6. Control de flujo: condicionales\n",
        "7. Funciones\n"
      ]
    },
    {
      "cell_type": "markdown",
      "metadata": {
        "id": "eafF_MRkRg24"
      },
      "source": [
        "## Hoy veremos\n",
        " 8. Librerías en Python\n",
        " 9. Pandas para el análisis de datos\n",
        " 10. Análisis de datos\n",
        "\n"
      ]
    },
    {
      "cell_type": "markdown",
      "metadata": {
        "id": "ec88e736"
      },
      "source": [
        "## Librerías en Python"
      ]
    },
    {
      "cell_type": "markdown",
      "metadata": {
        "id": "yWEGio9Wuc6O"
      },
      "source": [
        "Normally, a library is a collection of books or is a room or place where many books are stored to be used later. Similarly, in the programming world, a library is a collection of precompiled codes that can be used later on in a program for some specific well-defined operations. Other than pre-compiled codes, a library may contain documentation, configuration data, message templates, classes, and values, etc.\n",
        "\n",
        "A Python library is a collection of related modules. It contains bundles of code that can be used repeatedly in different programs. It makes Python Programming simpler and convenient for the programmer. As we don’t need to write the same code again and again for different programs. Python libraries play a very vital role in fields of Machine Learning, Data Science, Data Visualization, etc."
      ]
    },
    {
      "cell_type": "markdown",
      "metadata": {
        "id": "QSpCNI_luenF"
      },
      "source": [
        "### ¿Cómo ver las librerías que tengo instaladas?"
      ]
    },
    {
      "cell_type": "code",
      "execution_count": null,
      "metadata": {
        "id": "e9TaMzY7ujlO"
      },
      "outputs": [],
      "source": [
        "! pip list"
      ]
    },
    {
      "cell_type": "markdown",
      "metadata": {
        "id": "TE_K2oI2ulS-"
      },
      "source": [
        "### ¿Cómo instalar una librería?"
      ]
    },
    {
      "cell_type": "code",
      "execution_count": null,
      "metadata": {
        "id": "5Mj3WPRdukw2"
      },
      "outputs": [],
      "source": [
        "! pip install <Nombre de la libraría>"
      ]
    },
    {
      "cell_type": "markdown",
      "metadata": {
        "id": "uRkf5OnIuyfd"
      },
      "source": [
        "### ¿Cómo actualiar una librería?"
      ]
    },
    {
      "cell_type": "code",
      "execution_count": null,
      "metadata": {
        "id": "CAM3yg5auxs2"
      },
      "outputs": [],
      "source": [
        "! pip install <Nombre de la libraría>"
      ]
    },
    {
      "cell_type": "markdown",
      "metadata": {
        "id": "dpXdOiskvbxt"
      },
      "source": [
        "## Pandas"
      ]
    },
    {
      "cell_type": "markdown",
      "metadata": {
        "id": "aD3BW0xQvlAO"
      },
      "source": [
        "### Diccionarios en Python"
      ]
    },
    {
      "cell_type": "markdown",
      "metadata": {
        "id": "ZhZqHsKUvzdV"
      },
      "source": [
        "#### ¿Cómo crear un diccionario?"
      ]
    },
    {
      "cell_type": "code",
      "execution_count": null,
      "metadata": {
        "id": "lZUZdYEGv3VG"
      },
      "outputs": [],
      "source": [
        "diccionario = {\"clave1\":\"valor1\", \"clave2\":\"valor2\"}"
      ]
    },
    {
      "cell_type": "code",
      "execution_count": null,
      "metadata": {
        "colab": {
          "base_uri": "https://localhost:8080/"
        },
        "id": "7uVpG7Wk6CK_",
        "outputId": "95e36646-0222-47c1-80b3-d37409c997b4"
      },
      "outputs": [
        {
          "data": {
            "text/plain": [
              "{'clave1': 'valor3', 'clave2': 'valor2', 'clave3': 'valor3'}"
            ]
          },
          "execution_count": 7,
          "metadata": {},
          "output_type": "execute_result"
        }
      ],
      "source": [
        "diccionario"
      ]
    },
    {
      "cell_type": "markdown",
      "metadata": {
        "id": "cqpaptryv4Jf"
      },
      "source": [
        " #### ¿Cómo acceder a los elementos del diccionario?"
      ]
    },
    {
      "cell_type": "code",
      "execution_count": null,
      "metadata": {
        "colab": {
          "base_uri": "https://localhost:8080/"
        },
        "id": "QvlLavF8wAE5",
        "outputId": "f247ddc8-acbf-44e7-80b8-c0441ff70e45"
      },
      "outputs": [
        {
          "name": "stdout",
          "output_type": "stream",
          "text": [
            "valor1\n"
          ]
        }
      ],
      "source": [
        "print(diccionario[\"clave1\"])"
      ]
    },
    {
      "cell_type": "markdown",
      "metadata": {
        "id": "EdCNWxYnc6Yd"
      },
      "source": [
        "#### ¿Cómo modificar el diccionario?"
      ]
    },
    {
      "cell_type": "markdown",
      "metadata": {
        "id": "NbbYhn28dRpJ"
      },
      "source": [
        "##### Añadir/cambiar un elemento"
      ]
    },
    {
      "cell_type": "code",
      "execution_count": null,
      "metadata": {
        "id": "5kYpmPX78fvd"
      },
      "outputs": [],
      "source": [
        "diccionario[\"clave3\"] = \"valor3\""
      ]
    },
    {
      "cell_type": "code",
      "execution_count": null,
      "metadata": {
        "colab": {
          "base_uri": "https://localhost:8080/"
        },
        "id": "7SZQ7Rc3fDs4",
        "outputId": "de21ff94-2d62-4b98-932a-a8b8e79ab9e8"
      },
      "outputs": [
        {
          "data": {
            "text/plain": [
              "{'clave1': 'valor1', 'clave2': 'valor2', 'clave3': 'valor3'}"
            ]
          },
          "execution_count": 4,
          "metadata": {},
          "output_type": "execute_result"
        }
      ],
      "source": [
        "diccionario"
      ]
    },
    {
      "cell_type": "code",
      "execution_count": null,
      "metadata": {
        "id": "kwXriV_kfFEq"
      },
      "outputs": [],
      "source": [
        "diccionario[\"clave1\"] = \"valor3\""
      ]
    },
    {
      "cell_type": "code",
      "execution_count": null,
      "metadata": {
        "colab": {
          "base_uri": "https://localhost:8080/"
        },
        "id": "cgDPRWx55_ht",
        "outputId": "f105c4a2-ca02-4d31-8f23-09bdcbe4cd55"
      },
      "outputs": [
        {
          "data": {
            "text/plain": [
              "{'clave1': 'valor3', 'clave2': 'valor2', 'clave3': 'valor3'}"
            ]
          },
          "execution_count": 6,
          "metadata": {},
          "output_type": "execute_result"
        }
      ],
      "source": [
        "diccionario"
      ]
    },
    {
      "cell_type": "markdown",
      "metadata": {
        "id": "v8NaRNZ9e5dR"
      },
      "source": [
        "##### Eliminar un elemento"
      ]
    },
    {
      "cell_type": "code",
      "execution_count": null,
      "metadata": {
        "colab": {
          "base_uri": "https://localhost:8080/",
          "height": 35
        },
        "id": "l2frPuIKe7bg",
        "outputId": "d9083d26-b0f9-445f-8d6b-603b55382219"
      },
      "outputs": [
        {
          "data": {
            "application/vnd.google.colaboratory.intrinsic+json": {
              "type": "string"
            },
            "text/plain": [
              "'valor2'"
            ]
          },
          "execution_count": 8,
          "metadata": {},
          "output_type": "execute_result"
        }
      ],
      "source": [
        "diccionario.pop(\"clave2\")"
      ]
    },
    {
      "cell_type": "code",
      "execution_count": null,
      "metadata": {
        "colab": {
          "base_uri": "https://localhost:8080/"
        },
        "id": "aV94qjRC6H-v",
        "outputId": "94741903-0c0e-41d9-8963-7b1841c2b16c"
      },
      "outputs": [
        {
          "data": {
            "text/plain": [
              "{'clave1': 'valor3', 'clave3': 'valor3'}"
            ]
          },
          "execution_count": 11,
          "metadata": {},
          "output_type": "execute_result"
        }
      ],
      "source": [
        "diccionario"
      ]
    },
    {
      "cell_type": "code",
      "execution_count": null,
      "metadata": {
        "colab": {
          "base_uri": "https://localhost:8080/",
          "height": 169
        },
        "id": "GXCKldMRfYRA",
        "outputId": "c668e721-d99c-4059-b5e7-705e9632b4ec"
      },
      "outputs": [
        {
          "ename": "KeyError",
          "evalue": "ignored",
          "output_type": "error",
          "traceback": [
            "\u001b[0;31m---------------------------------------------------------------------------\u001b[0m",
            "\u001b[0;31mKeyError\u001b[0m                                  Traceback (most recent call last)",
            "\u001b[0;32m<ipython-input-9-9d9fffe179b2>\u001b[0m in \u001b[0;36m<cell line: 1>\u001b[0;34m()\u001b[0m\n\u001b[0;32m----> 1\u001b[0;31m \u001b[0mdiccionario\u001b[0m\u001b[0;34m.\u001b[0m\u001b[0mpop\u001b[0m\u001b[0;34m(\u001b[0m\u001b[0;34m\"clave4\"\u001b[0m\u001b[0;34m)\u001b[0m\u001b[0;34m\u001b[0m\u001b[0;34m\u001b[0m\u001b[0m\n\u001b[0m",
            "\u001b[0;31mKeyError\u001b[0m: 'clave4'"
          ]
        }
      ],
      "source": [
        "diccionario.pop(\"clave4\")"
      ]
    },
    {
      "cell_type": "code",
      "execution_count": null,
      "metadata": {
        "colab": {
          "base_uri": "https://localhost:8080/",
          "height": 35
        },
        "id": "fKd_dnFCfZaR",
        "outputId": "747ca066-7e54-47d3-c482-c1f40bfc2df0"
      },
      "outputs": [
        {
          "data": {
            "application/vnd.google.colaboratory.intrinsic+json": {
              "type": "string"
            },
            "text/plain": [
              "'no existe'"
            ]
          },
          "execution_count": 10,
          "metadata": {},
          "output_type": "execute_result"
        }
      ],
      "source": [
        "diccionario.pop(\"clave4\", \"no existe\")"
      ]
    },
    {
      "cell_type": "code",
      "execution_count": null,
      "metadata": {
        "colab": {
          "base_uri": "https://localhost:8080/"
        },
        "id": "uPNdr1_m50SG",
        "outputId": "5ba03b2c-1bc6-4917-fa65-c427efa68958"
      },
      "outputs": [
        {
          "data": {
            "text/plain": [
              "('clave3', 'valor3')"
            ]
          },
          "execution_count": 12,
          "metadata": {},
          "output_type": "execute_result"
        }
      ],
      "source": [
        "diccionario.popitem()"
      ]
    },
    {
      "cell_type": "code",
      "execution_count": null,
      "metadata": {
        "colab": {
          "base_uri": "https://localhost:8080/"
        },
        "id": "u53Pliek6K5u",
        "outputId": "fa6dfb85-e384-48b9-f133-4a4d24576552"
      },
      "outputs": [
        {
          "data": {
            "text/plain": [
              "{'clave1': 'valor3'}"
            ]
          },
          "execution_count": 13,
          "metadata": {},
          "output_type": "execute_result"
        }
      ],
      "source": [
        "diccionario"
      ]
    },
    {
      "cell_type": "code",
      "execution_count": null,
      "metadata": {
        "colab": {
          "base_uri": "https://localhost:8080/"
        },
        "id": "bYracNGA51Lo",
        "outputId": "8bb0054f-0bfd-446c-a15b-420c69067977"
      },
      "outputs": [
        {
          "data": {
            "text/plain": [
              "('clave1', 'valor3')"
            ]
          },
          "execution_count": 14,
          "metadata": {},
          "output_type": "execute_result"
        }
      ],
      "source": [
        "diccionario.popitem()"
      ]
    },
    {
      "cell_type": "code",
      "execution_count": null,
      "metadata": {
        "colab": {
          "base_uri": "https://localhost:8080/"
        },
        "id": "eSBPNCyJ6Mom",
        "outputId": "7238fa63-23bf-4d8b-94cd-d41a6692b9df"
      },
      "outputs": [
        {
          "data": {
            "text/plain": [
              "{}"
            ]
          },
          "execution_count": 15,
          "metadata": {},
          "output_type": "execute_result"
        }
      ],
      "source": [
        "diccionario"
      ]
    },
    {
      "cell_type": "code",
      "execution_count": null,
      "metadata": {
        "colab": {
          "base_uri": "https://localhost:8080/",
          "height": 169
        },
        "id": "ow6aEguA6Nys",
        "outputId": "e1550dbb-e1c9-4b3a-b2f0-8ac329d4f124"
      },
      "outputs": [
        {
          "ename": "KeyError",
          "evalue": "ignored",
          "output_type": "error",
          "traceback": [
            "\u001b[0;31m---------------------------------------------------------------------------\u001b[0m",
            "\u001b[0;31mKeyError\u001b[0m                                  Traceback (most recent call last)",
            "\u001b[0;32m<ipython-input-16-2c126ba3b259>\u001b[0m in \u001b[0;36m<cell line: 1>\u001b[0;34m()\u001b[0m\n\u001b[0;32m----> 1\u001b[0;31m \u001b[0mdiccionario\u001b[0m\u001b[0;34m.\u001b[0m\u001b[0mpopitem\u001b[0m\u001b[0;34m(\u001b[0m\u001b[0;34m)\u001b[0m\u001b[0;34m\u001b[0m\u001b[0;34m\u001b[0m\u001b[0m\n\u001b[0m",
            "\u001b[0;31mKeyError\u001b[0m: 'popitem(): dictionary is empty'"
          ]
        }
      ],
      "source": [
        "diccionario.popitem()"
      ]
    },
    {
      "cell_type": "code",
      "execution_count": null,
      "metadata": {
        "colab": {
          "base_uri": "https://localhost:8080/"
        },
        "id": "j-Kca9QC6aJN",
        "outputId": "f8e1c31f-dac5-48ec-b66d-1294435f87b7"
      },
      "outputs": [
        {
          "data": {
            "text/plain": [
              "{'clave1': 'valor1', 'clave2': 'valor2'}"
            ]
          },
          "execution_count": 17,
          "metadata": {},
          "output_type": "execute_result"
        }
      ],
      "source": [
        "diccionario = {\"clave1\":\"valor1\", \"clave2\":\"valor2\"}\n",
        "diccionario"
      ]
    },
    {
      "cell_type": "markdown",
      "metadata": {
        "id": "e705ab2c"
      },
      "source": [
        "<img width=600 src=\"https://www.adictosaltrabajo.com/wp-content/uploads/2020/12/1200px-Pandas_logo.svg_.png\">"
      ]
    },
    {
      "cell_type": "markdown",
      "metadata": {
        "id": "67af7280"
      },
      "source": [
        "### Intro"
      ]
    },
    {
      "cell_type": "markdown",
      "metadata": {
        "id": "3651abb5"
      },
      "source": [
        "`pandas` es la librería de Python **más utilizada** para el análisis de datos. Es:\n",
        " * rápida\n",
        " * potente\n",
        " * flexible\n",
        " * fácil de usar\n",
        " * de código abierto ([ver código fuente](https://github.com/pandas-dev/pandas))"
      ]
    },
    {
      "cell_type": "markdown",
      "metadata": {
        "id": "20bdfeb6"
      },
      "source": [
        "[Documentación de pandas](https://pandas.pydata.org/docs/reference/index.html#api)"
      ]
    },
    {
      "cell_type": "markdown",
      "metadata": {
        "id": "bf957158"
      },
      "source": [
        "`pandas` nos ayuda en gran parte de nuestras actividades como Data Scientists"
      ]
    },
    {
      "cell_type": "markdown",
      "metadata": {
        "id": "fantastic-steps"
      },
      "source": [
        "### Instalación"
      ]
    },
    {
      "cell_type": "code",
      "execution_count": null,
      "metadata": {
        "id": "45ce77d8"
      },
      "outputs": [],
      "source": [
        "! pip install pandas"
      ]
    },
    {
      "cell_type": "code",
      "execution_count": 4,
      "metadata": {
        "id": "psychological-theorem"
      },
      "outputs": [],
      "source": [
        "import pandas as pd"
      ]
    },
    {
      "cell_type": "markdown",
      "metadata": {
        "id": "explicit-harvest"
      },
      "source": [
        "### Estructuras de datos de pandas"
      ]
    },
    {
      "cell_type": "markdown",
      "metadata": {
        "id": "0ebf4ef3"
      },
      "source": [
        "#### Series"
      ]
    },
    {
      "cell_type": "markdown",
      "metadata": {
        "id": "angry-hamburg"
      },
      "source": [
        "Una `pd.Series` es un objeto tipo array **unidimensional** donde cada elemento tiene un nombre (índice, no necesariamente numérico)"
      ]
    },
    {
      "cell_type": "code",
      "execution_count": null,
      "metadata": {
        "id": "beautiful-stylus"
      },
      "outputs": [],
      "source": [
        "s = pd.Series([7, 18, 22, 4], index=[\"Juan\", \"Emilio\", \"Rosa\", \"Tania\"])"
      ]
    },
    {
      "cell_type": "code",
      "execution_count": null,
      "metadata": {
        "id": "4a600f20"
      },
      "outputs": [],
      "source": [
        "s"
      ]
    },
    {
      "cell_type": "code",
      "execution_count": null,
      "metadata": {
        "id": "419bad02"
      },
      "outputs": [],
      "source": [
        "type(s)"
      ]
    },
    {
      "cell_type": "code",
      "execution_count": null,
      "metadata": {
        "id": "2c7e2b01"
      },
      "outputs": [],
      "source": [
        "s.index"
      ]
    },
    {
      "cell_type": "code",
      "execution_count": null,
      "metadata": {
        "id": "waiting-lodge"
      },
      "outputs": [],
      "source": [
        "s.values"
      ]
    },
    {
      "cell_type": "code",
      "execution_count": null,
      "metadata": {
        "id": "a626b65f"
      },
      "outputs": [],
      "source": [
        "s[\"Juan\"]"
      ]
    },
    {
      "cell_type": "markdown",
      "metadata": {
        "id": "educated-tourism"
      },
      "source": [
        "Podemos pensar en una `pd.Series` como un `dict` ordenado, pues mapea cada índice a un valor\n",
        "\n",
        "`pandas` es muy inteligente, y si tienes datos contenidos en un `dict` de Python, puedes crear una `pd.Series` fácilmente."
      ]
    },
    {
      "cell_type": "code",
      "execution_count": 6,
      "metadata": {
        "id": "incorrect-washington"
      },
      "outputs": [],
      "source": [
        "pop = {'Ohio': 35000, 'Texas': 71000, 'Oregon': 16000, 'Utah': 5000}"
      ]
    },
    {
      "cell_type": "code",
      "execution_count": null,
      "metadata": {
        "id": "e507f5de"
      },
      "outputs": [],
      "source": [
        "pop"
      ]
    },
    {
      "cell_type": "code",
      "execution_count": null,
      "metadata": {
        "id": "8b2427bd"
      },
      "outputs": [],
      "source": [
        "pop[\"Ohio\"]"
      ]
    },
    {
      "cell_type": "code",
      "execution_count": null,
      "metadata": {
        "id": "ad23b535"
      },
      "outputs": [],
      "source": [
        "type(pop)"
      ]
    },
    {
      "cell_type": "code",
      "execution_count": 7,
      "metadata": {
        "id": "human-civilian"
      },
      "outputs": [],
      "source": [
        "populations = pd.Series(pop)"
      ]
    },
    {
      "cell_type": "code",
      "execution_count": 8,
      "metadata": {
        "id": "charitable-transparency"
      },
      "outputs": [
        {
          "data": {
            "text/plain": [
              "Ohio      35000\n",
              "Texas     71000\n",
              "Oregon    16000\n",
              "Utah       5000\n",
              "dtype: int64"
            ]
          },
          "execution_count": 8,
          "metadata": {},
          "output_type": "execute_result"
        }
      ],
      "source": [
        "populations"
      ]
    },
    {
      "cell_type": "code",
      "execution_count": null,
      "metadata": {
        "id": "6619f718"
      },
      "outputs": [],
      "source": [
        "type(populations)"
      ]
    },
    {
      "cell_type": "code",
      "execution_count": null,
      "metadata": {
        "id": "c66611e4"
      },
      "outputs": [],
      "source": [
        "populations[\"Ohio\"]"
      ]
    },
    {
      "cell_type": "code",
      "execution_count": null,
      "metadata": {
        "id": "634bee12"
      },
      "outputs": [],
      "source": [
        "populations * 1.06 ** 2"
      ]
    },
    {
      "cell_type": "code",
      "execution_count": null,
      "metadata": {
        "id": "JVqFygrTG7cN"
      },
      "outputs": [],
      "source": [
        "populations - 1000"
      ]
    },
    {
      "cell_type": "code",
      "execution_count": null,
      "metadata": {
        "id": "649e27bc"
      },
      "outputs": [],
      "source": [
        "populations > 10000"
      ]
    },
    {
      "cell_type": "code",
      "execution_count": null,
      "metadata": {
        "id": "63f6c30b"
      },
      "outputs": [],
      "source": [
        "populations[populations > 10000]"
      ]
    },
    {
      "cell_type": "code",
      "execution_count": 11,
      "metadata": {},
      "outputs": [
        {
          "data": {
            "text/plain": [
              "Ohio      35000\n",
              "Oregon    16000\n",
              "dtype: int64"
            ]
          },
          "execution_count": 11,
          "metadata": {},
          "output_type": "execute_result"
        }
      ],
      "source": [
        "populations[\"Ohio\":\"Oregon\"]"
      ]
    },
    {
      "cell_type": "markdown",
      "metadata": {
        "id": "c909406a"
      },
      "source": [
        "#### DataFrames"
      ]
    },
    {
      "cell_type": "code",
      "execution_count": 12,
      "metadata": {
        "id": "5220dc70"
      },
      "outputs": [],
      "source": [
        "import numpy as np"
      ]
    },
    {
      "cell_type": "code",
      "execution_count": 13,
      "metadata": {
        "id": "b384f04f"
      },
      "outputs": [],
      "source": [
        "# desde un diccionario\n",
        "data = {\n",
        "    'state': ['Ohio', 'Ohio', 'Ohio', 'Nevada', 'Nevada', 'Nevada'],\n",
        "    'year': [2000, 2001, 2002, 2001, 2002, 2003],\n",
        "    'pop': [1.5, 1.7, 3.6, 2.4, 2.9, np.nan]\n",
        "}"
      ]
    },
    {
      "cell_type": "code",
      "execution_count": 19,
      "metadata": {},
      "outputs": [],
      "source": [
        "usuarios = {\n",
        "    'nombre': ['Juan', 'Emilio', 'Rosa', 'Tania'],\n",
        "    'edad': [18, 22, 4, 7],\n",
        "    'ubicacion': ['CDMX', 'CDMX', 'CDMX', 'CDMX'],\n",
        "    'pais': ['Mexico', 'Mexico', 'Mexico', 'Mexico']\n",
        "}"
      ]
    },
    {
      "cell_type": "code",
      "execution_count": 20,
      "metadata": {},
      "outputs": [
        {
          "data": {
            "text/html": [
              "<div>\n",
              "<style scoped>\n",
              "    .dataframe tbody tr th:only-of-type {\n",
              "        vertical-align: middle;\n",
              "    }\n",
              "\n",
              "    .dataframe tbody tr th {\n",
              "        vertical-align: top;\n",
              "    }\n",
              "\n",
              "    .dataframe thead th {\n",
              "        text-align: right;\n",
              "    }\n",
              "</style>\n",
              "<table border=\"1\" class=\"dataframe\">\n",
              "  <thead>\n",
              "    <tr style=\"text-align: right;\">\n",
              "      <th></th>\n",
              "      <th>nombre</th>\n",
              "      <th>edad</th>\n",
              "      <th>ubicacion</th>\n",
              "      <th>pais</th>\n",
              "    </tr>\n",
              "  </thead>\n",
              "  <tbody>\n",
              "    <tr>\n",
              "      <th>0</th>\n",
              "      <td>Juan</td>\n",
              "      <td>18</td>\n",
              "      <td>CDMX</td>\n",
              "      <td>Mexico</td>\n",
              "    </tr>\n",
              "    <tr>\n",
              "      <th>1</th>\n",
              "      <td>Emilio</td>\n",
              "      <td>22</td>\n",
              "      <td>CDMX</td>\n",
              "      <td>Mexico</td>\n",
              "    </tr>\n",
              "    <tr>\n",
              "      <th>2</th>\n",
              "      <td>Rosa</td>\n",
              "      <td>4</td>\n",
              "      <td>CDMX</td>\n",
              "      <td>Mexico</td>\n",
              "    </tr>\n",
              "    <tr>\n",
              "      <th>3</th>\n",
              "      <td>Tania</td>\n",
              "      <td>7</td>\n",
              "      <td>CDMX</td>\n",
              "      <td>Mexico</td>\n",
              "    </tr>\n",
              "  </tbody>\n",
              "</table>\n",
              "</div>"
            ],
            "text/plain": [
              "   nombre  edad ubicacion    pais\n",
              "0    Juan    18      CDMX  Mexico\n",
              "1  Emilio    22      CDMX  Mexico\n",
              "2    Rosa     4      CDMX  Mexico\n",
              "3   Tania     7      CDMX  Mexico"
            ]
          },
          "execution_count": 20,
          "metadata": {},
          "output_type": "execute_result"
        }
      ],
      "source": [
        "data_frame =  pd.DataFrame(usuarios)\n",
        "data_frame"
      ]
    },
    {
      "cell_type": "markdown",
      "metadata": {},
      "source": [
        "Sacar la media de edad"
      ]
    },
    {
      "cell_type": "code",
      "execution_count": 24,
      "metadata": {},
      "outputs": [
        {
          "data": {
            "text/plain": [
              "12.75"
            ]
          },
          "execution_count": 24,
          "metadata": {},
          "output_type": "execute_result"
        }
      ],
      "source": [
        "edad = 0\n",
        "for i in data_frame[\"edad\"]:\n",
        "    edad += i\n",
        "    \n",
        "media = edad / len(data_frame[\"edad\"])\n",
        "media"
      ]
    },
    {
      "cell_type": "code",
      "execution_count": 14,
      "metadata": {
        "id": "d0dc3cd0"
      },
      "outputs": [
        {
          "data": {
            "text/plain": [
              "dict"
            ]
          },
          "execution_count": 14,
          "metadata": {},
          "output_type": "execute_result"
        }
      ],
      "source": [
        "type(data)"
      ]
    },
    {
      "cell_type": "code",
      "execution_count": 15,
      "metadata": {
        "id": "daa42b1c"
      },
      "outputs": [],
      "source": [
        "df = pd.DataFrame(data)"
      ]
    },
    {
      "cell_type": "code",
      "execution_count": 16,
      "metadata": {
        "id": "998a6135"
      },
      "outputs": [
        {
          "data": {
            "text/html": [
              "<div>\n",
              "<style scoped>\n",
              "    .dataframe tbody tr th:only-of-type {\n",
              "        vertical-align: middle;\n",
              "    }\n",
              "\n",
              "    .dataframe tbody tr th {\n",
              "        vertical-align: top;\n",
              "    }\n",
              "\n",
              "    .dataframe thead th {\n",
              "        text-align: right;\n",
              "    }\n",
              "</style>\n",
              "<table border=\"1\" class=\"dataframe\">\n",
              "  <thead>\n",
              "    <tr style=\"text-align: right;\">\n",
              "      <th></th>\n",
              "      <th>state</th>\n",
              "      <th>year</th>\n",
              "      <th>pop</th>\n",
              "    </tr>\n",
              "  </thead>\n",
              "  <tbody>\n",
              "    <tr>\n",
              "      <th>0</th>\n",
              "      <td>Ohio</td>\n",
              "      <td>2000</td>\n",
              "      <td>1.5</td>\n",
              "    </tr>\n",
              "    <tr>\n",
              "      <th>1</th>\n",
              "      <td>Ohio</td>\n",
              "      <td>2001</td>\n",
              "      <td>1.7</td>\n",
              "    </tr>\n",
              "    <tr>\n",
              "      <th>2</th>\n",
              "      <td>Ohio</td>\n",
              "      <td>2002</td>\n",
              "      <td>3.6</td>\n",
              "    </tr>\n",
              "    <tr>\n",
              "      <th>3</th>\n",
              "      <td>Nevada</td>\n",
              "      <td>2001</td>\n",
              "      <td>2.4</td>\n",
              "    </tr>\n",
              "    <tr>\n",
              "      <th>4</th>\n",
              "      <td>Nevada</td>\n",
              "      <td>2002</td>\n",
              "      <td>2.9</td>\n",
              "    </tr>\n",
              "    <tr>\n",
              "      <th>5</th>\n",
              "      <td>Nevada</td>\n",
              "      <td>2003</td>\n",
              "      <td>NaN</td>\n",
              "    </tr>\n",
              "  </tbody>\n",
              "</table>\n",
              "</div>"
            ],
            "text/plain": [
              "    state  year  pop\n",
              "0    Ohio  2000  1.5\n",
              "1    Ohio  2001  1.7\n",
              "2    Ohio  2002  3.6\n",
              "3  Nevada  2001  2.4\n",
              "4  Nevada  2002  2.9\n",
              "5  Nevada  2003  NaN"
            ]
          },
          "execution_count": 16,
          "metadata": {},
          "output_type": "execute_result"
        }
      ],
      "source": [
        "df"
      ]
    },
    {
      "cell_type": "code",
      "execution_count": null,
      "metadata": {
        "id": "f3469819"
      },
      "outputs": [],
      "source": [
        "# desde una lista de diccionarios\n",
        "datos = [\n",
        "    {\n",
        "        'nombre': 'Fer',\n",
        "        'apellido': 'Castro',\n",
        "        'email': 'fer.castro@gmail.com',\n",
        "        'edad': 30\n",
        "    },\n",
        "    {\n",
        "        'nombre': 'Ana',\n",
        "        'apellido': 'García',\n",
        "        'email': 'ana.garcia@hotmail.com',\n",
        "        'edad': 34\n",
        "    },\n",
        "    {\n",
        "        'nombre': 'Juan',\n",
        "        'apellido': 'Lopez',\n",
        "        'email': 'juan.lopez@gmail.com',\n",
        "        'edad': 26\n",
        "    }\n",
        "]"
      ]
    },
    {
      "cell_type": "code",
      "execution_count": null,
      "metadata": {
        "id": "84fd2856"
      },
      "outputs": [],
      "source": [
        "type(datos)"
      ]
    },
    {
      "cell_type": "code",
      "execution_count": null,
      "metadata": {
        "id": "8375ed38"
      },
      "outputs": [],
      "source": [
        "len(datos)"
      ]
    },
    {
      "cell_type": "code",
      "execution_count": null,
      "metadata": {
        "id": "1bcfeeb6"
      },
      "outputs": [],
      "source": [
        "df2 = pd.DataFrame(datos)"
      ]
    },
    {
      "cell_type": "code",
      "execution_count": null,
      "metadata": {
        "id": "80e9b2c2"
      },
      "outputs": [],
      "source": [
        "df2"
      ]
    },
    {
      "cell_type": "markdown",
      "metadata": {
        "id": "d91a6124"
      },
      "source": [
        "### Cargar datos desde archivo"
      ]
    },
    {
      "cell_type": "markdown",
      "metadata": {
        "id": "lyric-navigation"
      },
      "source": [
        "Pandas puede leer y escribir datos de una gran variedad de formatos.\n",
        "\n",
        "[Documentación](https://pandas.pydata.org/pandas-docs/stable/user_guide/io.html)"
      ]
    },
    {
      "cell_type": "markdown",
      "metadata": {
        "id": "mexican-catch"
      },
      "source": [
        "#### .csv"
      ]
    },
    {
      "cell_type": "code",
      "execution_count": null,
      "metadata": {
        "id": "e59d695e"
      },
      "outputs": [],
      "source": [
        "df = pd.read_csv(\"../datasets/titanic.csv\")"
      ]
    },
    {
      "cell_type": "code",
      "execution_count": null,
      "metadata": {
        "id": "98c61296"
      },
      "outputs": [],
      "source": [
        "df.shape"
      ]
    },
    {
      "cell_type": "code",
      "execution_count": null,
      "metadata": {
        "id": "ee652f11"
      },
      "outputs": [],
      "source": [
        "df.head()"
      ]
    },
    {
      "cell_type": "markdown",
      "metadata": {
        "id": "surprised-dinner"
      },
      "source": [
        "#### .xlsx"
      ]
    },
    {
      "cell_type": "code",
      "execution_count": null,
      "metadata": {
        "id": "0fd6909f"
      },
      "outputs": [],
      "source": [
        "cars = pd.read_excel(\"../datasets/cars.xlsx\")"
      ]
    },
    {
      "cell_type": "code",
      "execution_count": null,
      "metadata": {
        "id": "RB1b0gfmHOJQ"
      },
      "outputs": [],
      "source": [
        "cars.shape"
      ]
    },
    {
      "cell_type": "code",
      "execution_count": null,
      "metadata": {
        "id": "a6eb9f9d"
      },
      "outputs": [],
      "source": [
        "cars.head()"
      ]
    },
    {
      "cell_type": "code",
      "execution_count": null,
      "metadata": {
        "id": "5a11dc82"
      },
      "outputs": [],
      "source": [
        "cars2 = pd.read_excel(\"../datasets/cars.xlsx\", sheet_name=\"metadata-cars\")"
      ]
    },
    {
      "cell_type": "code",
      "execution_count": null,
      "metadata": {
        "id": "yzjTp63zHVBr"
      },
      "outputs": [],
      "source": [
        "cars2"
      ]
    },
    {
      "cell_type": "code",
      "execution_count": null,
      "metadata": {
        "id": "6a645f4b"
      },
      "outputs": [],
      "source": [
        "cars2.head()"
      ]
    },
    {
      "cell_type": "markdown",
      "metadata": {
        "id": "brown-princeton"
      },
      "source": [
        "### Explorando un dataframe"
      ]
    },
    {
      "cell_type": "code",
      "execution_count": null,
      "metadata": {
        "id": "19EEqj5KVM5-"
      },
      "outputs": [],
      "source": [
        "cars.shape"
      ]
    },
    {
      "cell_type": "code",
      "execution_count": null,
      "metadata": {
        "id": "a2f91ff2"
      },
      "outputs": [],
      "source": [
        "cars.head()"
      ]
    },
    {
      "cell_type": "code",
      "execution_count": null,
      "metadata": {
        "id": "1e7a3535"
      },
      "outputs": [],
      "source": [
        "cars.tail()"
      ]
    },
    {
      "cell_type": "code",
      "execution_count": null,
      "metadata": {
        "id": "7babbf1c"
      },
      "outputs": [],
      "source": [
        "cars.sample(5)"
      ]
    },
    {
      "cell_type": "code",
      "execution_count": null,
      "metadata": {
        "id": "64f402aa"
      },
      "outputs": [],
      "source": [
        "cars.columns"
      ]
    },
    {
      "cell_type": "code",
      "execution_count": null,
      "metadata": {
        "id": "f9f6b1dd"
      },
      "outputs": [],
      "source": [
        "cars.head()"
      ]
    },
    {
      "cell_type": "code",
      "execution_count": null,
      "metadata": {
        "id": "ca67078f"
      },
      "outputs": [],
      "source": [
        "cars.dtypes"
      ]
    },
    {
      "cell_type": "code",
      "execution_count": null,
      "metadata": {
        "id": "documentary-contract"
      },
      "outputs": [],
      "source": [
        "cars.describe()"
      ]
    },
    {
      "cell_type": "code",
      "execution_count": null,
      "metadata": {
        "id": "U9vRISL0VroG"
      },
      "outputs": [],
      "source": [
        "cars.acceleration.describe().round(2)"
      ]
    },
    {
      "cell_type": "code",
      "execution_count": null,
      "metadata": {
        "id": "disabled-suggestion"
      },
      "outputs": [],
      "source": [
        "cars.info()"
      ]
    },
    {
      "cell_type": "markdown",
      "metadata": {
        "id": "2eb9647a"
      },
      "source": [
        "### Explorando por columna"
      ]
    },
    {
      "cell_type": "code",
      "execution_count": null,
      "metadata": {
        "id": "2702fae6"
      },
      "outputs": [],
      "source": [
        "type(cars)"
      ]
    },
    {
      "cell_type": "code",
      "execution_count": null,
      "metadata": {
        "id": "aa78bc6d"
      },
      "outputs": [],
      "source": [
        "cars.head()"
      ]
    },
    {
      "cell_type": "code",
      "execution_count": null,
      "metadata": {
        "id": "mVX9yr5sVwul"
      },
      "outputs": [],
      "source": [
        "cars[\"model year\"].head()"
      ]
    },
    {
      "cell_type": "code",
      "execution_count": null,
      "metadata": {
        "id": "Surx-VuRVz2N"
      },
      "outputs": [],
      "source": [
        "cars.mpg"
      ]
    },
    {
      "cell_type": "code",
      "execution_count": null,
      "metadata": {
        "id": "4c547ca5"
      },
      "outputs": [],
      "source": [
        "cars.mpg.max()"
      ]
    },
    {
      "cell_type": "code",
      "execution_count": null,
      "metadata": {
        "id": "6ffa30d1"
      },
      "outputs": [],
      "source": [
        "cars.mpg.min()"
      ]
    },
    {
      "cell_type": "code",
      "execution_count": null,
      "metadata": {
        "id": "e679be58"
      },
      "outputs": [],
      "source": [
        "cars.mpg.mean()"
      ]
    },
    {
      "cell_type": "code",
      "execution_count": null,
      "metadata": {
        "id": "1HFRLoDcV2s4"
      },
      "outputs": [],
      "source": [
        "cars.mpg.quantile(0.5)"
      ]
    },
    {
      "cell_type": "code",
      "execution_count": null,
      "metadata": {
        "id": "e20a5cc3"
      },
      "outputs": [],
      "source": [
        "cars.mpg.quantile(0.9)"
      ]
    },
    {
      "cell_type": "code",
      "execution_count": null,
      "metadata": {
        "id": "IP4Q1q5QV6da"
      },
      "outputs": [],
      "source": [
        "cars.head()"
      ]
    },
    {
      "cell_type": "code",
      "execution_count": null,
      "metadata": {
        "id": "5a82e9b3"
      },
      "outputs": [],
      "source": [
        "cars.weight.sum() / 1000"
      ]
    },
    {
      "cell_type": "code",
      "execution_count": null,
      "metadata": {
        "id": "027c79a6"
      },
      "outputs": [],
      "source": [
        "cars.cylinders.unique()"
      ]
    },
    {
      "cell_type": "code",
      "execution_count": null,
      "metadata": {
        "id": "e893bd32"
      },
      "outputs": [],
      "source": [
        "cars.cylinders.nunique()"
      ]
    },
    {
      "cell_type": "code",
      "execution_count": null,
      "metadata": {
        "id": "c757274d"
      },
      "outputs": [],
      "source": [
        "cars.cylinders.unique()"
      ]
    },
    {
      "cell_type": "code",
      "execution_count": null,
      "metadata": {
        "id": "923965c2"
      },
      "outputs": [],
      "source": [
        "cars.cylinders.value_counts()"
      ]
    },
    {
      "cell_type": "code",
      "execution_count": null,
      "metadata": {
        "id": "c4f8d2dc"
      },
      "outputs": [],
      "source": [
        "cars.cylinders.value_counts().sort_index()"
      ]
    },
    {
      "cell_type": "code",
      "execution_count": null,
      "metadata": {
        "id": "4c7094f5"
      },
      "outputs": [],
      "source": [
        "cars.head()"
      ]
    },
    {
      "cell_type": "code",
      "execution_count": null,
      "metadata": {
        "id": "e98aafed"
      },
      "outputs": [],
      "source": [
        "cars.shape"
      ]
    },
    {
      "cell_type": "code",
      "execution_count": null,
      "metadata": {
        "id": "371476bb"
      },
      "outputs": [],
      "source": [
        "cars.nunique()"
      ]
    },
    {
      "cell_type": "code",
      "execution_count": null,
      "metadata": {
        "id": "f385a2e5"
      },
      "outputs": [],
      "source": [
        "cars[\"car name\"].value_counts()"
      ]
    },
    {
      "cell_type": "code",
      "execution_count": null,
      "metadata": {
        "id": "191fee8f"
      },
      "outputs": [],
      "source": [
        "cars.head()"
      ]
    },
    {
      "cell_type": "code",
      "execution_count": null,
      "metadata": {
        "id": "1cc82214"
      },
      "outputs": [],
      "source": [
        "cars.sort_values(\"acceleration\")"
      ]
    },
    {
      "cell_type": "code",
      "execution_count": null,
      "metadata": {
        "id": "bee174e5"
      },
      "outputs": [],
      "source": [
        "cars.sort_values(\"acceleration\", ascending=False).head()"
      ]
    },
    {
      "cell_type": "code",
      "execution_count": null,
      "metadata": {
        "id": "58f96fb7"
      },
      "outputs": [],
      "source": [
        "cars.sort_values([\"cylinders\", \"acceleration\"]).head()"
      ]
    },
    {
      "cell_type": "markdown",
      "metadata": {
        "id": "a0254a30"
      },
      "source": [
        "Para contar pares de variables"
      ]
    },
    {
      "cell_type": "code",
      "execution_count": null,
      "metadata": {
        "id": "ccce7554"
      },
      "outputs": [],
      "source": [
        "cars.head()"
      ]
    },
    {
      "cell_type": "code",
      "execution_count": null,
      "metadata": {
        "id": "6ece70ec"
      },
      "outputs": [],
      "source": [
        "cars.cylinders.unique()"
      ]
    },
    {
      "cell_type": "code",
      "execution_count": null,
      "metadata": {
        "id": "6c08ba19"
      },
      "outputs": [],
      "source": [
        "cars.origin.unique()"
      ]
    },
    {
      "cell_type": "code",
      "execution_count": null,
      "metadata": {
        "id": "f24d572d"
      },
      "outputs": [],
      "source": [
        "pd.crosstab(cars.cylinders, cars.origin)"
      ]
    },
    {
      "cell_type": "code",
      "execution_count": null,
      "metadata": {
        "id": "1f768825"
      },
      "outputs": [],
      "source": [
        "pd.crosstab(df.Pclass, df.Survived).round(3)"
      ]
    },
    {
      "cell_type": "code",
      "execution_count": null,
      "metadata": {
        "id": "30e4ac5b"
      },
      "outputs": [],
      "source": [
        "pd.crosstab(df.Pclass, df.Survived, normalize=\"index\").round(3)"
      ]
    },
    {
      "cell_type": "code",
      "execution_count": null,
      "metadata": {
        "id": "110675eb"
      },
      "outputs": [],
      "source": [
        "pd.crosstab(df.Pclass, df.Survived, normalize=\"columns\").round(3)"
      ]
    },
    {
      "cell_type": "markdown",
      "metadata": {
        "id": "7935de8b"
      },
      "source": [
        "### Selección dentro del dataframe"
      ]
    },
    {
      "cell_type": "code",
      "execution_count": null,
      "metadata": {
        "id": "7ec0ff7e"
      },
      "outputs": [],
      "source": [
        "cars.head()"
      ]
    },
    {
      "cell_type": "markdown",
      "metadata": {
        "id": "ff34b507"
      },
      "source": [
        "#### por nombre de columna"
      ]
    },
    {
      "cell_type": "code",
      "execution_count": null,
      "metadata": {
        "id": "38c25fd3"
      },
      "outputs": [],
      "source": [
        "cars[['mpg', 'cylinders', 'displacement']].head()"
      ]
    },
    {
      "cell_type": "markdown",
      "metadata": {
        "id": "c9a614a8"
      },
      "source": [
        "#### por condición"
      ]
    },
    {
      "cell_type": "code",
      "execution_count": null,
      "metadata": {
        "id": "84251399"
      },
      "outputs": [],
      "source": [
        "cars.head()"
      ]
    },
    {
      "cell_type": "code",
      "execution_count": null,
      "metadata": {
        "id": "ce59ea0a"
      },
      "outputs": [],
      "source": [
        "cars.mpg > 16"
      ]
    },
    {
      "cell_type": "code",
      "execution_count": null,
      "metadata": {
        "id": "f5f860b9"
      },
      "outputs": [],
      "source": [
        "(cars.mpg > 16).sum()"
      ]
    },
    {
      "cell_type": "code",
      "execution_count": null,
      "metadata": {
        "id": "d4fbf31c"
      },
      "outputs": [],
      "source": [
        "cars[cars.mpg > 16]"
      ]
    },
    {
      "cell_type": "code",
      "execution_count": null,
      "metadata": {
        "id": "224876aa"
      },
      "outputs": [],
      "source": [
        "cars[cars.acceleration > 23]"
      ]
    },
    {
      "cell_type": "code",
      "execution_count": null,
      "metadata": {
        "id": "2a4efe6b"
      },
      "outputs": [],
      "source": [
        "cars.head()"
      ]
    },
    {
      "cell_type": "code",
      "execution_count": null,
      "metadata": {
        "id": "681bbed4"
      },
      "outputs": [],
      "source": [
        "cars[\"car name\"]"
      ]
    },
    {
      "cell_type": "code",
      "execution_count": null,
      "metadata": {
        "id": "980868d2"
      },
      "outputs": [],
      "source": [
        "cars[\"car name\"].str.contains(\"ford\")"
      ]
    },
    {
      "cell_type": "code",
      "execution_count": null,
      "metadata": {
        "id": "3cc0268c"
      },
      "outputs": [],
      "source": [
        "cars[cars[\"car name\"].str.contains(\"ford\")].head()"
      ]
    },
    {
      "cell_type": "markdown",
      "metadata": {
        "id": "c5ec4ff5"
      },
      "source": [
        "`~` es la negación lógica, lo contrario"
      ]
    },
    {
      "cell_type": "code",
      "execution_count": null,
      "metadata": {
        "id": "78e1cde2"
      },
      "outputs": [],
      "source": [
        "cars.head()"
      ]
    },
    {
      "cell_type": "code",
      "execution_count": null,
      "metadata": {
        "id": "bef33c93"
      },
      "outputs": [],
      "source": [
        "~cars[\"car name\"].str.contains(\"ford\")"
      ]
    },
    {
      "cell_type": "code",
      "execution_count": null,
      "metadata": {
        "id": "ce814d61"
      },
      "outputs": [],
      "source": [
        "cars[~cars[\"car name\"].str.contains(\"ford\")].shape"
      ]
    },
    {
      "cell_type": "code",
      "execution_count": null,
      "metadata": {
        "id": "12a71468"
      },
      "outputs": [],
      "source": [
        "cars[~cars[\"car name\"].str.contains(\"ford\")].head()"
      ]
    },
    {
      "cell_type": "markdown",
      "metadata": {
        "id": "4a3054cd"
      },
      "source": [
        "`&` es el \"and\"  \n",
        "`|` es el \"or\""
      ]
    },
    {
      "cell_type": "code",
      "execution_count": null,
      "metadata": {
        "id": "f5953643"
      },
      "outputs": [],
      "source": [
        "cars.head()"
      ]
    },
    {
      "cell_type": "code",
      "execution_count": null,
      "metadata": {
        "id": "6b3ce6e5"
      },
      "outputs": [],
      "source": [
        "(cars.mpg > 15) & (cars.weight > 3500)"
      ]
    },
    {
      "cell_type": "code",
      "execution_count": null,
      "metadata": {
        "id": "906cae7c"
      },
      "outputs": [],
      "source": [
        "cars[(cars.mpg > 15) & (cars.weight > 3500)].head()"
      ]
    },
    {
      "cell_type": "code",
      "execution_count": null,
      "metadata": {
        "id": "581c5d8a"
      },
      "outputs": [],
      "source": [
        "cars[(cars.mpg > 18) | (cars.weight > 3500)].head()"
      ]
    },
    {
      "cell_type": "code",
      "execution_count": null,
      "metadata": {
        "id": "d5b536e0"
      },
      "outputs": [],
      "source": [
        "cars[cars.cylinders == 3]"
      ]
    },
    {
      "cell_type": "code",
      "execution_count": null,
      "metadata": {
        "id": "b71f22eb"
      },
      "outputs": [],
      "source": [
        "cars.cylinders.isin([3, 5])"
      ]
    },
    {
      "cell_type": "code",
      "execution_count": null,
      "metadata": {
        "id": "0be3f7f3"
      },
      "outputs": [],
      "source": [
        "cars[cars.cylinders.isin([3, 5])]"
      ]
    },
    {
      "cell_type": "code",
      "execution_count": null,
      "metadata": {
        "id": "d9e8463b"
      },
      "outputs": [],
      "source": [
        "cars.acceleration.mean()"
      ]
    },
    {
      "cell_type": "code",
      "execution_count": null,
      "metadata": {
        "id": "6037d5ec"
      },
      "outputs": [],
      "source": [
        "cars[cars.acceleration > cars.acceleration.mean()][[\"mpg\", \"acceleration\", \"car name\"]]"
      ]
    },
    {
      "cell_type": "markdown",
      "metadata": {
        "id": "e6db3efe"
      },
      "source": [
        "#### por índice"
      ]
    },
    {
      "cell_type": "code",
      "execution_count": null,
      "metadata": {
        "id": "DkAi7ED1W88a"
      },
      "outputs": [],
      "source": [
        "cars.head()"
      ]
    },
    {
      "cell_type": "code",
      "execution_count": null,
      "metadata": {
        "id": "3a24d6df"
      },
      "outputs": [],
      "source": [
        "cars = cars.sort_values(\"car name\")"
      ]
    },
    {
      "cell_type": "code",
      "execution_count": null,
      "metadata": {
        "id": "15144a6e"
      },
      "outputs": [],
      "source": [
        "cars.head()"
      ]
    },
    {
      "cell_type": "code",
      "execution_count": null,
      "metadata": {
        "id": "RXsZu9IoW_Iu"
      },
      "outputs": [],
      "source": [
        "cars.loc[2]"
      ]
    },
    {
      "cell_type": "code",
      "execution_count": null,
      "metadata": {
        "id": "db6bc401"
      },
      "outputs": [],
      "source": [
        "cars.iloc[2]"
      ]
    },
    {
      "cell_type": "code",
      "execution_count": null,
      "metadata": {
        "id": "GOI-5mfEXAuh"
      },
      "outputs": [],
      "source": [
        "cars.iloc[100:105]"
      ]
    },
    {
      "cell_type": "markdown",
      "metadata": {
        "id": "db7fc979"
      },
      "source": [
        "### Creación de columnas"
      ]
    },
    {
      "cell_type": "code",
      "execution_count": null,
      "metadata": {
        "id": "1eef97f8"
      },
      "outputs": [],
      "source": [
        "cars.head()"
      ]
    },
    {
      "cell_type": "code",
      "execution_count": null,
      "metadata": {
        "id": "6949bee2"
      },
      "outputs": [],
      "source": [
        "cars[\"is_fast\"] = cars.acceleration > 22"
      ]
    },
    {
      "cell_type": "code",
      "execution_count": null,
      "metadata": {
        "id": "u7R9uHyNXFMS"
      },
      "outputs": [],
      "source": [
        "cars.head()"
      ]
    },
    {
      "cell_type": "code",
      "execution_count": null,
      "metadata": {
        "id": "f1b6dc62"
      },
      "outputs": [],
      "source": [
        "cars[\"miles_per_liter\"] = cars[\"mpg\"] / 4.54"
      ]
    },
    {
      "cell_type": "code",
      "execution_count": null,
      "metadata": {
        "id": "0e27f110"
      },
      "outputs": [],
      "source": [
        "cars.head()"
      ]
    },
    {
      "cell_type": "code",
      "execution_count": null,
      "metadata": {
        "id": "08fcce42"
      },
      "outputs": [],
      "source": [
        "cars[cars.is_fast]"
      ]
    },
    {
      "cell_type": "markdown",
      "metadata": {
        "id": "2d6fbf00"
      },
      "source": [
        "### Manejo de valores nulos"
      ]
    },
    {
      "cell_type": "code",
      "execution_count": null,
      "metadata": {
        "id": "baa13617"
      },
      "outputs": [],
      "source": [
        "cars.info()"
      ]
    },
    {
      "cell_type": "code",
      "execution_count": null,
      "metadata": {
        "id": "9ea51265"
      },
      "outputs": [],
      "source": [
        "cars[cars.displacement.isna()]"
      ]
    },
    {
      "cell_type": "code",
      "execution_count": null,
      "metadata": {
        "id": "821fdfd1"
      },
      "outputs": [],
      "source": [
        "cars.isna().any()"
      ]
    },
    {
      "cell_type": "code",
      "execution_count": null,
      "metadata": {
        "id": "f329023d"
      },
      "outputs": [],
      "source": [
        "cars.isna().any(axis=1)"
      ]
    },
    {
      "cell_type": "code",
      "execution_count": null,
      "metadata": {
        "id": "42485af5"
      },
      "outputs": [],
      "source": [
        "cars[cars.isna().any(axis=1)]"
      ]
    },
    {
      "cell_type": "markdown",
      "metadata": {
        "id": "67fa815b"
      },
      "source": [
        "¿Qué hacemos? Podemos rellenar"
      ]
    },
    {
      "cell_type": "markdown",
      "metadata": {
        "id": "7e6d0a87"
      },
      "source": [
        "#### relleno fijo"
      ]
    },
    {
      "cell_type": "code",
      "execution_count": null,
      "metadata": {
        "id": "3a788fe8"
      },
      "outputs": [],
      "source": [
        "cars = cars.sort_index()"
      ]
    },
    {
      "cell_type": "code",
      "execution_count": null,
      "metadata": {
        "id": "2ef3793f"
      },
      "outputs": [],
      "source": [
        "cars.head()"
      ]
    },
    {
      "cell_type": "code",
      "execution_count": null,
      "metadata": {
        "id": "f0e62358"
      },
      "outputs": [],
      "source": [
        "cars.fillna(0).head()"
      ]
    },
    {
      "cell_type": "markdown",
      "metadata": {
        "id": "a73eb59b"
      },
      "source": [
        "#### relleno con la media"
      ]
    },
    {
      "cell_type": "code",
      "execution_count": null,
      "metadata": {
        "id": "62a0d06f"
      },
      "outputs": [],
      "source": [
        "cars.fillna(cars.mean()).head()"
      ]
    },
    {
      "cell_type": "markdown",
      "metadata": {
        "id": "5e41ba8f"
      },
      "source": [
        "#### borrar columna"
      ]
    },
    {
      "cell_type": "code",
      "execution_count": null,
      "metadata": {
        "id": "db3e6037"
      },
      "outputs": [],
      "source": [
        "cars.head()"
      ]
    },
    {
      "cell_type": "code",
      "execution_count": null,
      "metadata": {
        "id": "75b58e64"
      },
      "outputs": [],
      "source": [
        "cars.drop(\"displacement\", axis=1).head()"
      ]
    },
    {
      "cell_type": "markdown",
      "metadata": {
        "id": "e2c86735"
      },
      "source": [
        "#### borrar filas"
      ]
    },
    {
      "cell_type": "code",
      "execution_count": null,
      "metadata": {
        "id": "07988087"
      },
      "outputs": [],
      "source": [
        "cars[cars.displacement.notna()].head()"
      ]
    },
    {
      "cell_type": "markdown",
      "metadata": {
        "id": "c02eca96"
      },
      "source": [
        "### GroupBy"
      ]
    },
    {
      "cell_type": "code",
      "execution_count": null,
      "metadata": {
        "id": "d1b24ad2"
      },
      "outputs": [],
      "source": [
        "cars.head()"
      ]
    },
    {
      "cell_type": "code",
      "execution_count": null,
      "metadata": {
        "id": "6aae8816"
      },
      "outputs": [],
      "source": [
        "cars.groupby('cylinders').acceleration.mean()"
      ]
    },
    {
      "cell_type": "code",
      "execution_count": null,
      "metadata": {
        "id": "f81d8e9a"
      },
      "outputs": [],
      "source": [
        "cars.groupby('cylinders').agg({'acceleration': 'std', 'weight': 'mean'}).head()"
      ]
    },
    {
      "cell_type": "markdown",
      "metadata": {
        "id": "28f9cad1"
      },
      "source": [
        "### Aplicación de funciones"
      ]
    },
    {
      "cell_type": "markdown",
      "metadata": {
        "id": "b6046942"
      },
      "source": [
        "Utilizamos el método `apply`"
      ]
    },
    {
      "cell_type": "code",
      "execution_count": null,
      "metadata": {
        "id": "75ed153d"
      },
      "outputs": [],
      "source": [
        "cars.head()"
      ]
    },
    {
      "cell_type": "markdown",
      "metadata": {
        "id": "3eaa5f6e"
      },
      "source": [
        "Imaginemos que queremos computar, para cada coche:\n",
        " * la primera palabra del nombre\n",
        " * si el año del modelo fue bisiesto"
      ]
    },
    {
      "cell_type": "markdown",
      "metadata": {
        "id": "97101429"
      },
      "source": [
        "Primero creamos la función, luego la aplicamos"
      ]
    },
    {
      "cell_type": "code",
      "execution_count": null,
      "metadata": {
        "id": "f99e4b21"
      },
      "outputs": [],
      "source": [
        "def get_first_word(sentence):\n",
        "    words = sentence.split()\n",
        "\n",
        "    return words[0]"
      ]
    },
    {
      "cell_type": "code",
      "execution_count": null,
      "metadata": {
        "id": "c9f95558"
      },
      "outputs": [],
      "source": [
        "get_first_word(\"hola me llamo manuel\")"
      ]
    },
    {
      "cell_type": "code",
      "execution_count": null,
      "metadata": {
        "id": "3faca2ea"
      },
      "outputs": [],
      "source": [
        "def is_bisiest(year):\n",
        "    if year % 4 == 0:\n",
        "        return True\n",
        "    else:\n",
        "        return False"
      ]
    },
    {
      "cell_type": "code",
      "execution_count": null,
      "metadata": {
        "id": "8597f0fe"
      },
      "outputs": [],
      "source": [
        "is_bisiest(2001)"
      ]
    },
    {
      "cell_type": "code",
      "execution_count": null,
      "metadata": {
        "id": "60d0f8ee"
      },
      "outputs": [],
      "source": [
        "cars[\"is_bisiest\"] = cars[\"model year\"].apply(is_bisiest)"
      ]
    },
    {
      "cell_type": "code",
      "execution_count": null,
      "metadata": {
        "id": "be649e8b"
      },
      "outputs": [],
      "source": [
        "cars[\"name1\"] = cars[\"car name\"].apply(get_first_word)"
      ]
    },
    {
      "cell_type": "code",
      "execution_count": null,
      "metadata": {
        "id": "1864266f"
      },
      "outputs": [],
      "source": [
        "cars.head()"
      ]
    },
    {
      "cell_type": "markdown",
      "metadata": {
        "id": "4ce535e4"
      },
      "source": [
        "### Exportar datos"
      ]
    },
    {
      "cell_type": "code",
      "execution_count": null,
      "metadata": {
        "id": "754b8bbc"
      },
      "outputs": [],
      "source": [
        "cars.to_csv('../datasets/test/cars1.csv', index=False)"
      ]
    },
    {
      "cell_type": "code",
      "execution_count": null,
      "metadata": {
        "id": "b2184c0f"
      },
      "outputs": [],
      "source": [
        "cars.to_csv('../datasets/test/cars2.csv', index=True)"
      ]
    },
    {
      "cell_type": "code",
      "execution_count": null,
      "metadata": {
        "id": "f21b5674"
      },
      "outputs": [],
      "source": [
        "df.to_json('../datasets/test/cars.json', orient='records')"
      ]
    },
    {
      "cell_type": "code",
      "execution_count": null,
      "metadata": {
        "id": "6ef93d7f"
      },
      "outputs": [],
      "source": [
        "df.to_excel('../datasets/test/cars.xlsx', index=False)"
      ]
    },
    {
      "cell_type": "markdown",
      "metadata": {
        "id": "f6739014"
      },
      "source": [
        "### Recap: métodos más utilizados de pandas"
      ]
    },
    {
      "cell_type": "markdown",
      "metadata": {
        "id": "unlimited-nelson"
      },
      "source": [
        "```python\n",
        "df.head()                     # printea la cabeza, por defecto 5 filas\n",
        "df.tail()                     # pritea la cola, por defecto 5 filas\n",
        "df.describe()                 # descripcion estadistica\n",
        "df.info()                     # informacion del df\n",
        "df.info(memory_usage='deep')\n",
        "df.columns                    # muestra columna\n",
        "df.index                      # muestra indice\n",
        "df.dtypes                     # muestra tipos de datos de las columnas\n",
        "df.plot()                     # hace un grafico\n",
        "df.hist()                     # hace un histograma\n",
        "df.col.value_counts()         # cuenta los valores unicos de una columna\n",
        "df.col.unique()               # muestra valores unicos de una columna\n",
        "df.copy()                     # copia el df\n",
        "df.drop()                     # elimina columnas o filas (axis=0,1)\n",
        "df.dropna()                   # elimina nulos\n",
        "df.fillna()                   # rellena nulos\n",
        "df.shape                      # dimensiones del df\n",
        "df._get_numeric_data()        # selecciona columnas numericas\n",
        "df.rename()                   # renombre columnas\n",
        "df.str.replace()              # reemplaza columnas de strings\n",
        "df.astype(dtype='float32')    # cambia el tipo de dato\n",
        "df.iloc[]                     # localiza por indice\n",
        "df.loc[]                      # localiza por elemento\n",
        "df.transpose()                # transpone el df\n",
        "df.T\n",
        "df.sample(n, frac)            # muestra del df\n",
        "df.col.sum()                  # suma de una columna\n",
        "df.col.max()                  # maximo de una columna\n",
        "df.col.min()                  # minimo de una columna\n",
        "df[col]                       # selecciona columna\n",
        "df.col\n",
        "df.isnull()                   # valores nulos\n",
        "df.isna()\n",
        "df.notna()                    # valores no nulos\n",
        "df.drop_duplicates()          # eliminar duplicados\n",
        "df.reset_index(inplace=True)  # resetea el indice y sobreescribe\n",
        "```"
      ]
    },
    {
      "cell_type": "markdown",
      "metadata": {
        "id": "b9a2a149"
      },
      "source": [
        "### Material extra!"
      ]
    },
    {
      "cell_type": "markdown",
      "metadata": {
        "id": "stylish-jefferson"
      },
      "source": [
        "* [Cheatsheet](https://pandas.pydata.org/Pandas_Cheat_Sheet.pdf)\n",
        "* [Ejercicios para practicar](https://github.com/guipsamora/pandas_exercises)\n",
        "* [merge, concat, join](https://realpython.com/pandas-merge-join-and-concat/#pandas-join-combining-data-on-a-column-or-index)"
      ]
    }
  ],
  "metadata": {
    "colab": {
      "include_colab_link": true,
      "provenance": [],
      "toc_visible": true
    },
    "kernelspec": {
      "display_name": "Python 3",
      "name": "python3"
    },
    "language_info": {
      "codemirror_mode": {
        "name": "ipython",
        "version": 3
      },
      "file_extension": ".py",
      "mimetype": "text/x-python",
      "name": "python",
      "nbconvert_exporter": "python",
      "pygments_lexer": "ipython3",
      "version": "3.9.1"
    }
  },
  "nbformat": 4,
  "nbformat_minor": 0
}
