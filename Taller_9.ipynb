{
  "cells": [
    {
      "cell_type": "markdown",
      "metadata": {
        "colab_type": "text",
        "id": "view-in-github"
      },
      "source": [
        "<a href=\"https://colab.research.google.com/github/Lemito66/AnalisisDeDatos/blob/master/Taller_9.ipynb\" target=\"_parent\"><img src=\"https://colab.research.google.com/assets/colab-badge.svg\" alt=\"Open In Colab\"/></a>"
      ]
    },
    {
      "cell_type": "markdown",
      "metadata": {
        "id": "Kau4S-QgSuOu"
      },
      "source": [
        "# Librerías y Pandas"
      ]
    },
    {
      "cell_type": "markdown",
      "metadata": {
        "id": "lRagjYwaStoR"
      },
      "source": [
        "<div style=\"text-align: right\">por <a href=\"https://www.linkedin.com/in/angel-astudillo-aguilar\" target=\"_blank\">Angel Xavier Astudillo Aguilar</a></div>\n",
        "\n"
      ]
    },
    {
      "cell_type": "markdown",
      "metadata": {
        "id": "-YKxV0oNcMRa"
      },
      "source": [
        "\n",
        "## Recapitulación\n",
        "1. Presentación e introducción al entorno de Python\n",
        "2. Introducción a Python\n",
        "3. Variable y Tipos de datos más comunes\n",
        "4. Operadores aritméticos y textuales\n",
        "5. Control de flujo: bucles\n",
        "6. Control de flujo: condicionales\n",
        "7. Funciones\n"
      ]
    },
    {
      "cell_type": "markdown",
      "metadata": {
        "id": "eafF_MRkRg24"
      },
      "source": [
        "## Hoy veremos\n",
        " 8. Librerías en Python\n",
        " 9. Pandas para el análisis de datos\n",
        " 10. Análisis de datos\n",
        "\n"
      ]
    },
    {
      "cell_type": "markdown",
      "metadata": {
        "id": "ec88e736"
      },
      "source": [
        "## Librerías en Python"
      ]
    },
    {
      "cell_type": "markdown",
      "metadata": {
        "id": "yWEGio9Wuc6O"
      },
      "source": [
        "Normally, a library is a collection of books or is a room or place where many books are stored to be used later. Similarly, in the programming world, a library is a collection of precompiled codes that can be used later on in a program for some specific well-defined operations. Other than pre-compiled codes, a library may contain documentation, configuration data, message templates, classes, and values, etc.\n",
        "\n",
        "A Python library is a collection of related modules. It contains bundles of code that can be used repeatedly in different programs. It makes Python Programming simpler and convenient for the programmer. As we don’t need to write the same code again and again for different programs. Python libraries play a very vital role in fields of Machine Learning, Data Science, Data Visualization, etc."
      ]
    },
    {
      "cell_type": "markdown",
      "metadata": {
        "id": "QSpCNI_luenF"
      },
      "source": [
        "### ¿Cómo ver las librerías que tengo instaladas?"
      ]
    },
    {
      "cell_type": "code",
      "execution_count": 1,
      "metadata": {
        "id": "e9TaMzY7ujlO"
      },
      "outputs": [
        {
          "name": "stdout",
          "output_type": "stream",
          "text": [
            "Package           Version\n",
            "----------------- -------\n",
            "asttokens         2.2.1\n",
            "autopep8          2.0.1\n",
            "backcall          0.2.0\n",
            "colorama          0.4.6\n",
            "comm              0.1.3\n",
            "debugpy           1.6.7\n",
            "decorator         5.1.1\n",
            "executing         1.2.0\n",
            "ipykernel         6.23.2\n",
            "ipython           8.14.0\n",
            "jedi              0.18.2\n",
            "jupyter_client    8.2.0\n",
            "jupyter_core      5.3.1\n",
            "matplotlib-inline 0.1.6\n",
            "nest-asyncio      1.5.6\n",
            "packaging         23.1\n",
            "parso             0.8.3\n",
            "pickleshare       0.7.5\n",
            "pip               23.0\n",
            "platformdirs      3.7.0\n",
            "prompt-toolkit    3.0.38\n",
            "psutil            5.9.5\n",
            "pure-eval         0.2.2\n",
            "pycodestyle       2.10.0\n",
            "Pygments          2.15.1\n",
            "python-dateutil   2.8.2\n",
            "pywin32           306\n",
            "pyzmq             25.1.0\n",
            "six               1.16.0\n",
            "stack-data        0.6.2\n",
            "tomli             2.0.1\n",
            "tornado           6.3.2\n",
            "traitlets         5.9.0\n",
            "wcwidth           0.2.6\n"
          ]
        },
        {
          "name": "stderr",
          "output_type": "stream",
          "text": [
            "\n",
            "[notice] A new release of pip is available: 23.0 -> 23.1.2\n",
            "[notice] To update, run: C:\\Users\\elogrono\\AppData\\Local\\Microsoft\\WindowsApps\\PythonSoftwareFoundation.Python.3.10_qbz5n2kfra8p0\\python.exe -m pip install --upgrade pip\n"
          ]
        }
      ],
      "source": [
        "! pip list"
      ]
    },
    {
      "cell_type": "markdown",
      "metadata": {
        "id": "TE_K2oI2ulS-"
      },
      "source": [
        "### ¿Cómo instalar una librería?"
      ]
    },
    {
      "cell_type": "code",
      "execution_count": null,
      "metadata": {
        "id": "5Mj3WPRdukw2"
      },
      "outputs": [],
      "source": [
        "! pip install <Nombre de la libraría>"
      ]
    },
    {
      "cell_type": "markdown",
      "metadata": {
        "id": "uRkf5OnIuyfd"
      },
      "source": [
        "### ¿Cómo actualiar una librería?"
      ]
    },
    {
      "cell_type": "code",
      "execution_count": null,
      "metadata": {
        "id": "CAM3yg5auxs2"
      },
      "outputs": [],
      "source": [
        "! pip install <Nombre de la libraría>"
      ]
    },
    {
      "cell_type": "markdown",
      "metadata": {
        "id": "dpXdOiskvbxt"
      },
      "source": [
        "## Pandas"
      ]
    },
    {
      "cell_type": "markdown",
      "metadata": {
        "id": "aD3BW0xQvlAO"
      },
      "source": [
        "### Diccionarios en Python"
      ]
    },
    {
      "cell_type": "markdown",
      "metadata": {
        "id": "ZhZqHsKUvzdV"
      },
      "source": [
        "#### ¿Cómo crear un diccionario?"
      ]
    },
    {
      "cell_type": "code",
      "execution_count": null,
      "metadata": {
        "id": "lZUZdYEGv3VG"
      },
      "outputs": [],
      "source": [
        "diccionario = {\"clave1\":\"valor1\", \"clave2\":\"valor2\"}"
      ]
    },
    {
      "cell_type": "code",
      "execution_count": null,
      "metadata": {
        "colab": {
          "base_uri": "https://localhost:8080/"
        },
        "id": "7uVpG7Wk6CK_",
        "outputId": "95e36646-0222-47c1-80b3-d37409c997b4"
      },
      "outputs": [
        {
          "data": {
            "text/plain": [
              "{'clave1': 'valor3', 'clave2': 'valor2', 'clave3': 'valor3'}"
            ]
          },
          "execution_count": 7,
          "metadata": {},
          "output_type": "execute_result"
        }
      ],
      "source": [
        "diccionario"
      ]
    },
    {
      "cell_type": "markdown",
      "metadata": {
        "id": "cqpaptryv4Jf"
      },
      "source": [
        " #### ¿Cómo acceder a los elementos del diccionario?"
      ]
    },
    {
      "cell_type": "code",
      "execution_count": null,
      "metadata": {
        "colab": {
          "base_uri": "https://localhost:8080/"
        },
        "id": "QvlLavF8wAE5",
        "outputId": "f247ddc8-acbf-44e7-80b8-c0441ff70e45"
      },
      "outputs": [
        {
          "name": "stdout",
          "output_type": "stream",
          "text": [
            "valor1\n"
          ]
        }
      ],
      "source": [
        "print(diccionario[\"clave1\"])"
      ]
    },
    {
      "cell_type": "markdown",
      "metadata": {
        "id": "EdCNWxYnc6Yd"
      },
      "source": [
        "#### ¿Cómo modificar el diccionario?"
      ]
    },
    {
      "cell_type": "markdown",
      "metadata": {
        "id": "NbbYhn28dRpJ"
      },
      "source": [
        "##### Añadir/cambiar un elemento"
      ]
    },
    {
      "cell_type": "code",
      "execution_count": null,
      "metadata": {
        "id": "5kYpmPX78fvd"
      },
      "outputs": [],
      "source": [
        "diccionario[\"clave3\"] = \"valor3\""
      ]
    },
    {
      "cell_type": "code",
      "execution_count": null,
      "metadata": {
        "colab": {
          "base_uri": "https://localhost:8080/"
        },
        "id": "7SZQ7Rc3fDs4",
        "outputId": "de21ff94-2d62-4b98-932a-a8b8e79ab9e8"
      },
      "outputs": [
        {
          "data": {
            "text/plain": [
              "{'clave1': 'valor1', 'clave2': 'valor2', 'clave3': 'valor3'}"
            ]
          },
          "execution_count": 4,
          "metadata": {},
          "output_type": "execute_result"
        }
      ],
      "source": [
        "diccionario"
      ]
    },
    {
      "cell_type": "code",
      "execution_count": null,
      "metadata": {
        "id": "kwXriV_kfFEq"
      },
      "outputs": [],
      "source": [
        "diccionario[\"clave1\"] = \"valor3\""
      ]
    },
    {
      "cell_type": "code",
      "execution_count": null,
      "metadata": {
        "colab": {
          "base_uri": "https://localhost:8080/"
        },
        "id": "cgDPRWx55_ht",
        "outputId": "f105c4a2-ca02-4d31-8f23-09bdcbe4cd55"
      },
      "outputs": [
        {
          "data": {
            "text/plain": [
              "{'clave1': 'valor3', 'clave2': 'valor2', 'clave3': 'valor3'}"
            ]
          },
          "execution_count": 6,
          "metadata": {},
          "output_type": "execute_result"
        }
      ],
      "source": [
        "diccionario"
      ]
    },
    {
      "cell_type": "markdown",
      "metadata": {
        "id": "v8NaRNZ9e5dR"
      },
      "source": [
        "##### Eliminar un elemento"
      ]
    },
    {
      "cell_type": "code",
      "execution_count": null,
      "metadata": {
        "colab": {
          "base_uri": "https://localhost:8080/",
          "height": 35
        },
        "id": "l2frPuIKe7bg",
        "outputId": "d9083d26-b0f9-445f-8d6b-603b55382219"
      },
      "outputs": [
        {
          "data": {
            "application/vnd.google.colaboratory.intrinsic+json": {
              "type": "string"
            },
            "text/plain": [
              "'valor2'"
            ]
          },
          "execution_count": 8,
          "metadata": {},
          "output_type": "execute_result"
        }
      ],
      "source": [
        "diccionario.pop(\"clave2\")"
      ]
    },
    {
      "cell_type": "code",
      "execution_count": null,
      "metadata": {
        "colab": {
          "base_uri": "https://localhost:8080/"
        },
        "id": "aV94qjRC6H-v",
        "outputId": "94741903-0c0e-41d9-8963-7b1841c2b16c"
      },
      "outputs": [
        {
          "data": {
            "text/plain": [
              "{'clave1': 'valor3', 'clave3': 'valor3'}"
            ]
          },
          "execution_count": 11,
          "metadata": {},
          "output_type": "execute_result"
        }
      ],
      "source": [
        "diccionario"
      ]
    },
    {
      "cell_type": "code",
      "execution_count": null,
      "metadata": {
        "colab": {
          "base_uri": "https://localhost:8080/",
          "height": 169
        },
        "id": "GXCKldMRfYRA",
        "outputId": "c668e721-d99c-4059-b5e7-705e9632b4ec"
      },
      "outputs": [
        {
          "ename": "KeyError",
          "evalue": "ignored",
          "output_type": "error",
          "traceback": [
            "\u001b[0;31m---------------------------------------------------------------------------\u001b[0m",
            "\u001b[0;31mKeyError\u001b[0m                                  Traceback (most recent call last)",
            "\u001b[0;32m<ipython-input-9-9d9fffe179b2>\u001b[0m in \u001b[0;36m<cell line: 1>\u001b[0;34m()\u001b[0m\n\u001b[0;32m----> 1\u001b[0;31m \u001b[0mdiccionario\u001b[0m\u001b[0;34m.\u001b[0m\u001b[0mpop\u001b[0m\u001b[0;34m(\u001b[0m\u001b[0;34m\"clave4\"\u001b[0m\u001b[0;34m)\u001b[0m\u001b[0;34m\u001b[0m\u001b[0;34m\u001b[0m\u001b[0m\n\u001b[0m",
            "\u001b[0;31mKeyError\u001b[0m: 'clave4'"
          ]
        }
      ],
      "source": [
        "diccionario.pop(\"clave4\")"
      ]
    },
    {
      "cell_type": "code",
      "execution_count": null,
      "metadata": {
        "colab": {
          "base_uri": "https://localhost:8080/",
          "height": 35
        },
        "id": "fKd_dnFCfZaR",
        "outputId": "747ca066-7e54-47d3-c482-c1f40bfc2df0"
      },
      "outputs": [
        {
          "data": {
            "application/vnd.google.colaboratory.intrinsic+json": {
              "type": "string"
            },
            "text/plain": [
              "'no existe'"
            ]
          },
          "execution_count": 10,
          "metadata": {},
          "output_type": "execute_result"
        }
      ],
      "source": [
        "diccionario.pop(\"clave4\", \"no existe\")"
      ]
    },
    {
      "cell_type": "code",
      "execution_count": null,
      "metadata": {
        "colab": {
          "base_uri": "https://localhost:8080/"
        },
        "id": "uPNdr1_m50SG",
        "outputId": "5ba03b2c-1bc6-4917-fa65-c427efa68958"
      },
      "outputs": [
        {
          "data": {
            "text/plain": [
              "('clave3', 'valor3')"
            ]
          },
          "execution_count": 12,
          "metadata": {},
          "output_type": "execute_result"
        }
      ],
      "source": [
        "diccionario.popitem()"
      ]
    },
    {
      "cell_type": "code",
      "execution_count": null,
      "metadata": {
        "colab": {
          "base_uri": "https://localhost:8080/"
        },
        "id": "u53Pliek6K5u",
        "outputId": "fa6dfb85-e384-48b9-f133-4a4d24576552"
      },
      "outputs": [
        {
          "data": {
            "text/plain": [
              "{'clave1': 'valor3'}"
            ]
          },
          "execution_count": 13,
          "metadata": {},
          "output_type": "execute_result"
        }
      ],
      "source": [
        "diccionario"
      ]
    },
    {
      "cell_type": "code",
      "execution_count": null,
      "metadata": {
        "colab": {
          "base_uri": "https://localhost:8080/"
        },
        "id": "bYracNGA51Lo",
        "outputId": "8bb0054f-0bfd-446c-a15b-420c69067977"
      },
      "outputs": [
        {
          "data": {
            "text/plain": [
              "('clave1', 'valor3')"
            ]
          },
          "execution_count": 14,
          "metadata": {},
          "output_type": "execute_result"
        }
      ],
      "source": [
        "diccionario.popitem()"
      ]
    },
    {
      "cell_type": "code",
      "execution_count": null,
      "metadata": {
        "colab": {
          "base_uri": "https://localhost:8080/"
        },
        "id": "eSBPNCyJ6Mom",
        "outputId": "7238fa63-23bf-4d8b-94cd-d41a6692b9df"
      },
      "outputs": [
        {
          "data": {
            "text/plain": [
              "{}"
            ]
          },
          "execution_count": 15,
          "metadata": {},
          "output_type": "execute_result"
        }
      ],
      "source": [
        "diccionario"
      ]
    },
    {
      "cell_type": "code",
      "execution_count": null,
      "metadata": {
        "colab": {
          "base_uri": "https://localhost:8080/",
          "height": 169
        },
        "id": "ow6aEguA6Nys",
        "outputId": "e1550dbb-e1c9-4b3a-b2f0-8ac329d4f124"
      },
      "outputs": [
        {
          "ename": "KeyError",
          "evalue": "ignored",
          "output_type": "error",
          "traceback": [
            "\u001b[0;31m---------------------------------------------------------------------------\u001b[0m",
            "\u001b[0;31mKeyError\u001b[0m                                  Traceback (most recent call last)",
            "\u001b[0;32m<ipython-input-16-2c126ba3b259>\u001b[0m in \u001b[0;36m<cell line: 1>\u001b[0;34m()\u001b[0m\n\u001b[0;32m----> 1\u001b[0;31m \u001b[0mdiccionario\u001b[0m\u001b[0;34m.\u001b[0m\u001b[0mpopitem\u001b[0m\u001b[0;34m(\u001b[0m\u001b[0;34m)\u001b[0m\u001b[0;34m\u001b[0m\u001b[0;34m\u001b[0m\u001b[0m\n\u001b[0m",
            "\u001b[0;31mKeyError\u001b[0m: 'popitem(): dictionary is empty'"
          ]
        }
      ],
      "source": [
        "diccionario.popitem()"
      ]
    },
    {
      "cell_type": "code",
      "execution_count": null,
      "metadata": {
        "colab": {
          "base_uri": "https://localhost:8080/"
        },
        "id": "j-Kca9QC6aJN",
        "outputId": "f8e1c31f-dac5-48ec-b66d-1294435f87b7"
      },
      "outputs": [
        {
          "data": {
            "text/plain": [
              "{'clave1': 'valor1', 'clave2': 'valor2'}"
            ]
          },
          "execution_count": 17,
          "metadata": {},
          "output_type": "execute_result"
        }
      ],
      "source": [
        "diccionario = {\"clave1\":\"valor1\", \"clave2\":\"valor2\"}\n",
        "diccionario"
      ]
    },
    {
      "cell_type": "markdown",
      "metadata": {
        "id": "e705ab2c"
      },
      "source": [
        "<img width=600 src=\"https://www.adictosaltrabajo.com/wp-content/uploads/2020/12/1200px-Pandas_logo.svg_.png\">"
      ]
    },
    {
      "cell_type": "markdown",
      "metadata": {
        "id": "67af7280"
      },
      "source": [
        "### Intro"
      ]
    },
    {
      "cell_type": "markdown",
      "metadata": {
        "id": "3651abb5"
      },
      "source": [
        "`pandas` es la librería de Python **más utilizada** para el análisis de datos. Es:\n",
        " * rápida\n",
        " * potente\n",
        " * flexible\n",
        " * fácil de usar\n",
        " * de código abierto ([ver código fuente](https://github.com/pandas-dev/pandas))"
      ]
    },
    {
      "cell_type": "markdown",
      "metadata": {
        "id": "20bdfeb6"
      },
      "source": [
        "[Documentación de pandas](https://pandas.pydata.org/docs/reference/index.html#api)"
      ]
    },
    {
      "cell_type": "markdown",
      "metadata": {
        "id": "bf957158"
      },
      "source": [
        "`pandas` nos ayuda en gran parte de nuestras actividades como Data Scientists"
      ]
    },
    {
      "cell_type": "markdown",
      "metadata": {
        "id": "fantastic-steps"
      },
      "source": [
        "### Instalación"
      ]
    },
    {
      "cell_type": "code",
      "execution_count": 2,
      "metadata": {
        "id": "45ce77d8"
      },
      "outputs": [
        {
          "name": "stdout",
          "output_type": "stream",
          "text": [
            "Collecting pandas\n",
            "  Downloading pandas-2.0.3-cp310-cp310-win_amd64.whl (10.7 MB)\n",
            "     ---------------------------------------- 0.0/10.7 MB ? eta -:--:--\n",
            "     ---------------------------------------- 0.0/10.7 MB 1.3 MB/s eta 0:00:09\n",
            "      --------------------------------------- 0.2/10.7 MB 3.9 MB/s eta 0:00:03\n",
            "     -- ------------------------------------- 0.6/10.7 MB 5.3 MB/s eta 0:00:02\n",
            "     --- ------------------------------------ 0.9/10.7 MB 5.5 MB/s eta 0:00:02\n",
            "     ---- ----------------------------------- 1.2/10.7 MB 5.8 MB/s eta 0:00:02\n",
            "     ----- ---------------------------------- 1.5/10.7 MB 5.8 MB/s eta 0:00:02\n",
            "     ------ --------------------------------- 1.8/10.7 MB 5.9 MB/s eta 0:00:02\n",
            "     ------- -------------------------------- 2.1/10.7 MB 6.0 MB/s eta 0:00:02\n",
            "     -------- ------------------------------- 2.4/10.7 MB 6.1 MB/s eta 0:00:02\n",
            "     ---------- ----------------------------- 2.7/10.7 MB 6.2 MB/s eta 0:00:02\n",
            "     ----------- ---------------------------- 3.1/10.7 MB 6.3 MB/s eta 0:00:02\n",
            "     ------------ --------------------------- 3.4/10.7 MB 6.4 MB/s eta 0:00:02\n",
            "     ------------- -------------------------- 3.6/10.7 MB 6.3 MB/s eta 0:00:02\n",
            "     -------------- ------------------------- 3.9/10.7 MB 6.2 MB/s eta 0:00:02\n",
            "     --------------- ------------------------ 4.2/10.7 MB 6.2 MB/s eta 0:00:02\n",
            "     ---------------- ----------------------- 4.4/10.7 MB 6.1 MB/s eta 0:00:02\n",
            "     ----------------- ---------------------- 4.7/10.7 MB 6.1 MB/s eta 0:00:01\n",
            "     ------------------ --------------------- 4.9/10.7 MB 6.1 MB/s eta 0:00:01\n",
            "     ------------------- -------------------- 5.2/10.7 MB 6.1 MB/s eta 0:00:01\n",
            "     -------------------- ------------------- 5.5/10.7 MB 6.1 MB/s eta 0:00:01\n",
            "     --------------------- ------------------ 5.8/10.7 MB 6.1 MB/s eta 0:00:01\n",
            "     ---------------------- ----------------- 6.1/10.7 MB 6.1 MB/s eta 0:00:01\n",
            "     ------------------------ --------------- 6.4/10.7 MB 6.1 MB/s eta 0:00:01\n",
            "     ------------------------- -------------- 6.7/10.7 MB 6.1 MB/s eta 0:00:01\n",
            "     -------------------------- ------------- 7.0/10.7 MB 6.1 MB/s eta 0:00:01\n",
            "     --------------------------- ------------ 7.4/10.7 MB 6.2 MB/s eta 0:00:01\n",
            "     ---------------------------- ----------- 7.7/10.7 MB 6.2 MB/s eta 0:00:01\n",
            "     ------------------------------ --------- 8.0/10.7 MB 6.3 MB/s eta 0:00:01\n",
            "     ------------------------------- -------- 8.4/10.7 MB 6.4 MB/s eta 0:00:01\n",
            "     -------------------------------- ------- 8.7/10.7 MB 6.4 MB/s eta 0:00:01\n",
            "     ---------------------------------- ----- 9.1/10.7 MB 6.5 MB/s eta 0:00:01\n",
            "     ----------------------------------- ---- 9.5/10.7 MB 6.5 MB/s eta 0:00:01\n",
            "     ------------------------------------- -- 9.9/10.7 MB 6.6 MB/s eta 0:00:01\n",
            "     -------------------------------------- - 10.3/10.7 MB 6.7 MB/s eta 0:00:01\n",
            "     ---------------------------------------  10.7/10.7 MB 6.7 MB/s eta 0:00:01\n",
            "     ---------------------------------------  10.7/10.7 MB 6.7 MB/s eta 0:00:01\n",
            "     ---------------------------------------  10.7/10.7 MB 6.7 MB/s eta 0:00:01\n",
            "     ---------------------------------------- 10.7/10.7 MB 6.1 MB/s eta 0:00:00\n",
            "Requirement already satisfied: python-dateutil>=2.8.2 in c:\\users\\elogrono\\appdata\\local\\packages\\pythonsoftwarefoundation.python.3.10_qbz5n2kfra8p0\\localcache\\local-packages\\python310\\site-packages (from pandas) (2.8.2)\n",
            "Collecting numpy>=1.21.0\n",
            "  Downloading numpy-1.25.0-cp310-cp310-win_amd64.whl (15.0 MB)\n",
            "     ---------------------------------------- 0.0/15.0 MB ? eta -:--:--\n",
            "     - -------------------------------------- 0.5/15.0 MB 10.0 MB/s eta 0:00:02\n",
            "     -- ------------------------------------- 0.9/15.0 MB 9.2 MB/s eta 0:00:02\n",
            "     --- ------------------------------------ 1.3/15.0 MB 9.0 MB/s eta 0:00:02\n",
            "     ---- ----------------------------------- 1.6/15.0 MB 9.3 MB/s eta 0:00:02\n",
            "     ----- ---------------------------------- 1.9/15.0 MB 8.3 MB/s eta 0:00:02\n",
            "     ------ --------------------------------- 2.3/15.0 MB 8.0 MB/s eta 0:00:02\n",
            "     ------ --------------------------------- 2.6/15.0 MB 7.8 MB/s eta 0:00:02\n",
            "     ------- -------------------------------- 2.9/15.0 MB 7.6 MB/s eta 0:00:02\n",
            "     -------- ------------------------------- 3.2/15.0 MB 7.6 MB/s eta 0:00:02\n",
            "     --------- ------------------------------ 3.5/15.0 MB 7.5 MB/s eta 0:00:02\n",
            "     ---------- ----------------------------- 3.8/15.0 MB 7.4 MB/s eta 0:00:02\n",
            "     ----------- ---------------------------- 4.2/15.0 MB 7.4 MB/s eta 0:00:02\n",
            "     ----------- ---------------------------- 4.5/15.0 MB 7.3 MB/s eta 0:00:02\n",
            "     ------------ --------------------------- 4.7/15.0 MB 7.2 MB/s eta 0:00:02\n",
            "     ------------- -------------------------- 4.9/15.0 MB 7.0 MB/s eta 0:00:02\n",
            "     ------------- -------------------------- 5.2/15.0 MB 6.9 MB/s eta 0:00:02\n",
            "     -------------- ------------------------- 5.5/15.0 MB 6.8 MB/s eta 0:00:02\n",
            "     --------------- ------------------------ 5.7/15.0 MB 6.8 MB/s eta 0:00:02\n",
            "     --------------- ------------------------ 6.0/15.0 MB 6.7 MB/s eta 0:00:02\n",
            "     ---------------- ----------------------- 6.2/15.0 MB 6.7 MB/s eta 0:00:02\n",
            "     ----------------- ---------------------- 6.5/15.0 MB 6.6 MB/s eta 0:00:02\n",
            "     ----------------- ---------------------- 6.7/15.0 MB 6.5 MB/s eta 0:00:02\n",
            "     ------------------ --------------------- 6.9/15.0 MB 6.4 MB/s eta 0:00:02\n",
            "     ------------------ --------------------- 7.1/15.0 MB 6.4 MB/s eta 0:00:02\n",
            "     ------------------- -------------------- 7.3/15.0 MB 6.2 MB/s eta 0:00:02\n",
            "     -------------------- ------------------- 7.5/15.0 MB 6.2 MB/s eta 0:00:02\n",
            "     -------------------- ------------------- 7.7/15.0 MB 6.2 MB/s eta 0:00:02\n",
            "     --------------------- ------------------ 8.0/15.0 MB 6.1 MB/s eta 0:00:02\n",
            "     --------------------- ------------------ 8.2/15.0 MB 6.1 MB/s eta 0:00:02\n",
            "     ---------------------- ----------------- 8.4/15.0 MB 6.1 MB/s eta 0:00:02\n",
            "     ----------------------- ---------------- 8.7/15.0 MB 6.0 MB/s eta 0:00:02\n",
            "     ----------------------- ---------------- 8.8/15.0 MB 5.9 MB/s eta 0:00:02\n",
            "     ----------------------- ---------------- 8.9/15.0 MB 5.8 MB/s eta 0:00:02\n",
            "     ------------------------ --------------- 9.0/15.0 MB 5.7 MB/s eta 0:00:02\n",
            "     ------------------------ --------------- 9.2/15.0 MB 5.6 MB/s eta 0:00:02\n",
            "     ------------------------ --------------- 9.3/15.0 MB 5.6 MB/s eta 0:00:02\n",
            "     ------------------------- -------------- 9.5/15.0 MB 5.5 MB/s eta 0:00:02\n",
            "     ------------------------- -------------- 9.6/15.0 MB 5.4 MB/s eta 0:00:01\n",
            "     -------------------------- ------------- 9.8/15.0 MB 5.4 MB/s eta 0:00:01\n",
            "     -------------------------- ------------- 9.9/15.0 MB 5.3 MB/s eta 0:00:01\n",
            "     -------------------------- ------------- 10.1/15.0 MB 5.3 MB/s eta 0:00:01\n",
            "     --------------------------- ------------ 10.2/15.0 MB 5.2 MB/s eta 0:00:01\n",
            "     --------------------------- ------------ 10.3/15.0 MB 5.1 MB/s eta 0:00:01\n",
            "     --------------------------- ------------ 10.3/15.0 MB 5.0 MB/s eta 0:00:01\n",
            "     --------------------------- ------------ 10.4/15.0 MB 4.9 MB/s eta 0:00:01\n",
            "     ---------------------------- ----------- 10.6/15.0 MB 4.9 MB/s eta 0:00:01\n",
            "     ---------------------------- ----------- 10.7/15.0 MB 4.8 MB/s eta 0:00:01\n",
            "     ---------------------------- ----------- 10.8/15.0 MB 4.7 MB/s eta 0:00:01\n",
            "     ---------------------------- ----------- 10.9/15.0 MB 4.6 MB/s eta 0:00:01\n",
            "     ----------------------------- ---------- 11.0/15.0 MB 4.5 MB/s eta 0:00:01\n",
            "     ----------------------------- ---------- 11.1/15.0 MB 4.5 MB/s eta 0:00:01\n",
            "     ----------------------------- ---------- 11.2/15.0 MB 4.4 MB/s eta 0:00:01\n",
            "     ------------------------------ --------- 11.3/15.0 MB 4.3 MB/s eta 0:00:01\n",
            "     ------------------------------ --------- 11.4/15.0 MB 4.3 MB/s eta 0:00:01\n",
            "     ------------------------------ --------- 11.5/15.0 MB 4.2 MB/s eta 0:00:01\n",
            "     ------------------------------ --------- 11.6/15.0 MB 4.1 MB/s eta 0:00:01\n",
            "     ------------------------------- -------- 11.7/15.0 MB 4.1 MB/s eta 0:00:01\n",
            "     ------------------------------- -------- 11.7/15.0 MB 4.1 MB/s eta 0:00:01\n",
            "     ------------------------------- -------- 11.8/15.0 MB 4.0 MB/s eta 0:00:01\n",
            "     ------------------------------- -------- 12.0/15.0 MB 3.9 MB/s eta 0:00:01\n",
            "     -------------------------------- ------- 12.1/15.0 MB 3.9 MB/s eta 0:00:01\n",
            "     -------------------------------- ------- 12.2/15.0 MB 3.9 MB/s eta 0:00:01\n",
            "     -------------------------------- ------- 12.4/15.0 MB 3.8 MB/s eta 0:00:01\n",
            "     --------------------------------- ------ 12.5/15.0 MB 3.8 MB/s eta 0:00:01\n",
            "     --------------------------------- ------ 12.7/15.0 MB 3.8 MB/s eta 0:00:01\n",
            "     ---------------------------------- ----- 12.8/15.0 MB 3.7 MB/s eta 0:00:01\n",
            "     ---------------------------------- ----- 13.0/15.0 MB 3.7 MB/s eta 0:00:01\n",
            "     ----------------------------------- ---- 13.2/15.0 MB 3.7 MB/s eta 0:00:01\n",
            "     ----------------------------------- ---- 13.3/15.0 MB 3.6 MB/s eta 0:00:01\n",
            "     ----------------------------------- ---- 13.5/15.0 MB 3.6 MB/s eta 0:00:01\n",
            "     ------------------------------------ --- 13.7/15.0 MB 3.6 MB/s eta 0:00:01\n",
            "     ------------------------------------ --- 13.9/15.0 MB 3.6 MB/s eta 0:00:01\n",
            "     ------------------------------------- -- 14.1/15.0 MB 3.5 MB/s eta 0:00:01\n",
            "     -------------------------------------- - 14.3/15.0 MB 3.5 MB/s eta 0:00:01\n",
            "     -------------------------------------- - 14.6/15.0 MB 3.5 MB/s eta 0:00:01\n",
            "     ---------------------------------------  14.8/15.0 MB 3.5 MB/s eta 0:00:01\n",
            "     ---------------------------------------  15.0/15.0 MB 3.5 MB/s eta 0:00:01\n",
            "     ---------------------------------------  15.0/15.0 MB 3.5 MB/s eta 0:00:01\n",
            "     ---------------------------------------  15.0/15.0 MB 3.5 MB/s eta 0:00:01\n",
            "     ---------------------------------------  15.0/15.0 MB 3.5 MB/s eta 0:00:01\n",
            "     ---------------------------------------- 15.0/15.0 MB 3.3 MB/s eta 0:00:00\n",
            "Collecting tzdata>=2022.1\n",
            "  Using cached tzdata-2023.3-py2.py3-none-any.whl (341 kB)\n",
            "Collecting pytz>=2020.1\n",
            "  Downloading pytz-2023.3-py2.py3-none-any.whl (502 kB)\n",
            "     ---------------------------------------- 0.0/502.3 kB ? eta -:--:--\n",
            "     ----------------- -------------------- 225.3/502.3 kB 4.6 MB/s eta 0:00:01\n",
            "     ------------------------------------ - 481.3/502.3 kB 6.0 MB/s eta 0:00:01\n",
            "     -------------------------------------- 502.3/502.3 kB 3.5 MB/s eta 0:00:00\n",
            "Requirement already satisfied: six>=1.5 in c:\\users\\elogrono\\appdata\\local\\packages\\pythonsoftwarefoundation.python.3.10_qbz5n2kfra8p0\\localcache\\local-packages\\python310\\site-packages (from python-dateutil>=2.8.2->pandas) (1.16.0)\n",
            "Installing collected packages: pytz, tzdata, numpy, pandas\n",
            "Successfully installed numpy-1.25.0 pandas-2.0.3 pytz-2023.3 tzdata-2023.3\n"
          ]
        },
        {
          "name": "stderr",
          "output_type": "stream",
          "text": [
            "\n",
            "[notice] A new release of pip is available: 23.0 -> 23.1.2\n",
            "[notice] To update, run: C:\\Users\\elogrono\\AppData\\Local\\Microsoft\\WindowsApps\\PythonSoftwareFoundation.Python.3.10_qbz5n2kfra8p0\\python.exe -m pip install --upgrade pip\n"
          ]
        }
      ],
      "source": [
        "! pip install pandas"
      ]
    },
    {
      "cell_type": "code",
      "execution_count": 3,
      "metadata": {
        "id": "psychological-theorem"
      },
      "outputs": [],
      "source": [
        "import pandas as pd"
      ]
    },
    {
      "cell_type": "markdown",
      "metadata": {
        "id": "explicit-harvest"
      },
      "source": [
        "### Estructuras de datos de pandas"
      ]
    },
    {
      "cell_type": "markdown",
      "metadata": {
        "id": "0ebf4ef3"
      },
      "source": [
        "#### Series"
      ]
    },
    {
      "cell_type": "markdown",
      "metadata": {
        "id": "angry-hamburg"
      },
      "source": [
        "Una `pd.Series` es un objeto tipo array **unidimensional** donde cada elemento tiene un nombre (índice, no necesariamente numérico)"
      ]
    },
    {
      "cell_type": "code",
      "execution_count": 4,
      "metadata": {
        "id": "beautiful-stylus"
      },
      "outputs": [],
      "source": [
        "s = pd.Series([7, 18, 22, 4], index=[\"Juan\", \"Emilio\", \"Rosa\", \"Tania\"])"
      ]
    },
    {
      "cell_type": "code",
      "execution_count": 5,
      "metadata": {
        "id": "4a600f20"
      },
      "outputs": [
        {
          "data": {
            "text/plain": [
              "Juan       7\n",
              "Emilio    18\n",
              "Rosa      22\n",
              "Tania      4\n",
              "dtype: int64"
            ]
          },
          "execution_count": 5,
          "metadata": {},
          "output_type": "execute_result"
        }
      ],
      "source": [
        "s"
      ]
    },
    {
      "cell_type": "code",
      "execution_count": null,
      "metadata": {
        "id": "419bad02"
      },
      "outputs": [],
      "source": [
        "type(s)"
      ]
    },
    {
      "cell_type": "code",
      "execution_count": 6,
      "metadata": {
        "id": "2c7e2b01"
      },
      "outputs": [
        {
          "data": {
            "text/plain": [
              "Index(['Juan', 'Emilio', 'Rosa', 'Tania'], dtype='object')"
            ]
          },
          "execution_count": 6,
          "metadata": {},
          "output_type": "execute_result"
        }
      ],
      "source": [
        "s.index"
      ]
    },
    {
      "cell_type": "code",
      "execution_count": 7,
      "metadata": {
        "id": "waiting-lodge"
      },
      "outputs": [
        {
          "data": {
            "text/plain": [
              "array([ 7, 18, 22,  4], dtype=int64)"
            ]
          },
          "execution_count": 7,
          "metadata": {},
          "output_type": "execute_result"
        }
      ],
      "source": [
        "s.values"
      ]
    },
    {
      "cell_type": "code",
      "execution_count": 8,
      "metadata": {
        "id": "a626b65f"
      },
      "outputs": [
        {
          "data": {
            "text/plain": [
              "7"
            ]
          },
          "execution_count": 8,
          "metadata": {},
          "output_type": "execute_result"
        }
      ],
      "source": [
        "s[\"Juan\"]"
      ]
    },
    {
      "cell_type": "markdown",
      "metadata": {
        "id": "educated-tourism"
      },
      "source": [
        "Podemos pensar en una `pd.Series` como un `dict` ordenado, pues mapea cada índice a un valor\n",
        "\n",
        "`pandas` es muy inteligente, y si tienes datos contenidos en un `dict` de Python, puedes crear una `pd.Series` fácilmente."
      ]
    },
    {
      "cell_type": "code",
      "execution_count": 12,
      "metadata": {
        "id": "incorrect-washington"
      },
      "outputs": [],
      "source": [
        "pop = {'Ohio': 35000, 'Texas': 71000, 'Oregon': 16000, 'Utah': 5000}"
      ]
    },
    {
      "cell_type": "code",
      "execution_count": null,
      "metadata": {
        "id": "e507f5de"
      },
      "outputs": [],
      "source": [
        "pop"
      ]
    },
    {
      "cell_type": "code",
      "execution_count": null,
      "metadata": {
        "id": "8b2427bd"
      },
      "outputs": [],
      "source": [
        "pop[\"Ohio\"]"
      ]
    },
    {
      "cell_type": "code",
      "execution_count": null,
      "metadata": {
        "id": "ad23b535"
      },
      "outputs": [],
      "source": [
        "type(pop)"
      ]
    },
    {
      "cell_type": "code",
      "execution_count": 13,
      "metadata": {
        "id": "human-civilian"
      },
      "outputs": [],
      "source": [
        "populations = pd.Series(pop)"
      ]
    },
    {
      "cell_type": "code",
      "execution_count": 8,
      "metadata": {
        "id": "charitable-transparency"
      },
      "outputs": [
        {
          "data": {
            "text/plain": [
              "Ohio      35000\n",
              "Texas     71000\n",
              "Oregon    16000\n",
              "Utah       5000\n",
              "dtype: int64"
            ]
          },
          "execution_count": 8,
          "metadata": {},
          "output_type": "execute_result"
        }
      ],
      "source": [
        "populations"
      ]
    },
    {
      "cell_type": "code",
      "execution_count": null,
      "metadata": {
        "id": "6619f718"
      },
      "outputs": [],
      "source": [
        "type(populations)"
      ]
    },
    {
      "cell_type": "code",
      "execution_count": 10,
      "metadata": {
        "id": "c66611e4"
      },
      "outputs": [
        {
          "ename": "NameError",
          "evalue": "name 'populations' is not defined",
          "output_type": "error",
          "traceback": [
            "\u001b[1;31m---------------------------------------------------------------------------\u001b[0m",
            "\u001b[1;31mNameError\u001b[0m                                 Traceback (most recent call last)",
            "Cell \u001b[1;32mIn[10], line 1\u001b[0m\n\u001b[1;32m----> 1\u001b[0m populations[\u001b[39m\"\u001b[39m\u001b[39mOhio\u001b[39m\u001b[39m\"\u001b[39m]\n",
            "\u001b[1;31mNameError\u001b[0m: name 'populations' is not defined"
          ]
        }
      ],
      "source": [
        "populations[\"Ohio\"]"
      ]
    },
    {
      "cell_type": "code",
      "execution_count": null,
      "metadata": {
        "id": "634bee12"
      },
      "outputs": [],
      "source": [
        "populations * 1.06 ** 2"
      ]
    },
    {
      "cell_type": "code",
      "execution_count": 9,
      "metadata": {
        "id": "JVqFygrTG7cN"
      },
      "outputs": [
        {
          "ename": "NameError",
          "evalue": "name 'populations' is not defined",
          "output_type": "error",
          "traceback": [
            "\u001b[1;31m---------------------------------------------------------------------------\u001b[0m",
            "\u001b[1;31mNameError\u001b[0m                                 Traceback (most recent call last)",
            "Cell \u001b[1;32mIn[9], line 1\u001b[0m\n\u001b[1;32m----> 1\u001b[0m populations \u001b[39m-\u001b[39m \u001b[39m1000\u001b[39m\n",
            "\u001b[1;31mNameError\u001b[0m: name 'populations' is not defined"
          ]
        }
      ],
      "source": [
        "populations - 1000"
      ]
    },
    {
      "cell_type": "code",
      "execution_count": 14,
      "metadata": {
        "id": "649e27bc"
      },
      "outputs": [
        {
          "data": {
            "text/plain": [
              "Ohio       True\n",
              "Texas      True\n",
              "Oregon     True\n",
              "Utah      False\n",
              "dtype: bool"
            ]
          },
          "execution_count": 14,
          "metadata": {},
          "output_type": "execute_result"
        }
      ],
      "source": [
        "populations > 10000"
      ]
    },
    {
      "cell_type": "code",
      "execution_count": null,
      "metadata": {
        "id": "63f6c30b"
      },
      "outputs": [],
      "source": [
        "populations[populations > 10000]"
      ]
    },
    {
      "cell_type": "code",
      "execution_count": 11,
      "metadata": {},
      "outputs": [
        {
          "data": {
            "text/plain": [
              "Ohio      35000\n",
              "Oregon    16000\n",
              "dtype: int64"
            ]
          },
          "execution_count": 11,
          "metadata": {},
          "output_type": "execute_result"
        }
      ],
      "source": [
        "populations[\"Ohio\":\"Oregon\"]"
      ]
    },
    {
      "cell_type": "markdown",
      "metadata": {
        "id": "c909406a"
      },
      "source": [
        "#### DataFrames"
      ]
    },
    {
      "cell_type": "code",
      "execution_count": 15,
      "metadata": {
        "id": "5220dc70"
      },
      "outputs": [],
      "source": [
        "import numpy as np"
      ]
    },
    {
      "cell_type": "code",
      "execution_count": 17,
      "metadata": {
        "id": "b384f04f"
      },
      "outputs": [],
      "source": [
        "# desde un diccionario\n",
        "data = {\n",
        "    'state': ['Ohio', 'Ohio', 'Ohio', 'Nevada', 'Nevada', 'Nevada'],\n",
        "    'year': [2000, 2001, 2002, 2001, 2002, 2003],\n",
        "    'pop': [1.5, 1.7, 3.6, 2.4, 2.9, np.nan]\n",
        "}"
      ]
    },
    {
      "cell_type": "code",
      "execution_count": 18,
      "metadata": {},
      "outputs": [],
      "source": [
        "usuarios = {\n",
        "    'nombre': ['Juan', 'Emilio', 'Rosa', 'Tania'],\n",
        "    'edad': [18, 22, 4, 7],\n",
        "    'ubicacion': ['CDMX', 'CDMX', 'CDMX', 'CDMX'],\n",
        "    'pais': ['Mexico', 'Mexico', 'Mexico', 'Mexico']\n",
        "}"
      ]
    },
    {
      "cell_type": "code",
      "execution_count": 19,
      "metadata": {},
      "outputs": [
        {
          "data": {
            "text/html": [
              "<div>\n",
              "<style scoped>\n",
              "    .dataframe tbody tr th:only-of-type {\n",
              "        vertical-align: middle;\n",
              "    }\n",
              "\n",
              "    .dataframe tbody tr th {\n",
              "        vertical-align: top;\n",
              "    }\n",
              "\n",
              "    .dataframe thead th {\n",
              "        text-align: right;\n",
              "    }\n",
              "</style>\n",
              "<table border=\"1\" class=\"dataframe\">\n",
              "  <thead>\n",
              "    <tr style=\"text-align: right;\">\n",
              "      <th></th>\n",
              "      <th>nombre</th>\n",
              "      <th>edad</th>\n",
              "      <th>ubicacion</th>\n",
              "      <th>pais</th>\n",
              "    </tr>\n",
              "  </thead>\n",
              "  <tbody>\n",
              "    <tr>\n",
              "      <th>0</th>\n",
              "      <td>Juan</td>\n",
              "      <td>18</td>\n",
              "      <td>CDMX</td>\n",
              "      <td>Mexico</td>\n",
              "    </tr>\n",
              "    <tr>\n",
              "      <th>1</th>\n",
              "      <td>Emilio</td>\n",
              "      <td>22</td>\n",
              "      <td>CDMX</td>\n",
              "      <td>Mexico</td>\n",
              "    </tr>\n",
              "    <tr>\n",
              "      <th>2</th>\n",
              "      <td>Rosa</td>\n",
              "      <td>4</td>\n",
              "      <td>CDMX</td>\n",
              "      <td>Mexico</td>\n",
              "    </tr>\n",
              "    <tr>\n",
              "      <th>3</th>\n",
              "      <td>Tania</td>\n",
              "      <td>7</td>\n",
              "      <td>CDMX</td>\n",
              "      <td>Mexico</td>\n",
              "    </tr>\n",
              "  </tbody>\n",
              "</table>\n",
              "</div>"
            ],
            "text/plain": [
              "   nombre  edad ubicacion    pais\n",
              "0    Juan    18      CDMX  Mexico\n",
              "1  Emilio    22      CDMX  Mexico\n",
              "2    Rosa     4      CDMX  Mexico\n",
              "3   Tania     7      CDMX  Mexico"
            ]
          },
          "execution_count": 19,
          "metadata": {},
          "output_type": "execute_result"
        }
      ],
      "source": [
        "data_frame =  pd.DataFrame(usuarios)\n",
        "data_frame"
      ]
    },
    {
      "cell_type": "markdown",
      "metadata": {},
      "source": [
        "Sacar la media de edad"
      ]
    },
    {
      "cell_type": "code",
      "execution_count": 24,
      "metadata": {},
      "outputs": [
        {
          "data": {
            "text/plain": [
              "12.75"
            ]
          },
          "execution_count": 24,
          "metadata": {},
          "output_type": "execute_result"
        }
      ],
      "source": [
        "edad = 0\n",
        "for i in data_frame[\"edad\"]:\n",
        "    edad += i\n",
        "    \n",
        "media = edad / len(data_frame[\"edad\"])\n",
        "media"
      ]
    },
    {
      "cell_type": "code",
      "execution_count": 14,
      "metadata": {
        "id": "d0dc3cd0"
      },
      "outputs": [
        {
          "data": {
            "text/plain": [
              "dict"
            ]
          },
          "execution_count": 14,
          "metadata": {},
          "output_type": "execute_result"
        }
      ],
      "source": [
        "type(data)"
      ]
    },
    {
      "cell_type": "code",
      "execution_count": 15,
      "metadata": {
        "id": "daa42b1c"
      },
      "outputs": [],
      "source": [
        "df = pd.DataFrame(data)"
      ]
    },
    {
      "cell_type": "code",
      "execution_count": 16,
      "metadata": {
        "id": "998a6135"
      },
      "outputs": [
        {
          "data": {
            "text/html": [
              "<div>\n",
              "<style scoped>\n",
              "    .dataframe tbody tr th:only-of-type {\n",
              "        vertical-align: middle;\n",
              "    }\n",
              "\n",
              "    .dataframe tbody tr th {\n",
              "        vertical-align: top;\n",
              "    }\n",
              "\n",
              "    .dataframe thead th {\n",
              "        text-align: right;\n",
              "    }\n",
              "</style>\n",
              "<table border=\"1\" class=\"dataframe\">\n",
              "  <thead>\n",
              "    <tr style=\"text-align: right;\">\n",
              "      <th></th>\n",
              "      <th>state</th>\n",
              "      <th>year</th>\n",
              "      <th>pop</th>\n",
              "    </tr>\n",
              "  </thead>\n",
              "  <tbody>\n",
              "    <tr>\n",
              "      <th>0</th>\n",
              "      <td>Ohio</td>\n",
              "      <td>2000</td>\n",
              "      <td>1.5</td>\n",
              "    </tr>\n",
              "    <tr>\n",
              "      <th>1</th>\n",
              "      <td>Ohio</td>\n",
              "      <td>2001</td>\n",
              "      <td>1.7</td>\n",
              "    </tr>\n",
              "    <tr>\n",
              "      <th>2</th>\n",
              "      <td>Ohio</td>\n",
              "      <td>2002</td>\n",
              "      <td>3.6</td>\n",
              "    </tr>\n",
              "    <tr>\n",
              "      <th>3</th>\n",
              "      <td>Nevada</td>\n",
              "      <td>2001</td>\n",
              "      <td>2.4</td>\n",
              "    </tr>\n",
              "    <tr>\n",
              "      <th>4</th>\n",
              "      <td>Nevada</td>\n",
              "      <td>2002</td>\n",
              "      <td>2.9</td>\n",
              "    </tr>\n",
              "    <tr>\n",
              "      <th>5</th>\n",
              "      <td>Nevada</td>\n",
              "      <td>2003</td>\n",
              "      <td>NaN</td>\n",
              "    </tr>\n",
              "  </tbody>\n",
              "</table>\n",
              "</div>"
            ],
            "text/plain": [
              "    state  year  pop\n",
              "0    Ohio  2000  1.5\n",
              "1    Ohio  2001  1.7\n",
              "2    Ohio  2002  3.6\n",
              "3  Nevada  2001  2.4\n",
              "4  Nevada  2002  2.9\n",
              "5  Nevada  2003  NaN"
            ]
          },
          "execution_count": 16,
          "metadata": {},
          "output_type": "execute_result"
        }
      ],
      "source": [
        "df"
      ]
    },
    {
      "cell_type": "code",
      "execution_count": 25,
      "metadata": {
        "id": "f3469819"
      },
      "outputs": [],
      "source": [
        "# desde una lista de diccionarios\n",
        "datos = [\n",
        "    {\n",
        "        'nombre': 'Fer',\n",
        "        'apellido': 'Castro',\n",
        "        'email': 'fer.castro@gmail.com',\n",
        "        'edad': 30\n",
        "    },\n",
        "    {\n",
        "        'nombre': 'Ana',\n",
        "        'apellido': 'García',\n",
        "        'email': 'ana.garcia@hotmail.com',\n",
        "        'edad': 34\n",
        "    },\n",
        "    {\n",
        "        'nombre': 'Juan',\n",
        "        'apellido': 'Lopez',\n",
        "        'email': 'juan.lopez@gmail.com',\n",
        "        'edad': 26\n",
        "    }\n",
        "]"
      ]
    },
    {
      "cell_type": "code",
      "execution_count": null,
      "metadata": {
        "id": "84fd2856"
      },
      "outputs": [],
      "source": [
        "type(datos)"
      ]
    },
    {
      "cell_type": "code",
      "execution_count": null,
      "metadata": {
        "id": "8375ed38"
      },
      "outputs": [],
      "source": [
        "len(datos)"
      ]
    },
    {
      "cell_type": "code",
      "execution_count": 26,
      "metadata": {
        "id": "1bcfeeb6"
      },
      "outputs": [],
      "source": [
        "df2 = pd.DataFrame(datos)"
      ]
    },
    {
      "cell_type": "code",
      "execution_count": 27,
      "metadata": {
        "id": "80e9b2c2"
      },
      "outputs": [
        {
          "data": {
            "text/html": [
              "<div>\n",
              "<style scoped>\n",
              "    .dataframe tbody tr th:only-of-type {\n",
              "        vertical-align: middle;\n",
              "    }\n",
              "\n",
              "    .dataframe tbody tr th {\n",
              "        vertical-align: top;\n",
              "    }\n",
              "\n",
              "    .dataframe thead th {\n",
              "        text-align: right;\n",
              "    }\n",
              "</style>\n",
              "<table border=\"1\" class=\"dataframe\">\n",
              "  <thead>\n",
              "    <tr style=\"text-align: right;\">\n",
              "      <th></th>\n",
              "      <th>nombre</th>\n",
              "      <th>apellido</th>\n",
              "      <th>email</th>\n",
              "      <th>edad</th>\n",
              "    </tr>\n",
              "  </thead>\n",
              "  <tbody>\n",
              "    <tr>\n",
              "      <th>0</th>\n",
              "      <td>Fer</td>\n",
              "      <td>Castro</td>\n",
              "      <td>fer.castro@gmail.com</td>\n",
              "      <td>30</td>\n",
              "    </tr>\n",
              "    <tr>\n",
              "      <th>1</th>\n",
              "      <td>Ana</td>\n",
              "      <td>García</td>\n",
              "      <td>ana.garcia@hotmail.com</td>\n",
              "      <td>34</td>\n",
              "    </tr>\n",
              "    <tr>\n",
              "      <th>2</th>\n",
              "      <td>Juan</td>\n",
              "      <td>Lopez</td>\n",
              "      <td>juan.lopez@gmail.com</td>\n",
              "      <td>26</td>\n",
              "    </tr>\n",
              "  </tbody>\n",
              "</table>\n",
              "</div>"
            ],
            "text/plain": [
              "  nombre apellido                   email  edad\n",
              "0    Fer   Castro    fer.castro@gmail.com    30\n",
              "1    Ana   García  ana.garcia@hotmail.com    34\n",
              "2   Juan    Lopez    juan.lopez@gmail.com    26"
            ]
          },
          "execution_count": 27,
          "metadata": {},
          "output_type": "execute_result"
        }
      ],
      "source": [
        "df2"
      ]
    },
    {
      "cell_type": "markdown",
      "metadata": {
        "id": "d91a6124"
      },
      "source": [
        "### Cargar datos desde archivo"
      ]
    },
    {
      "cell_type": "markdown",
      "metadata": {
        "id": "lyric-navigation"
      },
      "source": [
        "Pandas puede leer y escribir datos de una gran variedad de formatos.\n",
        "\n",
        "[Documentación](https://pandas.pydata.org/pandas-docs/stable/user_guide/io.html)"
      ]
    },
    {
      "cell_type": "markdown",
      "metadata": {
        "id": "mexican-catch"
      },
      "source": [
        "#### .csv"
      ]
    },
    {
      "cell_type": "code",
      "execution_count": 20,
      "metadata": {
        "id": "e59d695e"
      },
      "outputs": [],
      "source": [
        "df = pd.read_csv(\"./datasets/titanic.csv\")"
      ]
    },
    {
      "cell_type": "code",
      "execution_count": 21,
      "metadata": {
        "id": "98c61296"
      },
      "outputs": [
        {
          "data": {
            "text/plain": [
              "(1309, 11)"
            ]
          },
          "execution_count": 21,
          "metadata": {},
          "output_type": "execute_result"
        }
      ],
      "source": [
        "df.shape"
      ]
    },
    {
      "cell_type": "code",
      "execution_count": 22,
      "metadata": {
        "id": "ee652f11"
      },
      "outputs": [
        {
          "data": {
            "text/html": [
              "<div>\n",
              "<style scoped>\n",
              "    .dataframe tbody tr th:only-of-type {\n",
              "        vertical-align: middle;\n",
              "    }\n",
              "\n",
              "    .dataframe tbody tr th {\n",
              "        vertical-align: top;\n",
              "    }\n",
              "\n",
              "    .dataframe thead th {\n",
              "        text-align: right;\n",
              "    }\n",
              "</style>\n",
              "<table border=\"1\" class=\"dataframe\">\n",
              "  <thead>\n",
              "    <tr style=\"text-align: right;\">\n",
              "      <th></th>\n",
              "      <th>Name</th>\n",
              "      <th>Sex</th>\n",
              "      <th>Age</th>\n",
              "      <th>Pclass</th>\n",
              "      <th>SibSp</th>\n",
              "      <th>Parch</th>\n",
              "      <th>Ticket</th>\n",
              "      <th>Fare</th>\n",
              "      <th>Cabin</th>\n",
              "      <th>Embarked</th>\n",
              "      <th>Survived</th>\n",
              "    </tr>\n",
              "  </thead>\n",
              "  <tbody>\n",
              "    <tr>\n",
              "      <th>0</th>\n",
              "      <td>Karaic, Mr. Milan</td>\n",
              "      <td>male</td>\n",
              "      <td>30.0</td>\n",
              "      <td>3</td>\n",
              "      <td>0</td>\n",
              "      <td>0</td>\n",
              "      <td>349246</td>\n",
              "      <td>7.8958</td>\n",
              "      <td>NaN</td>\n",
              "      <td>S</td>\n",
              "      <td>0</td>\n",
              "    </tr>\n",
              "    <tr>\n",
              "      <th>1</th>\n",
              "      <td>Dean, Mrs. Bertram</td>\n",
              "      <td>female</td>\n",
              "      <td>33.0</td>\n",
              "      <td>3</td>\n",
              "      <td>1</td>\n",
              "      <td>2</td>\n",
              "      <td>C.A. 2315</td>\n",
              "      <td>20.5750</td>\n",
              "      <td>NaN</td>\n",
              "      <td>S</td>\n",
              "      <td>1</td>\n",
              "    </tr>\n",
              "    <tr>\n",
              "      <th>2</th>\n",
              "      <td>Rice, Mrs. William</td>\n",
              "      <td>female</td>\n",
              "      <td>39.0</td>\n",
              "      <td>3</td>\n",
              "      <td>0</td>\n",
              "      <td>5</td>\n",
              "      <td>382652</td>\n",
              "      <td>29.1250</td>\n",
              "      <td>NaN</td>\n",
              "      <td>Q</td>\n",
              "      <td>0</td>\n",
              "    </tr>\n",
              "    <tr>\n",
              "      <th>3</th>\n",
              "      <td>Davidson, Mrs. Thornton</td>\n",
              "      <td>female</td>\n",
              "      <td>27.0</td>\n",
              "      <td>1</td>\n",
              "      <td>1</td>\n",
              "      <td>2</td>\n",
              "      <td>F.C. 12750</td>\n",
              "      <td>52.0000</td>\n",
              "      <td>B71</td>\n",
              "      <td>S</td>\n",
              "      <td>1</td>\n",
              "    </tr>\n",
              "    <tr>\n",
              "      <th>4</th>\n",
              "      <td>Ridsdale, Miss. Lucy</td>\n",
              "      <td>female</td>\n",
              "      <td>50.0</td>\n",
              "      <td>2</td>\n",
              "      <td>0</td>\n",
              "      <td>0</td>\n",
              "      <td>W./C. 14258</td>\n",
              "      <td>10.5000</td>\n",
              "      <td>NaN</td>\n",
              "      <td>S</td>\n",
              "      <td>1</td>\n",
              "    </tr>\n",
              "  </tbody>\n",
              "</table>\n",
              "</div>"
            ],
            "text/plain": [
              "                      Name     Sex   Age  Pclass  SibSp  Parch       Ticket  \\\n",
              "0        Karaic, Mr. Milan    male  30.0       3      0      0       349246   \n",
              "1       Dean, Mrs. Bertram  female  33.0       3      1      2    C.A. 2315   \n",
              "2       Rice, Mrs. William  female  39.0       3      0      5       382652   \n",
              "3  Davidson, Mrs. Thornton  female  27.0       1      1      2   F.C. 12750   \n",
              "4     Ridsdale, Miss. Lucy  female  50.0       2      0      0  W./C. 14258   \n",
              "\n",
              "      Fare Cabin Embarked  Survived  \n",
              "0   7.8958   NaN        S         0  \n",
              "1  20.5750   NaN        S         1  \n",
              "2  29.1250   NaN        Q         0  \n",
              "3  52.0000   B71        S         1  \n",
              "4  10.5000   NaN        S         1  "
            ]
          },
          "execution_count": 22,
          "metadata": {},
          "output_type": "execute_result"
        }
      ],
      "source": [
        "df.head()"
      ]
    },
    {
      "cell_type": "markdown",
      "metadata": {
        "id": "surprised-dinner"
      },
      "source": [
        "#### .xlsx"
      ]
    },
    {
      "cell_type": "code",
      "execution_count": 26,
      "metadata": {},
      "outputs": [
        {
          "name": "stdout",
          "output_type": "stream",
          "text": [
            "Collecting openpyxl\n",
            "  Downloading openpyxl-3.1.2-py2.py3-none-any.whl (249 kB)\n",
            "     ---------------------------------------- 0.0/250.0 kB ? eta -:--:--\n",
            "     ---------------------------------- --- 225.3/250.0 kB 6.7 MB/s eta 0:00:01\n",
            "     -------------------------------------- 250.0/250.0 kB 3.1 MB/s eta 0:00:00\n",
            "Collecting et-xmlfile\n",
            "  Downloading et_xmlfile-1.1.0-py3-none-any.whl (4.7 kB)\n",
            "Installing collected packages: et-xmlfile, openpyxl\n",
            "Successfully installed et-xmlfile-1.1.0 openpyxl-3.1.2\n",
            "Note: you may need to restart the kernel to use updated packages.\n"
          ]
        },
        {
          "name": "stderr",
          "output_type": "stream",
          "text": [
            "\n",
            "[notice] A new release of pip is available: 23.0 -> 23.1.2\n",
            "[notice] To update, run: C:\\Users\\elogrono\\AppData\\Local\\Microsoft\\WindowsApps\\PythonSoftwareFoundation.Python.3.10_qbz5n2kfra8p0\\python.exe -m pip install --upgrade pip\n"
          ]
        }
      ],
      "source": [
        "pip install openpyxl"
      ]
    },
    {
      "cell_type": "code",
      "execution_count": 28,
      "metadata": {
        "id": "0fd6909f"
      },
      "outputs": [],
      "source": [
        "cars = pd.read_excel(\"./datasets/cars.xlsx\")"
      ]
    },
    {
      "cell_type": "code",
      "execution_count": 29,
      "metadata": {
        "id": "RB1b0gfmHOJQ"
      },
      "outputs": [
        {
          "data": {
            "text/plain": [
              "(398, 9)"
            ]
          },
          "execution_count": 29,
          "metadata": {},
          "output_type": "execute_result"
        }
      ],
      "source": [
        "cars.shape"
      ]
    },
    {
      "cell_type": "code",
      "execution_count": 30,
      "metadata": {
        "id": "a6eb9f9d"
      },
      "outputs": [
        {
          "data": {
            "text/html": [
              "<div>\n",
              "<style scoped>\n",
              "    .dataframe tbody tr th:only-of-type {\n",
              "        vertical-align: middle;\n",
              "    }\n",
              "\n",
              "    .dataframe tbody tr th {\n",
              "        vertical-align: top;\n",
              "    }\n",
              "\n",
              "    .dataframe thead th {\n",
              "        text-align: right;\n",
              "    }\n",
              "</style>\n",
              "<table border=\"1\" class=\"dataframe\">\n",
              "  <thead>\n",
              "    <tr style=\"text-align: right;\">\n",
              "      <th></th>\n",
              "      <th>mpg</th>\n",
              "      <th>cylinders</th>\n",
              "      <th>displacement</th>\n",
              "      <th>horsepower</th>\n",
              "      <th>weight</th>\n",
              "      <th>acceleration</th>\n",
              "      <th>model year</th>\n",
              "      <th>origin</th>\n",
              "      <th>car name</th>\n",
              "    </tr>\n",
              "  </thead>\n",
              "  <tbody>\n",
              "    <tr>\n",
              "      <th>0</th>\n",
              "      <td>18.0</td>\n",
              "      <td>8</td>\n",
              "      <td>307.0</td>\n",
              "      <td>130</td>\n",
              "      <td>3504</td>\n",
              "      <td>12.0</td>\n",
              "      <td>70.0</td>\n",
              "      <td>1</td>\n",
              "      <td>chevrolet chevelle malibu</td>\n",
              "    </tr>\n",
              "    <tr>\n",
              "      <th>1</th>\n",
              "      <td>15.0</td>\n",
              "      <td>8</td>\n",
              "      <td>350.0</td>\n",
              "      <td>165</td>\n",
              "      <td>3693</td>\n",
              "      <td>11.5</td>\n",
              "      <td>70.0</td>\n",
              "      <td>1</td>\n",
              "      <td>buick skylark 320</td>\n",
              "    </tr>\n",
              "    <tr>\n",
              "      <th>2</th>\n",
              "      <td>18.0</td>\n",
              "      <td>8</td>\n",
              "      <td>NaN</td>\n",
              "      <td>150</td>\n",
              "      <td>3436</td>\n",
              "      <td>11.0</td>\n",
              "      <td>70.0</td>\n",
              "      <td>1</td>\n",
              "      <td>plymouth satellite</td>\n",
              "    </tr>\n",
              "    <tr>\n",
              "      <th>3</th>\n",
              "      <td>16.0</td>\n",
              "      <td>8</td>\n",
              "      <td>304.0</td>\n",
              "      <td>150</td>\n",
              "      <td>3433</td>\n",
              "      <td>12.0</td>\n",
              "      <td>70.0</td>\n",
              "      <td>1</td>\n",
              "      <td>amc rebel sst</td>\n",
              "    </tr>\n",
              "    <tr>\n",
              "      <th>4</th>\n",
              "      <td>17.0</td>\n",
              "      <td>8</td>\n",
              "      <td>302.0</td>\n",
              "      <td>140</td>\n",
              "      <td>3449</td>\n",
              "      <td>10.5</td>\n",
              "      <td>70.0</td>\n",
              "      <td>1</td>\n",
              "      <td>ford torino</td>\n",
              "    </tr>\n",
              "  </tbody>\n",
              "</table>\n",
              "</div>"
            ],
            "text/plain": [
              "    mpg  cylinders  displacement horsepower  weight  acceleration  model year  \\\n",
              "0  18.0          8         307.0        130    3504          12.0        70.0   \n",
              "1  15.0          8         350.0        165    3693          11.5        70.0   \n",
              "2  18.0          8           NaN        150    3436          11.0        70.0   \n",
              "3  16.0          8         304.0        150    3433          12.0        70.0   \n",
              "4  17.0          8         302.0        140    3449          10.5        70.0   \n",
              "\n",
              "   origin                   car name  \n",
              "0       1  chevrolet chevelle malibu  \n",
              "1       1          buick skylark 320  \n",
              "2       1         plymouth satellite  \n",
              "3       1              amc rebel sst  \n",
              "4       1                ford torino  "
            ]
          },
          "execution_count": 30,
          "metadata": {},
          "output_type": "execute_result"
        }
      ],
      "source": [
        "cars.head()"
      ]
    },
    {
      "cell_type": "code",
      "execution_count": 31,
      "metadata": {
        "id": "5a11dc82"
      },
      "outputs": [],
      "source": [
        "cars2 = pd.read_excel(\"./datasets/cars.xlsx\", sheet_name=\"metadata-cars\")"
      ]
    },
    {
      "cell_type": "code",
      "execution_count": 42,
      "metadata": {
        "id": "yzjTp63zHVBr"
      },
      "outputs": [
        {
          "data": {
            "text/html": [
              "<div>\n",
              "<style scoped>\n",
              "    .dataframe tbody tr th:only-of-type {\n",
              "        vertical-align: middle;\n",
              "    }\n",
              "\n",
              "    .dataframe tbody tr th {\n",
              "        vertical-align: top;\n",
              "    }\n",
              "\n",
              "    .dataframe thead th {\n",
              "        text-align: right;\n",
              "    }\n",
              "</style>\n",
              "<table border=\"1\" class=\"dataframe\">\n",
              "  <thead>\n",
              "    <tr style=\"text-align: right;\">\n",
              "      <th></th>\n",
              "      <th>brand</th>\n",
              "      <th>n_years</th>\n",
              "      <th>country</th>\n",
              "    </tr>\n",
              "  </thead>\n",
              "  <tbody>\n",
              "    <tr>\n",
              "      <th>0</th>\n",
              "      <td>mercedes</td>\n",
              "      <td>33</td>\n",
              "      <td>USA</td>\n",
              "    </tr>\n",
              "    <tr>\n",
              "      <th>1</th>\n",
              "      <td>audi</td>\n",
              "      <td>56</td>\n",
              "      <td>UK</td>\n",
              "    </tr>\n",
              "    <tr>\n",
              "      <th>2</th>\n",
              "      <td>ford</td>\n",
              "      <td>28</td>\n",
              "      <td>UK</td>\n",
              "    </tr>\n",
              "  </tbody>\n",
              "</table>\n",
              "</div>"
            ],
            "text/plain": [
              "      brand  n_years country\n",
              "0  mercedes       33     USA\n",
              "1      audi       56      UK\n",
              "2      ford       28      UK"
            ]
          },
          "execution_count": 42,
          "metadata": {},
          "output_type": "execute_result"
        }
      ],
      "source": [
        "cars2"
      ]
    },
    {
      "cell_type": "code",
      "execution_count": 43,
      "metadata": {
        "id": "6a645f4b"
      },
      "outputs": [
        {
          "data": {
            "text/html": [
              "<div>\n",
              "<style scoped>\n",
              "    .dataframe tbody tr th:only-of-type {\n",
              "        vertical-align: middle;\n",
              "    }\n",
              "\n",
              "    .dataframe tbody tr th {\n",
              "        vertical-align: top;\n",
              "    }\n",
              "\n",
              "    .dataframe thead th {\n",
              "        text-align: right;\n",
              "    }\n",
              "</style>\n",
              "<table border=\"1\" class=\"dataframe\">\n",
              "  <thead>\n",
              "    <tr style=\"text-align: right;\">\n",
              "      <th></th>\n",
              "      <th>brand</th>\n",
              "      <th>n_years</th>\n",
              "      <th>country</th>\n",
              "    </tr>\n",
              "  </thead>\n",
              "  <tbody>\n",
              "    <tr>\n",
              "      <th>0</th>\n",
              "      <td>mercedes</td>\n",
              "      <td>33</td>\n",
              "      <td>USA</td>\n",
              "    </tr>\n",
              "    <tr>\n",
              "      <th>1</th>\n",
              "      <td>audi</td>\n",
              "      <td>56</td>\n",
              "      <td>UK</td>\n",
              "    </tr>\n",
              "    <tr>\n",
              "      <th>2</th>\n",
              "      <td>ford</td>\n",
              "      <td>28</td>\n",
              "      <td>UK</td>\n",
              "    </tr>\n",
              "  </tbody>\n",
              "</table>\n",
              "</div>"
            ],
            "text/plain": [
              "      brand  n_years country\n",
              "0  mercedes       33     USA\n",
              "1      audi       56      UK\n",
              "2      ford       28      UK"
            ]
          },
          "execution_count": 43,
          "metadata": {},
          "output_type": "execute_result"
        }
      ],
      "source": [
        "cars2.head()"
      ]
    },
    {
      "cell_type": "markdown",
      "metadata": {
        "id": "brown-princeton"
      },
      "source": [
        "### Explorando un dataframe"
      ]
    },
    {
      "cell_type": "code",
      "execution_count": 32,
      "metadata": {
        "id": "19EEqj5KVM5-"
      },
      "outputs": [
        {
          "data": {
            "text/plain": [
              "(398, 9)"
            ]
          },
          "execution_count": 32,
          "metadata": {},
          "output_type": "execute_result"
        }
      ],
      "source": [
        "cars.shape"
      ]
    },
    {
      "cell_type": "code",
      "execution_count": 33,
      "metadata": {
        "id": "a2f91ff2"
      },
      "outputs": [
        {
          "data": {
            "text/html": [
              "<div>\n",
              "<style scoped>\n",
              "    .dataframe tbody tr th:only-of-type {\n",
              "        vertical-align: middle;\n",
              "    }\n",
              "\n",
              "    .dataframe tbody tr th {\n",
              "        vertical-align: top;\n",
              "    }\n",
              "\n",
              "    .dataframe thead th {\n",
              "        text-align: right;\n",
              "    }\n",
              "</style>\n",
              "<table border=\"1\" class=\"dataframe\">\n",
              "  <thead>\n",
              "    <tr style=\"text-align: right;\">\n",
              "      <th></th>\n",
              "      <th>mpg</th>\n",
              "      <th>cylinders</th>\n",
              "      <th>displacement</th>\n",
              "      <th>horsepower</th>\n",
              "      <th>weight</th>\n",
              "      <th>acceleration</th>\n",
              "      <th>model year</th>\n",
              "      <th>origin</th>\n",
              "      <th>car name</th>\n",
              "    </tr>\n",
              "  </thead>\n",
              "  <tbody>\n",
              "    <tr>\n",
              "      <th>0</th>\n",
              "      <td>18.0</td>\n",
              "      <td>8</td>\n",
              "      <td>307.0</td>\n",
              "      <td>130</td>\n",
              "      <td>3504</td>\n",
              "      <td>12.0</td>\n",
              "      <td>70.0</td>\n",
              "      <td>1</td>\n",
              "      <td>chevrolet chevelle malibu</td>\n",
              "    </tr>\n",
              "    <tr>\n",
              "      <th>1</th>\n",
              "      <td>15.0</td>\n",
              "      <td>8</td>\n",
              "      <td>350.0</td>\n",
              "      <td>165</td>\n",
              "      <td>3693</td>\n",
              "      <td>11.5</td>\n",
              "      <td>70.0</td>\n",
              "      <td>1</td>\n",
              "      <td>buick skylark 320</td>\n",
              "    </tr>\n",
              "    <tr>\n",
              "      <th>2</th>\n",
              "      <td>18.0</td>\n",
              "      <td>8</td>\n",
              "      <td>NaN</td>\n",
              "      <td>150</td>\n",
              "      <td>3436</td>\n",
              "      <td>11.0</td>\n",
              "      <td>70.0</td>\n",
              "      <td>1</td>\n",
              "      <td>plymouth satellite</td>\n",
              "    </tr>\n",
              "    <tr>\n",
              "      <th>3</th>\n",
              "      <td>16.0</td>\n",
              "      <td>8</td>\n",
              "      <td>304.0</td>\n",
              "      <td>150</td>\n",
              "      <td>3433</td>\n",
              "      <td>12.0</td>\n",
              "      <td>70.0</td>\n",
              "      <td>1</td>\n",
              "      <td>amc rebel sst</td>\n",
              "    </tr>\n",
              "    <tr>\n",
              "      <th>4</th>\n",
              "      <td>17.0</td>\n",
              "      <td>8</td>\n",
              "      <td>302.0</td>\n",
              "      <td>140</td>\n",
              "      <td>3449</td>\n",
              "      <td>10.5</td>\n",
              "      <td>70.0</td>\n",
              "      <td>1</td>\n",
              "      <td>ford torino</td>\n",
              "    </tr>\n",
              "  </tbody>\n",
              "</table>\n",
              "</div>"
            ],
            "text/plain": [
              "    mpg  cylinders  displacement horsepower  weight  acceleration  model year  \\\n",
              "0  18.0          8         307.0        130    3504          12.0        70.0   \n",
              "1  15.0          8         350.0        165    3693          11.5        70.0   \n",
              "2  18.0          8           NaN        150    3436          11.0        70.0   \n",
              "3  16.0          8         304.0        150    3433          12.0        70.0   \n",
              "4  17.0          8         302.0        140    3449          10.5        70.0   \n",
              "\n",
              "   origin                   car name  \n",
              "0       1  chevrolet chevelle malibu  \n",
              "1       1          buick skylark 320  \n",
              "2       1         plymouth satellite  \n",
              "3       1              amc rebel sst  \n",
              "4       1                ford torino  "
            ]
          },
          "execution_count": 33,
          "metadata": {},
          "output_type": "execute_result"
        }
      ],
      "source": [
        "cars.head()"
      ]
    },
    {
      "cell_type": "code",
      "execution_count": 34,
      "metadata": {
        "id": "1e7a3535"
      },
      "outputs": [
        {
          "data": {
            "text/html": [
              "<div>\n",
              "<style scoped>\n",
              "    .dataframe tbody tr th:only-of-type {\n",
              "        vertical-align: middle;\n",
              "    }\n",
              "\n",
              "    .dataframe tbody tr th {\n",
              "        vertical-align: top;\n",
              "    }\n",
              "\n",
              "    .dataframe thead th {\n",
              "        text-align: right;\n",
              "    }\n",
              "</style>\n",
              "<table border=\"1\" class=\"dataframe\">\n",
              "  <thead>\n",
              "    <tr style=\"text-align: right;\">\n",
              "      <th></th>\n",
              "      <th>mpg</th>\n",
              "      <th>cylinders</th>\n",
              "      <th>displacement</th>\n",
              "      <th>horsepower</th>\n",
              "      <th>weight</th>\n",
              "      <th>acceleration</th>\n",
              "      <th>model year</th>\n",
              "      <th>origin</th>\n",
              "      <th>car name</th>\n",
              "    </tr>\n",
              "  </thead>\n",
              "  <tbody>\n",
              "    <tr>\n",
              "      <th>393</th>\n",
              "      <td>27.0</td>\n",
              "      <td>4</td>\n",
              "      <td>140.0</td>\n",
              "      <td>86</td>\n",
              "      <td>2790</td>\n",
              "      <td>15.6</td>\n",
              "      <td>82.0</td>\n",
              "      <td>1</td>\n",
              "      <td>ford mustang gl</td>\n",
              "    </tr>\n",
              "    <tr>\n",
              "      <th>394</th>\n",
              "      <td>44.0</td>\n",
              "      <td>4</td>\n",
              "      <td>97.0</td>\n",
              "      <td>52</td>\n",
              "      <td>2130</td>\n",
              "      <td>24.6</td>\n",
              "      <td>82.0</td>\n",
              "      <td>2</td>\n",
              "      <td>vw pickup</td>\n",
              "    </tr>\n",
              "    <tr>\n",
              "      <th>395</th>\n",
              "      <td>32.0</td>\n",
              "      <td>4</td>\n",
              "      <td>135.0</td>\n",
              "      <td>84</td>\n",
              "      <td>2295</td>\n",
              "      <td>11.6</td>\n",
              "      <td>82.0</td>\n",
              "      <td>1</td>\n",
              "      <td>dodge rampage</td>\n",
              "    </tr>\n",
              "    <tr>\n",
              "      <th>396</th>\n",
              "      <td>28.0</td>\n",
              "      <td>4</td>\n",
              "      <td>120.0</td>\n",
              "      <td>79</td>\n",
              "      <td>2625</td>\n",
              "      <td>18.6</td>\n",
              "      <td>82.0</td>\n",
              "      <td>1</td>\n",
              "      <td>ford ranger</td>\n",
              "    </tr>\n",
              "    <tr>\n",
              "      <th>397</th>\n",
              "      <td>31.0</td>\n",
              "      <td>4</td>\n",
              "      <td>119.0</td>\n",
              "      <td>82</td>\n",
              "      <td>2720</td>\n",
              "      <td>19.4</td>\n",
              "      <td>82.0</td>\n",
              "      <td>1</td>\n",
              "      <td>chevy s-10</td>\n",
              "    </tr>\n",
              "  </tbody>\n",
              "</table>\n",
              "</div>"
            ],
            "text/plain": [
              "      mpg  cylinders  displacement horsepower  weight  acceleration  \\\n",
              "393  27.0          4         140.0         86    2790          15.6   \n",
              "394  44.0          4          97.0         52    2130          24.6   \n",
              "395  32.0          4         135.0         84    2295          11.6   \n",
              "396  28.0          4         120.0         79    2625          18.6   \n",
              "397  31.0          4         119.0         82    2720          19.4   \n",
              "\n",
              "     model year  origin         car name  \n",
              "393        82.0       1  ford mustang gl  \n",
              "394        82.0       2        vw pickup  \n",
              "395        82.0       1    dodge rampage  \n",
              "396        82.0       1      ford ranger  \n",
              "397        82.0       1       chevy s-10  "
            ]
          },
          "execution_count": 34,
          "metadata": {},
          "output_type": "execute_result"
        }
      ],
      "source": [
        "cars.tail()"
      ]
    },
    {
      "cell_type": "code",
      "execution_count": 35,
      "metadata": {
        "id": "7babbf1c"
      },
      "outputs": [
        {
          "data": {
            "text/html": [
              "<div>\n",
              "<style scoped>\n",
              "    .dataframe tbody tr th:only-of-type {\n",
              "        vertical-align: middle;\n",
              "    }\n",
              "\n",
              "    .dataframe tbody tr th {\n",
              "        vertical-align: top;\n",
              "    }\n",
              "\n",
              "    .dataframe thead th {\n",
              "        text-align: right;\n",
              "    }\n",
              "</style>\n",
              "<table border=\"1\" class=\"dataframe\">\n",
              "  <thead>\n",
              "    <tr style=\"text-align: right;\">\n",
              "      <th></th>\n",
              "      <th>mpg</th>\n",
              "      <th>cylinders</th>\n",
              "      <th>displacement</th>\n",
              "      <th>horsepower</th>\n",
              "      <th>weight</th>\n",
              "      <th>acceleration</th>\n",
              "      <th>model year</th>\n",
              "      <th>origin</th>\n",
              "      <th>car name</th>\n",
              "    </tr>\n",
              "  </thead>\n",
              "  <tbody>\n",
              "    <tr>\n",
              "      <th>89</th>\n",
              "      <td>15.0</td>\n",
              "      <td>8</td>\n",
              "      <td>318.0</td>\n",
              "      <td>150</td>\n",
              "      <td>3777</td>\n",
              "      <td>12.5</td>\n",
              "      <td>73.0</td>\n",
              "      <td>1</td>\n",
              "      <td>dodge coronet custom</td>\n",
              "    </tr>\n",
              "    <tr>\n",
              "      <th>233</th>\n",
              "      <td>29.0</td>\n",
              "      <td>4</td>\n",
              "      <td>97.0</td>\n",
              "      <td>78</td>\n",
              "      <td>1940</td>\n",
              "      <td>14.5</td>\n",
              "      <td>77.0</td>\n",
              "      <td>2</td>\n",
              "      <td>volkswagen rabbit custom</td>\n",
              "    </tr>\n",
              "    <tr>\n",
              "      <th>238</th>\n",
              "      <td>33.5</td>\n",
              "      <td>4</td>\n",
              "      <td>98.0</td>\n",
              "      <td>83</td>\n",
              "      <td>2075</td>\n",
              "      <td>15.9</td>\n",
              "      <td>77.0</td>\n",
              "      <td>1</td>\n",
              "      <td>dodge colt m/m</td>\n",
              "    </tr>\n",
              "    <tr>\n",
              "      <th>327</th>\n",
              "      <td>36.4</td>\n",
              "      <td>5</td>\n",
              "      <td>121.0</td>\n",
              "      <td>67</td>\n",
              "      <td>2950</td>\n",
              "      <td>19.9</td>\n",
              "      <td>80.0</td>\n",
              "      <td>2</td>\n",
              "      <td>audi 5000s (diesel)</td>\n",
              "    </tr>\n",
              "    <tr>\n",
              "      <th>300</th>\n",
              "      <td>23.9</td>\n",
              "      <td>8</td>\n",
              "      <td>260.0</td>\n",
              "      <td>90</td>\n",
              "      <td>3420</td>\n",
              "      <td>22.2</td>\n",
              "      <td>79.0</td>\n",
              "      <td>1</td>\n",
              "      <td>oldsmobile cutlass salon brougham</td>\n",
              "    </tr>\n",
              "  </tbody>\n",
              "</table>\n",
              "</div>"
            ],
            "text/plain": [
              "      mpg  cylinders  displacement horsepower  weight  acceleration  \\\n",
              "89   15.0          8         318.0        150    3777          12.5   \n",
              "233  29.0          4          97.0         78    1940          14.5   \n",
              "238  33.5          4          98.0         83    2075          15.9   \n",
              "327  36.4          5         121.0         67    2950          19.9   \n",
              "300  23.9          8         260.0         90    3420          22.2   \n",
              "\n",
              "     model year  origin                           car name  \n",
              "89         73.0       1               dodge coronet custom  \n",
              "233        77.0       2           volkswagen rabbit custom  \n",
              "238        77.0       1                     dodge colt m/m  \n",
              "327        80.0       2                audi 5000s (diesel)  \n",
              "300        79.0       1  oldsmobile cutlass salon brougham  "
            ]
          },
          "execution_count": 35,
          "metadata": {},
          "output_type": "execute_result"
        }
      ],
      "source": [
        "cars.sample(5)"
      ]
    },
    {
      "cell_type": "code",
      "execution_count": 36,
      "metadata": {
        "id": "64f402aa"
      },
      "outputs": [
        {
          "data": {
            "text/plain": [
              "Index(['mpg', 'cylinders', 'displacement', 'horsepower', 'weight',\n",
              "       'acceleration', 'model year', 'origin', 'car name'],\n",
              "      dtype='object')"
            ]
          },
          "execution_count": 36,
          "metadata": {},
          "output_type": "execute_result"
        }
      ],
      "source": [
        "cars.columns"
      ]
    },
    {
      "cell_type": "code",
      "execution_count": 37,
      "metadata": {
        "id": "f9f6b1dd"
      },
      "outputs": [
        {
          "data": {
            "text/html": [
              "<div>\n",
              "<style scoped>\n",
              "    .dataframe tbody tr th:only-of-type {\n",
              "        vertical-align: middle;\n",
              "    }\n",
              "\n",
              "    .dataframe tbody tr th {\n",
              "        vertical-align: top;\n",
              "    }\n",
              "\n",
              "    .dataframe thead th {\n",
              "        text-align: right;\n",
              "    }\n",
              "</style>\n",
              "<table border=\"1\" class=\"dataframe\">\n",
              "  <thead>\n",
              "    <tr style=\"text-align: right;\">\n",
              "      <th></th>\n",
              "      <th>mpg</th>\n",
              "      <th>cylinders</th>\n",
              "      <th>displacement</th>\n",
              "      <th>horsepower</th>\n",
              "      <th>weight</th>\n",
              "      <th>acceleration</th>\n",
              "      <th>model year</th>\n",
              "      <th>origin</th>\n",
              "      <th>car name</th>\n",
              "    </tr>\n",
              "  </thead>\n",
              "  <tbody>\n",
              "    <tr>\n",
              "      <th>0</th>\n",
              "      <td>18.0</td>\n",
              "      <td>8</td>\n",
              "      <td>307.0</td>\n",
              "      <td>130</td>\n",
              "      <td>3504</td>\n",
              "      <td>12.0</td>\n",
              "      <td>70.0</td>\n",
              "      <td>1</td>\n",
              "      <td>chevrolet chevelle malibu</td>\n",
              "    </tr>\n",
              "    <tr>\n",
              "      <th>1</th>\n",
              "      <td>15.0</td>\n",
              "      <td>8</td>\n",
              "      <td>350.0</td>\n",
              "      <td>165</td>\n",
              "      <td>3693</td>\n",
              "      <td>11.5</td>\n",
              "      <td>70.0</td>\n",
              "      <td>1</td>\n",
              "      <td>buick skylark 320</td>\n",
              "    </tr>\n",
              "    <tr>\n",
              "      <th>2</th>\n",
              "      <td>18.0</td>\n",
              "      <td>8</td>\n",
              "      <td>NaN</td>\n",
              "      <td>150</td>\n",
              "      <td>3436</td>\n",
              "      <td>11.0</td>\n",
              "      <td>70.0</td>\n",
              "      <td>1</td>\n",
              "      <td>plymouth satellite</td>\n",
              "    </tr>\n",
              "    <tr>\n",
              "      <th>3</th>\n",
              "      <td>16.0</td>\n",
              "      <td>8</td>\n",
              "      <td>304.0</td>\n",
              "      <td>150</td>\n",
              "      <td>3433</td>\n",
              "      <td>12.0</td>\n",
              "      <td>70.0</td>\n",
              "      <td>1</td>\n",
              "      <td>amc rebel sst</td>\n",
              "    </tr>\n",
              "    <tr>\n",
              "      <th>4</th>\n",
              "      <td>17.0</td>\n",
              "      <td>8</td>\n",
              "      <td>302.0</td>\n",
              "      <td>140</td>\n",
              "      <td>3449</td>\n",
              "      <td>10.5</td>\n",
              "      <td>70.0</td>\n",
              "      <td>1</td>\n",
              "      <td>ford torino</td>\n",
              "    </tr>\n",
              "  </tbody>\n",
              "</table>\n",
              "</div>"
            ],
            "text/plain": [
              "    mpg  cylinders  displacement horsepower  weight  acceleration  model year  \\\n",
              "0  18.0          8         307.0        130    3504          12.0        70.0   \n",
              "1  15.0          8         350.0        165    3693          11.5        70.0   \n",
              "2  18.0          8           NaN        150    3436          11.0        70.0   \n",
              "3  16.0          8         304.0        150    3433          12.0        70.0   \n",
              "4  17.0          8         302.0        140    3449          10.5        70.0   \n",
              "\n",
              "   origin                   car name  \n",
              "0       1  chevrolet chevelle malibu  \n",
              "1       1          buick skylark 320  \n",
              "2       1         plymouth satellite  \n",
              "3       1              amc rebel sst  \n",
              "4       1                ford torino  "
            ]
          },
          "execution_count": 37,
          "metadata": {},
          "output_type": "execute_result"
        }
      ],
      "source": [
        "cars.head()"
      ]
    },
    {
      "cell_type": "code",
      "execution_count": 38,
      "metadata": {
        "id": "ca67078f"
      },
      "outputs": [
        {
          "data": {
            "text/plain": [
              "mpg             float64\n",
              "cylinders         int64\n",
              "displacement    float64\n",
              "horsepower       object\n",
              "weight            int64\n",
              "acceleration    float64\n",
              "model year      float64\n",
              "origin            int64\n",
              "car name         object\n",
              "dtype: object"
            ]
          },
          "execution_count": 38,
          "metadata": {},
          "output_type": "execute_result"
        }
      ],
      "source": [
        "cars.dtypes"
      ]
    },
    {
      "cell_type": "code",
      "execution_count": 50,
      "metadata": {
        "id": "documentary-contract"
      },
      "outputs": [
        {
          "data": {
            "text/html": [
              "<div>\n",
              "<style scoped>\n",
              "    .dataframe tbody tr th:only-of-type {\n",
              "        vertical-align: middle;\n",
              "    }\n",
              "\n",
              "    .dataframe tbody tr th {\n",
              "        vertical-align: top;\n",
              "    }\n",
              "\n",
              "    .dataframe thead th {\n",
              "        text-align: right;\n",
              "    }\n",
              "</style>\n",
              "<table border=\"1\" class=\"dataframe\">\n",
              "  <thead>\n",
              "    <tr style=\"text-align: right;\">\n",
              "      <th></th>\n",
              "      <th>mpg</th>\n",
              "      <th>cylinders</th>\n",
              "      <th>displacement</th>\n",
              "      <th>weight</th>\n",
              "      <th>acceleration</th>\n",
              "      <th>model year</th>\n",
              "      <th>origin</th>\n",
              "    </tr>\n",
              "  </thead>\n",
              "  <tbody>\n",
              "    <tr>\n",
              "      <th>count</th>\n",
              "      <td>398.000000</td>\n",
              "      <td>398.000000</td>\n",
              "      <td>393.000000</td>\n",
              "      <td>398.000000</td>\n",
              "      <td>396.000000</td>\n",
              "      <td>396.000000</td>\n",
              "      <td>398.000000</td>\n",
              "    </tr>\n",
              "    <tr>\n",
              "      <th>mean</th>\n",
              "      <td>23.514573</td>\n",
              "      <td>5.454774</td>\n",
              "      <td>192.609415</td>\n",
              "      <td>2970.424623</td>\n",
              "      <td>15.559596</td>\n",
              "      <td>76.035354</td>\n",
              "      <td>1.572864</td>\n",
              "    </tr>\n",
              "    <tr>\n",
              "      <th>std</th>\n",
              "      <td>7.815984</td>\n",
              "      <td>1.701004</td>\n",
              "      <td>103.547981</td>\n",
              "      <td>846.841774</td>\n",
              "      <td>2.752358</td>\n",
              "      <td>3.689707</td>\n",
              "      <td>0.802055</td>\n",
              "    </tr>\n",
              "    <tr>\n",
              "      <th>min</th>\n",
              "      <td>9.000000</td>\n",
              "      <td>3.000000</td>\n",
              "      <td>68.000000</td>\n",
              "      <td>1613.000000</td>\n",
              "      <td>8.000000</td>\n",
              "      <td>70.000000</td>\n",
              "      <td>1.000000</td>\n",
              "    </tr>\n",
              "    <tr>\n",
              "      <th>25%</th>\n",
              "      <td>17.500000</td>\n",
              "      <td>4.000000</td>\n",
              "      <td>104.000000</td>\n",
              "      <td>2223.750000</td>\n",
              "      <td>13.800000</td>\n",
              "      <td>73.000000</td>\n",
              "      <td>1.000000</td>\n",
              "    </tr>\n",
              "    <tr>\n",
              "      <th>50%</th>\n",
              "      <td>23.000000</td>\n",
              "      <td>4.000000</td>\n",
              "      <td>146.000000</td>\n",
              "      <td>2803.500000</td>\n",
              "      <td>15.500000</td>\n",
              "      <td>76.000000</td>\n",
              "      <td>1.000000</td>\n",
              "    </tr>\n",
              "    <tr>\n",
              "      <th>75%</th>\n",
              "      <td>29.000000</td>\n",
              "      <td>8.000000</td>\n",
              "      <td>260.000000</td>\n",
              "      <td>3608.000000</td>\n",
              "      <td>17.125000</td>\n",
              "      <td>79.000000</td>\n",
              "      <td>2.000000</td>\n",
              "    </tr>\n",
              "    <tr>\n",
              "      <th>max</th>\n",
              "      <td>46.600000</td>\n",
              "      <td>8.000000</td>\n",
              "      <td>455.000000</td>\n",
              "      <td>5140.000000</td>\n",
              "      <td>24.800000</td>\n",
              "      <td>82.000000</td>\n",
              "      <td>3.000000</td>\n",
              "    </tr>\n",
              "  </tbody>\n",
              "</table>\n",
              "</div>"
            ],
            "text/plain": [
              "              mpg   cylinders  displacement       weight  acceleration  \\\n",
              "count  398.000000  398.000000    393.000000   398.000000    396.000000   \n",
              "mean    23.514573    5.454774    192.609415  2970.424623     15.559596   \n",
              "std      7.815984    1.701004    103.547981   846.841774      2.752358   \n",
              "min      9.000000    3.000000     68.000000  1613.000000      8.000000   \n",
              "25%     17.500000    4.000000    104.000000  2223.750000     13.800000   \n",
              "50%     23.000000    4.000000    146.000000  2803.500000     15.500000   \n",
              "75%     29.000000    8.000000    260.000000  3608.000000     17.125000   \n",
              "max     46.600000    8.000000    455.000000  5140.000000     24.800000   \n",
              "\n",
              "       model year      origin  \n",
              "count  396.000000  398.000000  \n",
              "mean    76.035354    1.572864  \n",
              "std      3.689707    0.802055  \n",
              "min     70.000000    1.000000  \n",
              "25%     73.000000    1.000000  \n",
              "50%     76.000000    1.000000  \n",
              "75%     79.000000    2.000000  \n",
              "max     82.000000    3.000000  "
            ]
          },
          "execution_count": 50,
          "metadata": {},
          "output_type": "execute_result"
        }
      ],
      "source": [
        "cars.describe()"
      ]
    },
    {
      "cell_type": "code",
      "execution_count": 39,
      "metadata": {
        "id": "U9vRISL0VroG"
      },
      "outputs": [
        {
          "data": {
            "text/plain": [
              "count    396.00\n",
              "mean      15.56\n",
              "std        2.75\n",
              "min        8.00\n",
              "25%       13.80\n",
              "50%       15.50\n",
              "75%       17.12\n",
              "max       24.80\n",
              "Name: acceleration, dtype: float64"
            ]
          },
          "execution_count": 39,
          "metadata": {},
          "output_type": "execute_result"
        }
      ],
      "source": [
        "cars.acceleration.describe().round(2)"
      ]
    },
    {
      "cell_type": "code",
      "execution_count": 53,
      "metadata": {},
      "outputs": [
        {
          "data": {
            "text/plain": [
              "0      12.0\n",
              "1      11.5\n",
              "2      11.0\n",
              "3      12.0\n",
              "4      10.5\n",
              "       ... \n",
              "393    15.6\n",
              "394    24.6\n",
              "395    11.6\n",
              "396    18.6\n",
              "397    19.4\n",
              "Name: acceleration, Length: 398, dtype: float64"
            ]
          },
          "execution_count": 53,
          "metadata": {},
          "output_type": "execute_result"
        }
      ],
      "source": [
        "cars.acceleration"
      ]
    },
    {
      "cell_type": "code",
      "execution_count": 54,
      "metadata": {
        "id": "disabled-suggestion"
      },
      "outputs": [
        {
          "name": "stdout",
          "output_type": "stream",
          "text": [
            "<class 'pandas.core.frame.DataFrame'>\n",
            "RangeIndex: 398 entries, 0 to 397\n",
            "Data columns (total 9 columns):\n",
            " #   Column        Non-Null Count  Dtype  \n",
            "---  ------        --------------  -----  \n",
            " 0   mpg           398 non-null    float64\n",
            " 1   cylinders     398 non-null    int64  \n",
            " 2   displacement  393 non-null    float64\n",
            " 3   horsepower    397 non-null    object \n",
            " 4   weight        398 non-null    int64  \n",
            " 5   acceleration  396 non-null    float64\n",
            " 6   model year    396 non-null    float64\n",
            " 7   origin        398 non-null    int64  \n",
            " 8   car name      398 non-null    object \n",
            "dtypes: float64(4), int64(3), object(2)\n",
            "memory usage: 28.1+ KB\n"
          ]
        }
      ],
      "source": [
        "cars.info()"
      ]
    },
    {
      "cell_type": "markdown",
      "metadata": {
        "id": "2eb9647a"
      },
      "source": [
        "### Explorando por columna"
      ]
    },
    {
      "cell_type": "code",
      "execution_count": null,
      "metadata": {
        "id": "2702fae6"
      },
      "outputs": [],
      "source": [
        "type(cars)"
      ]
    },
    {
      "cell_type": "code",
      "execution_count": null,
      "metadata": {
        "id": "aa78bc6d"
      },
      "outputs": [],
      "source": [
        "cars.head()"
      ]
    },
    {
      "cell_type": "code",
      "execution_count": 40,
      "metadata": {
        "id": "mVX9yr5sVwul"
      },
      "outputs": [
        {
          "data": {
            "text/plain": [
              "0    70.0\n",
              "1    70.0\n",
              "2    70.0\n",
              "3    70.0\n",
              "4    70.0\n",
              "Name: model year, dtype: float64"
            ]
          },
          "execution_count": 40,
          "metadata": {},
          "output_type": "execute_result"
        }
      ],
      "source": [
        "cars[\"model year\"].head()"
      ]
    },
    {
      "cell_type": "code",
      "execution_count": null,
      "metadata": {
        "id": "Surx-VuRVz2N"
      },
      "outputs": [],
      "source": [
        "cars.mpg"
      ]
    },
    {
      "cell_type": "code",
      "execution_count": 41,
      "metadata": {
        "id": "4c547ca5"
      },
      "outputs": [
        {
          "data": {
            "text/plain": [
              "46.6"
            ]
          },
          "execution_count": 41,
          "metadata": {},
          "output_type": "execute_result"
        }
      ],
      "source": [
        "cars.mpg.max()"
      ]
    },
    {
      "cell_type": "code",
      "execution_count": 42,
      "metadata": {
        "id": "6ffa30d1"
      },
      "outputs": [
        {
          "data": {
            "text/plain": [
              "9.0"
            ]
          },
          "execution_count": 42,
          "metadata": {},
          "output_type": "execute_result"
        }
      ],
      "source": [
        "cars.mpg.min()"
      ]
    },
    {
      "cell_type": "code",
      "execution_count": null,
      "metadata": {
        "id": "e679be58"
      },
      "outputs": [],
      "source": [
        "cars.mpg.mean()"
      ]
    },
    {
      "cell_type": "code",
      "execution_count": null,
      "metadata": {
        "id": "1HFRLoDcV2s4"
      },
      "outputs": [],
      "source": [
        "cars.mpg.quantile(0.5)"
      ]
    },
    {
      "cell_type": "code",
      "execution_count": null,
      "metadata": {
        "id": "e20a5cc3"
      },
      "outputs": [],
      "source": [
        "cars.mpg.quantile(0.9)"
      ]
    },
    {
      "cell_type": "code",
      "execution_count": null,
      "metadata": {
        "id": "IP4Q1q5QV6da"
      },
      "outputs": [],
      "source": [
        "cars.head()"
      ]
    },
    {
      "cell_type": "code",
      "execution_count": 43,
      "metadata": {
        "id": "5a82e9b3"
      },
      "outputs": [
        {
          "data": {
            "text/plain": [
              "1182.229"
            ]
          },
          "execution_count": 43,
          "metadata": {},
          "output_type": "execute_result"
        }
      ],
      "source": [
        "cars.weight.sum() / 1000"
      ]
    },
    {
      "cell_type": "code",
      "execution_count": null,
      "metadata": {
        "id": "027c79a6"
      },
      "outputs": [],
      "source": [
        "cars.cylinders.unique()"
      ]
    },
    {
      "cell_type": "code",
      "execution_count": null,
      "metadata": {
        "id": "e893bd32"
      },
      "outputs": [],
      "source": [
        "cars.cylinders.nunique()"
      ]
    },
    {
      "cell_type": "code",
      "execution_count": null,
      "metadata": {
        "id": "c757274d"
      },
      "outputs": [],
      "source": [
        "cars.cylinders.unique()"
      ]
    },
    {
      "cell_type": "code",
      "execution_count": null,
      "metadata": {
        "id": "923965c2"
      },
      "outputs": [],
      "source": [
        "cars.cylinders.value_counts()"
      ]
    },
    {
      "cell_type": "code",
      "execution_count": null,
      "metadata": {
        "id": "c4f8d2dc"
      },
      "outputs": [],
      "source": [
        "cars.cylinders.value_counts().sort_index()"
      ]
    },
    {
      "cell_type": "code",
      "execution_count": null,
      "metadata": {
        "id": "4c7094f5"
      },
      "outputs": [],
      "source": [
        "cars.head()"
      ]
    },
    {
      "cell_type": "code",
      "execution_count": null,
      "metadata": {
        "id": "e98aafed"
      },
      "outputs": [],
      "source": [
        "cars.shape"
      ]
    },
    {
      "cell_type": "code",
      "execution_count": null,
      "metadata": {
        "id": "371476bb"
      },
      "outputs": [],
      "source": [
        "cars.nunique()"
      ]
    },
    {
      "cell_type": "code",
      "execution_count": null,
      "metadata": {
        "id": "f385a2e5"
      },
      "outputs": [],
      "source": [
        "cars[\"car name\"].value_counts()"
      ]
    },
    {
      "cell_type": "code",
      "execution_count": null,
      "metadata": {
        "id": "191fee8f"
      },
      "outputs": [],
      "source": [
        "cars.head()"
      ]
    },
    {
      "cell_type": "code",
      "execution_count": null,
      "metadata": {
        "id": "1cc82214"
      },
      "outputs": [],
      "source": [
        "cars.sort_values(\"acceleration\")"
      ]
    },
    {
      "cell_type": "code",
      "execution_count": null,
      "metadata": {
        "id": "bee174e5"
      },
      "outputs": [],
      "source": [
        "cars.sort_values(\"acceleration\", ascending=False).head()"
      ]
    },
    {
      "cell_type": "code",
      "execution_count": null,
      "metadata": {
        "id": "58f96fb7"
      },
      "outputs": [],
      "source": [
        "cars.sort_values([\"cylinders\", \"acceleration\"]).head()"
      ]
    },
    {
      "cell_type": "markdown",
      "metadata": {
        "id": "a0254a30"
      },
      "source": [
        "Para contar pares de variables"
      ]
    },
    {
      "cell_type": "code",
      "execution_count": null,
      "metadata": {
        "id": "ccce7554"
      },
      "outputs": [],
      "source": [
        "cars.head()"
      ]
    },
    {
      "cell_type": "code",
      "execution_count": null,
      "metadata": {
        "id": "6ece70ec"
      },
      "outputs": [],
      "source": [
        "cars.cylinders.unique()"
      ]
    },
    {
      "cell_type": "code",
      "execution_count": null,
      "metadata": {
        "id": "6c08ba19"
      },
      "outputs": [],
      "source": [
        "cars.origin.unique()"
      ]
    },
    {
      "cell_type": "code",
      "execution_count": null,
      "metadata": {
        "id": "f24d572d"
      },
      "outputs": [],
      "source": [
        "pd.crosstab(cars.cylinders, cars.origin)"
      ]
    },
    {
      "cell_type": "code",
      "execution_count": null,
      "metadata": {
        "id": "1f768825"
      },
      "outputs": [],
      "source": [
        "pd.crosstab(df.Pclass, df.Survived).round(3)"
      ]
    },
    {
      "cell_type": "code",
      "execution_count": null,
      "metadata": {
        "id": "30e4ac5b"
      },
      "outputs": [],
      "source": [
        "pd.crosstab(df.Pclass, df.Survived, normalize=\"index\").round(3)"
      ]
    },
    {
      "cell_type": "code",
      "execution_count": null,
      "metadata": {
        "id": "110675eb"
      },
      "outputs": [],
      "source": [
        "pd.crosstab(df.Pclass, df.Survived, normalize=\"columns\").round(3)"
      ]
    },
    {
      "cell_type": "markdown",
      "metadata": {
        "id": "7935de8b"
      },
      "source": [
        "### Selección dentro del dataframe"
      ]
    },
    {
      "cell_type": "code",
      "execution_count": null,
      "metadata": {
        "id": "7ec0ff7e"
      },
      "outputs": [],
      "source": [
        "cars.head()"
      ]
    },
    {
      "cell_type": "markdown",
      "metadata": {
        "id": "ff34b507"
      },
      "source": [
        "#### por nombre de columna"
      ]
    },
    {
      "cell_type": "code",
      "execution_count": null,
      "metadata": {
        "id": "38c25fd3"
      },
      "outputs": [],
      "source": [
        "cars[['mpg', 'cylinders', 'displacement']].head()"
      ]
    },
    {
      "cell_type": "markdown",
      "metadata": {
        "id": "c9a614a8"
      },
      "source": [
        "#### por condición"
      ]
    },
    {
      "cell_type": "code",
      "execution_count": null,
      "metadata": {
        "id": "84251399"
      },
      "outputs": [],
      "source": [
        "cars.head()"
      ]
    },
    {
      "cell_type": "code",
      "execution_count": null,
      "metadata": {
        "id": "ce59ea0a"
      },
      "outputs": [],
      "source": [
        "cars.mpg > 16"
      ]
    },
    {
      "cell_type": "code",
      "execution_count": null,
      "metadata": {
        "id": "f5f860b9"
      },
      "outputs": [],
      "source": [
        "(cars.mpg > 16).sum()"
      ]
    },
    {
      "cell_type": "code",
      "execution_count": null,
      "metadata": {
        "id": "d4fbf31c"
      },
      "outputs": [],
      "source": [
        "cars[cars.mpg > 16]"
      ]
    },
    {
      "cell_type": "code",
      "execution_count": null,
      "metadata": {
        "id": "224876aa"
      },
      "outputs": [],
      "source": [
        "cars[cars.acceleration > 23]"
      ]
    },
    {
      "cell_type": "code",
      "execution_count": null,
      "metadata": {
        "id": "2a4efe6b"
      },
      "outputs": [],
      "source": [
        "cars.head()"
      ]
    },
    {
      "cell_type": "code",
      "execution_count": null,
      "metadata": {
        "id": "681bbed4"
      },
      "outputs": [],
      "source": [
        "cars[\"car name\"]"
      ]
    },
    {
      "cell_type": "code",
      "execution_count": null,
      "metadata": {
        "id": "980868d2"
      },
      "outputs": [],
      "source": [
        "cars[\"car name\"].str.contains(\"ford\")"
      ]
    },
    {
      "cell_type": "code",
      "execution_count": null,
      "metadata": {
        "id": "3cc0268c"
      },
      "outputs": [],
      "source": [
        "cars[cars[\"car name\"].str.contains(\"ford\")].head()"
      ]
    },
    {
      "cell_type": "markdown",
      "metadata": {
        "id": "c5ec4ff5"
      },
      "source": [
        "`~` es la negación lógica, lo contrario"
      ]
    },
    {
      "cell_type": "code",
      "execution_count": null,
      "metadata": {
        "id": "78e1cde2"
      },
      "outputs": [],
      "source": [
        "cars.head()"
      ]
    },
    {
      "cell_type": "code",
      "execution_count": null,
      "metadata": {
        "id": "bef33c93"
      },
      "outputs": [],
      "source": [
        "~cars[\"car name\"].str.contains(\"ford\")"
      ]
    },
    {
      "cell_type": "code",
      "execution_count": null,
      "metadata": {
        "id": "ce814d61"
      },
      "outputs": [],
      "source": [
        "cars[~cars[\"car name\"].str.contains(\"ford\")].shape"
      ]
    },
    {
      "cell_type": "code",
      "execution_count": null,
      "metadata": {
        "id": "12a71468"
      },
      "outputs": [],
      "source": [
        "cars[~cars[\"car name\"].str.contains(\"ford\")].head()"
      ]
    },
    {
      "cell_type": "markdown",
      "metadata": {
        "id": "4a3054cd"
      },
      "source": [
        "`&` es el \"and\"  \n",
        "`|` es el \"or\""
      ]
    },
    {
      "cell_type": "code",
      "execution_count": null,
      "metadata": {
        "id": "f5953643"
      },
      "outputs": [],
      "source": [
        "cars.head()"
      ]
    },
    {
      "cell_type": "code",
      "execution_count": null,
      "metadata": {
        "id": "6b3ce6e5"
      },
      "outputs": [],
      "source": [
        "(cars.mpg > 15) & (cars.weight > 3500)"
      ]
    },
    {
      "cell_type": "code",
      "execution_count": null,
      "metadata": {
        "id": "906cae7c"
      },
      "outputs": [],
      "source": [
        "cars[(cars.mpg > 15) & (cars.weight > 3500)].head()"
      ]
    },
    {
      "cell_type": "code",
      "execution_count": null,
      "metadata": {
        "id": "581c5d8a"
      },
      "outputs": [],
      "source": [
        "cars[(cars.mpg > 18) | (cars.weight > 3500)].head()"
      ]
    },
    {
      "cell_type": "code",
      "execution_count": null,
      "metadata": {
        "id": "d5b536e0"
      },
      "outputs": [],
      "source": [
        "cars[cars.cylinders == 3]"
      ]
    },
    {
      "cell_type": "code",
      "execution_count": null,
      "metadata": {
        "id": "b71f22eb"
      },
      "outputs": [],
      "source": [
        "cars.cylinders.isin([3, 5])"
      ]
    },
    {
      "cell_type": "code",
      "execution_count": null,
      "metadata": {
        "id": "0be3f7f3"
      },
      "outputs": [],
      "source": [
        "cars[cars.cylinders.isin([3, 5])]"
      ]
    },
    {
      "cell_type": "code",
      "execution_count": null,
      "metadata": {
        "id": "d9e8463b"
      },
      "outputs": [],
      "source": [
        "cars.acceleration.mean()"
      ]
    },
    {
      "cell_type": "code",
      "execution_count": null,
      "metadata": {
        "id": "6037d5ec"
      },
      "outputs": [],
      "source": [
        "cars[cars.acceleration > cars.acceleration.mean()][[\"mpg\", \"acceleration\", \"car name\"]]"
      ]
    },
    {
      "cell_type": "markdown",
      "metadata": {
        "id": "e6db3efe"
      },
      "source": [
        "#### por índice"
      ]
    },
    {
      "cell_type": "code",
      "execution_count": null,
      "metadata": {
        "id": "DkAi7ED1W88a"
      },
      "outputs": [],
      "source": [
        "cars.head()"
      ]
    },
    {
      "cell_type": "code",
      "execution_count": null,
      "metadata": {
        "id": "3a24d6df"
      },
      "outputs": [],
      "source": [
        "cars = cars.sort_values(\"car name\")"
      ]
    },
    {
      "cell_type": "code",
      "execution_count": null,
      "metadata": {
        "id": "15144a6e"
      },
      "outputs": [],
      "source": [
        "cars.head()"
      ]
    },
    {
      "cell_type": "code",
      "execution_count": null,
      "metadata": {
        "id": "RXsZu9IoW_Iu"
      },
      "outputs": [],
      "source": [
        "cars.loc[2]"
      ]
    },
    {
      "cell_type": "code",
      "execution_count": null,
      "metadata": {
        "id": "db6bc401"
      },
      "outputs": [],
      "source": [
        "cars.iloc[2]"
      ]
    },
    {
      "cell_type": "code",
      "execution_count": null,
      "metadata": {
        "id": "GOI-5mfEXAuh"
      },
      "outputs": [],
      "source": [
        "cars.iloc[100:105]"
      ]
    },
    {
      "cell_type": "markdown",
      "metadata": {
        "id": "db7fc979"
      },
      "source": [
        "### Creación de columnas"
      ]
    },
    {
      "cell_type": "code",
      "execution_count": null,
      "metadata": {
        "id": "1eef97f8"
      },
      "outputs": [],
      "source": [
        "cars.head()"
      ]
    },
    {
      "cell_type": "code",
      "execution_count": null,
      "metadata": {
        "id": "6949bee2"
      },
      "outputs": [],
      "source": [
        "cars[\"is_fast\"] = cars.acceleration > 22"
      ]
    },
    {
      "cell_type": "code",
      "execution_count": null,
      "metadata": {
        "id": "u7R9uHyNXFMS"
      },
      "outputs": [],
      "source": [
        "cars.head()"
      ]
    },
    {
      "cell_type": "code",
      "execution_count": null,
      "metadata": {
        "id": "f1b6dc62"
      },
      "outputs": [],
      "source": [
        "cars[\"miles_per_liter\"] = cars[\"mpg\"] / 4.54"
      ]
    },
    {
      "cell_type": "code",
      "execution_count": null,
      "metadata": {
        "id": "0e27f110"
      },
      "outputs": [],
      "source": [
        "cars.head()"
      ]
    },
    {
      "cell_type": "code",
      "execution_count": null,
      "metadata": {
        "id": "08fcce42"
      },
      "outputs": [],
      "source": [
        "cars[cars.is_fast]"
      ]
    },
    {
      "cell_type": "markdown",
      "metadata": {
        "id": "2d6fbf00"
      },
      "source": [
        "### Manejo de valores nulos"
      ]
    },
    {
      "cell_type": "code",
      "execution_count": 44,
      "metadata": {
        "id": "baa13617"
      },
      "outputs": [
        {
          "name": "stdout",
          "output_type": "stream",
          "text": [
            "<class 'pandas.core.frame.DataFrame'>\n",
            "RangeIndex: 398 entries, 0 to 397\n",
            "Data columns (total 9 columns):\n",
            " #   Column        Non-Null Count  Dtype  \n",
            "---  ------        --------------  -----  \n",
            " 0   mpg           398 non-null    float64\n",
            " 1   cylinders     398 non-null    int64  \n",
            " 2   displacement  393 non-null    float64\n",
            " 3   horsepower    397 non-null    object \n",
            " 4   weight        398 non-null    int64  \n",
            " 5   acceleration  396 non-null    float64\n",
            " 6   model year    396 non-null    float64\n",
            " 7   origin        398 non-null    int64  \n",
            " 8   car name      398 non-null    object \n",
            "dtypes: float64(4), int64(3), object(2)\n",
            "memory usage: 28.1+ KB\n"
          ]
        }
      ],
      "source": [
        "cars.info()"
      ]
    },
    {
      "cell_type": "code",
      "execution_count": 45,
      "metadata": {
        "id": "9ea51265"
      },
      "outputs": [
        {
          "data": {
            "text/html": [
              "<div>\n",
              "<style scoped>\n",
              "    .dataframe tbody tr th:only-of-type {\n",
              "        vertical-align: middle;\n",
              "    }\n",
              "\n",
              "    .dataframe tbody tr th {\n",
              "        vertical-align: top;\n",
              "    }\n",
              "\n",
              "    .dataframe thead th {\n",
              "        text-align: right;\n",
              "    }\n",
              "</style>\n",
              "<table border=\"1\" class=\"dataframe\">\n",
              "  <thead>\n",
              "    <tr style=\"text-align: right;\">\n",
              "      <th></th>\n",
              "      <th>mpg</th>\n",
              "      <th>cylinders</th>\n",
              "      <th>displacement</th>\n",
              "      <th>horsepower</th>\n",
              "      <th>weight</th>\n",
              "      <th>acceleration</th>\n",
              "      <th>model year</th>\n",
              "      <th>origin</th>\n",
              "      <th>car name</th>\n",
              "    </tr>\n",
              "  </thead>\n",
              "  <tbody>\n",
              "    <tr>\n",
              "      <th>2</th>\n",
              "      <td>18.0</td>\n",
              "      <td>8</td>\n",
              "      <td>NaN</td>\n",
              "      <td>150</td>\n",
              "      <td>3436</td>\n",
              "      <td>11.0</td>\n",
              "      <td>70.0</td>\n",
              "      <td>1</td>\n",
              "      <td>plymouth satellite</td>\n",
              "    </tr>\n",
              "    <tr>\n",
              "      <th>8</th>\n",
              "      <td>14.0</td>\n",
              "      <td>8</td>\n",
              "      <td>NaN</td>\n",
              "      <td>225</td>\n",
              "      <td>4425</td>\n",
              "      <td>10.0</td>\n",
              "      <td>70.0</td>\n",
              "      <td>1</td>\n",
              "      <td>pontiac catalina</td>\n",
              "    </tr>\n",
              "    <tr>\n",
              "      <th>20</th>\n",
              "      <td>25.0</td>\n",
              "      <td>4</td>\n",
              "      <td>NaN</td>\n",
              "      <td>87</td>\n",
              "      <td>2672</td>\n",
              "      <td>17.5</td>\n",
              "      <td>70.0</td>\n",
              "      <td>2</td>\n",
              "      <td>peugeot 504</td>\n",
              "    </tr>\n",
              "    <tr>\n",
              "      <th>26</th>\n",
              "      <td>10.0</td>\n",
              "      <td>8</td>\n",
              "      <td>NaN</td>\n",
              "      <td>200</td>\n",
              "      <td>4376</td>\n",
              "      <td>15.0</td>\n",
              "      <td>70.0</td>\n",
              "      <td>1</td>\n",
              "      <td>chevy c20</td>\n",
              "    </tr>\n",
              "    <tr>\n",
              "      <th>32</th>\n",
              "      <td>25.0</td>\n",
              "      <td>4</td>\n",
              "      <td>NaN</td>\n",
              "      <td>?</td>\n",
              "      <td>2046</td>\n",
              "      <td>19.0</td>\n",
              "      <td>71.0</td>\n",
              "      <td>1</td>\n",
              "      <td>ford pinto</td>\n",
              "    </tr>\n",
              "  </tbody>\n",
              "</table>\n",
              "</div>"
            ],
            "text/plain": [
              "     mpg  cylinders  displacement horsepower  weight  acceleration  \\\n",
              "2   18.0          8           NaN        150    3436          11.0   \n",
              "8   14.0          8           NaN        225    4425          10.0   \n",
              "20  25.0          4           NaN         87    2672          17.5   \n",
              "26  10.0          8           NaN        200    4376          15.0   \n",
              "32  25.0          4           NaN          ?    2046          19.0   \n",
              "\n",
              "    model year  origin            car name  \n",
              "2         70.0       1  plymouth satellite  \n",
              "8         70.0       1    pontiac catalina  \n",
              "20        70.0       2         peugeot 504  \n",
              "26        70.0       1           chevy c20  \n",
              "32        71.0       1          ford pinto  "
            ]
          },
          "execution_count": 45,
          "metadata": {},
          "output_type": "execute_result"
        }
      ],
      "source": [
        "cars[cars.displacement.isna()]"
      ]
    },
    {
      "cell_type": "code",
      "execution_count": null,
      "metadata": {
        "id": "821fdfd1"
      },
      "outputs": [],
      "source": [
        "cars.isna().any()"
      ]
    },
    {
      "cell_type": "code",
      "execution_count": null,
      "metadata": {
        "id": "f329023d"
      },
      "outputs": [],
      "source": [
        "cars.isna().any(axis=1)"
      ]
    },
    {
      "cell_type": "code",
      "execution_count": null,
      "metadata": {
        "id": "42485af5"
      },
      "outputs": [],
      "source": [
        "cars[cars.isna().any(axis=1)]"
      ]
    },
    {
      "cell_type": "markdown",
      "metadata": {
        "id": "67fa815b"
      },
      "source": [
        "¿Qué hacemos? Podemos rellenar"
      ]
    },
    {
      "cell_type": "markdown",
      "metadata": {
        "id": "7e6d0a87"
      },
      "source": [
        "#### relleno fijo"
      ]
    },
    {
      "cell_type": "code",
      "execution_count": null,
      "metadata": {
        "id": "3a788fe8"
      },
      "outputs": [],
      "source": [
        "cars = cars.sort_index()"
      ]
    },
    {
      "cell_type": "code",
      "execution_count": null,
      "metadata": {
        "id": "2ef3793f"
      },
      "outputs": [],
      "source": [
        "cars.head()"
      ]
    },
    {
      "cell_type": "code",
      "execution_count": null,
      "metadata": {
        "id": "f0e62358"
      },
      "outputs": [],
      "source": [
        "cars.fillna(0).head()"
      ]
    },
    {
      "cell_type": "markdown",
      "metadata": {
        "id": "a73eb59b"
      },
      "source": [
        "#### relleno con la media"
      ]
    },
    {
      "cell_type": "code",
      "execution_count": null,
      "metadata": {
        "id": "62a0d06f"
      },
      "outputs": [],
      "source": [
        "cars.fillna(cars.mean()).head()"
      ]
    },
    {
      "cell_type": "markdown",
      "metadata": {
        "id": "5e41ba8f"
      },
      "source": [
        "#### borrar columna"
      ]
    },
    {
      "cell_type": "code",
      "execution_count": null,
      "metadata": {
        "id": "db3e6037"
      },
      "outputs": [],
      "source": [
        "cars.head()"
      ]
    },
    {
      "cell_type": "code",
      "execution_count": null,
      "metadata": {
        "id": "75b58e64"
      },
      "outputs": [],
      "source": [
        "cars.drop(\"displacement\", axis=1).head()"
      ]
    },
    {
      "cell_type": "markdown",
      "metadata": {
        "id": "e2c86735"
      },
      "source": [
        "#### borrar filas"
      ]
    },
    {
      "cell_type": "code",
      "execution_count": null,
      "metadata": {
        "id": "07988087"
      },
      "outputs": [],
      "source": [
        "cars[cars.displacement.notna()].head()"
      ]
    },
    {
      "cell_type": "markdown",
      "metadata": {
        "id": "c02eca96"
      },
      "source": [
        "### GroupBy"
      ]
    },
    {
      "cell_type": "code",
      "execution_count": null,
      "metadata": {
        "id": "d1b24ad2"
      },
      "outputs": [],
      "source": [
        "cars.head()"
      ]
    },
    {
      "cell_type": "code",
      "execution_count": null,
      "metadata": {
        "id": "6aae8816"
      },
      "outputs": [],
      "source": [
        "cars.groupby('cylinders').acceleration.mean()"
      ]
    },
    {
      "cell_type": "code",
      "execution_count": null,
      "metadata": {
        "id": "f81d8e9a"
      },
      "outputs": [],
      "source": [
        "cars.groupby('cylinders').agg({'acceleration': 'std', 'weight': 'mean'}).head()"
      ]
    },
    {
      "cell_type": "markdown",
      "metadata": {
        "id": "28f9cad1"
      },
      "source": [
        "### Aplicación de funciones"
      ]
    },
    {
      "cell_type": "markdown",
      "metadata": {
        "id": "b6046942"
      },
      "source": [
        "Utilizamos el método `apply`"
      ]
    },
    {
      "cell_type": "code",
      "execution_count": null,
      "metadata": {
        "id": "75ed153d"
      },
      "outputs": [],
      "source": [
        "cars.head()"
      ]
    },
    {
      "cell_type": "markdown",
      "metadata": {
        "id": "3eaa5f6e"
      },
      "source": [
        "Imaginemos que queremos computar, para cada coche:\n",
        " * la primera palabra del nombre\n",
        " * si el año del modelo fue bisiesto"
      ]
    },
    {
      "cell_type": "markdown",
      "metadata": {
        "id": "97101429"
      },
      "source": [
        "Primero creamos la función, luego la aplicamos"
      ]
    },
    {
      "cell_type": "code",
      "execution_count": 51,
      "metadata": {
        "id": "f99e4b21"
      },
      "outputs": [],
      "source": [
        "def get_first_word(sentence):\n",
        "    words = sentence.split()\n",
        "\n",
        "    return words[0]"
      ]
    },
    {
      "cell_type": "code",
      "execution_count": null,
      "metadata": {
        "id": "c9f95558"
      },
      "outputs": [],
      "source": [
        "get_first_word(\"hola me llamo manuel\")"
      ]
    },
    {
      "cell_type": "code",
      "execution_count": 46,
      "metadata": {
        "id": "3faca2ea"
      },
      "outputs": [],
      "source": [
        "def is_bisiest(year):\n",
        "    if year % 4 == 0:\n",
        "        return True\n",
        "    else:\n",
        "        return False"
      ]
    },
    {
      "cell_type": "code",
      "execution_count": 47,
      "metadata": {
        "id": "8597f0fe"
      },
      "outputs": [
        {
          "data": {
            "text/plain": [
              "False"
            ]
          },
          "execution_count": 47,
          "metadata": {},
          "output_type": "execute_result"
        }
      ],
      "source": [
        "is_bisiest(2001)"
      ]
    },
    {
      "cell_type": "code",
      "execution_count": 48,
      "metadata": {
        "id": "60d0f8ee"
      },
      "outputs": [],
      "source": [
        "cars[\"is_bisiest\"] = cars[\"model year\"].apply(is_bisiest)"
      ]
    },
    {
      "cell_type": "code",
      "execution_count": 52,
      "metadata": {
        "id": "be649e8b"
      },
      "outputs": [],
      "source": [
        "cars[\"name1\"] = cars[\"car name\"].apply(get_first_word)"
      ]
    },
    {
      "cell_type": "code",
      "execution_count": 53,
      "metadata": {
        "id": "1864266f"
      },
      "outputs": [
        {
          "data": {
            "text/html": [
              "<div>\n",
              "<style scoped>\n",
              "    .dataframe tbody tr th:only-of-type {\n",
              "        vertical-align: middle;\n",
              "    }\n",
              "\n",
              "    .dataframe tbody tr th {\n",
              "        vertical-align: top;\n",
              "    }\n",
              "\n",
              "    .dataframe thead th {\n",
              "        text-align: right;\n",
              "    }\n",
              "</style>\n",
              "<table border=\"1\" class=\"dataframe\">\n",
              "  <thead>\n",
              "    <tr style=\"text-align: right;\">\n",
              "      <th></th>\n",
              "      <th>mpg</th>\n",
              "      <th>cylinders</th>\n",
              "      <th>displacement</th>\n",
              "      <th>horsepower</th>\n",
              "      <th>weight</th>\n",
              "      <th>acceleration</th>\n",
              "      <th>model year</th>\n",
              "      <th>origin</th>\n",
              "      <th>car name</th>\n",
              "      <th>is_bisiest</th>\n",
              "      <th>name1</th>\n",
              "    </tr>\n",
              "  </thead>\n",
              "  <tbody>\n",
              "    <tr>\n",
              "      <th>0</th>\n",
              "      <td>18.0</td>\n",
              "      <td>8</td>\n",
              "      <td>307.0</td>\n",
              "      <td>130</td>\n",
              "      <td>3504</td>\n",
              "      <td>12.0</td>\n",
              "      <td>70.0</td>\n",
              "      <td>1</td>\n",
              "      <td>chevrolet chevelle malibu</td>\n",
              "      <td>False</td>\n",
              "      <td>chevrolet</td>\n",
              "    </tr>\n",
              "    <tr>\n",
              "      <th>1</th>\n",
              "      <td>15.0</td>\n",
              "      <td>8</td>\n",
              "      <td>350.0</td>\n",
              "      <td>165</td>\n",
              "      <td>3693</td>\n",
              "      <td>11.5</td>\n",
              "      <td>70.0</td>\n",
              "      <td>1</td>\n",
              "      <td>buick skylark 320</td>\n",
              "      <td>False</td>\n",
              "      <td>buick</td>\n",
              "    </tr>\n",
              "    <tr>\n",
              "      <th>2</th>\n",
              "      <td>18.0</td>\n",
              "      <td>8</td>\n",
              "      <td>NaN</td>\n",
              "      <td>150</td>\n",
              "      <td>3436</td>\n",
              "      <td>11.0</td>\n",
              "      <td>70.0</td>\n",
              "      <td>1</td>\n",
              "      <td>plymouth satellite</td>\n",
              "      <td>False</td>\n",
              "      <td>plymouth</td>\n",
              "    </tr>\n",
              "    <tr>\n",
              "      <th>3</th>\n",
              "      <td>16.0</td>\n",
              "      <td>8</td>\n",
              "      <td>304.0</td>\n",
              "      <td>150</td>\n",
              "      <td>3433</td>\n",
              "      <td>12.0</td>\n",
              "      <td>70.0</td>\n",
              "      <td>1</td>\n",
              "      <td>amc rebel sst</td>\n",
              "      <td>False</td>\n",
              "      <td>amc</td>\n",
              "    </tr>\n",
              "    <tr>\n",
              "      <th>4</th>\n",
              "      <td>17.0</td>\n",
              "      <td>8</td>\n",
              "      <td>302.0</td>\n",
              "      <td>140</td>\n",
              "      <td>3449</td>\n",
              "      <td>10.5</td>\n",
              "      <td>70.0</td>\n",
              "      <td>1</td>\n",
              "      <td>ford torino</td>\n",
              "      <td>False</td>\n",
              "      <td>ford</td>\n",
              "    </tr>\n",
              "  </tbody>\n",
              "</table>\n",
              "</div>"
            ],
            "text/plain": [
              "    mpg  cylinders  displacement horsepower  weight  acceleration  model year  \\\n",
              "0  18.0          8         307.0        130    3504          12.0        70.0   \n",
              "1  15.0          8         350.0        165    3693          11.5        70.0   \n",
              "2  18.0          8           NaN        150    3436          11.0        70.0   \n",
              "3  16.0          8         304.0        150    3433          12.0        70.0   \n",
              "4  17.0          8         302.0        140    3449          10.5        70.0   \n",
              "\n",
              "   origin                   car name  is_bisiest      name1  \n",
              "0       1  chevrolet chevelle malibu       False  chevrolet  \n",
              "1       1          buick skylark 320       False      buick  \n",
              "2       1         plymouth satellite       False   plymouth  \n",
              "3       1              amc rebel sst       False        amc  \n",
              "4       1                ford torino       False       ford  "
            ]
          },
          "execution_count": 53,
          "metadata": {},
          "output_type": "execute_result"
        }
      ],
      "source": [
        "cars.head()"
      ]
    },
    {
      "cell_type": "markdown",
      "metadata": {
        "id": "4ce535e4"
      },
      "source": [
        "### Exportar datos"
      ]
    },
    {
      "cell_type": "code",
      "execution_count": null,
      "metadata": {
        "id": "754b8bbc"
      },
      "outputs": [],
      "source": [
        "cars.to_csv('../datasets/test/cars1.csv', index=False)"
      ]
    },
    {
      "cell_type": "code",
      "execution_count": null,
      "metadata": {
        "id": "b2184c0f"
      },
      "outputs": [],
      "source": [
        "cars.to_csv('../datasets/test/cars2.csv', index=True)"
      ]
    },
    {
      "cell_type": "code",
      "execution_count": null,
      "metadata": {
        "id": "f21b5674"
      },
      "outputs": [],
      "source": [
        "df.to_json('../datasets/test/cars.json', orient='records')"
      ]
    },
    {
      "cell_type": "code",
      "execution_count": null,
      "metadata": {
        "id": "6ef93d7f"
      },
      "outputs": [],
      "source": [
        "df.to_excel('../datasets/test/cars.xlsx', index=False)"
      ]
    },
    {
      "cell_type": "markdown",
      "metadata": {
        "id": "f6739014"
      },
      "source": [
        "### Recap: métodos más utilizados de pandas"
      ]
    },
    {
      "cell_type": "markdown",
      "metadata": {
        "id": "unlimited-nelson"
      },
      "source": [
        "```python\n",
        "df.head()                     # printea la cabeza, por defecto 5 filas\n",
        "df.tail()                     # pritea la cola, por defecto 5 filas\n",
        "df.describe()                 # descripcion estadistica\n",
        "df.info()                     # informacion del df\n",
        "df.info(memory_usage='deep')\n",
        "df.columns                    # muestra columna\n",
        "df.index                      # muestra indice\n",
        "df.dtypes                     # muestra tipos de datos de las columnas\n",
        "df.plot()                     # hace un grafico\n",
        "df.hist()                     # hace un histograma\n",
        "df.col.value_counts()         # cuenta los valores unicos de una columna\n",
        "df.col.unique()               # muestra valores unicos de una columna\n",
        "df.copy()                     # copia el df\n",
        "df.drop()                     # elimina columnas o filas (axis=0,1)\n",
        "df.dropna()                   # elimina nulos\n",
        "df.fillna()                   # rellena nulos\n",
        "df.shape                      # dimensiones del df\n",
        "df._get_numeric_data()        # selecciona columnas numericas\n",
        "df.rename()                   # renombre columnas\n",
        "df.str.replace()              # reemplaza columnas de strings\n",
        "df.astype(dtype='float32')    # cambia el tipo de dato\n",
        "df.iloc[]                     # localiza por indice\n",
        "df.loc[]                      # localiza por elemento\n",
        "df.transpose()                # transpone el df\n",
        "df.T\n",
        "df.sample(n, frac)            # muestra del df\n",
        "df.col.sum()                  # suma de una columna\n",
        "df.col.max()                  # maximo de una columna\n",
        "df.col.min()                  # minimo de una columna\n",
        "df[col]                       # selecciona columna\n",
        "df.col\n",
        "df.isnull()                   # valores nulos\n",
        "df.isna()\n",
        "df.notna()                    # valores no nulos\n",
        "df.drop_duplicates()          # eliminar duplicados\n",
        "df.reset_index(inplace=True)  # resetea el indice y sobreescribe\n",
        "```"
      ]
    },
    {
      "cell_type": "markdown",
      "metadata": {
        "id": "b9a2a149"
      },
      "source": [
        "### Material extra!"
      ]
    },
    {
      "cell_type": "markdown",
      "metadata": {
        "id": "stylish-jefferson"
      },
      "source": [
        "* [Cheatsheet](https://pandas.pydata.org/Pandas_Cheat_Sheet.pdf)\n",
        "* [Ejercicios para practicar](https://github.com/guipsamora/pandas_exercises)\n",
        "* [merge, concat, join](https://realpython.com/pandas-merge-join-and-concat/#pandas-join-combining-data-on-a-column-or-index)"
      ]
    }
  ],
  "metadata": {
    "colab": {
      "include_colab_link": true,
      "provenance": [],
      "toc_visible": true
    },
    "kernelspec": {
      "display_name": "Python 3",
      "name": "python3"
    },
    "language_info": {
      "codemirror_mode": {
        "name": "ipython",
        "version": 3
      },
      "file_extension": ".py",
      "mimetype": "text/x-python",
      "name": "python",
      "nbconvert_exporter": "python",
      "pygments_lexer": "ipython3",
      "version": "3.10.11"
    }
  },
  "nbformat": 4,
  "nbformat_minor": 0
}
